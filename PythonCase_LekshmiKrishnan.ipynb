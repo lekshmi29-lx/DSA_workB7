{
  "nbformat": 4,
  "nbformat_minor": 0,
  "metadata": {
    "colab": {
      "provenance": [],
      "include_colab_link": true
    },
    "kernelspec": {
      "name": "python3",
      "display_name": "Python 3"
    },
    "language_info": {
      "name": "python"
    }
  },
  "cells": [
    {
      "cell_type": "markdown",
      "metadata": {
        "id": "view-in-github",
        "colab_type": "text"
      },
      "source": [
        "<a href=\"https://colab.research.google.com/github/lekshmi29-lx/DSA_workB7/blob/main/PythonCase_LekshmiKrishnan.ipynb\" target=\"_parent\"><img src=\"https://colab.research.google.com/assets/colab-badge.svg\" alt=\"Open In Colab\"/></a>"
      ]
    },
    {
      "cell_type": "markdown",
      "source": [
        "# Answer the following questions using only builtin Python datatypes and functions. Do not use Numpy or Scipy (i.e. No library imports allowed)"
      ],
      "metadata": {
        "id": "zVV_KMSIUG-A"
      }
    },
    {
      "cell_type": "markdown",
      "source": [
        "# Q1. Write a function that return the range (maximum and minimun) of a given list of numbers"
      ],
      "metadata": {
        "id": "uZnK7VgWV5SI"
      }
    },
    {
      "cell_type": "code",
      "source": [
        "def range_num(list1):\n",
        "  large_num = 0\n",
        "  small_num = list1[0]\n",
        "  for num in list1:\n",
        "    if num > large_num:\n",
        "      large_num = num\n",
        "    elif num <= small_num:\n",
        "      small_num = num\n",
        "  print(f\"Minimum Value:{small_num}\")\n",
        "  print(f\"Maximum Value:{large_num}\")\n",
        "\n",
        "list_1 = list(map(int,input(\"Enter the numbers to find the Max and Min range:\").split(\",\")))\n",
        "range_num(list_1)"
      ],
      "metadata": {
        "id": "vuAbJQcOWAM7",
        "colab": {
          "base_uri": "https://localhost:8080/"
        },
        "outputId": "48a017cf-1c5a-419c-b377-406f97b74c50"
      },
      "execution_count": null,
      "outputs": [
        {
          "output_type": "stream",
          "name": "stdout",
          "text": [
            "Enter the numbers to find the Max and Min range:50,4,89,1,5\n",
            "Minimum Value:1\n",
            "Maximum Value:89\n"
          ]
        }
      ]
    },
    {
      "cell_type": "markdown",
      "source": [
        "## Q2. Write function that returns mean value of a list of numbers"
      ],
      "metadata": {
        "id": "Y5_v5a8_U1O-"
      }
    },
    {
      "cell_type": "code",
      "source": [
        "def mean_value(list_num):\n",
        "  sum = 0\n",
        "  for i in list_num:\n",
        "    sum +=i\n",
        "  mean = sum / len(list_num)\n",
        "  print(f\"Mean:{mean}\")\n",
        "\n",
        "mean_num = list(map(int,input(\"Enter the list of numbers to calculate mean: \").split(\",\")))\n",
        "mean_value(mean_num)\n"
      ],
      "metadata": {
        "id": "RajjEyacU7Sc",
        "colab": {
          "base_uri": "https://localhost:8080/"
        },
        "outputId": "db205f9a-9c99-460f-a127-ad8f423dcbe2"
      },
      "execution_count": null,
      "outputs": [
        {
          "output_type": "stream",
          "name": "stdout",
          "text": [
            "Enter the list of numbers to calculate mean: 12,5,7,50,6\n",
            "Mean:16.0\n"
          ]
        }
      ]
    },
    {
      "cell_type": "markdown",
      "source": [
        "# Q3. Write a function that returns the median value of a list of numbers"
      ],
      "metadata": {
        "id": "OpeRxoEoVTIP"
      }
    },
    {
      "cell_type": "code",
      "source": [
        "def median_value(list2):\n",
        "  list2.sort()\n",
        "  length = len(list2)//2\n",
        "  if len(list2) % 2 ==0:\n",
        "    median = (list2[(length-1)]+list2[length])//2\n",
        "  else:\n",
        "    median = list2[length]\n",
        "  print(\"Median:\",median)\n",
        "\n",
        "median_num = list(map(int,input(\"Enter the list of numbers to calculate median: \").split(\",\")))\n",
        "median_value(median_num)"
      ],
      "metadata": {
        "id": "u1CUy0UOVaQi",
        "colab": {
          "base_uri": "https://localhost:8080/"
        },
        "outputId": "5a6c649d-8bfd-4ba9-9a24-84292d9fd39a"
      },
      "execution_count": 15,
      "outputs": [
        {
          "output_type": "stream",
          "name": "stdout",
          "text": [
            "Enter the list of numbers to calculate median: 5,2,3,7,8,10,8,12\n",
            "Median: 7\n"
          ]
        }
      ]
    },
    {
      "cell_type": "markdown",
      "source": [
        "## Q4. Write a function to return the mod of a list of numbers, if no mod exists, it should return None. If more than one mod exist, return the mod values as list"
      ],
      "metadata": {
        "id": "2EMOG7AZSqVn"
      }
    },
    {
      "cell_type": "code",
      "execution_count": 12,
      "metadata": {
        "id": "qnMm2dhhSk3-",
        "colab": {
          "base_uri": "https://localhost:8080/"
        },
        "outputId": "ed531714-1c33-4c4a-842a-4e8f6cfbcda0"
      },
      "outputs": [
        {
          "output_type": "stream",
          "name": "stdout",
          "text": [
            "Enter the list of numbers to calculate median: 5,7,9,8,5,7,0,2,9,5\n",
            "Mode: 5\n"
          ]
        }
      ],
      "source": [
        "def mod_value(list_mod):\n",
        "  frequency = {}\n",
        "  for i in list_mod:\n",
        "    if i in frequency:\n",
        "      frequency[i] +=1\n",
        "    else :\n",
        "      frequency[i] = 1\n",
        "\n",
        "  mod_count = 0\n",
        "  mod_val = None\n",
        "  for i in frequency:\n",
        "    if frequency[i]>mod_count:\n",
        "      mod_count = frequency[i]\n",
        "      mod_val = i\n",
        "  if mod_count == 1:\n",
        "    print(\"No mode Exists\")\n",
        "  else:\n",
        "    print(\"Mode:\",mod_val)\n",
        "\n",
        "\n",
        "mod_num = list(map(int,input(\"Enter the list of numbers to calculate median: \").split(\",\")))\n",
        "mod_value(mod_num)"
      ]
    },
    {
      "cell_type": "markdown",
      "source": [
        "## Q5. Write function to compute a given percentile value (e.g. 90th percentile) of a list of numbers"
      ],
      "metadata": {
        "id": "LcqWwqtgTCiL"
      }
    },
    {
      "cell_type": "code",
      "source": [
        "def percentile(list_per,p):\n",
        "  list_per.sort()\n",
        "  length = len(list_per)\n",
        "  ind = length * p\n",
        "  index = int(ind)\n",
        "  percentile = list_per[index]\n",
        "  print(\"90th Percentile:\",percentile)\n",
        "\n",
        "list_nums = list(map(int,input(\"Enter the list to compute 90th percentile: \").split(\",\")))\n",
        "percentile(list_nums,0.9)"
      ],
      "metadata": {
        "id": "Sn307h0TTb2b",
        "colab": {
          "base_uri": "https://localhost:8080/"
        },
        "outputId": "e004d3c1-5c5a-44f1-91fc-ce8c868a0427"
      },
      "execution_count": null,
      "outputs": [
        {
          "output_type": "stream",
          "name": "stdout",
          "text": [
            "Enter the list to compute 90th percentile: 5,4,8,78\n",
            "90th Percentile: 78\n"
          ]
        }
      ]
    },
    {
      "cell_type": "markdown",
      "source": [
        "# Q6. Write a function that returns the lower bound of a list of numbers"
      ],
      "metadata": {
        "id": "N-TYHkDcWOfS"
      }
    },
    {
      "cell_type": "code",
      "source": [
        "def lower_bound(list_lower):\n",
        "  len1 = int(len(list_lower)*0.25)\n",
        "  len3 = int(len(list_lower)*0.75)\n",
        "\n",
        "  q1 = list_lower[len1-1]\n",
        "  q3 = list_lower[len3-1]\n",
        "\n",
        "  iqr = q3 - q1\n",
        "\n",
        "  low_bound =  q1 - (1.5*iqr)\n",
        "  print(\"Lower Bound:\",low_bound)\n",
        "\n",
        "lists_num =  [55,60,70,72,85,95,105,130,190,290,315,380]\n",
        "lower_bound(lists_num)"
      ],
      "metadata": {
        "id": "Y-RKPdKuW5nx",
        "colab": {
          "base_uri": "https://localhost:8080/"
        },
        "outputId": "0a691386-6522-409f-cb22-240c0327bcd3"
      },
      "execution_count": null,
      "outputs": [
        {
          "output_type": "stream",
          "name": "stdout",
          "text": [
            "Lower Bound: -110.0\n"
          ]
        }
      ]
    },
    {
      "cell_type": "markdown",
      "source": [
        "## Q7. Write function to return any outliers from a given list of numbers, if no outliers present it should return None"
      ],
      "metadata": {
        "id": "5aHfaI_jThpX"
      }
    },
    {
      "cell_type": "code",
      "source": [
        "def outliers(list_liers):\n",
        "  len1 = int(len(list_liers)*0.25)\n",
        "  len3 = int(len(list_liers)*0.75)\n",
        "\n",
        "  q1 = list_liers[len1-1]\n",
        "  q3 = list_liers[len3-1]\n",
        "\n",
        "  iqr = q3 - q1\n",
        "\n",
        "  low_bound =  q1 - (1.5*iqr)\n",
        "  high_bound = q3 + (1.5*iqr)\n",
        "  print(\"Lower Bound:\",low_bound)\n",
        "  print(\"upper Bound:\",high_bound)\n",
        "\n",
        "  outlier = []\n",
        "  for x in list_liers:\n",
        "    if x < low_bound or x > high_bound:\n",
        "      outlier.append(x)\n",
        "  if outlier:\n",
        "    print(\"Outlier:\",outlier)\n",
        "  else:\n",
        "    print(\"No Outliers\")\n",
        "\n",
        "\n",
        "data = [55,60,70,72,85,95,105,130,190,290,315,380]\n",
        "outliers(data)"
      ],
      "metadata": {
        "id": "gG6-qzT7T0Si",
        "colab": {
          "base_uri": "https://localhost:8080/"
        },
        "outputId": "f0b4b28a-6a26-47d7-d27f-c88a3d30a57e"
      },
      "execution_count": 2,
      "outputs": [
        {
          "output_type": "stream",
          "name": "stdout",
          "text": [
            "Lower Bound: -110.0\n",
            "upper Bound: 370.0\n",
            "Outlier: [380]\n"
          ]
        }
      ]
    },
    {
      "cell_type": "markdown",
      "source": [
        "##Q8. Write a function to return standard deviation of a list of numbers"
      ],
      "metadata": {
        "id": "jI9t-tcDT5EK"
      }
    },
    {
      "cell_type": "code",
      "source": [
        "def standard_deviation(data_list):\n",
        "  data_len = len(data_list)\n",
        "  sum = 0\n",
        "  for i in data_list:\n",
        "    sum +=i\n",
        "  mean = sum / data_len\n",
        "\n",
        "  variance = 0\n",
        "  for i in data_list:\n",
        "    variance += (i - mean)**2\n",
        "  std_deviation = (variance / data_len)**0.5\n",
        "  print(\"Standard Deviation: \",std_deviation)\n",
        "\n",
        "data = [55,60,70,72,85,95,105,130,190,290,315,380]\n",
        "standard_deviation(data)"
      ],
      "metadata": {
        "id": "MMU_cMlLUFxJ",
        "colab": {
          "base_uri": "https://localhost:8080/"
        },
        "outputId": "7ce1c304-e067-40e5-9953-42034e29fb2f"
      },
      "execution_count": 6,
      "outputs": [
        {
          "output_type": "stream",
          "name": "stdout",
          "text": [
            "Standard Deviation:  108.17613594914957\n"
          ]
        }
      ]
    },
    {
      "cell_type": "markdown",
      "source": [
        "## Q9. Write function to compute and return Z-score values of a list of numbers"
      ],
      "metadata": {
        "id": "LufmQDJPURkM"
      }
    },
    {
      "cell_type": "code",
      "source": [
        "def z_score(data1_list):\n",
        "  data1_len = len(data1_list)\n",
        "  sum = 0\n",
        "  for i in data1_list:\n",
        "    sum +=i\n",
        "  mean = sum / data1_len\n",
        "\n",
        "  variance = 0\n",
        "  for i in data1_list:\n",
        "    variance += (i - mean)**2\n",
        "  std_deviation = (variance / data1_len)**0.5\n",
        "  print(\"Standard Deviation: \",std_deviation)\n",
        "\n",
        "  z_list = []\n",
        "  for i in data1_list:\n",
        "    zscore = (i - mean)/std_deviation\n",
        "    z_list.append(zscore)\n",
        "  print(\"Z score:\",z_list)\n",
        "\n",
        "data1 = [10, 12, 15, 18, 20]\n",
        "z_score(data1)"
      ],
      "metadata": {
        "id": "ml2qpSpFUYxV",
        "colab": {
          "base_uri": "https://localhost:8080/"
        },
        "outputId": "5e017188-c0aa-4484-b970-589a8922dded"
      },
      "execution_count": 8,
      "outputs": [
        {
          "output_type": "stream",
          "name": "stdout",
          "text": [
            "Standard Deviation:  3.687817782917155\n",
            "Z score: [-1.355815361366601, -0.8134892168199607, 0.0, 0.8134892168199607, 1.355815361366601]\n"
          ]
        }
      ]
    },
    {
      "cell_type": "markdown",
      "source": [
        "## Q10. Write a function to compute and return the Pearson correlation coefficient value of two list of numbers"
      ],
      "metadata": {
        "id": "YQSNHIfxUb6s"
      }
    },
    {
      "cell_type": "code",
      "source": [
        "def correlation(list_x,list_y):\n",
        "  sum_x = 0\n",
        "  sum_y = 0\n",
        "  for i in list_x:\n",
        "    sum_x +=i\n",
        "  mean_x = sum_x / len(list_x)\n",
        "  for i in list_y:\n",
        "    sum_y +=i\n",
        "  mean_y = sum_y / len(list_y)\n",
        "\n",
        "  numerator = 0\n",
        "  sumx_sq = 0\n",
        "  sumy_sq = 0\n",
        "  for i in range(len(x)):\n",
        "    diff_x = x[i] - mean_x\n",
        "    diff_y = y[i] - mean_y\n",
        "    numerator += diff_x * diff_y\n",
        "    sumx_sq += diff_x ** 2\n",
        "    sumy_sq += diff_y ** 2\n",
        "\n",
        "  r = numerator / ((sumx_sq ** 0.5) * (sumy_sq ** 0.5))\n",
        "  print(\"Person Correlation Coefficient: \",r)\n",
        "\n",
        "x = [1, 2, 3, 4, 5]\n",
        "y = [2, 4, 5, 4, 5]\n",
        "correlation(x,y)"
      ],
      "metadata": {
        "id": "1YGqr3T6Uk6H",
        "colab": {
          "base_uri": "https://localhost:8080/"
        },
        "outputId": "c988a54b-4409-40ba-fb0c-9d6270d9e29d"
      },
      "execution_count": 9,
      "outputs": [
        {
          "output_type": "stream",
          "name": "stdout",
          "text": [
            "Person Correlation Coefficient:  0.7745966692414834\n"
          ]
        }
      ]
    }
  ]
}