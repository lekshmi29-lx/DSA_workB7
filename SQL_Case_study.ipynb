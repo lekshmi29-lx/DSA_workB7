{
  "nbformat": 4,
  "nbformat_minor": 0,
  "metadata": {
    "colab": {
      "provenance": [],
      "include_colab_link": true
    },
    "kernelspec": {
      "name": "python3",
      "display_name": "Python 3"
    },
    "language_info": {
      "name": "python"
    }
  },
  "cells": [
    {
      "cell_type": "markdown",
      "metadata": {
        "id": "view-in-github",
        "colab_type": "text"
      },
      "source": [
        "<a href=\"https://colab.research.google.com/github/lekshmi29-lx/DSA_workB7/blob/main/SQL_Case_study.ipynb\" target=\"_parent\"><img src=\"https://colab.research.google.com/assets/colab-badge.svg\" alt=\"Open In Colab\"/></a>"
      ]
    },
    {
      "cell_type": "markdown",
      "source": [
        "# Case Study on SQL\n"
      ],
      "metadata": {
        "id": "WEiBwlhgYtYx"
      }
    },
    {
      "cell_type": "code",
      "source": [
        "import sqlite3\n",
        "import pandas as pd"
      ],
      "metadata": {
        "id": "Q6xrAf0CgwyW"
      },
      "execution_count": 7,
      "outputs": []
    },
    {
      "cell_type": "code",
      "source": [
        "def load_imdb_database(db_path):\n",
        "  try:\n",
        "    conn = sqlite3.connect(db_path)\n",
        "    print(\"IMDB database loaded successfully.\")\n",
        "    return conn\n",
        "  except sqlite3.Error as e:\n",
        "    print(f\"Error loading IMDB database: {e}\")\n",
        "    return None"
      ],
      "metadata": {
        "id": "YOO65TNTg7fg"
      },
      "execution_count": 8,
      "outputs": []
    },
    {
      "cell_type": "code",
      "execution_count": 9,
      "metadata": {
        "colab": {
          "base_uri": "https://localhost:8080/"
        },
        "id": "-0Th69XEghxi",
        "outputId": "c6ffa85c-fe9a-4a25-e0a4-0a54889ed122"
      },
      "outputs": [
        {
          "output_type": "stream",
          "name": "stdout",
          "text": [
            "IMDB database loaded successfully.\n",
            "Connection successful\n"
          ]
        }
      ],
      "source": [
        "db_path = \"imdb.db\"\n",
        "conn = load_imdb_database(db_path)\n",
        "\n",
        "if conn:\n",
        "  print(\"Connection successful\")\n",
        "  cursor = conn.cursor()"
      ]
    },
    {
      "cell_type": "markdown",
      "source": [
        "## Following is the schema of the IMDB database. It lists all tables and their schemas.\n",
        "\n"
      ],
      "metadata": {
        "id": "OyMdDsyWakEL"
      }
    },
    {
      "cell_type": "code",
      "source": [
        "cursor.execute(\"SELECT name FROM sqlite_master WHERE type='table';\")\n",
        "tables = cursor.fetchall()\n",
        "\n",
        "print(\"Database Schema:\")\n",
        "for table in tables:\n",
        "    table_name = table[0]\n",
        "    print(f\"\\nTable: {table_name}\")\n",
        "\n",
        "    cursor.execute(f\"PRAGMA table_info({table_name});\")\n",
        "    schema = cursor.fetchall()\n",
        "\n",
        "    print(\"Columns:\")\n",
        "    for column in schema:\n",
        "        cid, name, dtype, notnull, dflt_value, pk = column\n",
        "        print(f\"  - {name} ({dtype}), NOT NULL: {bool(notnull)}, Default: {dflt_value}, Primary Key: {bool(pk)}\")"
      ],
      "metadata": {
        "colab": {
          "base_uri": "https://localhost:8080/"
        },
        "id": "QHglU6mobmV3",
        "outputId": "466c13cb-7cde-4919-d87b-f458d7011133"
      },
      "execution_count": 10,
      "outputs": [
        {
          "output_type": "stream",
          "name": "stdout",
          "text": [
            "Database Schema:\n",
            "\n",
            "Table: Movie\n",
            "Columns:\n",
            "  - index (INTEGER), NOT NULL: False, Default: None, Primary Key: False\n",
            "  - MID (TEXT), NOT NULL: False, Default: None, Primary Key: False\n",
            "  - title (TEXT), NOT NULL: False, Default: None, Primary Key: False\n",
            "  - year (TEXT), NOT NULL: False, Default: None, Primary Key: False\n",
            "  - rating (REAL), NOT NULL: False, Default: None, Primary Key: False\n",
            "  - num_votes (INTEGER), NOT NULL: False, Default: None, Primary Key: False\n",
            "\n",
            "Table: Genre\n",
            "Columns:\n",
            "  - index (INTEGER), NOT NULL: False, Default: None, Primary Key: False\n",
            "  - Name (TEXT), NOT NULL: False, Default: None, Primary Key: False\n",
            "  - GID (INTEGER), NOT NULL: False, Default: None, Primary Key: False\n",
            "\n",
            "Table: Language\n",
            "Columns:\n",
            "  - index (INTEGER), NOT NULL: False, Default: None, Primary Key: False\n",
            "  - Name (TEXT), NOT NULL: False, Default: None, Primary Key: False\n",
            "  - LAID (INTEGER), NOT NULL: False, Default: None, Primary Key: False\n",
            "\n",
            "Table: Country\n",
            "Columns:\n",
            "  - index (INTEGER), NOT NULL: False, Default: None, Primary Key: False\n",
            "  - Name (TEXT), NOT NULL: False, Default: None, Primary Key: False\n",
            "  - CID (INTEGER), NOT NULL: False, Default: None, Primary Key: False\n",
            "\n",
            "Table: Location\n",
            "Columns:\n",
            "  - index (INTEGER), NOT NULL: False, Default: None, Primary Key: False\n",
            "  - Name (TEXT), NOT NULL: False, Default: None, Primary Key: False\n",
            "  - LID (INTEGER), NOT NULL: False, Default: None, Primary Key: False\n",
            "\n",
            "Table: M_Location\n",
            "Columns:\n",
            "  - index (INTEGER), NOT NULL: False, Default: None, Primary Key: False\n",
            "  - MID (TEXT), NOT NULL: False, Default: None, Primary Key: False\n",
            "  - LID (REAL), NOT NULL: False, Default: None, Primary Key: False\n",
            "  - ID (INTEGER), NOT NULL: False, Default: None, Primary Key: False\n",
            "\n",
            "Table: M_Country\n",
            "Columns:\n",
            "  - index (INTEGER), NOT NULL: False, Default: None, Primary Key: False\n",
            "  - MID (TEXT), NOT NULL: False, Default: None, Primary Key: False\n",
            "  - CID (REAL), NOT NULL: False, Default: None, Primary Key: False\n",
            "  - ID (INTEGER), NOT NULL: False, Default: None, Primary Key: False\n",
            "\n",
            "Table: M_Language\n",
            "Columns:\n",
            "  - index (INTEGER), NOT NULL: False, Default: None, Primary Key: False\n",
            "  - MID (TEXT), NOT NULL: False, Default: None, Primary Key: False\n",
            "  - LAID (INTEGER), NOT NULL: False, Default: None, Primary Key: False\n",
            "  - ID (INTEGER), NOT NULL: False, Default: None, Primary Key: False\n",
            "\n",
            "Table: M_Genre\n",
            "Columns:\n",
            "  - index (INTEGER), NOT NULL: False, Default: None, Primary Key: False\n",
            "  - MID (TEXT), NOT NULL: False, Default: None, Primary Key: False\n",
            "  - GID (INTEGER), NOT NULL: False, Default: None, Primary Key: False\n",
            "  - ID (INTEGER), NOT NULL: False, Default: None, Primary Key: False\n",
            "\n",
            "Table: Person\n",
            "Columns:\n",
            "  - index (INTEGER), NOT NULL: False, Default: None, Primary Key: False\n",
            "  - PID (TEXT), NOT NULL: False, Default: None, Primary Key: False\n",
            "  - Name (TEXT), NOT NULL: False, Default: None, Primary Key: False\n",
            "  - Gender (TEXT), NOT NULL: False, Default: None, Primary Key: False\n",
            "\n",
            "Table: M_Producer\n",
            "Columns:\n",
            "  - index (INTEGER), NOT NULL: False, Default: None, Primary Key: False\n",
            "  - MID (TEXT), NOT NULL: False, Default: None, Primary Key: False\n",
            "  - PID (TEXT), NOT NULL: False, Default: None, Primary Key: False\n",
            "  - ID (INTEGER), NOT NULL: False, Default: None, Primary Key: False\n",
            "\n",
            "Table: M_Director\n",
            "Columns:\n",
            "  - index (INTEGER), NOT NULL: False, Default: None, Primary Key: False\n",
            "  - MID (TEXT), NOT NULL: False, Default: None, Primary Key: False\n",
            "  - PID (TEXT), NOT NULL: False, Default: None, Primary Key: False\n",
            "  - ID (INTEGER), NOT NULL: False, Default: None, Primary Key: False\n",
            "\n",
            "Table: M_Cast\n",
            "Columns:\n",
            "  - index (INTEGER), NOT NULL: False, Default: None, Primary Key: False\n",
            "  - MID (TEXT), NOT NULL: False, Default: None, Primary Key: False\n",
            "  - PID (TEXT), NOT NULL: False, Default: None, Primary Key: False\n",
            "  - ID (INTEGER), NOT NULL: False, Default: None, Primary Key: False\n"
          ]
        }
      ]
    },
    {
      "cell_type": "markdown",
      "source": [
        "# Write SQL queries for the following questions"
      ],
      "metadata": {
        "id": "At0HJhxwcWMV"
      }
    },
    {
      "cell_type": "markdown",
      "source": [
        "## 1. Write query to list first 5 rows of Person table\n",
        "\n",
        "\n",
        "\n"
      ],
      "metadata": {
        "id": "cHeY-4I-Y1Go"
      }
    },
    {
      "cell_type": "code",
      "source": [
        "q1 = \"\"\"select * from Person limit 5 \"\"\"\n",
        "cursor.execute(q1)\n",
        "print(cursor.fetchall())"
      ],
      "metadata": {
        "id": "yTksEs_JHuK8",
        "colab": {
          "base_uri": "https://localhost:8080/"
        },
        "outputId": "2b414543-1b52-441e-94b4-76ac8d4c8ddf"
      },
      "execution_count": 26,
      "outputs": [
        {
          "output_type": "stream",
          "name": "stdout",
          "text": [
            "[(0, 'nm0000288', ' Christian Bale', 'Male'), (1, 'nm0000949', ' Cate Blanchett', 'Female'), (2, 'nm1212722', ' Benedict Cumberbatch', 'Male'), (3, 'nm0365140', ' Naomie Harris', 'Female'), (4, 'nm0785227', ' Andy Serkis', 'Male')]\n"
          ]
        }
      ]
    },
    {
      "cell_type": "code",
      "source": [
        "def q1_grader(q1):\n",
        "  result = pd.read_sql_query(q1, conn)\n",
        "  return result.shape == (5, 4)\n",
        "print(q1_grader(q1))"
      ],
      "metadata": {
        "colab": {
          "base_uri": "https://localhost:8080/"
        },
        "id": "19rLGemCcoak",
        "outputId": "4cc91246-b13b-4261-e1dd-00fa53d8d980"
      },
      "execution_count": 27,
      "outputs": [
        {
          "output_type": "stream",
          "name": "stdout",
          "text": [
            "True\n"
          ]
        }
      ]
    },
    {
      "cell_type": "markdown",
      "source": [
        "## 2. Write query to select title, year and rating from Movie table"
      ],
      "metadata": {
        "id": "Cmuvp9h7dZWu"
      }
    },
    {
      "cell_type": "code",
      "source": [
        "q2 = \"\"\"select title,year,rating from Movie \"\"\"\n",
        "cursor.execute(q2)\n",
        "print(cursor.fetchall())"
      ],
      "metadata": {
        "id": "g7MI-hJycPtn",
        "colab": {
          "base_uri": "https://localhost:8080/"
        },
        "outputId": "14592425-87b9-4221-ed7e-df8f0f998144"
      },
      "execution_count": 28,
      "outputs": [
        {
          "output_type": "stream",
          "name": "stdout",
          "text": [
            "[('Mowgli', '2018', 6.6), (\"Ocean's Eight\", '2018', 6.2), ('Tomb Raider', '2018', 6.4), ('The Avengers', '2012', 8.1), ('Tumbbad', '2018', 8.5), ('Kedarnath', '2018', 5.5), ('Captain America: Civil War', '2016', 7.8), ('Andhadhun', '2018', 9.0), ('Lion', '2016', 8.1), ('Rajma Chawal', '2018', 5.7), ('Geostorm', '2017', 5.3), ('Slumdog Millionaire', '2008', 8.0), ('2012', 'I 2009', 5.8), ('Mastizaade', '2016', 2.4), ('Close Encounters of the Third Kind', '1977', 7.7), ('Manto', '2018', 7.5), ('Life of Pi', '2012', 7.9), ('A Good Day to Die Hard', '2013', 5.3), ('Pixels', '2015', 5.6), ('Stree', '2018', 8.0), ('Thugs of Hindostan', '2018', 3.6), ('Badhaai Ho', '2018', 8.2), ('Hotel Mumbai', '2018', 7.1), ('The Darjeeling Limited', '2007', 7.2), ('Jalebi', '2018', 5.9), ('Bend It Like Beckham', '2002', 6.7), ('Dangal', '2016', 8.5), ('Manmarziyaan', '2018', 7.0), ('The Day the Earth Stood Still', '1951', 7.8), ('Dragonball Evolution', '2009', 2.6), ('Pataakha', '2018', 7.3), ('I Origins', '2014', 7.4), ('Harold & Kumar Go to White Castle', '2004', 7.1), ('3 Idiots', '2009', 8.4), ('Taare Zameen Par', '2007', 8.4), ('Bajirao Mastani', '2015', 7.2), ('PK', '2014', 8.2), ('The Hundred-Foot Journey', '2014', 7.3), ('Gangs of Wasseypur', '2012', 8.2), ('Seven Years in Tibet', '1997', 7.0), ('Octopussy', '1983', 6.6), ('Chung Hing sam lam', '1994', 8.1), ('Sanju', '2018', 8.1), ('Victoria & Abdul', '2017', 6.8), ('Karwaan', '2018', 7.6), ('Mitron', '2018', 7.1), ('Padman', '2018', 8.1), ('Tigers', '2014', 7.4), ('Ghajini', '2008', 7.3), ('The Best Exotic Marigold Hotel', '2011', 7.3), ('Around the World in 80 Days', '2004', 5.9), ('The Ghost and the Darkness', '1996', 6.8), ('Padmaavat', '2018', 7.0), ('Raazi', '2018', 7.8), ('Bareilly Ki Barfi', '2017', 7.5), ('Lagaan: Once Upon a Time in India', '2001', 8.1), ('Lust Stories', '2018', 6.6), ('My Name Is Khan', '2010', 8.0), ('Love Sonia', '2018', 7.2), ('Batti Gul Meter Chalu', '2018', 6.0), ('Loveyatri', '2018', 2.9), ('Don 2', '2011', 7.1), ('Rang De Basanti', '2006', 8.2), ('Love Per Square Foot', '2018', 7.2), ('Ugly', '2013', 8.1), ('Bahubali: The Beginning', '2015', 8.2), ('Anand', '1971', 8.8), ('Baahubali 2: The Conclusion', '2017', 8.3), ('Sui Dhaaga: Made in India', '2018', 6.8), ('FryDay', '2018', 5.9), ('Se, jie', '2007', 7.6), ('Gold', 'I 2018', 7.6), ('Bhavesh Joshi Superhero', '2018', 7.6), ('Sonu Ke Titu Ki Sweety', '2018', 7.2), ('Satyameva Jayate', '2018', 5.8), ('Race 3', '2018', 2.1), ('The Accidental Husband', '2008', 5.6), ('Million Dollar Arm', '2014', 7.0), ('Nasha', '2013', 3.3), ('Dabba', '2013', 7.8), ('Vikram Vedha', '2017', 8.8), ('Trapped', 'XVII 2016', 7.6), ('Parmanu: The Story of Pokhran', '2018', 7.8), ('Barfi!', '2012', 8.1), ('Auntie Mame', '1958', 8.0), ('Beyond the Clouds', '2017', 7.0), ('Tamasha', '2015', 7.2), ('Mukkabaaz', '2017', 8.1), ('Bride & Prejudice', '2004', 6.2), ('Dhadak', '2018', 4.4), ('Mom', 'I 2017', 7.3), ('A Passage to India', '1984', 7.4), ('Happy Phirr Bhag Jayegi', '2018', 4.6), ('Kabhi Khushi Kabhie Gham...', '2001', 7.5), ('Masaan', '2015', 8.1), (\"Viceroy's House\", '2017', 6.7), ('Laila Majnu', '2018', 7.8), ('Gurgaon', '2017', 6.7), ('Dear Zindagi', '2016', 7.7), ('Newton', '2017', 7.7), ('Aiyaary', '2018', 5.2), ('Nayakan', '1987', 8.8), ('Baazaar', '2018', 6.9), ('Raid', '2018', 7.4), ('Dil Dhadakne Do', '2015', 6.8), ('October', 'II 2018', 7.6), ('Talvar', '2015', 8.2), ('Shahid', '2012', 8.3), ('Raees', '2017', 6.9), ('Kahaani', '2012', 8.2), ('One Less God', '2017', 5.8), ('Gunday', '2014', 2.1), ('Beavis and Butt-Head Do America', '1996', 6.8), ('Bajrangi Bhaijaan', '2015', 8.0), ('Parched', '2015', 7.6), ('Jagga Jasoos', '2017', 6.4), ('Agneepath', '2012', 7.0), ('Mary Kom', '2014', 6.8), ('Udta Punjab', '2016', 7.8), ('Shaadi Mein Zaroor Aana', '2017', 7.8), ('Street Fighter: The Legend of Chun-Li', '2009', 3.7), ('Black', '2005', 8.2), ('Soorma', '2018', 7.5), ('Raman Raghav 2.0', '2016', 7.3), ('Krrish', '2006', 6.4), ('Airlift', '2016', 8.1), ('Devdas', 'I 2002', 7.6), ('Ittefaq', '2017', 7.2), ('Ae Dil Hai Mushkil', '2016', 5.8), ('Blackmail', 'I 2018', 7.0), ('Pink', 'III 2016', 8.2), ('Go Goa Gone', '2013', 6.6), ('Drishyam', '2015', 8.3), ('Dostana', '2008', 6.5), ('Anbe Sivam', '2003', 8.8), ('Veere Di Wedding', '2018', 3.1), ('Dil Juunglee', '2018', 4.5), ('Dhoom:3', '2013', 5.4), ('Secret Superstar', '2017', 8.0), ('A Wednesday', '2008', 8.2), ('Goliyon Ki Rasleela Ram-Leela', '2013', 6.4), ('B.A. Pass', '2012', 6.5), ('Sultan', '2016', 7.1), ('Toilet - Ek Prem Katha', '2017', 7.3), ('Garbage', 'I 2018', 4.2), ('Dilwale Dulhania Le Jayenge', '1995', 8.2), ('Dev.D', '2009', 8.0), ('Mulk', 'I 2018', 6.1), ('Efter brylluppet', '2006', 7.8), ('Tiger Zinda Hai', '2017', 6.1), ('Kal Ho Naa Ho', '2003', 8.0), ('Kapoor & Sons', '2016', 7.7), ('Halkaa', '2018', 7.3), ('Kaabil', '2017', 7.1), ('Shivaay', '2016', 6.3), ('Dilwale', '2015', 5.2), ('Monsoon Wedding', '2001', 7.4), ('Raabta', '2017', 4.0), ('Talaash', '2012', 7.3), ('Badlapur', '2015', 7.5), ('The Other Side of the Door', '2016', 5.3), ('Rockstar', '2011', 7.7), ('Om Shanti Om', '2007', 6.7), ('Kuch Kuch Hota Hai', '1998', 7.7), ('Jab We Met', '2007', 7.9), ('Te3n', '2016', 7.2), ('Jab Harry Met Sejal', '2017', 5.4), ('Haider', '2014', 8.2), ('The Lovers', '2013', 4.6), ('Tubelight', '2017', 4.1), ('Welcome to New York', '2018', 2.3), ('Veer-Zaara', '2004', 7.9), ('Delhi Belly', '2011', 7.6), ('Piku', '2015', 7.6), ('Jodhaa Akbar', '2008', 7.6), ('A Gentleman', '2017', 6.2), ('Ra.One', '2011', 4.8), ('Mersal', '2017', 8.1), ('Hichki', '2018', 7.5), ('Zindagi Na Milegi Dobara', '2011', 8.1), ('Rab Ne Bana Di Jodi', '2008', 7.2), ('Dishoom', '2016', 5.1), ('Paan Singh Tomar', '2012', 8.2), ('Qarib Qarib Singlle', '2017', 7.0), ('Kai po che!', '2013', 7.6), ('Yeh Jawaani Hai Deewani', '2013', 7.0), ('Sanam Teri Kasam', '2016', 7.3), ('Myeong-ryang', '2014', 7.2), ('Swades: We, the People', '2004', 8.3), ('Kaalakaandi', '2018', 6.2), ('Naam Shabana', '2017', 6.3), ('Jab Tak Hai Jaan', '2012', 6.8), ('102 Not Out', '2018', 7.5), ('The Challenger', 'I 2015', 5.7), ('Baaghi 2', '2018', 5.1), ('Namaste England', '2018', 1.3), ('Sholay', '1975', 8.2), ('Omerta', '2017', 7.0), ('Nanu Ki Jaanu', '2018', 6.5), ('The Little Princess', '1939', 7.3), ('Mard Ko Dard Nahin Hota', '2018', 7.5), ('Pari', 'I 2018', 6.6), ('Chak De! India', '2007', 8.2), ('Queen', '2013', 8.3), ('Chennai Express', '2013', 6.0), ('Black Friday', '2004', 8.6), ('Love Aaj Kal', '2009', 6.8), ('Detective Byomkesh Bakshy!', '2015', 7.6), ('Dhoom:2', '2006', 6.5), ('The Namesake', '2006', 7.5), ('Loev', '2015', 5.9), ('Fitoor', '2016', 5.4), ('Half Girlfriend', '2017', 4.3), ('Pihu', 'I 2018', 6.6), ('Haraamkhor', '2015', 6.4), ('Shubh Mangal Saavdhan', '2017', 6.9), ('The Guru', '2002', 5.4), ('Baar Baar Dekho', '2016', 5.3), ('Hate Story IV', '2018', 3.4), ('Munna Bhai M.B.B.S.', '2003', 8.2), ('Baby', 'I 2015', 8.1), ('Bing feng: Chong sheng zhi men', '2014', 4.8), ('The House Next Door', '2017', 6.8), ('Mohabbatein', '2000', 7.1), ('Phantom', 'I 2015', 5.8), ('Chef', '2017', 5.6), ('Love Games', '2016', 4.4), ('Brij Mohan Amar Rahe', '2017', 7.1), ('Ankhon Dekhi', '2013', 8.0), ('Bhaiaji Superhit', '2018', 5.7), ('Chal Bhaag', '2014', 4.3), ('Salaam Bombay!', '1988', 8.0), ('Kabali', '2016', 6.4), ('Hindi Medium', '2017', 7.8), ('Sivaji', '2007', 7.5), ('Khosla Ka Ghosla!', '2006', 8.3), ('Maqbool', '2003', 8.2), ('Special Chabbis', '2013', 8.0), ('Fashion', '2008', 7.0), ('Krrish 3', '2013', 5.3), ('Paltan', '2018', 5.5), ('Oye Lucky! Lucky Oye!', '2008', 7.8), ('Fan', 'I 2016', 7.2), ('One Night Stand', 'I 2016', 3.2), ('Yamla Pagla Deewana Phir Se...', '2018', 5.3), ('Pyaar Ka Punchnama', '2011', 7.7), ('Madaari', '2016', 7.6), ('OMG: Oh My God!', '2012', 8.2), ('Phamous', '2018', 4.5), ('Befikre', '2016', 3.9), ('Trishna', '2011', 6.0), ('Wake Up Sid', '2009', 7.6), ('Singham', '2011', 6.8), ('Don', 'I 2006', 7.2), ('Margarita with a Straw', '2014', 7.3), ('Kites', 'I 2010', 6.1), ('Dum Laga Ke Haisha', '2015', 7.5), ('Khoobsurat', '2014', 6.4), ('Horror Story', 'I 2013', 4.4), ('Aashiqui 2', '2013', 7.0), ('Guzaarish', '2010', 7.5), ('Kaho Naa... Pyaar Hai', '2000', 6.9), ('Happy New Year', 'I 2014', 5.2), ('Outsourced', '2006', 7.0), ('Rahasya', '2015', 7.6), ('7 Khoon Maaf', '2011', 6.1), ('Gulaal', '2009', 8.1), ('Missing', 'I 2018', 5.8), ('A Death in the Gunj', '2016', 7.5), ('Hate Story', '2012', 5.3), ('Genius', 'I 2018', 4.9), ('Bombay Talkies', '2013', 6.7), ('Student of the Year', '2012', 5.5), ('Golmaal Again', '2017', 5.0), ('Dil Chahta Hai', '2001', 8.2), ('Ship of Theseus', '2012', 8.1), ('No One Killed Jessica', '2011', 7.2), ('Pyaar Ka Punchnama 2', '2015', 7.3), ('Badrinath Ki Dulhania', '2017', 6.2), ('Rangoon', 'II 2017', 5.8), ('Jism 2', '2012', 3.0), ('Mohenjo Daro', '2016', 5.8), ('Nawabzaade', '2018', 5.0), ('Dhoom', '2004', 6.7), ('Ek Tha Tiger', '2012', 5.5), ('Bombay Velvet', '2015', 5.7), ('Main Hoon Na', '2004', 7.0), ('Aligarh', '2015', 7.8), ('Vicky Donor', '2012', 7.8), ('Rustom', '2016', 7.1), ('Bang Bang', 'I 2014', 5.5), ('Company', '2002', 8.0), ('Akira', 'I 2016', 5.9), ('Jaane Tu... Ya Jaane Na', '2008', 7.5), ('Simran', '2017', 5.4), ('Katti Batti', '2015', 4.9), ('Roy', '2015', 3.3), ('Omkara', '2006', 8.1), ('City Lights', '2014', 7.3), ('Ekk Deewana Tha', '2012', 5.9), ('Bhaag Milkha Bhaag', '2013', 8.2), ('Ek Hasina Thi', '2004', 7.6), ('Guru', '2007', 7.8), ('Mubarakan', '2017', 5.6), ('Kurbaan', '2009', 5.7), ('Once Again', '2018', 7.3), ('Judwaa 2', '2017', 3.9), ('Kuchh Bheege Alfaaz', '2018', 7.7), ('Koi... Mil Gaya', '2003', 7.1), ('Baaghi', '2016', 5.2), ('Hera Pheri', '2000', 8.2), ('The Attacks of 26/11', '2013', 6.8), ('Indian', '1996', 8.1), ('Johnny Gaddaar', '2007', 7.9), ('Hotel Salvation', '2016', 7.2), ('Kaminey', '2009', 7.4), ('Ajji', '2017', 7.1), ('Dil Se..', '1998', 7.7), ('2 States', '2014', 6.9), ('The Other End of the Line', '2008', 6.2), ('Madras Cafe', '2013', 7.7), ('Kabhi Alvida Naa Kehna', '2006', 6.1), ('Ladies vs. Ricky Bahl', '2011', 6.0), ('Ragini MMS 2', '2014', 3.9), ('Hey Ram', '2000', 8.0), ('Neerja', '2016', 7.7), ('No Smoking', '2007', 7.2), ('Raanjhanaa', '2013', 7.6), ('Chashme Baddoor', '2013', 5.4), ('Cocktail', '2012', 6.2), ('Mujhse Dosti Karoge!', '2002', 5.1), ('Fanaa', '2006', 7.2), ('Race 2', '2013', 5.3), ('Udaan', '2010', 8.2), ('The Ghazi Attack', '2017', 7.6), ('M.S. Dhoni: The Untold Story', '2016', 7.7), ('Chandni Chowk to China', '2009', 4.0), ('Dhobi Ghat', '2010', 7.1), ('Lucknow Central', '2017', 6.1), ('Mirzya', '2016', 4.7), ('Josh', '2000', 6.2), ('Kahaani 2', '2016', 6.6), ('Sir', 'I 2018', 7.0), ('Anniyan', '2005', 8.2), ('Xun Long Jue', '2015', 6.0), ('Tere Mere Sapne', '1996', 6.2), ('1920 London', '2016', 4.1), ('La mujer de mi hermano', '2005', 6.2), ('Angrezi Mein Kehte Hain', '2018', 6.8), ('Playback', '1996', 4.0), ('Hunterrr', '2015', 7.0), ('Hate Story 3', '2015', 4.5), ('Force 2', '2016', 6.3), ('Wazir', 'I 2016', 7.1), ('Highway', 'I 2014', 7.6), ('Andaz Apna Apna', '1994', 8.2), ('Band Baaja Baaraat', '2010', 7.2), ('Dil To Pagal Hai', '1997', 7.1), ('Lamhe', '1991', 7.4), ('Lipstick Under My Burkha', '2016', 6.9), ('Brothers', 'I 2015', 6.7), ('Happy Bhag Jayegi', '2016', 6.4), ('Tees Maar Khan', '2010', 2.6), ('Meri Pyaari Bindu', '2017', 5.7), ('Madly', '2016', 6.3), ('Do Dooni Chaar', '2010', 7.6), ('Baazigar', '1993', 7.8), ('Rocky Handsome', '2016', 6.8), ('Gabbar is Back', '2015', 7.2), ('Singh Is Bliing', '2015', 5.3), ('English Vinglish', '2012', 7.9), ('Phobia', 'I 2016', 6.9), ('Mangal Pandey: The Rising', '2005', 6.7), ('Shanghai', '2012', 7.2), ('Dark wind', '2017', 9.0), ('Guest iin London', '2017', 5.4), ('Rocky', '1981', 6.9), ('Baadshaho', '2017', 5.0), ('Kaante', '2002', 6.6), ('Sold', '2016', 6.8), ('Rock On!!', '2008', 7.8), ('We Are Family', '2010', 5.6), ('Ek Villain', '2014', 6.5), ('Raja Natwarlal', '2014', 6.1), ('Tanu Weds Manu', '2011', 6.7), ('Bioscopewala', '2018', 7.8), ('Maine Pyar Kiya', '1989', 7.4), ('3 Storeys', '2018', 7.2), ('Sarkar 3', '2017', 4.8), ('Al-risâlah', '1976', 8.9), ('Dobaara: See Your Evil', '2017', 4.1), ('Satya', '1998', 8.2), ('Love and Shukla', '2017', 7.3), ('Tikli and Laxmi Bomb', '2017', 7.2), ('Bhoomi', '2017', 5.4), ('Awarapan', '2007', 7.2), ('Jolly LLB 2', '2017', 7.3), ('Game 6', '2005', 5.9), ('Umrika', '2015', 6.7), ('Tanu Weds Manu Returns', '2015', 7.7), ('Delhi-6', '2009', 6.0), ('Paheli', '2005', 6.7), ('That Girl in Yellow Boots', '2010', 6.7), ('Kaagaz Ke Phool', '1959', 8.1), ('Any Body Can Dance 2', '2015', 5.5), ('Bewakoofiyaan', '2014', 5.5), ('The Song of Scorpions', '2017', 6.5), ('Mera Naam Joker', '1970', 8.0), ('Mumbai Meri Jaan', '2008', 7.8), ('Tumhari Sulu', '2017', 7.0), ('Saawariya', '2007', 5.4), ('Saheb Biwi Aur Gangster 3', '2018', 4.4), ('Alone', 'VI 2015', 3.8), ('Desi Boyz', '2011', 5.9), ('Raajneeti', '2010', 7.1), ('Hisss', '2010', 3.0), ('Shaitan', '2011', 7.3), ('Jai Gangaajal', '2016', 5.7), ('Eega', '2012', 7.8), ('The Dirty Picture', '2011', 6.6), ('I Hate Luv Storys', '2010', 5.6), ('Court', '2014', 7.7), ('Gol Maal', '1979', 8.6), ('Dolly Ki Doli', '2015', 4.6), ('Sangam', 'I 1964', 7.6), ('Teri Bhabhi Hai Pagle', '2018', 5.5), ('Life in a Metro', '2007', 7.4), ('Khal Nayak', '1993', 7.2), ('Unfreedom', '2014', 6.2), ('Vishwaroopam 2', '2018', 6.1), ('Grand Masti', '2013', 4.4), ('A Flying Jatt', '2016', 3.4), ('Mission Kashmir', '2000', 6.8), ('Kambakkht Ishq', '2009', 3.9), ('Aurangzeb', '2013', 6.6), ('Namastey London', '2007', 7.3), ('Singham Returns', '2014', 5.7), ('X: Past Is Present', '2015', 5.6), ('Heroine', '2012', 5.1), ('Dhanak', '2015', 8.0), ('Murder', '2004', 5.4), ('Mardaani', '2014', 7.3), ('B.A. Pass 2', '2017', 2.2), ('Titli', '2014', 7.6), ('Yaadein...', '2001', 4.5), ('Fukrey Returns', '2017', 6.5), ('Freaky Ali', '2016', 5.0), ('Shorgul', '2016', 5.7), ('Thuppakki', '2012', 7.9), ('Bandit Queen', '1994', 7.6), (\"Neal 'N' Nikki\", '2005', 3.3), ('Sarkar', '2005', 7.7), ('Lakshya', '2004', 7.9), ('The Stoneman Murders', '2009', 7.4), ('Monsoon Shootout', '2013', 6.4), ('Hum Dil De Chuke Sanam', '1999', 7.5), ('NH10', '2015', 7.2), ('Helicopter Eela', '2018', 5.0), ('Joker', '2012', 2.6), ('Anjaana Anjaani', '2010', 5.8), ('Irada', '2017', 6.3), ('Boom', 'I 2003', 2.3), ('John Day', '2013', 5.7), ('Shamitabh', '2015', 6.8), ('Murder 2', '2011', 6.2), ('Vodka Diaries', '2018', 5.7), ('Happy Ending', '2014', 5.4), ('OK Jaanu', '2017', 5.1), ('Pizza', 'I 2014', 6.2), ('Patel Ki Punjabi Shaadi', '2017', 3.8), ('Mohalla Assi', '2015', 7.5), ('Shaurya: It Takes Courage to Make Right... Right', '2008', 7.3), ('Action Jackson', 'I 2014', 3.3), ('Kyaa Kool Hain Hum 3', '2016', 1.9), ('Akaash Vani', '2013', 6.3), ('Vaastav: The Reality', '1999', 8.0), ('Housefull 3', '2016', 5.2), ('Noor', 'I 2017', 4.0), ('Asoka', '2001', 6.7), ('Kick', '2014', 5.4), ('Yuva', '2004', 7.4), ('Heropanti', '2014', 5.4), ('Humpty Sharma Ki Dulhania', '2014', 6.0), ('Daddy', 'III 2017', 6.4), ('High Jack', '2018', 5.3), ('Water', 'I 2005', 7.8), ('Bollywood/Hollywood', '2002', 6.0), ('Tu Hai Mera Sunday', '2016', 7.8), ('Lupt', '2018', 6.9), ('Lootera', 'I 2013', 7.3), ('Heyy Babyy', '2007', 6.1), (\"Kuldip Patwal: I Didn't Do It!\", '2017', 7.6), ('Behen Hogi Teri', '2017', 5.4), ('Race', 'I 2008', 6.6), ('Hope Aur Hum', '2018', 6.5), ('Silvat', '2018', 8.0), ('Chalte Chalte', '2003', 6.6), ('Daas Dev', '2018', 5.1), ('Once Upon a Time in Mumbaai', '2010', 7.4), ('Kaun?', '1999', 7.7), ('Hostel', '2011', 5.1), ('Baasha', '1995', 8.3), ('Miss Teacher', '2016', 3.1), ('Fever', 'I 2016', 4.9), ('Fiza', '2000', 6.2), ('Nil Battey Sannata', '2015', 8.5), ('Paanch', '2003', 7.7), ('Beiimaan Love', '2016', 2.9), ('Bhool Bhulaiyaa', '2007', 7.3), ('Hasee Toh Phasee', '2014', 6.8), ('Babumoshai Bandookbaaz', '2017', 7.0), ('The Hero of Color City', '2014', 4.1), ('Finding Fanny', '2014', 5.8), ('Jaane Bhi Do Yaaro', '1983', 8.5), ('Commando 2', '2017', 5.2), ('Adisaya Piravi', '1990', 6.8), ('Phillauri', '2017', 6.1), ('Roja', '1992', 8.2), ('Darr', '1993', 7.8), ('Ghanchakkar', '2013', 5.7), ('Hamari Adhuri Kahani', '2015', 6.7), ('Mahabharat', '2013', 5.4), ('Billu', '2009', 6.2), ('Jo Jeeta Wohi Sikandar', '1992', 8.2), ('Dhan Dhana Dhan Goal', '2007', 4.9), ('Knock Out', '2010', 6.0), ('Lage Raho Munna Bhai', '2006', 8.1), ('Zed Plus', '2014', 6.4), ('Hum Tumhare Hain Sanam', '2002', 5.5), ('North West Frontier', '1959', 7.2), ('Welcome', 'I 2007', 6.8), ('The Blue Umbrella', '2005', 7.6), ('Aakrosh', '2010', 7.0), ('Munna Michael', '2017', 3.4), ('Socha Na Tha', '2005', 7.5), ('Rocket Singh: Salesman of the Year', '2009', 7.5), ('Manorama Six Feet Under', '2007', 7.7), ('Satyagraha', 'I 2013', 6.0), ('Kaal', '2005', 4.6), ('Fire', '1996', 7.3), ('Shootout at Wadala', '2013', 5.9), ('Pardes', '1997', 7.0), ('Mujhse Shaadi Karogi', '2004', 6.8), ('Rangeela', '1995', 7.5), ('Agent Vinod', '2012', 5.1), ('Main Tera Hero', '2014', 5.3), ('Vishwaroopam', '2013', 8.4), ('Shaandaar', '2015', 3.7), ('Ki & Ka', '2016', 5.8), ('Chittagong', '2012', 7.2), ('Ankur Arora Murder Case', '2013', 6.5), ('Chup Chup Ke', '2006', 6.7), ('Aitraaz', '2004', 6.8), ('Bullett Raja', '2013', 5.0), ('Commando', '2013', 6.1), ('Bodyguard', '2011', 4.6), ('LSD: Love, Sex Aur Dhokha', '2010', 7.1), ('Mere Brother Ki Dulhan', '2011', 5.9), ('Bachna Ae Haseeno', '2008', 6.2), ('Welcome to Karachi', '2015', 4.4), ('Luv Shuv Tey Chicken Khurana', '2012', 6.6), ('Luv Ka the End', '2011', 4.8), ('Athadu', '2005', 8.3), ('Table No.21', '2013', 7.1), ('Nayak: The Real Hero', '2001', 7.8), ('Chupke Chupke', '1975', 8.4), ('Holiday', '2014', 7.4), ('Great Grand Masti', '2016', 3.7), ('Jaane Kahan Se Aayi Hai', '2010', 4.0), ('Bluffmaster!', '2005', 6.7), ('Cheeni Kum', '2007', 6.8), ('Players', '2012', 4.1), ('Aankhen', '2002', 7.6), ('Agneepath', '1990', 7.7), ('Vivah', '2006', 6.6), ('Dabangg', '2010', 6.3), ('Ek Main Aur Ekk Tu', '2012', 5.8), ('Warrior Savitri', '2016', 5.0), ('Aryan: Unbreakable', '2006', 4.6), ('1942: A Love Story', '1994', 7.3), ('Bol Bachchan', '2012', 5.5), ('ABCD Any Body Can Dance', '2013', 6.4), ('Tere Bin Laden', '2010', 7.2), ('Thank You', 'I 2011', 4.7), ('D-Day', 'I 2013', 7.2), ('Teen Patti', '2010', 4.1), ('Himmatwala', '2013', 1.7), ('Kill Dil', '2014', 4.4), ('Mirror Game', '2017', 6.1), ('Paa', '2009', 7.2), ('Baghban', '2003', 7.4), ('Ribbon', '2017', 6.9), ('Action Replayy', '2010', 4.2), ('Pyaar Impossible!', '2010', 4.7), ('Karan Arjun', '1995', 6.9), ('Sadma', '1983', 8.5), ('Salaam Namaste', '2005', 6.2), ('Hate Story 2', '2014', 4.4), ('Kochadaiiyaan', '2014', 6.5), ('Wanted', '2009', 6.6), ('A Sublime Love Story: Barsaat', '2005', 4.1), ('Badmaa$h Company', '2010', 6.0), ('Mr. India', '1987', 7.8), ('Angry Indian Goddesses', '2015', 6.9), ('Rudhramadevi', '2015', 6.1), ('Dhruva', '2016', 8.0), ('Sarrainodu', '2016', 6.4), ('Housefull', '2010', 5.5), ('Thaandavam', '2012', 6.1), ('Phir Hera Pheri', '2006', 6.6), ('De Dana Dan', '2009', 5.3), ('Saajan', '1991', 7.3), ('Gunda', '1998', 7.4), ('Mother India', '1957', 8.1), ('Nautanki Saala!', '2013', 5.8), ('Maroon', '2016', 5.3), ('Prem Ratan Dhan Payo', '2015', 4.7), ('Baadshah', '1999', 6.9), ('Rehnaa Hai Terre Dil Mein', '2001', 7.5), ('My Brother... Nikhil', '2005', 7.4), ('Force', '2011', 6.4), ('Sarkar Raj', '2008', 6.8), ('Kartoos', '1999', 5.3), ('Sarfarosh', '1999', 8.2), ('Blue', 'I 2009', 3.8), ('Samsara', '2001', 7.8), ('Tezz', '2012', 3.9), ('Rock On 2', '2016', 5.0), ('Salaam-E-Ishq', '2007', 5.2), ('Kismat Konnection', '2008', 5.2), ('1921', '2018', 4.3), ('Bairavaa', '2017', 6.2), (\"Midnight's Children\", '2012', 6.2), ('Maachis', '1996', 7.8), ('Chalo Dilli', '2011', 6.8), ('Welcome to Sajjanpur', '2008', 6.9), ('Nishabd', '2007', 5.5), ('Shree', '2013', 6.4), ('Deewangee', '2002', 6.6), ('Insan', '2005', 5.0), ('Kabhi Haan Kabhi Naa', '1994', 7.9), ('Yevadu', '2014', 5.4), ('Veergati', '1995', 5.4), (\"'D'\", '2005', 6.9), ('LoveShhuda', '2016', 4.5), ('1920: Evil Returns', '2012', 4.9), ('Manjhi: The Mountain Man', '2015', 8.0), ('Hum Aapke Hain Koun...!', '1994', 7.5), ('Siddharth', '2013', 7.3), ('Union Leader', '2017', 7.8), ('Rang Rasiya', '2008', 7.1), ('Main Aur Charles', '2015', 6.3), ('16 December', '2002', 6.9), ('Qurbani', '1980', 7.1), ('Sonali Cable', '2014', 5.6), ('Rakhwala', '1989', 5.1), ('Anupama', '1966', 7.5), ('De surprise', '2015', 6.7), ('Zinda', '2006', 4.9), ('Ramaiya Vastavaiya', '2013', 5.7), ('Milan', '1967', 7.0), ('Abhimaan', '1973', 8.0), ('Geet', '1970', 7.3), ('Zanjeer', '2013', 3.3), ('Aunty No. 1', '1998', 4.2), ('Gopi Kishan', '1994', 5.5), ('Fun2shh... Dudes in the 10th Century', '2003', 4.5), ('Hum Aapke Dil Mein Rehte Hain', '1999', 5.8), ('Zamane Se Kya Darna', '1994', 5.7), ('Raat', '1992', 7.2), ('Hatya', '1988', 7.1), ('Sangram', '1993', 3.3), ('Kasam', '2001', 4.3), ('Teri Meri Kahaani', '2012', 4.8), ('Bombay', '1995', 8.1), ('Dhamaal', '2007', 7.2), ('Dishkiyaoon', '2014', 5.3), ('MP3: Mera Pehla Pehla Pyaar', '2007', 7.1), ('Ready', '2011', 4.7), ('Hulchul', '1995', 4.7), ('Farishtay', '1991', 4.9), ('Kati Patang', '1970', 7.2), ('Tum Mere Ho', '1990', 5.1), ('I Am Kalam', '2010', 8.0), ('Baabul', '2006', 5.5), ('Kidnap', '2008', 4.6), ('Junooniyat', '2016', 4.3), ('Dulhe Raja', '1998', 6.6), ('Amaanat', '1994', 5.5), ('Maine Dil Tujhko Diya', '2002', 3.8), ('Aisha', 'I 2010', 5.0), ('Inteha', '2003', 5.4), ('Firaaq', '2008', 7.4), ('Army', '1996', 4.4), ('Humshakals', '2014', 1.8), ('Hum Tum', '2004', 7.0), ('Aandhi', '1975', 8.2), ('Dus', '2005', 5.5), ('Buddha in a Traffic Jam', '2016', 6.9), ('Drona', '2008', 2.1), ('Gangster', '2006', 7.1), ('Border', 'I 1997', 7.9), ('Gumrah', '1993', 6.4), ('Love Story 2050', '2008', 2.6), ('Baankey Ki Crazy Baraat', '2015', 6.5), ('Zameen', '2003', 5.3), ('Sadak', '1991', 7.1), ('Main Khiladi Tu Anari', '1994', 6.9), ('Dhoondte Reh Jaoge', '2009', 5.6), ('Eena Meena Deeka', '1994', 4.6), ('Love Story', '1981', 6.5), ('Ankhen', '1968', 7.1), ('Karz', '1980', 7.5), ('Dora', '2017', 5.4), ('Hum Saath-Saath Hain: We Stand United', '1999', 6.2), ('Ek Phool Do Mali', '1969', 6.7), ('Little Terrors', '2014', 7.2), ('Jeena Sirf Merre Liye', '2002', 4.6), ('Kaashi in Search of Ganga', '2018', 7.2), ('Pyaasa', '1957', 8.5), ('R... Rajkumar', '2013', 5.2), ('Sanam Teri Kasam', '1982', 6.3), ('Izzat Ki Roti', '1993', 5.2), ('Traffic', 'I 2016', 6.7), ('Meri Biwi Ka Jawab Nahin', '2004', 4.6), ('Luck by Chance', '2009', 7.1), ('Waiting', 'III 2015', 7.2), ('Shalimar', '1978', 6.3), ('Jab Jab Phool Khile', '1965', 7.1), ('Aamir', '2008', 7.7), ('Deewaar', '1975', 8.1), ('Tere Naam', '2003', 7.1), ('Jugnu', '1973', 6.9), ('Matrubhoomi: A Nation Without Women', '2003', 7.7), ('Khatron Ke Khiladi', '1988', 4.8), ('Tum Mile', '2009', 5.0), ('Raju Ban Gaya Gentleman', '1992', 6.9), ('Ranna', '2015', 6.3), ('Singh Is Kinng', '2008', 5.8), ('Teraa Surroor', '2016', 2.8), ('Hamara Dil Aapke Paas Hai', '2000', 5.6), ('Imtihaan', '1994', 5.3), ('Meri Nimmo', '2018', 7.2), ('Rascals', '2011', 2.9), ('Aa Gale Lag Jaa', '1973', 7.1), ('Aalavandhan', '2001', 7.1), ('Kis Kisko Pyaar Karoon', '2015', 5.7), (\"Liar's Dice\", '2013', 6.9), ('Jayantabhai Ki Luv Story', '2013', 5.3), ('Khilona Bana Khalnayak', '1995', 7.0), ('Khoon Bhari Maang', '1988', 6.7), ('Ishaqzaade', '2012', 6.6), ('Khudgarz', '1987', 5.9), ('Gumnaam', '1965', 7.2), ('Break Ke Baad', '2010', 5.2), ('Bazaar', '1982', 7.3), ('Fukrey', '2013', 6.9), ('Samadhi', '1972', 7.5), ('Kurbaan', '1991', 4.2), ('Duplicate', '1998', 5.5), ('Thupparivaalan', '2017', 7.5), ('Aladin', '2009', 4.7), ('Ram Gopal Varma Ki Aag', '2007', 1.9), ('C.I.D.', '1956', 7.5), ('Umrao Jaan', '2006', 5.5), ('Six X', '2016', 6.7), ('Matru ki Bijlee ka Mandola', '2013', 5.7), ('Global Baba', '2016', 5.5), ('Dushman Duniya Ka', '1996', 4.6), ('Kurukshetra', '2000', 6.1), ('Dedh Ishqiya', '2014', 7.1), ('Fool N Final', '2007', 3.4), ('Kadhal Desam', '1996', 6.9), ('Shakti', '1982', 7.8), ('Filth and Wisdom', '2008', 5.6), ('Humraaz', '2002', 6.3), ('Bank Chor', '2017', 5.9), ('Dushman', '1971', 7.0), ('Main Krishna Hoon', '2013', 5.9), ('U Me Aur Hum', '2008', 6.0), ('Dil Toh Baccha Hai Ji', '2011', 5.7), ('Vidhaata', '1982', 7.1), ('Roti Kapada Aur Makaan', '1974', 7.0), ('Shola Aur Shabnam', '1992', 6.7), ('Rukh', '2017', 6.5), ('Purani Jeans', '2014', 6.1), ('Baazi', '1995', 6.6), ('Aaja Nachle', '2007', 6.4), ('Chaudhvin Ka Chand', '1960', 7.2), ('Chameli', '2003', 7.1), ('Aadhi Bhagavan', '2013', 5.4), ('Ananda Ashram', '1977', 7.2), ('Bhopal: A Prayer for Rain', '2014', 7.3), ('Dance Dance', '1987', 6.0), ('Anaarkali of Aarah', '2017', 6.5), ('Khamoshi: The Musical', '1996', 7.6), ('Bol', '2011', 8.3), ('Guide', '1965', 8.5), ('Ek Paheli Leela', '2015', 3.8), ('Children of War', '2014', 6.8), ('Karzzzz', '2008', 2.2), ('Don', '1978', 7.8), ('Gali Guleiyan', '2017', 7.8), ('Raavan', '2010', 5.4), ('Haré Rama Haré Krishna', '1971', 7.3), ('Girlfriend', '2004', 3.3), ('China Gate', '1998', 6.7), ('Chocolate: Deep Dark Secrets', '2005', 4.8), ('Dear Dad', 'I 2016', 6.4), ('Dasvidaniya', '2008', 7.8), ('Sangharsh', '1999', 7.1), ('Pataal Bhairavi', '1985', 5.7), ('Jai Santoshi Maa', '1975', 6.8), ('Jis Desh Mein Ganga Rehta Hain', '2000', 4.9), ('Arth', '1982', 8.0), ('Aarakshan', '2011', 6.2), ('Shool', '1999', 7.7), ('Saat Uchakkey', '2016', 5.7), ('Parzania', '2005', 7.7), ('Khushi', 'I 2003', 4.5), ('Naseeb', '1981', 7.1), ('Bhindi Baazaar', '2011', 6.2), ('Bulandi', '2000', 5.4), ('Shaadi Ke Side Effects', '2014', 5.6), ('Chor Machaye Shor', '1974', 6.6), ('Sarbjit', '2016', 7.3), ('Raja Hindustani', '1996', 6.1), ('Silsila', '1981', 7.4), ('Shabd', '2005', 5.2), ('Yodha', '1991', 4.4), (\"Jaan-E-Mann: Let's Fall in Love... Again\", '2006', 6.4), ('Phir Teri Kahani Yaad Aayee', '1993', 6.0), ('Blood Money', 'II 2012', 5.1), ('Right Yaaa Wrong', '2010', 6.4), ('Waqt Hamara Hai', '1993', 6.2), ('Seeta Aur Geeta', '1972', 6.9), ('Dil Ne Jise Apna Kaha', '2004', 4.5), ('Kunwara', '2000', 5.1), ('The Silence', 'III 2015', 7.2), ('Chameli Ki Shaadi', '1986', 7.6), ('Garam Masala', '2005', 6.8), ('Angoor', '1982', 8.4), ('Mahal', '1949', 7.1), ('Johny Mera Naam', '1970', 7.4), ('Page 3', '2005', 7.3), ('Tum Bin...: Love Will Find a Way', '2001', 7.5), ('Phir Bhi Dil Hai Hindustani', '2000', 6.3), ('Pusher', '2010', 6.2), ('3G - A Killer Connection', '2013', 3.7), ('Achanak', '1998', 4.3), ('Roop Ki Rani Choron Ka Raja', '1993', 4.9), ('Raaz', '2002', 6.5), ('Saathiya', '2002', 6.9), ('Bhabhi', '1991', 4.6), ('Maa', '1976', 6.4), ('Prem Deewane', '1992', 5.2), ('Saheb Biwi Aur Gangster', '2011', 7.2), ('Kalyug', '2005', 6.5), ('Awara Paagal Deewana', '2002', 6.4), ('Indu Sarkar', '2017', 6.0), ('Geraftaar', '1985', 6.1), ('Filmistaan', '2012', 7.3), ('Love', '1991', 6.0), ('Bekhudi', '1992', 4.9), ('Dalaal', '1993', 6.0), ('Ghayal Once Again', '2016', 6.5), ('Login', '2012', 6.3), ('Good Boy, Bad Boy', '2007', 3.8), ('Mohra', '1994', 7.1), ('Machine', '2017', 2.7), ('Rise of the Zombie', '2013', 4.0), ('Sargam', '1979', 6.7), ('Haqeeqat', '1964', 7.8), ('Gang', '2000', 6.3), ('Dil Dosti Etc', '2007', 7.0), ('Heer Ranjha', '1992', 5.4), ('Strangers', 'III 2007', 5.1), ('Gundaraj', '1995', 4.4), ('Aan Milo Sajna', '1970', 6.5), ('Andaaz', '2003', 5.6), ('Tejasvini', '1994', 6.7), ('Stanley Ka Dabba', '2011', 7.9), ('Yaar Gaddar', '1994', 4.4), ('Style', '2001', 6.7), ('Dongri Ka Raja', '2016', 4.3), ('Sahasam', '2013', 6.6), ('Main Aurr Mrs Khanna', '2009', 3.6), ('LOC: Kargil', '2003', 5.2), ('Sanam Re', '2016', 3.2), ('Gyakusatsu kikan', '2017', 6.4), ('Majboor', '1974', 7.2), ('Major Saab', '1998', 5.3), ('Satte Pe Satta', '1982', 7.2), ('Khatta Meetha', '2010', 5.8), ('Ek Thi Daayan', '2013', 5.7), ('Yeh Saali Zindagi', '2011', 7.5), ('Lekar Hum Deewana Dil', '2014', 4.9), ('Mere Baap Pehle Aap', '2008', 5.3), ('Pyaar Tune Kya Kiya...', '2001', 5.7), ('Aastha: In the Prison of Spring', '1997', 6.4), ('Issaq', '2013', 4.6), ('Fareb', '2005', 4.1), ('Ek Chalis Ki Last Local', '2007', 7.3), ('Rowdy Rathore', '2012', 5.8), ('Iqbal', '2005', 8.1), ('Phas Gaye Re Obama', '2010', 7.5), ('Samraat', '1982', 6.0), ('Zamaana Deewana', '1995', 5.1), ('Ilaaka', '1989', 4.7), ('Dus Kahaniyaan', '2007', 5.8), ('Adhurs', '2010', 6.8), ('Housefull 2', '2012', 5.4), ('Earth', '1998', 7.8), ('Son of Sardaar', '2012', 4.0), ('Amar Akbar Anthony', '1977', 7.5), ('Satta', '2003', 6.9), ('Anita & Me', '2002', 6.5), ('Rann', '2010', 7.0), ('Yeh Lamhe Judaai Ke', '2004', 4.3), ('Kyaa Kool Hai Hum', '2005', 6.1), ('King Uncle', '1993', 5.2), ('Inteqam: The Perfect Game', '2004', 5.4), ('Jai Ho', 'I 2014', 5.3), ('Begum Jaan', '2017', 5.5), ('Shirdi Ke Sai Baba', '1977', 7.0), ('International Khiladi', '1999', 5.0), ('Mahaan', '1983', 6.2), ('Ta Ra Rum Pum', '2007', 5.6), ('Henna', '1991', 6.4), ('New York', '2009', 6.8), ('Mere Yaar Ki Shaadi Hai', '2002', 5.3), ('Phool Aur Patthar', '1966', 6.6), (\"What's Your Raashee?\", '2009', 4.7), ('Yun Hota Toh Kya Hota', '2006', 6.9), ('Hawaa Hawaai', '2014', 7.4), ('Qahar', '1997', 4.0), ('Dushman', '1998', 6.9), ('Aarzoo', '1999', 5.7), ('London Dreams', '2009', 5.4), ('Deewana Mastana', '1997', 6.7), ('Footpath', '2003', 5.4), ('Khoj', '2017', 7.0), ('Aaj Ki Taaza Khabar', '1973', 7.4), ('Shirdi Sai Baba', '2001', 3.5), ('...Yahaan', '2005', 7.5), ('Oh Darling Yeh Hai India', '1995', 4.4), ('Jism', '2003', 5.2), ('Deewana', '1992', 7.0), ('Veer', '2010', 4.7), ('Golmaal: Fun Unlimited', '2006', 7.4), ('Ajab Prem Ki Ghazab Kahani', '2009', 6.3), ('Ghulam', '1998', 7.3), ('Kranti', '2002', 3.8), ('Super Nani', '2014', 4.7), ('Aadmi Khilona Hai', '1993', 5.2), ('31st October', '2015', 5.8), ('Dum Maaro Dum', '2011', 6.2), ('Irandam Ulagam', '2013', 5.8), ('Ghar', '1978', 6.9), ('Dabangg 2', '2012', 4.9), ('Duvvada Jagannadham', '2017', 5.4), ('Hungama', '2003', 7.5), ('Firangi', '2017', 4.7), ('Hum', '1991', 6.9), ('Hawa', '2003', 3.4), ('Jewel Thief', '1967', 7.9), ('Veerey Ki Wedding', '2018', 3.1), ('Ram Aur Shyam', '1967', 7.4), ('Chhota Bheem Himalayan Adventure', '2016', 6.2), ('Rakhta Charitra 2', '2010', 6.4), ('Chhoti Si Baat', '1976', 8.3), ('Inkaar', '2013', 6.1), ('Club 60', '2013', 7.3), ('Hulchul', '2004', 6.9), ('Ghazab', '1982', 6.7), ('Hum Kisi Se Kum Nahin', '2002', 4.4), ('Vijeta', '1996', 4.2), ('Koyla', '1997', 6.3), ('Anjaam', '1994', 7.0), ('Bhoothnath Returns', '2014', 6.8), ('Daai zek lou', '2003', 6.7), ('Jaal: The Trap', '2003', 4.1), ('Rajkumar', '1964', 7.0), ('Dil Tera Aashiq', '1993', 5.1), ('Ittefaq', '1969', 7.4), ('Bhupathi', '2007', 6.6), ('Kudrat', '1981', 7.1), ('Welcome Back', '2015', 4.2), ('Hawaizaada', '2015', 5.6), ('Mausam', '2011', 4.8), ('Meeruthiya Gangsters', '2015', 7.2), ('Main Tulsi Tere Aangan Ki', '1978', 7.1), ('Khhotte Sikkay', '1974', 6.7), ('Yeh Hai Bakrapur', '2014', 3.8), ('Shootout at Lokhandwala', '2007', 7.1), ('Laal Rang', '2016', 8.2), ('Deewane', '2000', 4.7), ('Ankur', '1974', 8.2), ('Do Anjaane', '1976', 6.9), ('Anjaan', '2014', 4.9), ('Ishq', '1997', 6.9), ('Aaj Ka Goonda Raaj', '1992', 5.5), ('Karz: The Burden of Truth', '2002', 3.9), ('Khajoor Pe Atke', '2018', 5.3), ('Jilla', '2014', 6.1), ('Tales of the KamaSutra 2: Monsoon', '1999', 3.7), ('Julie 2', '2017', 2.8), ('Bhoothnath', '2008', 6.3), ('Anokha Bandhan', '1982', 7.2), ('Souten', '1983', 5.6), ('Virasat', '1997', 7.5), ('Vettaiyaadu Vilaiyaadu', '2006', 8.0), ('Qayamat Se Qayamat Tak', '1988', 7.6), ('Sin-ui hansu', '2014', 6.7), ('Ishqiya', '2010', 7.3), ('Game', 'I 2011', 5.1), ('Doosara Aadmi', '1977', 6.8), ('Ranchi Diaries', '2017', 7.2), ('London Paris New York', '2012', 5.7), ('Agyaat', '2009', 2.9), ('Namak Haraam', '1973', 7.3), ('Lal Patthar', '1971', 6.8), ('Hera Pheri', '1976', 6.9), ('Adventures of Tarzan', '1985', 5.3), ('Raincoat', '2004', 7.6), ('Chandra Mukhi', '1993', 3.9), ('Netaji Subhas Chandra Bose: The Forgotten Hero', '2005', 7.5), ('Izzatdaar', '1990', 5.3), ('Banarasi Babu', '1997', 4.5), ('Woh Lamhe', '2006', 6.7), ('13B: Fear Has a New Address', '2009', 7.2), ('Shree 420', '1955', 8.1), ('Kuch Naa Kaho', '2003', 5.5), ('Mounam Pesiyadhe', '2002', 7.7), ('Ijaazat', '1987', 8.3), ('Yeh Dil', '2003', 4.2), ('Dilwaala', '1986', 3.7), ('Mr Joe B. Carvalho', '2014', 3.7), ('Madhumati', '1958', 8.1), ('Journey Bombay to Goa: Laughter Unlimited', '2007', 4.4), ('Sri Siddhartha Gautama', '2013', 7.1), ('Teesri Manzil', '1966', 7.7), ('Devar', '1966', 7.4), ('Hazaaron Khwaishein Aisi', '2003', 8.0), ('Chance Pe Dance', '2010', 4.7), ('Aiyyaa', '2012', 4.4), ('Raag Desh', '2017', 8.2), ('Divya Shakti', '1993', 4.0), ('Mehboob Ki Mehndi', '1971', 7.1), ('Dil Kya Kare', '1999', 5.2), ('Dulha Mil Gaya', '2010', 4.4), ('Barsaat', '1949', 7.9), ('Waqt', '1965', 7.8), ('Wajood', '1998', 6.8), ('Kalicharan', '1976', 6.6), ('Wajah Tum Ho', '2016', 4.4), ('Dhadkan', '2000', 6.8), ('Hadh Kar Di Aapne', '2000', 5.3), ('Hum Tum Aur Ghost', '2010', 4.8), ('Teen Aur Aadha', '2018', 8.4), ('Khelein Hum Jee Jaan Sey', '2010', 5.9), ('Prem Pratigyaa', '1989', 5.9), ('The Deceivers', '1988', 6.1), ('Kaalo', '2010', 3.1), ('Refugee', '2000', 5.5), ('Samay: When Time Strikes', '2003', 6.9), ('Jhootha Hi Sahi', '2010', 6.2), ('Woh Kaun Thi?', '1964', 7.7), ('Tu Chor Main Sipahi', '1996', 5.5), ('Yamla Pagla Deewana', '2011', 5.7), ('City of Life', '2009', 7.1), ('Hey Bro', '2015', 4.8), ('Saala Khadoos', '2016', 7.6), ('Gadar: Ek Prem Katha', '2001', 7.1), ('Golmaal 3', '2010', 5.4), ('Khuda Gawah', '1992', 6.6), ('Nanak Shah Fakir', '2014', 8.8), ('Ungli', '2014', 5.8), ('Police Force: An Inside Story', '2004', 5.2), ('Pretty Polly', '1967', 6.7), ('I Am', 'II 2010', 7.0), ('Tumsa Nahin Dekha', '2004', 4.7), ('Jangal Mein Mangal', '1972', 6.9), ('Jagte Raho', '1956', 8.4), ('Bombay to Goa', '1972', 6.9), ('Superman', '1987', 4.2), ('Gunga Jumna', '1961', 7.6), ('Vaada Raha... I Promise', '2009', 6.1), ('The Dark Side of Life: Mumbai City', '2018', 8.2), ('The Legend of Bhagat Singh', '2002', 8.1), ('Miss Lovely', '2012', 6.6), ('Judwaa', '1997', 6.0), ('Daava', '1997', 5.3), ('Gippi', '2013', 5.6), ('Total Siyapaa', '2014', 5.0), ('99', 'I 2009', 7.3), ('Rakhta Charitra', '2010', 7.6), ('Alag: He Is Different.... He Is Alone...', '2006', 4.1), ('Saaya', '2003', 5.8), ('Kal Kissne Dekha', '2009', 3.6), ('Tamanna', '1998', 7.1), ('Dum', '2003', 5.6), ('Mickey Virus', '2013', 6.1), ('Samrat & Co.', '2014', 6.4), ('All Is Well', '2015', 3.8), ('Mela', '2000', 3.8), ('Khiladi 786', '2012', 4.4), ('Gauru: Journey of Courage', '2016', 8.8), ('I, Me aur Main', '2013', 4.6), ('Ek Ladka Ek Ladki', '1992', 5.8), ('Deadline: Sirf 24 Ghante', '2006', 6.4), ('Sahib Bibi Aur Ghulam', '1962', 8.4), ('Veerana', '1988', 6.7), ('Jazbaa', '2015', 5.8), ('Azhar', '2016', 5.8), ('Tauba Tauba', '2004', 2.7), ('Krodh', '2000', 4.3), ('Chori Chori', '2003', 4.9), ('Keemat: They Are Back', '1998', 6.1), ('Yalgaar', '1992', 5.4), ('Zubaan', '2015', 6.2), ('Baarish Aur Chowmein', '2018', 6.8), ('Golmaal Returns', '2008', 5.0), ('Chalo Ishq Ladaaye', '2002', 4.4), ('Pehchaan', '1993', 4.5), ('Do Raaste', '1969', 7.0), ('Avtaar', '1983', 7.2), ('Taqdeerwala', '1995', 6.6), ('Mera Saaya', '1966', 7.7), ('Phir Milenge', '2004', 6.2), ('1971', '2007', 8.0), ('Jai Vikraanta', '1995', 5.4), ('Khakee', '2004', 7.5), ('Autohead', '2016', 6.1), ('Jattu Engineer', '2017', 6.2), ('Saagar', '1985', 7.2), ('Dirty Politics', '2015', 2.6), ('God Tussi Great Ho', '2008', 3.6), ('Sanam', '1997', 4.9), ('Dil Vil Pyar Vyar', '2002', 5.3), ('Golimar', '2010', 5.9), ('Chalti Ka Naam Gaadi', '1958', 8.0), ('Shagird', '2011', 7.0), ('Boss', 'I 2013', 5.5), ('Hero No. 1', '1997', 6.1), ('Partner', '2007', 5.7), ('Mission Istaanbul: Darr Ke Aagey Jeet Hai!', '2008', 3.4), ('Budhia Singh: Born to Run', '2016', 7.8), ('Khamoshiyan', '2015', 4.1), ('Aksar 2', '2017', 4.1), ('Murder 3', '2013', 4.9), ('Parinda', '1989', 7.9), ('Karthik Calling Karthik', '2010', 7.0), ('Xcuse Me', '2003', 5.7), ('Kashmir Ki Kali', '1964', 7.1), ('Khandan', '1965', 6.8), ('Paap Ki Duniya', '1988', 5.7), ('Shor in the City', '2010', 7.3), ('Fida', '2004', 5.4), (\"Trip to Bhangarh: Asia's Most Haunted Place\", '2014', 2.6), ('Lafangey Parindey', '2010', 5.3), ('Kisaan', '2009', 5.5), ('Insaniyat', '1994', 3.3), ('Bangistan', '2015', 4.6), ('Ek Doctor Ki Maut', '1990', 8.4), ('Cash', '2007', 3.5), ('Khuddar', '1994', 5.3), ('Not a Love Story', '2011', 5.0), ('Angaaray', '1998', 5.9), ('Sanam Teri Kasam', '2009', 5.1), ('Fugly', '2014', 4.7), ('Jodi', '1999', 6.2), ('Yeh Vaada Raha', '1982', 7.1), ('Bombay Boys', '1998', 6.9), ('Bhagam Bhag', '2006', 6.4), ('Eklavya', '2007', 6.2), ('Main Prem Ki Diwani Hoon', '2003', 4.0), (\"It's Entertainment\", '2014', 4.7), ('Shuddh Desi Romance', '2013', 5.8), ('Jackpot', 'II 2013', 2.2), ('Tadipaar', '1993', 6.0), ('Jurm', '2005', 5.6), ('Mausam', '1975', 8.1), ('Ishq Forever', '2016', 3.9), ('Dacait', '1987', 6.7), ('100 Days', '1991', 6.5), ('Snegithiye', '2000', 6.8), ('David', 'I 2013', 6.3), ('Kasoor', '2001', 6.1), ('Bees Saal Baad', '1962', 7.1), ('Always Kabhi Kabhi', '2011', 4.3), ('Suraj', '1966', 7.2), ('Running Shaadi', '2017', 6.8), ('Phata Poster Nikhla Hero', '2013', 4.9), ('Mr. X', '2015', 3.8), ('Chillar Party', '2011', 7.5), ('Mere Dad Ki Maruti', '2013', 6.5), ('Apaharan', '2005', 7.4), ('Bhoot Returns', '2012', 2.5), ('The Train: Some Lines Should Never Be Crossed...', '2007', 4.3), ('Athidhi', '2007', 5.7), ('Ravan Raaj: A True Story', '1995', 7.3), ('Jodi No.1', '2001', 5.9), ('Ghayal', '1990', 7.7), ('Yamla Pagla Deewana 2', '2013', 3.5), ('Amazon Obhijaan', '2017', 5.0), ('Johnny', '1980', 7.3), ('Rudraksh', '2004', 2.7), ('Patthar Ke Phool', '1991', 5.7), ('The Killer', '2006', 4.6), ('Ragini MMS', '2011', 5.0), ('Tashan', '2008', 3.9), ('Gangaajal', '2003', 7.9), ('Khubsoorat', '1980', 7.7), ('Aks', '2001', 5.9), ('Jaal', '1986', 5.7), ('Ek Ajnabee', '2005', 5.3), ('Milenge Milenge', '2010', 4.1), ('Raaj Tilak', '1984', 6.7), ('Duniya', '1984', 7.0), ('Guddu', '1995', 4.5), ('Sultanat', '2014', 6.3), ('Sunday', 'I 2008', 5.3), ('Shiva', '1989', 8.1), ('Pratiggya', '1975', 7.3), ('Khamosh', '1986', 7.5), ('Money Hai Toh Honey Hai', '2008', 2.8), ('Hattrick', '2007', 4.2), ('Jannat 2', '2012', 6.1), ('Puli', '2015', 4.7), ('Chachi 420', '1997', 7.4), ('Ram Jaane', '1995', 5.5), ('Veeram', '2017', 6.8), ('Kyun! Ho Gaya Na...', '2004', 4.3), ('Vikram', 'I 1986', 7.3), ('Corporate', '2006', 6.5), ('Dil Aashna Hai ...The Heart Knows', '1992', 5.1), ('Gunaah', '2002', 3.4), ('Pyari Behna', '1985', 6.6), ('Mr. and Mrs. Iyer', '2002', 8.0), ('Phörpa', '1999', 6.9), ('Kabul Express', '2006', 6.8), ('Jeete Hain Shaan Se', '1988', 4.7), ('Brahmachari', 'I 1968', 6.9), ('Gulaab Gang', '2014', 6.1), ('Guddi', '1971', 7.4), ('Jaanwar', '1999', 6.3), ('Raaz Reboot', '2016', 4.5), ('Tera Intezaar', '2017', 1.7), ('Arjun: The Warrior Prince', '2012', 6.9), ('Yeh Raaste Hain Pyaar Ke', '2001', 4.1), ('Rahul', '2001', 5.4), ('Boot Polish', '1954', 8.1), ('Wedding Anniversary', 'I 2017', 5.4), ('Shatranj', '1993', 6.5), ('Shortkut - The Con Is On', '2009', 3.4), ('Days of Tafree', '2016', 7.7), ('Bhouri', '2016', 6.9), ('Mann', '1999', 6.3), ('Julie', '2004', 4.2), ('Santa Banta Pvt Ltd', '2016', 3.0), ('Rudaali', '1993', 7.2), ('Madurey', '2004', 4.6), ('Mumbai Delhi Mumbai', '2014', 5.9), ('Pehla Nasha', '1993', 5.2), ('Jolly LLB', '2013', 7.5), ('Maine Pyaar Kyun Kiya', '2005', 5.6), ('Patiala House', '2011', 5.9), ('Taal', '1999', 6.8), ('Jhankaar Beats', '2003', 7.2), ('Kaanchi', '2014', 4.5), ('Chal Mere Bhai', '2000', 4.7), ('Desh Premee', '1982', 6.0), ('Department', '2012', 3.3), ('Machhli Jal Ki Rani Hai', '2014', 4.3), ('Pinjar: Beyond Boundaries...', '2003', 8.1), ('Thanedaar', '1990', 5.7), ('Hide & Seek', '2010', 4.1), ('Kondaveeti Raja', '1986', 7.1), ('Zakhmi Dil', '1994', 5.2), ('7 Aum Arivu', '2011', 6.1), ('S/O Satyamurthy', '2015', 6.8), ('Ab Tumhare Hawale Watan Saathiyo', '2004', 4.8), ('Akele Hum Akele Tum', '1995', 7.1), ('Balu Mahi', '2017', 6.6), ('Jail', '2009', 6.2), ('Student No. 1', '2001', 6.8), ('Anji', '2004', 5.7), ('Shaapit: The Cursed', '2010', 5.6), ('Hawas', '2004', 2.7), ('Pyaar Koi Khel Nahin', '1999', 3.4), ('Kadhalar Dinam', '1999', 6.2), ('Mahaanta: The Film', '1997', 4.6), ('Zakhm', '1998', 8.0), ('36 China Town', '2006', 5.6), ('Amal', '2007', 7.6), ('Chandni Bar', '2001', 7.6), ('Janbaaz', '1986', 6.2), ('Ram Balram', 'I 1980', 6.4), ('Chhota Chetan', '1998', 5.8), ('Amit Sahni Ki List', '2014', 5.5), ('Ankush', '1986', 7.6), ('Halla Bol', '2008', 6.1), ('Poster Boys', '2017', 5.6), ('Raju Chacha', '2000', 5.1), ('Masterji', '1985', 6.6), ('Farz', '1967', 6.4), ('Jungle', '2000', 6.2), ('Baazi', '1984', 6.4), ('I See You', '2006', 4.3), ('Shab', '2017', 4.4), ('Ferrari Ki Sawaari', '2012', 6.4), ('Anth', '1994', 5.5), ('Watan Ke Rakhwale', '1987', 6.1), ('Darna Mana Hai', '2003', 6.3), ('Do Knot Disturb', '2009', 3.7), ('Kareeb', '1998', 6.6), ('Raakh', '1989', 7.7), ('Naina', '2005', 4.3), ('Humse Badhkar Kaun: The Entertainer', '1998', 3.9), ('Platform', '1993', 3.9), ('Rishtey', '2002', 4.6), ('Tere Bin Laden: Dead Or Alive', '2016', 4.3), ('Parampara', '1993', 5.9), ('Luck', 'I 2009', 4.8), ('Maya', '1993', 5.7), ('Chaalbaaz', '1989', 6.8), ('Tum Bin 2', '2016', 4.9), ('Yaariyan', '2014', 2.7), ('Baazi', '1951', 7.4), ('Makdee', '2002', 7.4), ('Chingaari', '2006', 4.6), ('Paap', '2003', 5.2), ('The Xpose', '2014', 3.3), ('Bheja Fry', '2007', 7.7), ('Taxi No. 9 2 11: Nau Do Gyarah', '2006', 7.2), ('Yeh Zindagi Ka Safar', '2001', 3.3), ('Dil Pardesi Ho Gayaa', '2003', 4.8), ('Darwaza', '1978', 5.9), ('Baton Baton Mein', '1979', 7.6), ('The Burning Train', '1980', 6.8), ('Bewafaa', '2005', 4.6), ('Dil Hai Ki Manta Nahin', '1991', 7.4), ('Soni', '2018', 7.7), ('Prem Rog', '1982', 7.2), ('Peepli Live', '2010', 7.4), ('Pyar Ka Mandir', '1988', 6.5), ('The Warrior', '2001', 6.8), ('Aatma', '2013', 3.7), ('Revolver Rani', '2014', 4.8), ('Ek Chhotisi Love Story', '2002', 2.9), ('Rajput', '1982', 6.5), ('Super Model', '2013', 2.0), ('Amrapali', '1966', 6.7), ('Aap Ki Kasam', '1974', 7.0), ('Disco Dancer', '1982', 6.4), ('Chaahat', '1996', 5.6), ('Kammatti Paadam', '2016', 8.1), ('Uvaa', '2015', 5.0), ('Mumbai 125 KM 3D', '2014', 2.8), ('Dhokha', '2007', 6.3), ('Teesra Kaun?', '1994', 5.4), ('Teree Sang: A Kidult Love Story', '2009', 6.2), ('Barsaat Ki Raat', '1960', 7.0), ('Yakeen', '2005', 5.2), ('Main, Meri Patni... Aur Woh!', '2005', 7.3), ('Karam', '2005', 5.6), ('Dillagi', '1999', 5.4), ('Indrajeet', '1991', 4.7), ('Dharmatma', '1975', 6.7), ('Mamta', '1966', 7.2), ('Dor', '2006', 8.0), ('Khilona', '1970', 7.2), ('Rough Book', '2016', 7.5), ('III Smoking Barrels', '2017', 8.7), ('Chatrapathi', '2005', 7.6), ('Dil Bole Hadippa!', '2009', 4.6), ('Jannat: In Search of Heaven...', '2008', 6.9), ('Apoorva Sagodharargal', '1989', 8.3), ('Krodhi', '1981', 6.6), ('Yeh Hai Jalwa', '2002', 4.8), ('Thammudu', '1999', 7.8), ('Jurm', '1990', 6.2), ('Hotel', '1981', 6.0), ('Desh Drohi', '2008', 1.8), ('Footsteps in the Dark', '1941', 6.9), ('Shastra', '1996', 5.0), ('The Shaukeens', '2014', 5.2), ('The Great New Wonderful', '2005', 5.7), ('Darna Zaroori Hai', '2006', 5.4), ('Dharti', '2011', 7.2), ('Dil Tera Diwana', '1996', 5.1), ('Mangalashtak Once More', '2013', 7.0), ('Mahakaal', '1993', 4.5), ('Hote Hote Pyar Hogaya', '1999', 5.2), ('Nanhe Jaisalmer: A Dream Come True', '2007', 6.1), ('Guddu Ki Gun', '2015', 4.8), ('Naam', '1986', 7.7), ('Baabarr', '2009', 5.1), ('Jawani Diwani', '1972', 7.0), ('Pitaah', '2002', 6.5), ('Naajayaz', '1995', 5.6), ('Prem Geet', '1981', 7.8), ('Darr @ the Mall', '2014', 5.0), ('Laali Ki Shaadi Mein Laaddoo Deewana', '2017', 5.2), ('Criminal', '1995', 5.7), ('Khoj', '1989', 7.1), ('Gemini', '2002', 6.1), ('Parvarish', '1977', 7.0), ('Gharwali Baharwali', '1998', 4.5), ('Hum Hain Rahi Pyar Ke', '1993', 7.4), ('Ajooba', '1991', 5.2), ('Sehar', '2005', 7.8), ('Gallit Gondhal, Dillit Mujra', '2009', 7.5), ('Naam Gum Jaayega', '2005', 5.9), ('Daayraa', '1996', 7.2), ('Bezubaan Ishq', '2015', 4.1), ('Daulat Ki Jung', '1992', 6.0), ('Zokkomon', '2011', 4.2), ('Isi Life Mein...!', '2010', 5.8), ('Amrit', '1986', 6.8), ('Gaddaar', '1995', 4.3), ('23rd March 1931: Shaheed', '2002', 5.1), ('Aagey Se Right', '2009', 5.1), ('Krishna Cottage', '2004', 5.1), ('Ram-Avtar', '1988', 4.5), ('Salaakhen', '1998', 5.3), ('Pyaar Ishq Aur Mohabbat', '2001', 4.1), ('Fight Club: Members Only', '2006', 3.3), ('Jodi Breakers', '2012', 3.5), ('Jis Desh Men Ganga Behti Hai', '1960', 7.4), ('Lakshmi', '2014', 8.1), ('Aa Gaya Hero', '2017', 3.7), ('Shaan', '1980', 7.1), ('Gori Tere Pyaar Mein!', '2013', 5.0), ('Veerappan', '2016', 5.2), ('Chakravyuh', '2012', 6.9), ('Dhaai Akshar Prem Ke', '2000', 3.8), ('Chori Chori', '1956', 7.8), ('Plan', '2004', 4.3), ('Periyanna', '1999', 4.4), ('Dil Hai Betaab', '1993', 4.6), ('Masoom', '1996', 6.0), ('Amanush', '1975', 6.9), ('Yeh Mohabbat Hai', '2002', 5.4), ('Arpan', '1983', 6.2), ('Subedar Joginder Singh', '2018', 7.5), ('Bhaag Johnny', '2015', 5.1), ('Heer Raanjha', '1970', 7.0), ('Fuddu', '2016', 5.6), ('Naya Daur', '1957', 8.1), ('Papa Kahte Hain', '1996', 5.1), ('Chhupa Rustam: A Musical Thriller', '2001', 4.4), ('Samarasimha Reddy', '1999', 7.1), ('Valley of Flowers', '2006', 7.0), ('Roti', '1974', 6.9), ('Vedi', '2011', 3.7), ('Khuda Kasam', '2010', 4.0), ('Mr. Azaad', '1994', 4.1), ('Jaanam Samjha Karo', '1999', 4.9), ('Satya 2', '2013', 6.0), ('Policegiri', '2013', 4.1), ('Awaara', '1951', 8.0), ('Dilwale', '1994', 5.6), ('Chaar Sahibzaade', '2014', 8.3), ('Raaz 3: The Third Dimension', '2012', 4.0), ('Raja Babu', '1994', 6.4), ('Zila Ghaziabad', '2013', 3.6), ('Yeshwant', '1997', 7.3), ('Aakrosh', '1980', 8.0), ('Joru Ka Ghulam', '2000', 5.1), ('Koshish', '1972', 8.7), ('Satyamev Jayate', '1987', 7.1), ('Pukar', '1983', 6.2), ('Hey Ram Hamne Gandhi Ko maar Diya', '2018', 8.3), ('Ashaant', '1993', 6.3), ('Sansar', '1987', 7.0), ('Once Upon a Time in Mumbai Dobaara!', '2013', 4.8), ('Sharaabi', '1984', 7.4), ('Anjali', '1990', 8.3), ('Youngistaan', '2014', 5.2), ('Phir Se...', '2018', 5.8), ('Aashiq', '2001', 3.9), ('The Pool', 'I 2007', 7.0), ('Agni Sakshi', '1996', 6.1), ('Vaalee', '1999', 7.9), ('Khan kluay', '2006', 6.2), ('Apartment: Rent at Your Own Risk', '2010', 3.4), ('Thamizhan', '2002', 5.4), ('Aag', '1994', 4.8), ('Hello', 'II 2008', 3.4), ('Coolie', 'I 1983', 6.7), ('Dharam Kanta', '1982', 6.3), ('Ab Tak Chhappan 2', '2015', 5.8), ('Zindagi 50 50', '2013', 2.8), (\"Deewaar: Let's Bring Our Heroes Home\", '2004', 6.2), ('My Friend Ganesha', '2007', 4.9), ('I.D.', '2012', 6.9), ('Vansh', '1992', 6.1), ('Kohram', '1999', 5.4), ('Tezaab', '1988', 7.0), ('Maatr', '2017', 4.4), ('No Problem', 'I 2010', 4.2), ('Aankhen', '1993', 6.7), ('Dil Hai Tumhaara', '2002', 5.4), ('Kyaa Super Kool Hain Hum', '2012', 5.0), ('Karamati Coat', '1993', 7.9), ('Naqaab', '2007', 5.4), ('Mumbai Se Aaya Mera Dost', '2003', 3.4), ('Maharathi', '2008', 7.2), ('Train Station', 'I 2015', 6.0), ('Professor', '1962', 7.0), ('Roadside Romeo', '2008', 5.3), ('The Wishing Tree', '2017', 5.7), ('Gang of Ghosts', '2014', 3.7), ('Aa Dekhen Zara', '2009', 5.1), ('Singam 2', '2013', 6.3), ('LIE', '2017', 5.9), ('404: Error Not Found', '2011', 7.2), ('Tahkhana', '1986', 5.2), ('Masoom', '1983', 8.5), ('Aashiqui', '1990', 6.3), ('Waqt Ki Awaz', '1988', 6.5), ('The Last Lear', '2007', 7.1), ('Jajantaram Mamantaram', '2003', 5.7), ('Mirch Masala', '1987', 7.8), ('Saraswatichandra', '1968', 6.5), ('MSG: The Messenger of God', '2015', 6.7), ('Pyar Ka Devta', '1990', 4.8), ('Saaransh', '1984', 8.2), ('Ghulami', '1985', 7.1), ('Punjab 1984', '2014', 8.5), ('ROAR: Tigers of the Sundarbans', '2014', 5.7), ('Kabhie Kabhie', '1976', 7.5), ('Besharam', '2013', 3.6), ('Yuvvraaj', '2008', 4.2), ('Hanuman', '2005', 7.1), ('Maanikya', '2014', 6.5), ('6-5=2', '2014', 4.8), ('Crash Test Aglaé', '2017', 6.5), ('Ardh Satya', '1983', 8.2), ('Sheshnaag', '1990', 4.8), ('Kyo Kii... Main Jhuth Nahin Bolta', '2001', 5.3), ('Bas Ek Pal', '2006', 5.9), ('Guddu Rangeela', '2015', 5.3), ('Jia aur Jia', '2017', 4.9), ('Winner', '2003', 6.3), ('Lajja', '2001', 6.8), ('Zeher', '2005', 5.4), ('Hero', 'V 2015', 3.7), ('Yeh Dillagi', '1994', 6.6), ('Bunty Aur Babli', '2005', 6.2), ('Hum Tum Pe Marte Hain', '1999', 5.3), ('Azaad', '1978', 7.2), ('Hawayein', '2003', 6.0), ('Agni Varsha', '2002', 4.9), ('Bemisal', '1982', 7.1), ('Jal', '2013', 6.7), ('The Domino Effect', '2012', 6.2), ('Aatank Hi Aatank', '1995', 5.5), ('Loafer', '1996', 5.1), ('Masti', '2004', 6.2), ('Zubeidaa', '2001', 6.2), ('Michael Madana Kamarajan', '1990', 8.5), ('Raja Jani', '1972', 6.8), ('Thikka', '2016', 5.3), ('Hero Hindustani', '1998', 4.9), ('Honeymoon Travels Pvt. Ltd.', '2007', 6.1), ('Shuddhi', '2017', 8.0), ('Yateem', '1988', 6.3), ('Barah Aana', '2009', 6.9), ('Pehla Pehla Pyar', '1994', 5.0), ('Dev', '2004', 7.0), ('Bahurani', '1989', 6.7), ('Hathyar: Face to Face with Reality', '2002', 5.8), ('Majunu', '2001', 5.4), ('Khiladi 420', '2000', 5.6), ('My Birthday Song', '2018', 5.5), ('Vaah! Life Ho Toh Aisi!', '2005', 4.4), ('Betaab', '1983', 6.7), ('Aaina', '1993', 6.0), ('Gair', '1999', 3.7), ('Mantostaan', '2016', 6.1), ('Monsoon', 'I 2015', 3.4), ('Saath Saath', '1982', 7.1), ('Cape Karma', '2007', 4.5), ('Paying Guests', '2009', 4.2), ('1920', '2008', 6.4), ('Calendar Girls', '2015', 4.2), ('Musafir', '2004', 5.5), ('Hatya: The Murder', '2004', 5.3), ('Ishkq in Paris', '2013', 4.1), ('Mujhe Kucch Kehna Hai', '2001', 5.1), ('Ramana', 'I 2002', 8.1), ('Do Gaz Zameen Ke Neeche', '1972', 6.3), ('Khel', '1992', 6.4), ('Haasil', '2003', 7.7), ('Lekin...', '1990', 7.5), ('Yaan', '2014', 3.5), ('8 x 10 Tasveer', '2009', 5.9), ('Zid', '2014', 4.4), ('Shakthi: The Power', '2002', 6.1), ('F.A.L.T.U', '2011', 4.6), ('Khiladi', '1992', 7.4), ('Kitne Door... Kitne Paas', '2002', 4.6), ('Tom, Dick, and Harry', '2006', 3.2), ('Sullan', '2004', 3.1), ('Shivamani', '2003', 6.3), ('Insaaf: The Justice', '2004', 3.9), ('Bajatey Raho', '2013', 5.4), ('Love in Tokyo', '1966', 6.8), ('Deedar', '1951', 7.4), ('Deedar', '1992', 5.1), ('Vaada', '2005', 5.7), ('Nazrana', '1987', 6.3), ('Madhoshi', '2004', 4.7), ('Vijay', '1988', 5.6), ('Agar Tum Na Hote', '1983', 6.6), ('Khud-Daar', '1982', 7.0), ('Shortcut Romeo', '2013', 2.7), ('Insaf Ka Tarazu', '1980', 6.7), ('Nastik', '1983', 5.6), ('Sandwich', '2006', 5.5), ('Muthu', '1995', 7.5), ('Double Dhamaal', '2011', 3.8), ('Deewane Huye Paagal', '2005', 5.4), ('Ab Tak Chhappan', '2004', 7.9), ('Mandi', '1983', 7.6), ('Khoya Khoya Chand', '2007', 6.4), ('Andaz', '1994', 4.4), ('Deewana Mujh Sa Nahin', '1990', 6.0), ('Mere Mehboob', '1963', 7.1), ('Woh 7 Din', '1983', 7.6), ('Ajanabee', '1974', 6.7), ('Red Swastik', '2007', 2.8), ('Inteqam', '1988', 5.5), ('Enemmy', '2013', 5.2), ('Garm Hava', '1974', 8.2), ('Dilliwaali Zaalim Girlfriend', '2015', 3.8), ('Dear Maya', '2017', 5.0), ('Hum Ho Gaye Aap Ke', '2001', 4.1), ('Ramji Londonwaley', '2005', 6.8), ('Dil Maange More!!!', '2004', 5.2), ('Om Jai Jagadish', '2002', 5.6), ('Tum Milo Toh Sahi', '2010', 5.8), ('Khatta Meetha', '1978', 7.6), ('Naaraaz', '1994', 6.1), ('My Friend Pinto', '2011', 5.3), ('Hijack', '2008', 3.7), ('China Town', '1962', 6.9), ('Naksha', '2006', 3.1), ('Damini', '1993', 7.9), ('Rakshak', '1996', 4.7), ('Waqt: The Race Against Time', '2005', 7.0), ('Bhoot', '2003', 6.4), ('Dil', '1990', 6.8), ('Raaz: The Mystery Continues', '2009', 5.7), ('Kyon Ki...', '2005', 5.5), ('Get Educated: Paathshaala', '2010', 4.9), ('Tridev', '1989', 6.3), ('Saajan Ka Ghar', '1994', 5.1), ('Bajrangbali', '1976', 8.2), ('Barkhaa', '2015', 5.2), ('Fox', 'I 2009', 5.4), ('Dharam Sankat Mein', '2015', 6.3), ('Vishwatma', '1992', 6.5), ('One 2 Ka 4', '2001', 5.5), ('Purana Mandir', '1984', 6.5), ('Dev Bhoomi', '2016', 7.2), ('Pardesi Babu', '1998', 5.1), ('Charas', '1976', 6.6), ('Shoot on Sight', '2007', 6.1), ('Aaghaaz', '2000', 4.4), ('Aap Aye Bahaar Ayee', '1971', 6.7), ('Sindoor', '1987', 5.6), ('Wah Taj', '2016', 6.2), ('Pinjra', '1972', 7.6), ('Cheetah', '1994', 6.1), ('Road', '2002', 5.6), ('Afsana Pyar Ka', '1991', 6.2), ('Janasheen', '2003', 3.1), ('Auzaar', '1997', 4.6), ('Aap Ki Khatir', '2006', 3.6), ('Jhoom Barabar Jhoom', '2007', 3.8), ('Bobby', '1973', 7.1), ('Coolie No. 1', '1995', 6.2), ('Taarzan: The Wonder Car', '2004', 4.4), ('Laaga Chunari Mein Daag: Journey of a Woman', '2007', 5.4), ('Saudagar', '1991', 6.8), ('Pyaar Kiya To Darna Kya', '1998', 6.7), ('Shakespeare-Wallah', '1965', 6.9), ('Phoonk', '2008', 3.9), ('Andaz', '1971', 6.8), ('Aashayein', '2010', 7.2), ('Lootere', '1993', 5.3), ('Kamaal Dhamaal Malamaal', '2012', 4.2), ('Priyamanavale', '2000', 7.0), ('MSG the Warrior: Lion Heart', '2016', 7.6), ('Kucch To Hai', '2003', 4.3), ('Nishant', '1975', 7.7), ('Chemmeen', '1965', 7.8), ('Blackmail', '2005', 4.3), ('Manoranjan', '1974', 6.8), ('Swayamvar', '1980', 7.5), ('Neel Kamal', '1968', 6.9), ('Khamoshi', '1970', 7.8), ('Kal Aaj Aur Kal', '1971', 6.9), ('Aa Gale Lag Jaa', '1994', 5.0), ('Chashme Buddoor', '1981', 8.0), ('Alam Ara', '1931', 7.4), ('Taj Mahal: An Eternal Love Story', '2005', 5.0), ('Parwana', '1971', 6.9), ('Humko Deewana Kar Gaye', '2006', 5.4), ('Parineeta', '2005', 7.3), ('Yes Boss', '1997', 6.9), ('Nagin', '1976', 6.2), ('Poorna', '2017', 7.8), ('Not Today', '2013', 5.6), ('Bobby Jasoos', '2014', 5.4), ('Nandha', '2001', 7.6), ('Jeena Isi Ka Naam Hai', 'I 2017', 5.5), ('Lahoo Ke Do Rang', '1997', 5.2), ('Samundar', '1986', 5.4), ('Sparsh', '1980', 8.2), ('Love Ke Liye Kuch Bhi Karega', '2001', 6.1), ('Kabuliwala', '1961', 7.6), ('Tere Ghar Ke Samne', '1963', 7.4), ('Sameer', '2017', 5.8), ('Patthar Ke Sanam', '1967', 6.9), ('Ajnabee', '2001', 6.5), ('Bbuddah... Hoga Terra Baap', '2011', 5.6), ('Zanjeer', '1973', 7.6), ('Traffic Signal', '2007', 6.6), ('T for Taj Mahal', '2018', 9.3), ('Y.M.I. Yeh Mera India', '2008', 7.8), ('Dharam Karam', '1975', 5.9), ('The Violin Player', '2016', 6.9), ('Rokkk', '2010', 4.5), ('Purab Aur Pachhim', '1970', 7.5), ('Mr Ya Miss', '2005', 3.7), ('Main Aisa Hi Hoon', '2005', 4.8), ('Mujhse Fraaandship Karoge', '2011', 6.9), ('Kya Kehna', '2000', 5.9), ('Gupt: The Hidden Truth', '1997', 7.3), ('Alibaba Aur 40 Chor', '1980', 6.2), ('Khoon Pasina', '1977', 6.2), ('Dahan', '1998', 6.9), ('Teesri Kasam', '1966', 8.0), ('Talash', '1969', 6.8), ('Kalaakaar', '1983', 6.2), ('Saare Jahaan Se Mehnga...', '2013', 7.1), ('Ek Tha Raja', '1996', 4.4), ('Kishen Kanhaiya', '1990', 6.0), ('Hyderabad Nawabs', '2006', 7.2), ('Ram Lakhan', '1989', 6.9), ('Deha', '2007', 6.9), ('Pukar', '2000', 6.8), ('Devdas', '1955', 8.0), ('Tevar', '2015', 4.2), ('Mere Jeevan Saathi', '1972', 7.0), ('Sardar', '1993', 7.9), ('Chor Machaaye Shor', '2002', 4.2), ('Jab Pyar Kisise Hota Hai', '1961', 7.2), ('Gardish', '1993', 7.4), ('Sniff!!!', '2017', 5.9), ('No Entry', '2005', 6.6), ('Atithi Tum Kab Jaoge?', '2010', 6.4), ('Banjo', '2016', 5.1), ('Jung', '2000', 4.3), ('Prince', '1969', 7.2), ('Kadhal Sadugudu', '2003', 6.1), ('Jheel Ke Us Paar', '1973', 7.2), ('Naya Zamana', '1971', 7.0), ('Desi Kattey', '2014', 4.3), ('Lamhaa: The Untold Story of Kashmir', '2010', 5.1), ('Hum Hain Bemisaal', '1994', 5.8), ('Takkar', '1995', 4.6), ('Yudh', '1985', 6.1), ('Moh Maya Money', '2016', 5.7), ('Allari Pidugu', '2005', 2.8), ('Benaam Badsha', '1991', 5.0), ('Sur: The Melody of Life', '2002', 6.5), ('Singh Saab the Great', '2013', 5.8), ('Daawat-e-Ishq', '2014', 6.2), ('Aradhana', '1969', 7.7), ('Ram Teri Ganga Maili', '1985', 6.7), ('Aakhir Kyon?', '1985', 6.7), ('Shagird', '1967', 7.2), ('Chura Liyaa Hai Tumne', '2003', 3.8), ('Bachchan', '2013', 6.6), ('Sir', '1993', 6.3), ('Red Rose', '1980', 6.3), ('Tarkieb', '2000', 4.9), ('Aah', '1953', 7.1), ('Sainikudu', '2006', 5.2), ('Hyderabad Blues', '1998', 7.2), ('Kalyug', '1981', 7.8), ('Abdullah', '1980', 6.5), ('Waisa Bhi Hota Hai Part II', '2003', 7.3), ('Pyar Ka Mausam', '1969', 6.9), ('Bewaffa Se Waffa', '1992', 5.1), ('Rama Rama Kya Hai Dramaaa', '2008', 4.0), ('Prince', '2010', 4.2), ('All the Best: Fun Begins', '2009', 6.1), ('Jaagruti', '1993', 3.5), ('Andaz', '1949', 7.4), ('I Love New Year', '2015', 3.9), ('Vishnuvardhana', '2011', 7.2), ('Phullu', '2017', 6.0), ('Krazzy 4', '2008', 4.2), ('PremGranth', '1996', 5.7), ('Masti Express', '2011', 5.2), ('Nirdosh', '2018', 4.1), ('Upkar', '1967', 7.7), ('Shor', '1972', 7.3), ('Haseena Maan Jaayegi', '1999', 6.2), ('Deewaanapan', '2001', 4.7), ('Saathi', '1968', 7.5), ('Punnagai Mannan', '1986', 7.9), ('Mutamestri', '1993', 7.1), ('Time Out', '2015', 6.1), ('Anurodh', '1979', 6.8), ('Officer', '2001', 5.4), ('Kaccha Limboo', '2011', 6.3), ('Chal Chala Chal', '2009', 4.7), ('Prem Pujari', '1970', 6.8), ('Junoon', '1979', 7.6), ('Daddy Cool: Join the Fun', '2009', 3.9), ('Champion', '2000', 4.2), ('Leader', '1964', 7.4), ('Anuraag', '1972', 7.3), ('Bittoo Boss', '2012', 4.2), ('Dangerous Ishhq', '2012', 4.0), ('100% Love', '2012', 6.0), ('Anari', '1959', 7.9), ('Chandni', '1989', 6.8), ('Nazar', '2005', 4.8), ('Naram Garam', '1981', 7.5), ('Kaajal', '1965', 7.0), ('Mr. White Mr. Black', '2008', 3.5), ('Kya Dilli Kya Lahore', '2014', 7.5), ('Krishna Aur Kans', '2012', 6.4), ('Gollu aur Pappu', '2014', 4.4), ('Lakeer - Forbidden Lines', '2004', 4.4), ('3 Deewarein', '2003', 7.9), ('Return of Jewel Thief', '1996', 5.1), ('Pyaar Ke Side Effects', '2006', 6.7), ('Black Mail', '1973', 6.9), ('Bawarchi', '1972', 8.0), ('Hogi Pyaar Ki Jeet', '1999', 4.3), ('Barsaat', '1995', 5.4), ('Daddy', 'I 2001', 6.6), ('Dancer', '1991', 5.3), ('Gambler', '1995', 5.1), ('Rog', '2005', 5.0), ('Wedding Pullav', '2015', 3.9), ('Mithya', '2008', 7.1), ('Naukar Biwi Ka', '1983', 6.4), ('Vaastu Shastra', '2004', 4.9), ('One by Two', '2014', 4.2), ('Himmat', '1996', 4.6), ('Dost', '1974', 7.1), ('Holi', '1985', 7.5), ('Sharafat Gayi Tel Lene', '2015', 5.2), (\"My Wife's Murder\", '2005', 6.2), ('Dastak', '1996', 5.0), ('Commando', '1988', 4.4), ('Police Public', '1990', 6.7), ('Kempe Gowda', '2011', 7.0), ('Badhaai Ho Badhaai', '2002', 4.4), ('Qayamat: City Under Threat', '2003', 4.8), ('Viruddh... Family Comes First', '2005', 7.1), ('7 Hours to Go', '2016', 5.6), ('Deewana Main Deewana', '2013', 2.8), ('Khel', '2003', 4.0), ('Phoring', '2013', 7.6), ('Aasha', '1980', 5.4), ('Rajnigandha', '1974', 7.5), ('Suhaag', '1979', 6.8), ('Trimurti', '1995', 4.9), ('Muqaddar Ka Sikandar', '1978', 7.5), ('Biwi No. 1', '1999', 5.7), ('Aakhree Raasta', '1986', 7.1), ('Kisna: The Warrior Poet', '2005', 4.7), ('Tere Mere Sapne', '1971', 7.3), ('Ram Shastra', '1995', 4.3), ('Arjun', '2004', 6.6), ('Katha', '1983', 8.0), ('Koi Aap Sa: But Lovers Have to Be Friends', '2005', 5.6), ('Satyakam', '1969', 8.2), (\"Where's the Party Yaar?\", '2003', 5.0), ('Elaan', '2005', 4.4), ('Thoda Pyaar Thoda Magic', '2008', 4.9), ('Kranti', '1981', 7.2), ('Anwar', '2007', 6.7), ('Shahenshah', '1988', 6.4), ('The Don', '1995', 6.1), ('The Death Sentence: Mrityu Dand', '1997', 7.4), ('Gangotri', '2003', 4.7), ('Bumm Bumm Bole', '2010', 6.0), ('Gair Kaanooni', '1989', 5.5), ('The Train', '1970', 6.7), ('Aar-Paar', '1954', 6.7), ('Kyaa Dil Ne Kahaa', '2002', 3.4), ('Mumbai Salsa', '2007', 4.9), ('Kala Pani', '1958', 7.0), ('Navra Mazha Navsacha', '2004', 7.0), ('Koi Mere Dil Se Poochhe', '2002', 3.7), ('Chitchor', '1976', 7.5), ('Itlu Sravani Subramanyam', '2001', 6.5), ('Trinetra', '1991', 5.1), ('Dracula 2012', '2013', 2.3), ('Aryan', '1988', 7.2), ('Zor: Never Underestimate the Force', '1998', 4.5), ('Angaar', '1992', 6.5), ('Yeh Hai Mumbai Meri Jaan', '1999', 4.6), ('Gandhi, My Father', '2007', 7.4), ('Pratighaat', '1987', 7.1), ('Bandini', '1963', 7.7), ('The Hero: Love Story of a Spy', '2003', 5.3), ('Aan: Men at Work', '2004', 5.9), ('Dastak', '1970', 7.1), ('Mast', '1999', 5.5), ('Vadh', '2002', 6.2), ('Aadalat', '1976', 6.5), ('Ilzaam', '1986', 6.2), ('Rockford', '1999', 7.4), ('Aasoo Bane Angaarey', '1993', 5.0), ('Astitva', '2000', 7.3), ('Ghulam-E-Musthafa', '1997', 6.7), ('Ghar Ghar Ki Kahani', '1970', 7.6), ('Prem Aggan', '1998', 2.0), ('Hathyar', '1989', 5.9), ('Aag Ka Gola', '1990', 5.5), ('Bhrashtachar', '1989', 5.8), ('Prague', '2013', 5.8), ('Mumbai Mirror', '2013', 5.2), ('Kala Pani', '1996', 8.4), ('Mard', '1985', 6.2), ('Sirf Tum', '1999', 6.1), ('Aashik Aawara', '1993', 5.4), ('Na Tum Jaano Na Hum', '2002', 5.1), ('Haseena', '2018', 4.3), ('Island City', '2015', 6.7), (\"Mr. & Mrs. '55\", '1955', 7.2), ('Apnapan', '1977', 6.6), ('I Proud to Be an Indian', '2004', 6.3), ('Akayla', '1991', 5.1), ('Swarag Se Sunder', '1986', 5.5), ('Maska', '2009', 5.2), ('Howrah Bridge', '1958', 7.0), ('Aabra Ka Daabra', '2004', 2.4), ('Lateef', '2013', 3.7), ('Heartless', '2014', 5.3), ('Pairon Talle', '2010', 5.6), ('Gambler', '1971', 6.7), ('Delhi in a Day', '2011', 6.2), ('Well Done Abba!', '2009', 7.3), ('Antardwand', '2008', 7.4), ('Teen Devian', '1965', 6.9), ('Balika Badhu', '1976', 6.8), ('Haal-e-Dil', '2008', 3.5), ('Sulemani Keeda', '2014', 7.2), ('Khullam Khulla Pyaar Karen', '2005', 4.2), ('Silsiilay', '2005', 4.2), ('Taaqatwar', '1989', 5.7), ('Mirch', '2010', 6.6), ('Bade Miyan Chote Miyan', '1998', 5.8), ('Gangaa Jamunaa Saraswathi', '1988', 4.7), ('Acid Factory', '2009', 5.1), ('Aadupuliyattam', '2016', 4.2), ('Bedardi', '1993', 4.0), ('Rangrezz', '2013', 5.2), ('Dil Diya Hai', '2006', 3.6), ('Yehi Hai Zindagi', '1977', 7.6), ('Fareb', '1996', 5.4), ('Jawani Zindabad', '1990', 5.9), ('Kohinoor', '1960', 6.6), ('Chakra', '1981', 7.1), ('Jogi the King', '2005', 8.2), ('Chori Chori Chupke Chupke', '2001', 5.5), ('Garv: Pride and Honour', '2004', 5.5), ('Shatranj Ke Khilari', '1977', 7.8), ('The Great Gambler', '1979', 6.6), ('Dariya Dil', '1988', 4.8), ('Jalpari: The Desert Mermaid', '2012', 7.1), ('Dillagi', '1978', 7.0), ('Bambai Ka Babu', '1996', 5.2), ('Anari No. 1', '1999', 5.1), ('Darling', 'III 2007', 3.9), ('Saat Hindustani', '1969', 6.6), ('Anarkali', '1953', 7.4), ('Mr. Bond', '1992', 5.6), ('Tamanchey: Pyar Mein Dil Pe Maar De Goli', '2014', 4.6), ('Ahista Ahista', '2006', 7.1), ('New Delhi', '1987', 7.7), ('Parwana', '2003', 2.2), ('Mili', '1975', 7.6), ('Silsila Hai Pyar Ka', '1999', 2.5), ('Aathi', '2006', 3.9), ('Gali Gali Chor Hai', '2012', 5.2), ('Jeet', '1996', 5.7), ('Koyelaanchal', '2014', 5.6), ('Dhol', '2007', 6.1), ('Dream Girl', '1977', 6.1), ('Mrs. Scooter', '2015', 6.6), ('Rajkumar', '1996', 4.5), ('Click', 'I 2010', 3.5), ('Inquilaab', '1984', 5.9), ('Jo Bole So Nihaal', '2005', 3.5), ('Zulm Ki Hukumat', '1992', 5.5), ('Lanka', '2011', 5.8), ('Guru', 'I 1989', 6.5), ('Kaun Kitney Paani Mein', '2015', 6.2), ('Amu', '2005', 7.4), ('Pattathu Yaanai', '2013', 4.3), ('Sachein', '2005', 6.9), ('Lucky: No Time for Love', '2005', 4.8), ('Ayee Milan Ki Bela', '1964', 6.8), ('Gurudev', '1993', 4.9), ('Aetbaar', '2004', 4.7), ('1982 - A Love Marriage', '2017', 7.8), ('Meridian Lines', '2013', 6.9), ('Armaan', '2003', 5.3), ('Hum Kaun Hai?', '2004', 3.9), ('Love Breakups Zindagi', '2011', 5.8), ('Ramaa: The Saviour', '2010', 4.1), ('Shikhar', '2005', 5.0), ('Warning', 'I 2013', 4.8), ('Bhoot Unkle', '2006', 4.3), ('Suraj Ka Satvan Ghoda', '1992', 8.0), ('Kanoon', '1960', 7.7), ('Aag', '1948', 7.4), ('Daud: Fun on the Run', '1997', 6.0), ('Malamaal Weekly', '2006', 6.8), ('Andolan', '1995', 5.3), ('Mumbai Cutting', '2008', 7.5), ('Raja Bhaiya', '2003', 3.9), ('Aan', '1952', 6.9), ('Kissi Se Na Kehna', '1983', 7.3), ('Bollywood Queen', '2002', 4.7), ('Manthan', '1976', 7.7), ('Kohraa', '1964', 6.7), ('Awaargi', '1990', 6.4), ('Bawandar', '2000', 7.0), ('Kasme Vaade', '1978', 6.8), ('Tumsa Nahin Dekha', '1957', 7.0), ('Hind Ka Napak Ko Jawab', '2017', 7.2), ('Karle Pyaar Karle', '2014', 3.1), ('Shaukeen', '1982', 7.2), ('Apne', '2007', 6.0), ('Kshatriya', '1993', 6.0), ('Shaadi Karke Phas Gaya Yaar', '2006', 4.1), ('Benny and Babloo', '2010', 6.1), ('Muskurahat', '1992', 7.1), ('Sone Pe Suhaaga', '1988', 5.0), ('Kisse Pyaar Karoon?', '2009', 3.7), ('Gumrah', '1963', 6.7), ('Jhansi Ki Rani', '1953', 7.2), ('Baharen Phir Bhi Aayengi', '1966', 7.0), ('War Chod Na Yaar', '2013', 5.5), ('Lucky Kabootar', '2014', 5.5), ('Bollywood Hero', '2009', 5.9), ('Taxi Driver', '1954', 7.0), ('Apradhi Kaun?', '1957', 7.8), ('Justice Chaudhury', '1983', 5.6), ('Bade Dilwala', '1999', 3.6), ('Gora Aur Kala', '1972', 5.4), ('Testing Movie', '2012', 7.1), ('Market', '2003', 3.7), ('Hum Paanch', '1980', 6.5), ('Satyam Shivam Sundaram: Love Sublime', '1978', 7.2), ('Soldier', 'II 1998', 6.1), ('Chacha Bhatija', '1977', 5.7), ('3 AM: A Paranormal Experience', '2014', 5.3), ('Jaadugar', '1989', 4.0), ('Sssshhh...', '2003', 4.5), ('Hulchul', '1971', 7.3), ('Jhuk Gaya Aasman', '1968', 6.8), ('Prem Shakti', '1994', 3.8), ('Maha-Sangram', '1990', 5.9), ('Rajjo', '2013', 3.5), ('Bhoot Bungla', '1965', 6.8), ('Insaaf: The Final Justice', '1997', 5.0), ('Ghar Ek Mandir', '1984', 5.3), ('Shaktiman', '1993', 2.9), ('Road to Sangam', '2010', 7.5), ('Pyaar Diwana Hota Hai', '2002', 3.9), ('Dil Ne Phir Yaad Kiya', '2001', 4.2), ('Baiju Bawra', '1952', 7.5), ('Sarhad Paar', '2006', 4.7), ('Hum Dono', '1961', 7.4), ('Kala Bazar', '1960', 7.2), ('Charlie Kay Chakkar Mein', '2015', 4.5), ('Aar Ya Paar', '1997', 6.2), ('Dhund', '1973', 7.3), ('Sar Ankhon Par', '1999', 6.8), ('Namak Halaal', '1982', 7.4), ('Dosti: Friends Forever', '2005', 5.9), ('Sixteen', 'II 2013', 6.3), ('Trishul', '1978', 7.8), ('Awwal Number', '1990', 5.4), ('Nehlle Pe Dehlla', '2007', 3.9), ('Blue Oranges', '2009', 6.5), ('Seema', '1955', 7.6), ('Love Love Love', '1989', 5.8), ('Zulmi', '1999', 5.3), ('Ninne Pelladatha', '1996', 7.7), ('Kanyadaan', '1968', 7.4), ('Ab... Bas!', '2004', 3.4), ('Bomb the System', '2002', 6.6), ('Hum Dono', '1995', 6.1), ('Tumse Achha Kaun Hai', '1969', 6.4), ('Saawan... The Love Season', '2006', 2.2), ('Ek Vivaah... Aisa Bhi', '2008', 5.4), ('Safar', '1970', 7.4), ('Haseena Maan Jayegi', '1968', 7.2), ('My Dear Kuttichaathan', '1984', 7.4), ('Rikki-Tikki-Tavi', '1979', 7.7), ('Rakht', '2004', 3.9), ('Bal Bramhachari', '1996', 3.7), ('Prem Kahani', '1975', 6.6), ('Be-Imaan', '1972', 7.1), ('Kora Kagaz', '1974', 7.3), ('Asambhav', '2004', 3.5), ('Narasimhudu', '2005', 3.2), ('Aadmi', '1968', 7.0), ('Who', 'I 2018', 7.1), ('Swami', '1977', 6.8), ('Anpadh', '1962', 7.3), ('Rajaji', '1999', 4.5), ('Chatur Singh Two Star', '2011', 1.8), ('Saansein: The Last Breath', '2016', 3.9), ('Red: The Dark Side', '2007', 3.4), ('Kerry on Kutton', '2016', 5.6), ('EMI: Liya Hai To Chukana Padega', '2008', 4.3), ('Leera the Soulmate', '2018', 9.2), ('Help', '2010', 4.5), ('Tutak Tutak Tutiya', '2016', 5.4), ('Saheb Biwi Aur Gangster Returns', '2013', 6.8), ('Ghatak: Lethal', '1996', 7.4), ('Tujhe Meri Kasam', '2003', 6.5), ('Aksar', '2006', 4.9), ('Run', '2004', 4.8), ('Chain Kulii Ki Main Kulii', '2007', 5.4), ('Creature', 'I 2014', 3.2), ('Vardi', '1989', 4.8), ('Rush', '2012', 3.8), ('Angrakshak', '1995', 4.3), ('Mehbooba', '1976', 6.6), ('Ek Nazar', '1972', 6.1), ('Aaina', '1977', 7.0), ('Maqsad', '1984', 5.9), ('Yaraana', '1995', 4.6), ('Titoo MBA', '2014', 4.8), ('Chamku', '2008', 4.2), ('Dharm', '2007', 7.9), ('Do Bigha Zamin', '1953', 8.4), ('Aashiq Banaya Aapne: Love Takes Over', '2005', 4.2), ('Ramayana: The Epic', '2010', 5.9), ('Yaarana', '1981', 7.1), ('Yeh Majhdhaar', '1996', 3.6), ('Bhumika', '1977', 7.5), ('Barsaat Ki Ek Raat', '1981', 6.4), ('Elaan', '1994', 6.0), ('Aazaan', '2011', 4.5), ('Striker', '2010', 7.1), ('Azaad', '1955', 6.8), ('Memories in March', '2010', 7.1), ('Anjaneyulu', '2009', 4.8), ('Red Alert: The War Within', '2009', 6.4), ('Sangeet', '1992', 5.8), ('Mr. Singh/Mrs. Mehta', '2010', 4.4), ('Aflatoon', '1997', 4.9), ('Baaghi', '2000', 4.4), ('Road, Movie', '2009', 6.9), ('Rajdhani Express', '2013', 3.1), ('P Se PM Tak', '2015', 4.0), ('Kaun Sachcha Kaun Jhootha', '1997', 5.7), ('C Kkompany', '2008', 5.4), ('Shirin Farhad Ki Toh Nikal Padi', '2012', 4.3), ('Tirangaa', '1992', 6.9), ('Ishq Vishk', '2003', 6.1), ('Padosan', '1968', 8.1), ('Kahin Pyaar Na Ho Jaaye', '2000', 4.4), ('Charas: A Joint Effort', '2004', 5.3), (\"Hanuman Da' Damdaar\", '2017', 6.6), ('Tarazu', '1997', 5.1), ('Tawaif', '1985', 7.0), ('Papa the Great', '2000', 5.5), ('Filhaal...', '2002', 5.6), ('Aao Pyaar Karen', '1994', 4.1), ('Kash... Aap Hamare Hote', '2003', 5.3), ('Cheluvi', '1992', 7.7), ('City of Gold - Mumbai 1982: Ek Ankahee Kahani', '2010', 6.8), ('Gour Hari Dastaan: The Freedom File', '2015', 7.5), ('Asli-Naqli', '1962', 7.4), ('Haathkadi', '1995', 4.4), ('Mr. X in Bombay', '1964', 7.1), ('Inkaar', '1977', 7.1), ('Shikari', '2000', 4.8), ('Kuku Mathur Ki Jhand Ho Gayi', '2014', 5.3), ('Aatank', '1996', 4.1), ('Chenna Kesava Reddy', '2002', 6.0), ('My Name Is Anthony Gonsalves', '2008', 3.7), ('Gayab', '2004', 4.2), ('Dil Jo Bhi Kahey...', '2005', 5.0), ('Mumbai Express', '2005', 5.8), ('Judaai', '1997', 6.1), ('Sardaar Gabbar Singh', '2016', 5.0), ('The Long Duel', '1967', 5.9), ('Reshma Aur Shera', '1971', 6.7), ('Diwana', '1967', 6.8), ('Buddha Mil Gaya', '1971', 7.1), ('Superstar', '2008', 6.0), ('Nazar Ke Samne', '1995', 6.0), ('Zabardast', '1985', 5.5), ('Zameer', '2005', 3.0), ('O Teri', '2014', 3.5), ('Kshay', '2011', 6.9), ('Kasam Paida Karne Wale Ki', '1984', 6.3), ('Chargesheet', '2011', 6.3), ('James', '2005', 3.7), ('Crd', '2016', 7.5), ('Jeevan Ek Sanghursh', '1990', 4.9), ('Aap Kaa Surroor: The Moviee - The Real Luv Story', '2007', 2.3), ('Toonpur Ka Superrhero', '2010', 4.3), ('Dostana', '1980', 6.8), ('Railway Children', '2016', 8.1), ('Train to Pakistan', '1998', 6.9), ('Mehbooba', '2008', 3.6), ('Tera Mera Saath Rahen', '2001', 5.0), ('Jaal', '1952', 7.5), ('Meenaxi: Tale of 3 Cities', '2004', 6.3), ('Besharam', '1978', 6.2), ('Sahasa Veerudu Sagara Kanya', '1996', 6.2), ('Pyaasa Sawan', '1981', 7.7), ('Daag', '1952', 6.9), ('Aap Ke Deewane', '1980', 5.7), ('Ekka Raja Rani', '1994', 5.3), ('Raghu Romeo', '2003', 7.0), ('Ajab Gazabb Love', '2012', 4.2), ('Home Delivery: Aapko... Ghar Tak', '2005', 3.4), ('Doli Saja Ke Rakhna', '1998', 6.3), ('Phoonk 2', '2010', 3.3), ('Quick Gun Murugun: Misadventures of an Indian Cowboy', '2009', 6.0), ('Mrityudaata', '1997', 2.5), ('Tango Charlie', '2005', 6.0), ('Ek Rishtaa: The Bond of Love', '2001', 5.4), ('Maharana Pratap: The First Freedom Fighter', '2012', 8.1), ('Super', '2005', 5.1), ('Chaand Kaa Tukdaa', '1994', 3.9), ('Bangaram', '2006', 4.8), ('Paandav', '1995', 5.5), ('Shaadi No. 1', '2005', 3.6), ('Buddha Mar Gaya', '2007', 2.5), ('Love Shagun', '2016', 5.8), ('Rocky', '2006', 4.1), ('Anamika: The Untold Story', '2008', 3.3), ('Parichay', '1972', 7.6), ('Amar', '1954', 6.9), ('One Two Three', '2008', 5.2), ('Kaalia', '1981', 6.9), ('Tumko Na Bhool Paayenge', '2002', 5.6), ('A Scandall', '2016', 4.5), ('Mr. Natwarlal', '1979', 6.6), ('Half Ticket', '1962', 7.5), ('Dam999', '2011', 3.7), ('Ganga Ki Saugand', '1978', 5.9), ('Pyaar Mein Kabhi Kabhi...', '1999', 4.5), ('Shukriya: Till Death Do Us Apart', '2004', 5.5), ('Jaanisaar', '2015', 6.7), ('Kunwara Baap', '1974', 7.2), ('Pati Patni Aur Woh', '1978', 7.1), ('Sri Shirdi Saibaba Mahathyam', '1986', 7.7), ('Patita', '1953', 7.9), ('Teesri Aankh: The Hidden Camera', '2006', 2.7), ('Peddlers', '2012', 7.2), ('Piya Ka Ghar', '1972', 6.8), ('Gandhi to Hitler', '2011', 2.7), ('Varudu', '2010', 3.7), ('Shakalaka Boom Boom', '2007', 2.6), ('Sunny', '1984', 5.6), ('Kinara', '1977', 6.8), ('Dulaara', '1994', 4.7), ('Biwi Ho To Aisi', '1988', 6.0), ('Khiladiyon Ka Khiladi', '1996', 6.4), ('Gafla', '2006', 7.1), ('Yaadein', '1964', 7.2), ('Albert Pinto Ko Gussa Kyon Ata Hai', '1980', 7.5), ('Namkeen', '1982', 7.7), ('Thanga Magan', '1983', 6.6), ('3 Bachelors', '2012', 3.4), ('Baseraa', '1981', 6.9), ('I Am 24', '2010', 6.7), ('Speed', '2007', 2.9), ('Ishq Hai Tumse', '2004', 3.3), ('Jalwa', '1987', 6.8), ('Rang Birangi', '1983', 7.3), ('Daag: A Poem of Love', '1973', 7.0), ('Sandai Kozhi', '2005', 6.8), ('Bichhoo', '2000', 4.6), ('Kanthaswamy', '2009', 5.0), ('Kachche Dhaage', '1999', 6.0), ('Miss Tanakpur Haazir Ho', '2015', 5.3), ('My Bollywood Bride', '2006', 4.7), ('Marry Me - Aber bitte auf Indisch', '2015', 5.1), ('Ru-Ba-Ru', '2008', 5.5), ('Kismet Love Paisa Dilli', '2012', 4.4), ('Gehri Chaal', '1973', 5.9), ('Bhairava Dweepam', '1994', 7.7), ('Aakhri Khat', '1966', 7.2), ('Sanjog', '1985', 7.1), ('Aapko Pehle Bhi Kahin Dekha Hai', '2003', 4.9), ('Prem Nagar', '1974', 7.2), ('Bombai Ka Babu', '1960', 7.1), ('Chauranga', '2014', 6.6), ('Kaksparsh', '2012', 7.8), ('Isi Ka Naam Zindagi', '1992', 6.0), ('Bhagwaan Dada', '1986', 4.6), ('Qila', '1998', 5.6), ('Anamika', '1973', 7.1), ('Ladies Tailor', '2006', 3.6), ('Kahani Kismat Ki', '1973', 6.1), ('Ghar Ho To Aisa', '1990', 5.9), ('Kuch Kuch Locha Hai', '2015', 2.6), ('Suhaag', '1994', 6.1), ('Sooryavansham', '1999', 6.2), ('Kabzaa', '1988', 6.2), ('Gopi', '1970', 6.8), ('Narasimha Nayudu', '2001', 7.1), ('Dus Numbri', '1976', 6.0), ('Split Wide Open', '1999', 6.4), ('Gaja Gamini', '2000', 5.2), ('Chitkabrey', '2011', 4.1), ('Jeevan Mrityu', '1970', 7.1), ('Kajraare', '2010', 3.0), ('Jigariyaa', '2014', 4.9), ('Shaadi Se Pehle', '2006', 4.1), ('Anubhav', '1986', 6.4), ('Dhoom Dadakka', '2008', 3.5), ('Hameshaa', '1997', 5.4), ('Mirza Ghalib', '1954', 7.7), ('Hindustan Ki Kasam', '1973', 6.4), ('Baaghi: A Rebel for Love', '1990', 5.9), ('Yaadon Ki Baaraat', '1973', 7.4), (\"Crook: It's Good to Be Bad\", '2010', 5.1), ('Do Lafzon Ki Kahani', '2016', 6.5), ('Dr. Babasaheb Ambedkar', '2000', 8.3), ('Main Madhuri Dixit Banna Chahti Hoon!', '2003', 6.1), ('Kala Bazaar', '1989', 5.6), ('An Evening in Paris', '1967', 6.9), ('Gunaah', '1993', 5.0), ('Aavishkar', '1974', 7.1), ('Banaras', '2006', 6.2), ('Risk', '2007', 6.7), ('Kismat', '2004', 3.8), ('Fired', 'I 2010', 4.7), ('Swami', '2007', 7.1), ('Khauff', '2000', 4.6), ('Boxer', '1984', 6.1), ('Shudra the Rising', '2012', 6.9), ('Aaj', '1987', 7.1), ('Tere Mere Phere', '2011', 5.3), ('Mr. Romeo', '1996', 5.4), ('Prem Qaidi', '1991', 2.2), ('Tathastu', '2006', 4.5), ('Thanks Maa', '2009', 7.9), ('Yeh Teraa Ghar Yeh Meraa Ghar', '2001', 5.7), ('Naughty @ 40', '2011', 2.6), ('15 Park Avenue', '2005', 7.2), ('Eeshwar', '1989', 7.3), ('Ek: The Power of One', '2009', 5.0), ('Hum Hai Raahi CAR Ke', '2013', 3.2), ('Jugnu', '1947', 7.5), ('Khushboo', '1975', 7.1), ('Delhi Safari', '2012', 5.7), ('Krantiveer', '1994', 7.4), ('Main Azaad Hoon', '1989', 7.3), ('Ishqedarriyaan', '2015', 5.0), ('Thunder in the East', '1953', 6.5), ('Ramchand Pakistani', '2008', 7.6), ('Thakshak', '1999', 6.0), ('Navrang', '1959', 6.5), ('Sunghursh', '1968', 7.2), ('Return of Hanuman', '2007', 7.0), ('Dil Ki Baazi', '1993', 6.4), ('Harud', '2010', 6.6), ('Khichdi: The Movie', '2010', 7.2), ('Chamatkar', 'I 1992', 6.7), ('Mastram', '2013', 4.8), ('Kasak', '2005', 4.7), ('Teesri Aankh', '1982', 6.8), ('Maalamaal', '1988', 7.0), ('Jeene Ki Raah', '1969', 7.1), ('Black & White', 'I 2008', 6.2), ('Agent Vinod', '1977', 5.9), ('Bhopal Express', '1999', 7.2), ('Hifazat', '1987', 5.4), ('Victory', 'I 2009', 3.8), ('Immaan Dharam', '1977', 5.6), ('The Memsahib', '2006', 6.5), ('Albela', '1951', 6.6), ('Kevi Rite Jaish', '2012', 8.1), (\"Pappu Can't Dance Saala\", '2010', 6.5), ('Betaabi', '1997', 4.9), ('Mere Apne', '1971', 7.6), ('Sar Utha Ke Jiyo', '1998', 2.7), ('Dastaan', '1972', 7.2), ('State Rowdy', '1989', 7.5), ('Antarmahal: Views of the Inner Chamber', '2005', 7.1), ('Raaz', '1967', 7.0), ('Contract', '2008', 4.3), ('Anuranan', '2006', 6.7), ('Chaar Din Ki Chandni', '2012', 4.4), ('Jawani Diwani: A Youthful Joyride', '2006', 2.9), ('36 Chowringhee Lane', '1981', 7.6), ('Des Pardes', '1978', 7.1), ('Farz', '2001', 4.3), ('Saudagar', '1973', 7.2), ('Kaala Patthar', '1979', 7.7), ('Talaash: The Hunt Begins...', '2003', 5.1), ('Family: Ties of Blood', '2006', 5.7), ('Paroma', '1984', 6.7), ('Fun: Can Be Dangerous Sometimes', '2005', 3.3), ('Ashanti', '1982', 7.0), ('Jaan Se Pyaara', '1992', 6.1), ('Insaaf', '1987', 7.0), ('Mukhbiir', '2008', 6.9), ('Adi Shankaracharya', '1983', 7.4), ('Maximum', '2012', 4.9), ('Joshilaay', '1989', 5.7), ('Utopia', '2015', 6.5), ('Karz Chukana Hai', '1991', 5.6), ('Mixed Doubles', '2006', 6.5), ('Khoon Ka Karz', '1991', 5.0), ('Aao Wish Karein', '2009', 5.3), ('Raja Rani', '1973', 6.7), ('Ghost', 'I 2012', 2.3), ('Bardaasht', '2004', 6.1), ('Mirza Juuliet', '2017', 5.0), ('Maazii', '2013', 6.8), ('Raja Ko Rani Se Pyar Ho Gaya', '2000', 3.3), ('Diary of a Butterfly', '2012', 3.5), ('Dus Tola', '2010', 6.9), ('Gumnaam: The Mystery', '2008', 3.5), ('Badrinath', '2011', 4.4), ('Khaleja', '2010', 7.6), ('Pyaar To Hona Hi Tha', '1998', 6.7), ('Milan', '1995', 5.5), ('Zameer', '1975', 6.1), ('Dhoop', '2003', 7.2), ('Noukadubi', '2011', 7.6), ('Kayda Kanoon', '1993', 6.3), ('Summer 2007', '2008', 6.3), ('Aakhri Adaalat', '1988', 5.4), ('Saanjh', '2017', 8.6), ('Bulundi', '1981', 7.0), ('Sorry Bhai!', '2008', 6.1), ('Shor Se Shuruaat', '2016', 6.7), ('The Forest', 'I 2009', 6.2), ('Pyaasa', '2002', 3.5), ('De Taali', '2008', 4.0), ('Alif', 'I 2017', 6.7), ('Tehzeeb', '2003', 6.1), ('Abhinetri', '1970', 6.8), ('Nishchaiy', '1992', 4.2), ('Baat Ban Jaye', '1986', 6.4), ('Aaye Din Bahar Ke', '1966', 7.3), ('Vishwanath', '1978', 6.5), ('Vivekananda', '1994', 7.0), ('Undertrial', '2007', 6.5), ('Itni Si Baat', '1981', 6.9), ('Allah Ke Banday', '2010', 6.3), ('Wajahh: A Reason to Kill', '2004', 4.1), ('Wafaa', '2008', 3.8), ('Khel Khel Mein', '1975', 7.5), ('Khwahish', '2003', 4.2), ('Shapath', '1997', 5.6), ('Mere Jeevan Saathi', '2006', 4.1), ('Meri Jung', '1985', 7.3), ('Dil Kabaddi', '2008', 5.8), ('Babloo Happy Hai', '2014', 6.9), ('Bollywood Diaries', '2016', 6.0), ('Albela', '2001', 3.6), ('Jai Kishen', '1994', 5.9), ('Bade Dil Wala', '1983', 5.9), ('Do Aur Do Paanch', '1980', 7.1), ('Fatso!', '2012', 5.6), ('Kehtaa Hai Dil Baar Baar', '2002', 4.8), ('Sant Tukaram', '1936', 6.8), ('Dil Diya Dard Liya', '1966', 6.8), ('Bairaag', '1976', 7.0), ('Dil Ek Mandir', '1963', 7.0), ('Shikar', '1968', 7.1), ('Aulad', '1987', 6.6), ('Apradh', '1972', 7.2), ('Bhavnao Ko Samjho', '2010', 4.1), ('Paayum Puli', '1983', 6.9), ('The Lookalike', '2006', 4.1), ('Saugandh', '1991', 6.9), ('Karma', 'I 1986', 7.3), ('Tere Naal Love Ho Gaya', '2012', 5.8), ('Chaar Sahibzaade 2: Rise of Banda Singh Bahadur', '2016', 8.4), ('Sujata', '1960', 7.4), ('MSG 2 the Messenger', '2015', 7.2), ('Apne Paraye', '1980', 6.8), ('Droh Kaal', '1994', 7.7), ('Jamai Raja', '1990', 5.4), ('Ek Khiladi Ek Haseena', '2005', 5.9), ('Mazdoor', '1983', 6.7), ('1:13:7 Ek Tera Saath', '2016', 5.8), (\"'Kaash'\", '1987', 6.5), ('Clerk', '1989', 2.4), ('Daman: A Victim of Marital Violence', '2001', 5.7), ('Phool', '1993', 5.2), ('Sharmeelee', '1971', 6.9), ('Umbartha', '1982', 6.8), ('Tum: A Dangerous Obsession', '2004', 2.5), ('Sahibaan', '1993', 5.5), ('Aadmi Aur Insaan', '1969', 6.7), ('Ek Hi Bhool', '1981', 5.8), ('Pratibandh', '1990', 6.3), ('Vishwasghaat', '1996', 5.6), ('Haunted - 3D', '2011', 6.2), ('Jaani Dushman: Ek Anokhi Kahani', '2002', 2.9), ('...Aur Pyaar Ho Gaya', '1997', 4.7), ('Aap Mujhe Achche Lagne Lage', '2002', 3.2), ('Sanam Bewafa', '1991', 5.5), ('Maseeha', '2002', 4.2), ('Soch', '2002', 4.5), ('Pyar Ki Kahani', '1971', 6.3), ('Shorts', '2013', 6.5), ('Dhool Ka Phool', '1959', 6.9), ('Chhote Sarkar', '1996', 4.8), ('Kushti', '2010', 4.3), ('Jaag Utha Insan', '1984', 6.2), ('Do Qaidi', '1989', 5.4), ('Gharana', '1989', 5.7), ('The Good Road', '2013', 6.3), ('Saas Bahu Aur Sensex', '2008', 5.2), ('Hum Naujawan', '1985', 5.3), ('Bheja Fry 2', '2011', 4.7), ('Do Badan', '1966', 7.3), ('Paying Guest', '1957', 7.1), ('Zalzala', '1988', 6.0), ('Beta', '1992', 6.3), ('Itihaas', '1997', 3.4), ('Jaisi Karni Waisi Bharni', '1989', 5.7), ('Andhaa Kaanoon', '1983', 6.2), ('Seetharamula Kalyanam Lankalo', '2010', 4.6), ('Phir Wohi Raat', '1980', 7.1), ('Anokhi Raat', '1968', 7.4), ('From Sydney with Love', '2012', 6.3), ('2001: Do Hazaar Ek', '1998', 4.0), ('Guru', '1980', 7.2), ('Karma, Confessions and Holi', '2009', 3.1), ('Just Married: Marriage Was Only the Beginning!', '2007', 5.5), ('Ekkees Toppon Ki Salaami', '2014', 6.1), ('Sangdil', '1952', 7.4), ('Om Dar-B-Dar', '1988', 7.3), ('Chhalia', '1960', 7.5), ('Dhaal: The Battle of Law Against Law', '1997', 5.3), ('Haath Ki Safai', '1974', 6.7), ('Lalkar The Challenge', '1972', 7.2), ('Kanoon Apna Apna', '1989', 5.6), ('Shaadi Teri Bajayenge Hum Band', '2018', 5.3), ('Phool Aur Kaante', '1991', 5.9), ('Aa Ab Laut Chalen', '1999', 5.5), ('Diljale', '1996', 5.8), ('Batwara', '1989', 6.5), ('Arjun', '1985', 7.2), ('Krishna', 'I 1996', 4.6), ('Alag Alag', '1985', 6.5), ('Prithvi', '1997', 5.5), ('Insaniyat', '1955', 7.3), ('Listen... Amaya', '2013', 6.9), ('Qatl', '1986', 7.0), ('Dunno Y Na Jaane Kyun...', '2010', 3.9), ('Ishq Click', '2016', 4.1), ('French Immersion', '2011', 5.1), ('Hazaar Chaurasi Ki Maa', '1998', 7.2), ('Panchakshari', '2010', 4.3), ('Gattu', '2011', 7.2), ('Khilaaf', '1991', 5.5), ('Lal Salaam', '2002', 7.0), ('Return to Rajapur', '2006', 6.3), ('Shabri', '2011', 5.8), ('Khamoshh... Khauff Ki Raat', '2005', 3.3), ('Loot', '2011', 3.6), ('Sharabi', '1964', 7.4), ('Jhumroo', '1961', 6.9), ('Hariyali Aur Rasta', '1962', 6.9), ('Ek Haseena Thi Ek Deewana Tha', '2017', 4.9), ('Chalk N Duster', 'I 2016', 6.6), ('Dharam Veer', '1977', 6.9), ('Hello Brother', '1999', 4.8), ('Jaani Dushman', '1979', 6.0), ('Abodh', '1984', 6.2), ('Pyar Kiye Jaa', '1966', 7.1), ('Vijeta', '1982', 7.3), ('Nenunnanu', '2004', 5.2), ('Hanste Zakhm', '1973', 7.4), ('Dhill', '2001', 7.1), ('Papi Gudia', '1996', 2.0), ('Premante Idera', '1998', 6.8), ('Nagarahavu', '2016', 5.7), ('?: A Question Mark', '2012', 5.5), ('Neecha Nagar', '1946', 7.2), ('Love 86', '1986', 5.9), ('Funtoosh', '1956', 7.3), ('Will You Marry Me', '2012', 5.2), ('Rebellious Flower', '2016', 6.7), ('Patang', '2011', 6.1), ('Nauker', '1979', 6.7), ('Aarya', '2007', 4.8), ('Baap Numbri Beta Dus Numbri', '1990', 6.0), ('Amar Prem', '1972', 8.2), ('Indian', '2001', 5.3), ('Hu Tu Tu', '1999', 6.6), ('Tell Me O Kkhuda', '2011', 2.5), ('Solva Saal', '1958', 7.0), ('Sikandar', '2009', 6.4), ('Anita', '1967', 6.8), ('Zamaane Ko Dikhana Hai', '1981', 7.2), ('The Blueberry Hunt', '2016', 5.6), ('Accident on Hill Road', '2010', 4.2), ('Cover Story', '2000', 5.8), ('Namo Venkatesha', '2010', 5.4), ('Michael', 'I 2011', 5.8), ('In Custody', '1994', 7.1), ('Baharon Ke Sapne', '1967', 7.7), ('Main Aur Mr. Riight', '2014', 5.6), ('Aamdani Atthanni Kharcha Rupaiya', '2001', 4.6), ('Loha', '1987', 6.2), ('Junoon', '1992', 5.7), ('Jab Pyaar Kisise Hota Hai', '1998', 5.9), ('Big Brother', '2007', 3.9), ('Laadla', '1994', 5.8), ('Santosham', '2002', 7.2), ('Jimmy', '2008', 1.6), ('Dil Hi To Hai', '1963', 7.3), ('Kaafila', '2007', 3.6), ('Padmashree Laloo Prasad Yadav', '2005', 2.5), ('Dobara', '2004', 3.2), ('Saatwan Aasman', '1992', 5.5), ('Second Hand Husband', '2015', 4.1), ('Aanch', '2003', 6.0), ('Kya Love Story Hai', '2007', 3.9), ('Yahudi', '1958', 7.0), ('Baaz', '1953', 7.0), ('A Flat', '2010', 4.7), ('Mere Dost Picture Abhi Baaki Hai', '2012', 3.5), ('Manzil', '1979', 7.0), ('Mitr: My Friend', '2002', 6.7), ('Chaalis Chauraasi', '2012', 6.2), ('Udhaar Ki Zindagi', '1994', 6.1), ('Veera Madakari', '2009', 6.2), ('Pyare Mohan', '2006', 3.3), ('Kaamchor', '1982', 6.5), ('Priyasakhi', '2005', 4.9), ('Sapoot', '1996', 5.7), ('Aatish: Feel the Fire', '1994', 5.9), ('Dulhan Hum Le Jayenge', '2000', 5.0), ('Holiday', '2006', 4.9), ('Bhram: An Illusion', '2008', 5.7), ('Phhir', '2011', 5.3), ('Imaandaar', '1987', 5.6), ('Victoria No. 203', '1972', 7.1), ('Lakeer Ka Fakeer', '2013', 5.8), ('Andar Baahar', '1984', 5.4), ('Dil Deke Dekho', '1959', 7.0), ('Chhupa Rustam', '1973', 7.2), ('Mr Bhatti on Chutti', '2012', 4.0), ('Shiva', '2006', 4.1), ('Sangdil Sanam', '1994', 3.7), ('Bahu Begum', '1967', 6.8), ('Naughty Boy', '2006', 3.8), ('Love U... Mr. Kalakaar!', '2011', 5.7), ('Trikal Past, Present, Future', '1985', 7.1), ('Thavasi', '2001', 4.7), ('Kamla Ki Maut', '1989', 7.1), ('Godmother', '1999', 6.4), ('Bhuvan Shome', '1969', 7.4), ('Pyasa Shaitan', '1984', 5.2), ('Anmol', '1993', 5.7), ('Hum To Mohabbat Karega', '2000', 2.8), ('Darwaza Bandh Rakho', '2006', 5.3), ('Anuradha', '1960', 6.8), ('Film Star', '2005', 5.4), ('Madhosh', '1974', 6.3), ('Naach', '2004', 4.4), ('Daraar', '1996', 5.4), ('Kuch Tum Kaho Kuch Hum Kahein', '2002', 5.7), ('Bandhan', '1998', 4.9), ('Heroes', '2008', 5.7), ('Dulha Dulhan', '1964', 7.2), ('Ata Pata Lapatta', '2012', 5.6), ('Prem Patra', '1962', 7.6), ('Kaagaz Ke Fools', '2015', 3.9), ('Jashnn: The Music Within', '2009', 3.9), ('Kudrat', '1998', 4.2), ('Vakil Babu', '1982', 7.6), ('Border Hindustan Ka', '2003', 5.3), ('Sharafat', '1970', 7.3), ('Jaani Dost', '1983', 6.0), ('Direct Ishq', '2016', 4.0), ('Heera Panna', '1973', 6.6), ('Mod', '2011', 6.5), ('Morning Raga', '2004', 6.8), ('Ek Se Badhkar Ek', '2004', 4.7), ('Mahal', '1969', 7.5), ('Apna Asmaan', '2007', 6.2), ('Aashirwad', '1968', 7.4), ('Dil Tera Diwana', '1962', 7.1), ('Ziddi', '1997', 5.7), ('Purani Haveli', '1989', 5.3), ('Dhanwaan', '1993', 3.5), ('Har Dil Jo Pyar Karega...', '2000', 5.2), ('Saajan Chale Sasural', '1996', 5.9), ('Raqeeb', '2007', 4.4), ('Andhaa Yudh', '1987', 7.3), ('Gharaonda', '1977', 6.9), ('Aas Paas', '1981', 6.7), ('Swati', '1986', 6.8), ('Udaan', '1997', 4.3), ('Indrudu Chandrudu', '1989', 7.3), ('Baaz: A Bird in Danger', '2003', 3.2), ('Dil Hi To Hai', '1992', 5.5), ('Kuchh Meetha Ho Jaye', '2005', 3.6), ('Amar Deep', '1979', 6.9), ('Sailaab', '1990', 5.5), ('Rafoo Chakkar', '1975', 7.0), ('Anjaneya', '2003', 3.9), ('Lootmaar', '1980', 6.3), ('Thodisi Bewafaii', '1980', 6.8), ('Ittefaq', '2001', 4.7), ('Chori Mera Kaam', '1975', 7.0), ('Kali Salwaar', '2002', 6.1), ('Surakshaa', '1995', 4.2), ('Yea Toh Two Much Ho Gayaa', '2016', 4.3), ('Ek Chadar Maili Si', '1986', 7.1), ('Bumboo', '2012', 3.6), ('Gehrayee', '1980', 6.8), ('Maine Gandhi Ko Nahin Mara', '2005', 7.4), ('Calcutta Mail', '2003', 5.8), ('Karobaar: The Business of Love', '2000', 4.4), ('Chitralekha', '1964', 7.5), ('Rabba Main Kya Karoon', '2013', 4.4), ('The President Is Coming', '2009', 6.9), ('Shaheed', '1965', 7.9), ('Sanjog', '1972', 6.3), ('Vaishali', '1988', 7.7), ('Aatma', '2006', 4.3), ('Jurmana', '1979', 6.9), ('What the Fish', '2013', 5.1), ('Anthony Kaun Hai?', '2006', 5.5), ('Mere Hamdam Mere Dost', '1968', 7.1), ('Karma: Crime. Passion. Reincarnation', '2008', 5.9), ('Oh, My God!!', '2008', 5.4), ('Saaheb', '1985', 7.2), ('Bombay to Bangkok', '2008', 4.7), ('A New Love Ishtory', '2013', 6.4), ('Paar', '1984', 7.3), (\"Everybody Says I'm Fine!\", '2001', 6.1), ('Laawaris', '1981', 7.2), ('Mr. & Mrs. Khiladi', '1997', 6.7), ('The Perfect Girl', '2015', 6.3), ('Himalay Ki Godmein', '1965', 7.0), ('Phir Wohi Dil Laya Hoon', '1963', 7.1), ('Waah! Tera Kya Kehna', '2002', 3.7), ('Samba', '2004', 5.1), ('Nayee Padosan', '2003', 5.5), ('Griha Pravesh', '1979', 7.8), ('Katilon Ke Kaatil', '1981', 6.8), ('Salim Langde Pe Mat Ro', '1989', 7.6), ('M.A.D: Mad About Dance', '2014', 6.2), ('Na Ghar Ke Na Ghaat Ke', '2010', 6.2), ('Tera Jadoo Chal Gayaa', '2000', 3.1), ('Zindagi Ek Juaa', '1992', 5.4), ('Censor', '2001', 3.8), ('Dil Apna Aur Preet Parai', '1960', 6.7), ('Sneham Kosam', '1999', 6.5), ('Sons of Ram', '2012', 6.7), ('The Film', '2005', 6.5), ('Alaap', '1977', 7.0), ('Aya Sawan Jhoom Ke', '1969', 6.9), ('Pran Jaaye Par Shaan Na Jaaye', '2003', 6.3), (\"Joggers' Park\", '2003', 6.2), ('Hello Darling', '2010', 3.5), ('Madhosh', '1994', 7.3), ('Manasarovar', '2004', 7.5), ('Kaamannana Makkalu', '2008', 7.1), ('Baat Ek Raat Ki', '1962', 7.2), ('Peechha Karro', '1986', 6.7), ('Caravan', '1971', 6.9), ('Utsav', '1984', 7.0), ('Khoobsurat', '1999', 5.3), ('Dayavan', '1988', 6.6), ('Lahore', '2010', 6.4), ('Benaam', '1974', 6.9), ('Bandook', '2013', 6.0), ('Faraar', '1975', 7.0), ('Professor Pyarelal', '1981', 7.1), ('Geet Gaaya Pattharon Ne', '1964', 6.8), ('Anubhav', '1971', 7.1), ('Yakeen', '1969', 7.2), ('Dashavatar', '2008', 5.9), ('Manchali', '1973', 6.9), ('Ghaath', '2000', 4.9), ('Gandhinagar 2nd Street', '1986', 7.7), ('Yeh Jo Mohabbat Hai', '2012', 5.3), ('Man Pasand', '1980', 6.5), ('Kuch Khatti Kuch Meethi', '2001', 4.7), ('Marhi Da Deeva', '1989', 7.6), ('Zahreelay', '1990', 5.2), ('Aalwar', '2007', 3.3), ('Bombay Summer', '2009', 6.5), ('Madam X', '1994', 3.8), ('Sona Spa', '2013', 3.7), ('Dharmputra', '1961', 7.2), ('Do Ankhen Barah Haath', '1957', 8.4), ('Virodhi', '1992', 4.5), ('Arzoo', '1965', 7.1), ('Nadiya Ke Paar', '1982', 8.1), ('Baaraat Company', '2017', 7.0), ('Nau Do Gyarah', '1957', 7.0), ('Chicken Tikka Masala', '2005', 5.8), ('Cooking with Stella', '2009', 5.5), ('Hum Tum Shabana', '2011', 3.9), ('Munimji', '1955', 7.5), ('Aloo Chaat', '2009', 5.9), ('Aitbaar', '1985', 7.0), ('Sooper Se Ooper', '2013', 4.4), ('Gaman', '1978', 7.1), ('Halo', '1996', 8.0), ('Bullet', '1976', 6.9), ('Bezawada', '2011', 3.5), ('Mela', '1948', 7.3), ('Luv U Alia', '2015', 5.4), ('Lucky', 'IV 2011', 7.1), ('Tera Kya Hoga Johnny', '2009', 6.1), ('Fajr al islam', '1971', 6.0), ('Mrigayaa', '1977', 7.5), ('Soundtrack', 'I 2011', 7.2), ('Manjunath', '2014', 7.2), ('Around the World', '1967', 6.1), ('Jai Veeru: Friends Forever', '2009', 3.6), ('Dil Ka Rishta', '2003', 4.8), ('Saathi', '1991', 6.7), ('Suryavanshi', '1992', 4.7), ('Hero', 'II 1983', 6.8), ('Jhooth Bole Kauwa Kaate', '1998', 5.7), ('Sabse Bada Khiladi', '1995', 6.6), ('Bhai', '1997', 5.1), ('Villu', '2009', 3.5), ('Khal-Naaikaa', '1993', 3.8), ('Khela', '2008', 7.0), ('Jaane Hoga Kya', '2006', 2.9), ('Pardesi', '1957', 7.1), ('Daas', '2005', 3.6), ('Thulasi', '2007', 5.4), ('Warrant', '1975', 7.0), ('Maanthrikam', '1995', 6.3), ('Ishq Ishq Ishq', '1974', 7.3), ('Paranthe Wali Gali', '2014', 5.0), ('Chehraa', '2005', 4.2), ('Apna Desh', '1972', 7.1), ('The Angrez', '2006', 7.2), ('C.I.D.', '1990', 4.8), ('Raaste Kaa Patthar', '1972', 5.9), ('Sheesha', '2005', 3.5), ('When Kiran Met Karen', '2008', 5.2), ('Shararat', '2002', 4.7), ('Rok Sako To Rok Lo', '2004', 6.5), ('Parakh', '1960', 7.5), ('Sagina', '1974', 7.2), ('Indira Priyanka', '1996', 7.0), ('Aakrosh: Cyclone of Anger', '1998', 4.8), ('Tarana', '1951', 7.6), ('Kabhi Na Kabhi', '1998', 4.3), ('Main Hoon Khiladiyon Ka Khiladi', '2004', 9.4), ('Bachke Rehna Re Baba', '2005', 2.9), ('36 Ghante', '1974', 6.9), ('Mere Khwabon Mein Jo Aaye', '2009', 5.7), ('Hari Puttar: A Comedy of Terrors', '2008', 2.0), ('Naseeb', '1997', 5.3), ('Maya Bazaar', '1957', 9.2), ('Chhota Bheem and the Throne of Bali', '2013', 6.9), ('Maharaja', '1998', 3.8), ('Jallaad', '1995', 5.8), ('Dosti', '1964', 8.4), ('Hamraaz', '1967', 7.2), ('Motu Patlu: King of Kings', '2016', 7.5), ('Lal Baadshah', '1999', 3.3), ('Dharavi', '1992', 7.2), ('Arvind Desai Ki Ajeeb Dastaan', '1978', 7.3), ('Sadhu Aur Shaitaan', '1968', 6.8), ('Iti Mrinalini: An Unfinished Letter...', '2010', 6.9), ('Turning 30!!!', '2011', 5.2), ('Yuvaraju', '2000', 5.9), ('Agni Pankh', '2004', 5.4), ('Love in Nepal', '2004', 4.0), ('Sankat City', '2009', 6.3), ('Love Express', '2011', 5.4), ('Sahebzaade', '1992', 4.3), ('Ankahee', '2006', 4.3), ('The Waiting Room', 'IV 2010', 6.0), ('Taaqat', '1995', 5.1), ('Miley - Naa Miley - Hum', '2011', 3.9), ('Naaga', '2003', 4.4), ('Hello Hum Lallann Bol Rahe Hain', '2010', 6.3), ('Yeh Kya Ho Raha Hai?', '2002', 4.8), ('Party', '1984', 7.1), ('Escape from Taliban', '2003', 4.5), ('Himmatwala', '1983', 4.4), ('Haqeeqat', '1995', 4.5), ('Radha Ka Sangam', '1992', 5.3), ('10ml LOVE', '2010', 6.3), ('Pyaar Mein Twist', '2005', 5.9), ('Challo Driver', '2012', 6.0), ('Woodstock Villa', '2008', 3.6), ('Delhii Heights', '2007', 4.5), ('Shuruaat Ka Interval', '2014', 7.6), ('Annarth', '2002', 3.6), ('Maya', 'I 2001', 7.0), ('Hero Hiralal', '1988', 6.2), ('Do Ladke Dono Kadke', '1979', 6.5), ('Pudhiya Geethai', '2003', 4.2), ('Mee Sindhutai Sapkal', '2010', 7.0), ('Tum Haseen Main Jawan', '1970', 7.1), ('Dhund: The Fog', '2003', 2.1), ('Lahu Ke Do Rang', '1979', 6.7), ('Life Goes On', 'I 2009', 6.3), ('Ranga', '1982', 6.1), ('Banarasi Babu', '1973', 6.9), ('Kissaa Kursee Kaa', '1978', 7.7), ('Bubble Gum', 'II 2011', 7.3), ('Abhimanyu', '1991', 7.1), ('Ranbanka', '2015', 4.7), ('Professor Ki Padosan', '1994', 6.6), ('Jugni', '2016', 6.1), ('Chor chor super chor', '2013', 6.7), ('Tere Pyaar Mein', '2000', 5.9), ('Humjoli', '1970', 6.0), ('Sainik', '1993', 6.7), ('Hukumat', '1987', 6.2), ('Shart: The Challenge', '2004', 4.7), ('Yeh Dooriyan', '2011', 5.0), ('Jhoothi', '1985', 6.8), ('Yugpurush: A Man Who Comes Just Once in a Way', '1998', 6.4), ('Massey Sahib', '1987', 7.6), ('Inaam Dus Hazaar', '1987', 6.5), ('Biwi O Biwi', '1981', 6.8), ('Rui Ka Bojh', '1997', 7.5), ('Himalay Putra', '1997', 4.7), ('Gopichand Jasoos', '1982', 6.3), ('Mr Prime Minister', '2005', 5.1), ('Out of Control', '2003', 3.3), ('Kiccha', '2003', 7.4), ('Joshila', '1973', 6.5), ('Hubballi', '2006', 7.0), ('Dhuan', '1981', 7.2), ('New Delhi Times', '1986', 7.4), ('Jaago', '2004', 6.7), ('7 1/2 Phere: More Than a Wedding', '2005', 5.3), ('Badlapur Boys', '2014', 4.8), ('The Bright Day', '2015', 5.8), ('Raja', '1995', 5.3), ('Prahaar: The Final Attack', '1991', 7.9), ('Mashaal', '1984', 7.5), ('Haathi Mere Saathi', '1971', 7.0), ('Loha', '1997', 5.9), ('Hum Kisise Kum Naheen', '1977', 7.2), ('Prem', '1995', 4.2), ('Game Over', 'IV 2017', 6.9), ('Chinar Daastaan-E-Ishq', '2015', 7.1), ('Utt Pataang', '2011', 6.0), ('Mammo', '1994', 7.7), ('Aadamkhor', '2018', 8.1), ('Aggar: Passion Betrayal Terror', '2007', 4.3), ('Amir Garib', '1974', 6.8), ('Mera Damad', '1995', 3.2), ('Ghashiram Kotwal', '1976', 6.8), ('Govindha Govindha', '1993', 6.8), ('Saat Rang Ke Sapne', '1998', 6.0), ('Rihaee', '1988', 7.1), ('Pagla Kahin Ka', '1970', 7.2), ('Oops!', '2003', 3.5), ('U R My Jaan', '2011', 6.0), ('Identity Card', '2014', 5.9), ('Bluff Master', '1963', 6.3), ('Mawaali', '1983', 5.4), ('Hulla', '2008', 6.4), ('Mahathma', '2009', 6.0), ('Rain: The Terror Within...', '2005', 3.4), (\"Say Salaam India: 'Let's Bring the Cup Home'\", '2007', 6.5), ('Joroo Ka Ghulam', '1972', 7.0), ('Hava Aney Dey', '2004', 6.2), ('Siskiyaan', '2005', 5.1), ('Khatarnaak', '1990', 5.5), ('Lok Parlok', '1979', 6.0), ('Ya Rab', '2014', 6.2), ('Varadanayaka', '2013', 6.2), ('Kitaab', '1977', 7.3), ('Mujhe Meri Biwi Se Bachaao', '2001', 4.3), ('Ehsaas: The Feeling', '2001', 5.5), ('Dil Pe Mat Le Yaar!!', '2000', 4.9), ('Kismet', '1943', 7.5), ('Overnight', '2007', 5.1), ('I Am Singh', '2011', 5.2), ('Aaj Ki Awaz', '1984', 5.6), ('Bhookailas', '1958', 7.3), ('Mass', '2004', 6.3), ('Sohni Mahiwal', '1984', 6.1), ('Kya Yehi Pyaar Hai', '2002', 3.8), ('Tohfa', '1984', 5.7), ('Badal', '2000', 4.9), ('Veera Parampare', '2010', 7.0), ('Naukri', '1978', 7.0), ('Ghar Ka Chiraag', '1989', 5.9), ('Aamne - Saamne', '1967', 6.3), ('Vetri Vizha', '1989', 7.1), ('Jagriti', '1956', 7.1), ('Moksha: Salvation', '2001', 6.4), ('Hyderabad Blues 2', '2004', 6.1), ('Rules: Pyaar Ka Superhit Formula', '2003', 6.4), ('Bandhe Haath', '1973', 6.2), ('Pratikar', '1991', 5.4), ('Saraswathi Sabatham', '1966', 7.6), ('Kaafiron Ki Namaaz', '2013', 7.0), ('Encounter: The Killing', '2002', 6.7), ('Faryad moorcheha', '2006', 6.2), ('Oass', '2012', 6.7), ('Taqdeer', '1983', 5.8), ('Mr. Bechara', '1996', 5.5), ('Love Khichdi', '2009', 5.8), ('Surakksha', '1979', 7.2), ('Wan Pipel', '1976', 6.9), ('Life Ki Toh Lag Gayi', '2012', 5.8), ('Pehchaan: The Face of Truth', '2005', 6.1), ('Raat Gayi, Baat Gayi?', '2009', 6.3), ('Souryam', '2008', 6.0), ('Bas Itna Sa Khwaab Hai...', '2001', 3.9), ('Team: The Force', '2009', 4.3), ('Achhut Kanya', '1936', 7.2), ('Ishk Actually', '2013', 2.6), ('Partha', '2003', 7.2), ('Bindhaast', '1999', 7.1), ('Daisy', '1988', 7.3), ('Bombay 405 Miles', '1980', 7.2), ('Mumbai Cha Raja', '2012', 6.6), ('Beti No. 1', '2000', 3.7), ('Dharm Adhikari', '1986', 6.1), ('Jhanak Jhanak Payal Baaje', '1955', 7.2), ('Halla Gulla', '2015', 5.7), ('Fruit & Nut', '2009', 3.1), ('Janwar', '1965', 7.0), ('Kadamban', '2017', 5.3), ('Desamuduru', '2007', 6.1), ('Rang', '1993', 5.0), ('Akhiyon Se Goli Maare', '2002', 5.0), ('Kroadh', '1990', 5.2), ('Love in Simla', '1960', 7.3), ('Kab? Kyoon? Aur Kahan?', '1970', 7.2), ('Mohan Joshi Hazir Ho!', '1984', 7.1), ('Sheen', '2004', 6.2), ('Kasauti', '1974', 6.3), ('Gauri: The Unborn', '2007', 4.5), ('Gladiatorerna', '1969', 6.8), ('Garam Masala', '1972', 6.1), ('Teen Thay Bhai', '2011', 4.3), ('Mrugaraaju', '2001', 4.4), ('Aakhari Decision', '2010', 6.0), ('Fear', 'I 2007', 4.0), ('Frozen', '2007', 7.0), ('27 Down', '1974', 7.6), ('Laawaris', '1999', 4.3), ('Devdas', '1936', 6.4), ('Swami Dada', '1982', 6.4), ('Phool Aur Angaar', '1993', 6.8), ('Vinashak - Destroyer', '1998', 5.2), ('Waaris', '1988', 6.7), ('Toofan', 'I 1989', 4.8), ('Hello Mumbai: Salaam Mumbai', '2016', 4.2), ('Apna Sapna Money Money', '2006', 5.3), ('Hum Hain Kamaal Ke', '1993', 5.7), ('The Hangman', '2005', 7.0), ('Chala Mussaddi - Office Office', '2011', 6.0), ('Duet', '1994', 6.6), ('Meera', '1979', 7.3), ('Disha', '1990', 7.2), ('Bhageeratha', '2005', 5.6), ('Cycle Kick', '2011', 6.9), ('Andhrudu', '2005', 6.6), ('The 20 Questions Murder Mystery', '1950', 6.3), ('Three: Love, Lies, Betrayal', '2009', 5.8), ('Nalla', '2004', 7.2), ('Drohi', '1992', 6.1), ('Aadmi Ki Aurat Aur Anya Kahaniya', '2009', 7.8), ('Allari Ramudu', '2002', 4.5), ('Hastey Hastey Follow Your Heart', '2008', 2.2), ('Ankahee', '1985', 7.7), ('Bandhan', 'I 1969', 7.0), ('The Gentleman', '1994', 5.8), ('Hollywood', '2003', 7.1), ('Luv U Soniyo', '2012', 5.5), ('Musafir', '1957', 7.6), ('Yagnam', '2004', 6.2), ('Is Raat Ki Subah Nahin', '1996', 7.1), ('Paromitar Ek Din', '2000', 7.2), ('Chota Jadugar', '2003', 3.9), ('Stumped', '2003', 3.8), ('Missing on a Weekend', '2016', 4.6), ('Detective Naani', '2009', 6.4), ('Khoya', '2015', 8.2), ('Rowdy Inspector', '1992', 7.5), ('Yaara Silly Silly', '2015', 5.7), ('Humko Tumse Pyaar Hai', '2006', 5.1), ('Haan Maine Bhi Pyaar Kiya', '2002', 4.1), ('Bin Bulaye Baraati', '2011', 3.8), ('Bees Saal Baad', '1988', 5.2), ('Aghaat', '1985', 7.2), ('Chhal', '2002', 6.2), ('Saaz', '1997', 7.2), ('Sharada', '1957', 6.5), ('Pankh', '2010', 4.2), ('Samudram', '1999', 6.7), ('Toh Baat Pakki!', '2010', 5.3), ('Zindaggi Rocks', '2006', 4.2), ('Victoria No. 203: Diamonds Are Forever', '2007', 3.7), ('Mai', '2013', 6.9), ('Daal Mein Kuch Kaala Hai', '2012', 4.1), ('The Rally', '2017', 8.5), ('Coffee Bloom', '2015', 6.5), ('Naya Din Nai Raat', '1974', 7.1), ('Naukari', '1954', 7.8), ('Once Upon a Time in Bihar', '2015', 7.2), ('House No. 44', '1955', 7.4), (\"Vaibhav Sethia: Don't\", '2018', 6.9), ('Adharm', '1992', 5.2), ('Jeevan Dhaara', '1982', 7.3), ('Showbiz', '2007', 4.0), ('Andarivaadu', '2005', 4.4), ('Aadmi', '1993', 6.5), ('Sadda Adda', '2011', 7.2), ('Jaan Tere Naam', '1992', 6.4), ('Loafer', '1973', 7.1), ('Jigar', '1992', 4.8), ('Antarnaad', '1991', 5.7), ('Pazhani', '2008', 3.3), ('Kis Kis Ki Kismat', '2004', 2.6), ('Sapnon Ka Saudagar', '1968', 7.4), ('Shaheed', '1948', 6.9), ('Khandhar', '1984', 7.2), ('Parineeta', '1953', 7.5), ('Chase', 'I 2010', 4.8), ('Dahek: A Burning Passion', '1999', 5.8), ('Palkon Ki Chhaon Mein', '1977', 7.7), ('Sardari Begum', '1996', 6.9), ('New Delhi', '1956', 7.5), ('Gudgudee', '1997', 4.6), ('Kalaignan', '1993', 6.4), ('Mujhe Jeene Do', '1963', 7.9), ('Hotel Very Welcome', '2007', 6.5), ('Ab Ayega Mazaa', '1984', 6.8), ('Shadow', 'I 2009', 5.0), ('Aashiq Hoon Baharon Ka', '1977', 5.6), ('A Film by Aravind', '2005', 7.1), ('Subhash Chandra Bose', '2005', 3.0), ('Achanak', '1973', 7.0), ('Jogan', '1950', 7.4), ('Duvidha', '1973', 7.2), ('Jaan', '1996', 4.0), ('Mera Gaon Mera Desh', '1971', 7.2), ('Marte Dam Tak', '1987', 6.0), ('Banjaran', '1991', 5.3), ('Nagina', '1986', 6.6), ('7 Welcome to London', '2012', 5.0), ('Yatra', '2006', 6.1), ('Inspector Balram', '1991', 6.9), ('Baat Bann Gayi', '2013', 5.3), ('Go', '2007', 2.7), ('Do Jasoos', '1975', 6.2), ('Drishti', '1990', 7.3), ('Vazhve Mayam', '1982', 6.9), ('Safari', '1999', 4.6), ('Chaahat Ek Nasha...', '2005', 4.0), ('Dadar Kirti', '1980', 7.2), ('Hari-Bhari', '2000', 7.1), ('Naseem', '1995', 7.6), ('Satyameva Jayate', '2000', 5.3), ('Dekh Tamasha Dekh', '2014', 6.1), ('Attahaasa', '2013', 7.1), ('Veettilekkulla Vazhi', '2011', 6.8), ('Chhailla Babu', '1977', 7.0), ('Balwaan', '1992', 4.4), ('Bandh Darwaza', '1990', 5.1), ('Vijaypath', '1994', 5.0), ('Mujrim', 'I 1989', 5.8), ('Love You Hamesha', '2001', 5.0), ('Majhli Didi', '1967', 7.7), ('The Film Emotional Atyachar', '2010', 6.0), ('Chann Pardesee', '1980', 8.2), ('Alavuddinum Athbutha Vilakkum', '1979', 6.8), ('Bach ke Zara', '2008', 2.9), ('Raghavendra', '2003', 5.0), ('Ikke Pe Ikka', '1994', 4.5), ('Man On Mission Jaanbaaz', '2005', 8.3), ('Ek Hota Vidushak', '1992', 7.9), ('Gangoobai', '2013', 7.5), ('Anjaam', '2007', 6.2), ('Shriman Shrimati', '1982', 6.5), ('Maan Gaye Mughall-E-Azam', '2008', 3.1), ('Chudail Story', '2016', 2.9), ('Do Kaliyaan', '1968', 6.2), ('Yeh Dil Aashiqanaa', '2002', 4.4), ('Julie', '1975', 6.1), ('Sweetiee Weds NRI', '2017', 3.7), ('Sapne Saajan Ke', '1992', 3.4), ('Barefoot to Goa', '2015', 5.8), ('Jugaad', '2009', 5.2), ('Tarpan The Absolution', '1995', 7.4), ('Zara Si Zindagi', '1983', 7.7), ('Station', 'I 2014', 7.6), ('Vakratunda Mahakaaya', '2013', 7.5), ('Chhodo Kal Ki Baatein', '2012', 7.1), ('Vihir', '2009', 7.2), ('Anjaane: The Unkown', '2005', 4.1), ('Via Darjeeling', '2008', 5.4), ('Monica', '2011', 5.6), ('Afsana Dilwalon Ka', '2001', 3.6), ('Khap', '2011', 5.8), ('Kudiyon Ka Hai Zamaana', '2006', 3.6), ('Mera Dil Leke Dekho', '2006', 7.1), ('Ugly Aur Pagli', '2008', 3.8), ('Thayillamal Nannilai', '1979', 6.7), (\"Jo Dooba So Paar: It's Love in Bihar!\", '2011', 5.8), ('Anand Math', '1952', 7.5), ('Grahan', '2001', 5.2), ('Genesis', '1986', 7.3), ('Ab Dilli Dur Nahin', '1957', 7.6), ('Jagir', '1984', 6.5), ('Bol Radha Bol', '1992', 6.1), ('Swarg', '1990', 6.7), ('Bunny', '2005', 5.8), ('Be-Careful', '2011', 3.2), ('Prem Kaa Game', '2010', 3.6), ('Dilwale:The Brave Heart', '2001', 9.3), ('Lezioni di volo', '2007', 6.3), ('Damul', '1985', 7.6), ('Sadiyaan: Boundaries Divide... Love Unites', '2010', 4.5), ('Supari', '2003', 4.5), ('Uttar Dakshin', '1987', 4.8), ('Radio: Love on Air', '2009', 3.1), ('Gospel Movie: Who Is My Lord', '2017', 9.1), ('Badmashiyaan', '2015', 4.7), ('Jigyaasa', '2006', 5.1), ('Oraalppokkam', '2014', 8.1), ('Life Mein Kabhie Kabhiee', '2007', 6.2), ('Chorus', '1975', 7.5), ('Zaalim', '1994', 5.8), ('Ghar Ghar Ki Kahani', '1988', 5.0), ('Tum Se Achcha Kaun Hai', '2002', 4.7), ('Maidan-E-Jung', '1995', 5.4), ('Budtameez', '1966', 7.4), ('Suno Sasurjee', '2004', 2.6), ('Paisa Vasool', '2004', 4.3), ('Pasand Apni Apni', '1983', 6.6), ('Soch Lo', '2010', 6.6), ('Prematho Raa', '2001', 5.9), ('The Train', '2011', 4.5), ('Sankham', '2009', 5.3), ('Subah Subah', '1983', 8.1), ('Hari Om', '2004', 7.2), ('Walkaway', '2010', 7.6), ('Veer Savarkar', '2001', 7.7), ('Chintu Ji', '2009', 5.8), ('Do Dooni Char', '1968', 7.2), ('Future to Bright Hai Ji', '2012', 6.3), ('Chandu', '2002', 7.3), ('Heeralal Pannalal', '1978', 6.6), ('Mohandas', '2009', 6.6), ('Awara Baap', '1985', 4.9), ('Sivappathikaaram', '2006', 5.5), ('Naughty Boy', '1962', 5.7), ('Veerabhadra', '2005', 2.8), ('Madly Bangali', '2009', 6.9), ('Muqabla', '1993', 4.5), ('Sachaa Jhutha', '1970', 6.8), ('Koi Mere Dil Mein Hai', '2005', 4.8), ('Jung', '1996', 4.1), ('Mohabbat', '1997', 5.4), ('Chhota Bheem and the Curse of Damyaan', '2012', 6.2), ('Noorie', '1979', 6.1), ('88 Antop Hill', '2003', 4.6), ('Shanti Kranti', '1991', 6.8), ('Eduruleni Manishi', '2001', 4.4), ('Curry Munchers', '2011', 5.2), ('Jaali Note', '1960', 7.5), ('Ek Din Achanak', '1989', 6.9), ('Goopi Gawaiya Bagha Bajaiya', '2013', 7.9), ('Thodasa Roomani Ho Jaayen', '1990', 7.1), ('Jo Hum Chahein', '2011', 5.4), (\"Shahrukh Bola 'Khoobsurat Hai Tu'... And She Believed in It\", '2010', 6.2), ('Chhodon Naa Yaar', '2007', 4.6), ('Bhavni Bhavai', '1980', 7.5), ('Kajarya', '2013', 6.6), ('Shaadi Ka Laddoo', '2004', 5.3), ('Thee', '1981', 6.8), ('God Only Knows!', '2007', 5.8), ('Nandhi', '2002', 7.4), ('Uski Roti', '1970', 6.8), ('Ravoyi Chandamama', '1999', 4.9), ('Pyar Jhukta Nahin', '1985', 6.5), ('Haatim Tai', '1990', 5.6), ('Raghuveer', '1995', 4.2), ('Naseeb Apna Apna', '1986', 5.5), ('50 Lakh', '2007', 6.7), ('Gooli', '2008', 6.9), ('Popcorn Khao! Mast Ho Jao', '2004', 4.1), ('Sau Jhooth Ek Sach', '2004', 7.3), ('Sanshodhan', '1996', 7.6), ('Kiccha Huccha', '2010', 6.2), ('Meri Biwi Ki Shaadi', '1979', 6.6), ('The Silent Heroes', '2015', 6.7), ('Raakh: A Poem Masked in Blood', '2007', 3.6), ('Uyirile Kalanthathu', '2000', 7.8), ('C U at 9', '2005', 4.2), ('Umar', '2006', 5.7), ('Neel Kamal', '1947', 7.5), ('Aashiqui.in', '2011', 3.7), ('Dr. Kotnis Ki Amar Kahani', '1946', 7.2), ('Azaad', '2000', 6.2), ('Ginny Aur Johny', '1976', 7.4), ('5 Ghantey Mien 5 Crore', '2012', 5.2), ('Hip Hip Hurray', '1984', 7.5), ('Killer', '1992', 6.4), ('Enakkul Oruvan', '1984', 6.9), ('Diksha', '1991', 7.0), ('Kaisay Kahein...', '2007', 6.4), ('Shreemaan Aashique', '1993', 4.7), ('Tahalka', '1992', 5.6), ('Barood', '1998', 5.5), ('Aag Hi Aag', '1987', 5.3), ('Sins', '2005', 4.2), ('Elaan-E-Jung', '1989', 5.6), ('Khwaabb', '2014', 5.6), ('Chupke Se', '2003', 5.5), ('Man on Mission Fauladi', '2004', 9.6), ('The Great Indian Butterfly', '2007', 6.2), ('Padatik', '1973', 7.1), ('Phir Kabhi', '2008', 7.0), ('Love at Times Square', '2003', 3.6), ('Straight', 'II 2009', 5.9), ('Lakhon Ki Baat', '1984', 6.8), ('Stoovertpuram Police Station', '1991', 6.7), ('Dil Ka Kya Kasoor', '1992', 6.0), ('Daag: The Fire', '1999', 4.8), ('Zapatlela', '1993', 7.5), ('Arjun Pandit', '1999', 5.3), ('Khokababu', '2012', 5.7), ('Muskaan', '2004', 4.5), ('Aamaar Bhuvan', '2002', 8.0), ('Ghar Grihasti', '2004', 5.6), ('Mohre', '1987', 5.5), ('Madholal Keep Walking', '2009', 6.7), ('Meerabai Not Out', '2008', 4.0), ('Payback', '2010', 5.5), ('Lal Darja', '1997', 7.0), ('Aavida Maa Aavide', '1998', 6.4), ('Bolo Raam', '2009', 5.2), ('Damadamm!', '2011', 4.2), ('Kucch Luv Jaisaa', '2011', 4.4), ('Hum Dum', '2005', 7.0), ('Kalloori Vaasal', '1996', 5.5), ('Visakha Express', '2008', 4.9), ('Edegarike', '2012', 7.3), ('Ranga S.S.L.C', '2004', 6.3), ('Sazaye Maut', '1981', 7.4), ('Mr. Theertha', '2010', 7.0), ('Sahi Dhandhe Galat Bande', '2011', 4.8), ('Love Birds', '1997', 5.1), ('Yaad Rakhegi Duniya', '1992', 7.6), ('Narasimha', '1991', 5.7), ('Maa', 'I 1992', 6.2), ('Ankhiyon Ke Jharokhon Se', '1978', 7.1), ('Ab Ke Baras', '2002', 3.4), ('Ajay', '1996', 3.9), ('Ek Duuje Ke Liye', '1981', 7.5), ('Ganga', '2006', 5.0), ('Rudranetra', '1989', 7.0), ('Satrangee Parachute', '2011', 5.5), ('Pestonjee', '1988', 7.1), ('Once We Were Strangers', '1997', 6.7), ('Oru Kaidhiyin Diary', '1985', 7.0), ('Kairee', '1999', 7.7), ('Morning Walk', '2009', 4.6), ('Miss India: The Mystery', '2003', 3.6), ('Phir Subha Hogi', '1958', 7.7), ('Ooops a Desi', '2013', 7.0), ('Snip!', '2000', 6.3), ('The Prince of Light', '2000', 7.0), ('Doodh Ka Karz', '1990', 5.0), ('Izzat', '1968', 7.2), ('Dushmani: A Violent Love Story', '1995', 5.2), ('Teri Meherbaniyan', '1985', 5.3), ('Dance of the Wind', '1997', 6.6), ('Mumbai Matinee', '2003', 5.3), ('Mahakali Ka Insaaf', '2001', 9.6), ('Ek Din 24 Ghante', '2003', 4.0), ('The Taste of Relation', '2009', 7.2), ('Bhootnath', '1963', 6.4), ('White Rainbow', '2004', 7.2), ('Ottran', '2003', 5.7), (\"Let's Enjoy\", '2004', 6.6), ('Hamari Bahu Alka', '1982', 6.8), ('Masala Republic', '2014', 5.4), ('Bagh Bahadur', '1989', 7.9), ('Target', '1995', 7.8), ('Ghatotkachudu', '1995', 7.2), ('Mohabbat', '1985', 5.9), ('Raja Ki Ayegi Baraat', '1997', 3.8), ('Captain Prabhakaran', '1991', 7.1), ('Nigahen: Nagina Part II', '1989', 5.2), ('Sathyam', '2008', 5.2), ('Impatient Vivek', '2011', 2.3), ('Life! Camera Action...', '2012', 6.0), ('Daayen Ya Baayen', '2010', 6.1), ('Shuttlecock Boys', '2011', 5.9), ('Surkhaab', '2014', 6.5), ('Sirf....: Life Looks Greener on the Other Side', '2008', 6.0), ('Laadli Laila', '2009', 5.9), ('Siddharth: The Prisoner', '2009', 6.6), ('Kal: Yesterday and Tomorrow', '2005', 6.4), ('Thirupathi', '2006', 6.6), ('Tandoori Love', '2008', 5.2), (\"It's Breaking News\", '2007', 5.5), ('Maya Darpan', '1972', 6.9), ('Kaadhal Parisu', '1987', 6.1), ('Boss', '2006', 4.4), ('Hei ma lai ah sing', '2005', 3.8), ('Ashwamedham', '1992', 7.2), ('Kvelaferi kargad iqneba', '2009', 6.0), ('Seema Simham', '2002', 5.1), ('Angel', 'I 2011', 6.6), ('Junglee', '1961', 7.3), ('Phool Bane Angaarey', '1991', 4.9), ('Fakira', '1976', 6.5), ('Maa Tujhhe Salaam', '2002', 3.5), ('Le Halua Le', '2012', 6.0), ('Shohrat the Trap', '2018', 6.5), ('The Untitled Kartik Krishnan Project', '2010', 6.4), ('Chettaniki Kallu Levu', '1981', 7.8), ('Dansh', '2005', 7.2), ('Ram Raaj', '2008', 7.5), ('Aaj Ka Arjun', '1990', 4.7), ('Goa Dalli CID 999', '1968', 8.5), ('Military Officer', '1998', 9.4), ('Man on Mission Taqatwar', '2005', 9.5), ('Raasaiyya', '1995', 5.2), ('Finding Preet', '2006', 5.0), ('Ek Hi Raasta', '1993', 3.6), ('Mehndi', '1998', 3.5), ('Raja Aur Rangeeli', '1996', 9.0), ('Thoongathey Tambi Thoongathey', '1983', 7.0), ('Bewafa Sanam', '1995', 6.4), ('Geet Gaata Chal', '1975', 7.7), ('Allah-Rakha', '1986', 6.2), ('Anari', '1993', 4.7), ('Come December', '2006', 5.7), ('Kala Jigar', '1939', 3.3), ('Kanoon', '1994', 3.2)]\n"
          ]
        }
      ]
    },
    {
      "cell_type": "code",
      "source": [
        "def q2_grader(q2):\n",
        "  result = pd.read_sql_query(q2, conn)\n",
        "  return result.shape == (3473, 3) and result['title'][0]=='Mowgli'\n",
        "print(q2_grader(q2))"
      ],
      "metadata": {
        "colab": {
          "base_uri": "https://localhost:8080/"
        },
        "id": "gyk9b2uvd5O6",
        "outputId": "15d217f4-f3c1-475a-b0ec-ce1c2557d113"
      },
      "execution_count": null,
      "outputs": [
        {
          "output_type": "stream",
          "name": "stdout",
          "text": [
            "True\n"
          ]
        }
      ]
    },
    {
      "cell_type": "markdown",
      "source": [
        "## 3. Write query to get title of first movie in movie table sorted by year in ascending order\n"
      ],
      "metadata": {
        "id": "EvD979LNeaFm"
      }
    },
    {
      "cell_type": "code",
      "source": [
        "q3 = \"\"\"select title from Movie order by year asc limit 1\"\"\"\n",
        "cursor.execute(q3)\n",
        "print(cursor.fetchall())"
      ],
      "metadata": {
        "id": "noFVuK27eczz",
        "colab": {
          "base_uri": "https://localhost:8080/"
        },
        "outputId": "0e5a92b5-5b11-4ce6-b472-bef3d89d1ccc"
      },
      "execution_count": 29,
      "outputs": [
        {
          "output_type": "stream",
          "name": "stdout",
          "text": [
            "[('Alam Ara',)]\n"
          ]
        }
      ]
    },
    {
      "cell_type": "code",
      "source": [
        "def q3_grader(q3):\n",
        "  result = pd.read_sql_query(q3, conn)\n",
        "  return result['title']=='Alam Ara'\n",
        "print(q3_grader(q3))"
      ],
      "metadata": {
        "colab": {
          "base_uri": "https://localhost:8080/"
        },
        "id": "jpGuMnkveeU5",
        "outputId": "a1fd4e02-2b1c-49ce-f320-9c54903732c4"
      },
      "execution_count": 30,
      "outputs": [
        {
          "output_type": "stream",
          "name": "stdout",
          "text": [
            "0    True\n",
            "Name: title, dtype: bool\n"
          ]
        }
      ]
    },
    {
      "cell_type": "markdown",
      "source": [
        "## 4. Write query to get the very first year in which Devdas movie was released"
      ],
      "metadata": {
        "id": "ZQVPvM8qgl3k"
      }
    },
    {
      "cell_type": "code",
      "source": [
        "q4 = \"\"\"select year from movie where title = 'Devdas' order by year asc limit 1\"\"\"\n",
        "cursor.execute(q4)\n",
        "print(cursor.fetchall())"
      ],
      "metadata": {
        "id": "DbvKV1XXgmd9",
        "colab": {
          "base_uri": "https://localhost:8080/"
        },
        "outputId": "0ece23db-8ff0-45e9-cb1e-6c5400a714ea"
      },
      "execution_count": 31,
      "outputs": [
        {
          "output_type": "stream",
          "name": "stdout",
          "text": [
            "[('1936',)]\n"
          ]
        }
      ]
    },
    {
      "cell_type": "code",
      "source": [
        "def q4_grader(q4):\n",
        "  result = pd.read_sql_query(q4, conn)\n",
        "  return result['year']=='1936'\n",
        "print(q4_grader(q4))"
      ],
      "metadata": {
        "colab": {
          "base_uri": "https://localhost:8080/"
        },
        "id": "SJWlc4gCg6Gn",
        "outputId": "e5bea34c-366a-48f9-8fbd-af06ba04074d"
      },
      "execution_count": 32,
      "outputs": [
        {
          "output_type": "stream",
          "name": "stdout",
          "text": [
            "0    True\n",
            "Name: year, dtype: bool\n"
          ]
        }
      ]
    },
    {
      "cell_type": "markdown",
      "source": [
        "## 5. Write query to get the number of movies released in 2018"
      ],
      "metadata": {
        "id": "sLHeXz_siuSW"
      }
    },
    {
      "cell_type": "code",
      "source": [
        "q5 = \"\"\"select count(*) from movie where year = 2018 \"\"\"\n",
        "cursor.execute(q5)\n",
        "print(cursor.fetchall())"
      ],
      "metadata": {
        "id": "fErMDcrFiuzw",
        "colab": {
          "base_uri": "https://localhost:8080/"
        },
        "outputId": "802485e2-6547-44a7-b5a8-614feb6be258"
      },
      "execution_count": 38,
      "outputs": [
        {
          "output_type": "stream",
          "name": "stdout",
          "text": [
            "[(93,)]\n"
          ]
        }
      ]
    },
    {
      "cell_type": "code",
      "source": [
        "def q5_grader(q5):\n",
        "  result = pd.read_sql_query(q5, conn)\n",
        "  return result.iloc[0, 0] == 93\n",
        "print(q5_grader(q5))"
      ],
      "metadata": {
        "colab": {
          "base_uri": "https://localhost:8080/"
        },
        "id": "mV2gadLKi6ow",
        "outputId": "3a3f036d-caef-4119-a15a-ceb45a1cde86"
      },
      "execution_count": 39,
      "outputs": [
        {
          "output_type": "stream",
          "name": "stdout",
          "text": [
            "True\n"
          ]
        }
      ]
    },
    {
      "cell_type": "markdown",
      "source": [
        "## 6. Write query to get the title of the movie with most number of votes in 2012"
      ],
      "metadata": {
        "id": "95Y3MGgsndph"
      }
    },
    {
      "cell_type": "code",
      "source": [
        "q6 = \"\"\"select title,count(*) from movie where year = 2012 order by num_votes \"\"\"\n",
        "cursor.execute(q6)\n",
        "print(cursor.fetchall())"
      ],
      "metadata": {
        "id": "SK-BCCy2j2tz",
        "colab": {
          "base_uri": "https://localhost:8080/"
        },
        "outputId": "215f12c4-e6d9-46fe-90ce-7600c99402bf"
      },
      "execution_count": 46,
      "outputs": [
        {
          "output_type": "stream",
          "name": "stdout",
          "text": [
            "[('The Avengers', 108)]\n"
          ]
        }
      ]
    },
    {
      "cell_type": "code",
      "source": [
        "def q6_grader(q6):\n",
        "  result = pd.read_sql_query(q6, conn)\n",
        "  return result[\"title\"]==\"The Avengers\"\n",
        "print(q6_grader(q6))"
      ],
      "metadata": {
        "colab": {
          "base_uri": "https://localhost:8080/"
        },
        "id": "1s8NPuftj6kO",
        "outputId": "b2d8d2be-5c5f-466f-a158-e18555557d57"
      },
      "execution_count": 47,
      "outputs": [
        {
          "output_type": "stream",
          "name": "stdout",
          "text": [
            "0    True\n",
            "Name: title, dtype: bool\n"
          ]
        }
      ]
    },
    {
      "cell_type": "markdown",
      "source": [
        "## 7. Write SQL query to find all the unique movie titles released in 2018"
      ],
      "metadata": {
        "id": "anmreTN2zRzL"
      }
    },
    {
      "cell_type": "code",
      "source": [
        "q7 = \"\"\"select distinct title from movie where year = 2018\"\"\"\n",
        "cursor.execute(q7)\n",
        "print(cursor.fetchall())"
      ],
      "metadata": {
        "id": "T3gG0QsPzSQz",
        "colab": {
          "base_uri": "https://localhost:8080/"
        },
        "outputId": "76d8f1e2-8e17-4930-8476-44c53b137889"
      },
      "execution_count": 50,
      "outputs": [
        {
          "output_type": "stream",
          "name": "stdout",
          "text": [
            "[('Mowgli',), (\"Ocean's Eight\",), ('Tomb Raider',), ('Tumbbad',), ('Kedarnath',), ('Andhadhun',), ('Rajma Chawal',), ('Manto',), ('Stree',), ('Thugs of Hindostan',), ('Badhaai Ho',), ('Hotel Mumbai',), ('Jalebi',), ('Manmarziyaan',), ('Pataakha',), ('Sanju',), ('Karwaan',), ('Mitron',), ('Padman',), ('Padmaavat',), ('Raazi',), ('Lust Stories',), ('Love Sonia',), ('Batti Gul Meter Chalu',), ('Loveyatri',), ('Love Per Square Foot',), ('Sui Dhaaga: Made in India',), ('FryDay',), ('Bhavesh Joshi Superhero',), ('Sonu Ke Titu Ki Sweety',), ('Satyameva Jayate',), ('Race 3',), ('Parmanu: The Story of Pokhran',), ('Dhadak',), ('Happy Phirr Bhag Jayegi',), ('Laila Majnu',), ('Aiyaary',), ('Baazaar',), ('Raid',), ('Soorma',), ('Veere Di Wedding',), ('Dil Juunglee',), ('Halkaa',), ('Welcome to New York',), ('Hichki',), ('Kaalakaandi',), ('102 Not Out',), ('Baaghi 2',), ('Namaste England',), ('Nanu Ki Jaanu',), ('Mard Ko Dard Nahin Hota',), ('Hate Story IV',), ('Bhaiaji Superhit',), ('Paltan',), ('Yamla Pagla Deewana Phir Se...',), ('Phamous',), ('Nawabzaade',), ('Once Again',), ('Kuchh Bheege Alfaaz',), ('Angrezi Mein Kehte Hain',), ('Bioscopewala',), ('3 Storeys',), ('Saheb Biwi Aur Gangster 3',), ('Teri Bhabhi Hai Pagle',), ('Vishwaroopam 2',), ('Helicopter Eela',), ('Vodka Diaries',), ('High Jack',), ('Lupt',), ('Hope Aur Hum',), ('Silvat',), ('Daas Dev',), ('1921',), ('Kaashi in Search of Ganga',), ('Meri Nimmo',), ('Veerey Ki Wedding',), ('Khajoor Pe Atke',), ('Teen Aur Aadha',), ('The Dark Side of Life: Mumbai City',), ('Baarish Aur Chowmein',), ('Soni',), ('Subedar Joginder Singh',), ('Hey Ram Hamne Gandhi Ko maar Diya',), ('Phir Se...',), ('My Birthday Song',), ('T for Taj Mahal',), ('Nirdosh',), ('Haseena',), ('Leera the Soulmate',), ('Shaadi Teri Bajayenge Hum Band',), ('Aadamkhor',), (\"Vaibhav Sethia: Don't\",), ('Shohrat the Trap',)]\n"
          ]
        }
      ]
    },
    {
      "cell_type": "code",
      "source": [
        "def q7_grader(q7):\n",
        "  result = pd.read_sql_query(q7, conn)\n",
        "  return result.shape==(93, 1)\n",
        "print(q7_grader(q7))"
      ],
      "metadata": {
        "colab": {
          "base_uri": "https://localhost:8080/"
        },
        "id": "ndp9snvBz0U5",
        "outputId": "c054ce08-83bc-4714-8ceb-69a5bd59d889"
      },
      "execution_count": 51,
      "outputs": [
        {
          "output_type": "stream",
          "name": "stdout",
          "text": [
            "True\n"
          ]
        }
      ]
    },
    {
      "cell_type": "markdown",
      "source": [
        "## 8. Write SQL query to get total number of movies released between 2017 (inclusive) and 2018 (inclusive)"
      ],
      "metadata": {
        "id": "TZEjK38M1Q8q"
      }
    },
    {
      "cell_type": "code",
      "source": [
        "q8 = \"\"\"select count(*) from movie where year between 2017 and 2018 \"\"\"\n",
        "cursor.execute(q8)\n",
        "print(cursor.fetchall())"
      ],
      "metadata": {
        "id": "vXz5lPZ80j3-",
        "colab": {
          "base_uri": "https://localhost:8080/"
        },
        "outputId": "4049f586-4590-48f6-89cf-a3306b896f18"
      },
      "execution_count": 65,
      "outputs": [
        {
          "output_type": "stream",
          "name": "stdout",
          "text": [
            "[(211,)]\n"
          ]
        }
      ]
    },
    {
      "cell_type": "code",
      "source": [
        "def q8_grader(q8):\n",
        "  result = pd.read_sql_query(q8, conn)\n",
        "  return result.iloc[0, 0] == 211\n",
        "print(q8_grader(q8))"
      ],
      "metadata": {
        "colab": {
          "base_uri": "https://localhost:8080/"
        },
        "id": "p9wXgEae02ZV",
        "outputId": "2df6614e-7d40-45ef-d3cf-0329ce1d0d03"
      },
      "execution_count": 66,
      "outputs": [
        {
          "output_type": "stream",
          "name": "stdout",
          "text": [
            "True\n"
          ]
        }
      ]
    },
    {
      "cell_type": "markdown",
      "source": [
        "## 9. Write SQL query to find the year in which maximum number of movies released"
      ],
      "metadata": {
        "id": "L7WKxoUU3Ai6"
      }
    },
    {
      "cell_type": "code",
      "source": [
        "q9 = \"\"\"select year from movie group by year order by count(year) desc limit 1\"\"\"\n",
        "cursor.execute(q9)\n",
        "print(cursor.fetchall())"
      ],
      "metadata": {
        "id": "fktY0SbY1qSA",
        "colab": {
          "base_uri": "https://localhost:8080/"
        },
        "outputId": "45ce7df1-bc7f-4f84-f804-0b83da937732"
      },
      "execution_count": 73,
      "outputs": [
        {
          "output_type": "stream",
          "name": "stdout",
          "text": [
            "[('2005',)]\n"
          ]
        }
      ]
    },
    {
      "cell_type": "code",
      "source": [
        "def q9_grader(q9):\n",
        "  result = pd.read_sql_query(q9, conn)\n",
        "  return result[\"year\"][0]==\"2005\"\n",
        "print(q9_grader(q9))"
      ],
      "metadata": {
        "colab": {
          "base_uri": "https://localhost:8080/"
        },
        "id": "yiYfQr1R13As",
        "outputId": "363111ed-587d-4ff0-c696-008662a82a53"
      },
      "execution_count": 74,
      "outputs": [
        {
          "output_type": "stream",
          "name": "stdout",
          "text": [
            "True\n"
          ]
        }
      ]
    },
    {
      "cell_type": "markdown",
      "source": [
        "## 10. Write SQL query to find the title of the movie with rating>9.5 and number of votes > 90"
      ],
      "metadata": {
        "id": "dP2eLdzq7lBM"
      }
    },
    {
      "cell_type": "code",
      "source": [
        "q10 = \"\"\"select title from movie where rating > 9.5 and num_votes > 90\"\"\"\n",
        "cursor.execute(q10)\n",
        "print(cursor.fetchall())"
      ],
      "metadata": {
        "id": "DUCNjcQM3VG-",
        "colab": {
          "base_uri": "https://localhost:8080/"
        },
        "outputId": "302ebf37-bc59-4f97-f0a7-33a32137e0c5"
      },
      "execution_count": 79,
      "outputs": [
        {
          "output_type": "stream",
          "name": "stdout",
          "text": [
            "[('Man on Mission Fauladi',)]\n"
          ]
        }
      ]
    },
    {
      "cell_type": "code",
      "source": [
        "def q10_grader(q10):\n",
        "  result = pd.read_sql_query(q10, conn)\n",
        "  return result[\"title\"][0]==\"Man on Mission Fauladi\"\n",
        "print(q10_grader(q10))"
      ],
      "metadata": {
        "colab": {
          "base_uri": "https://localhost:8080/"
        },
        "id": "njqsiZo-3e6o",
        "outputId": "c9aa8b49-f6bc-49f1-d938-8ae542d5aa65"
      },
      "execution_count": 80,
      "outputs": [
        {
          "output_type": "stream",
          "name": "stdout",
          "text": [
            "True\n"
          ]
        }
      ]
    },
    {
      "cell_type": "markdown",
      "source": [
        "## 11. Write SQL query to find the number of movies which has the word 'Dilwale' in their title"
      ],
      "metadata": {
        "id": "7Ov94gw_949N"
      }
    },
    {
      "cell_type": "code",
      "source": [
        "q11 = \"\"\"select count(*) from movie where title like '%Dilwale%' \"\"\"\n",
        "cursor.execute(q11)\n",
        "print(cursor.fetchall())"
      ],
      "metadata": {
        "id": "9T5y3B1z8H4v",
        "colab": {
          "base_uri": "https://localhost:8080/"
        },
        "outputId": "ae3e97df-5350-43df-819f-e1811ec8698d"
      },
      "execution_count": 91,
      "outputs": [
        {
          "output_type": "stream",
          "name": "stdout",
          "text": [
            "[(4,)]\n"
          ]
        }
      ]
    },
    {
      "cell_type": "code",
      "source": [
        "def q11_grader(q11):\n",
        "  result = pd.read_sql_query(q11, conn)\n",
        "  return result.iloc[0, 0] == 4\n",
        "print(q11_grader(q11))"
      ],
      "metadata": {
        "colab": {
          "base_uri": "https://localhost:8080/"
        },
        "id": "gvtXmjaz8lfg",
        "outputId": "839288de-e389-4e54-aac7-9364437e17a7"
      },
      "execution_count": 92,
      "outputs": [
        {
          "output_type": "stream",
          "name": "stdout",
          "text": [
            "True\n"
          ]
        }
      ]
    },
    {
      "cell_type": "markdown",
      "source": [
        "## 12. Write nested SQL query to find the CID of country which produced most number of movies"
      ],
      "metadata": {
        "id": "5PaMaYb6AwgQ"
      }
    },
    {
      "cell_type": "code",
      "source": [
        "q12 = \"\"\"SELECT CID FROM M_Country\n",
        "GROUP BY CID\n",
        "HAVING COUNT() = ( SELECT MAX(movie_counts)\n",
        "FROM ( SELECT COUNT()\n",
        "AS movie_counts FROM M_Country\n",
        "GROUP BY CID ));\"\"\"\n",
        "cursor.execute(q12)\n",
        "print(cursor.fetchall())"
      ],
      "metadata": {
        "id": "Ey1GZDoG-t2n",
        "colab": {
          "base_uri": "https://localhost:8080/"
        },
        "outputId": "89b0c1bd-4e21-4d8a-db87-c6d208a32f7e"
      },
      "execution_count": 103,
      "outputs": [
        {
          "output_type": "stream",
          "name": "stdout",
          "text": [
            "[(2.0,)]\n"
          ]
        }
      ]
    },
    {
      "cell_type": "code",
      "source": [
        "def q12_grader(q12):\n",
        "  result = pd.read_sql_query(q12, conn)\n",
        "  return result.iloc[0]==2.0\n",
        "print(q12_grader(q12))"
      ],
      "metadata": {
        "colab": {
          "base_uri": "https://localhost:8080/"
        },
        "id": "5gHU4XQO-0E-",
        "outputId": "7240745c-c642-445b-b446-e13453699083"
      },
      "execution_count": 94,
      "outputs": [
        {
          "output_type": "stream",
          "name": "stdout",
          "text": [
            "CID    True\n",
            "Name: 0, dtype: bool\n"
          ]
        }
      ]
    },
    {
      "cell_type": "markdown",
      "source": [
        "## 13. Write nested SQL query to the country which produced most number of movies (use both Courty table and M_Country table)"
      ],
      "metadata": {
        "id": "F0E3Nw4nD7ux"
      }
    },
    {
      "cell_type": "code",
      "source": [
        "q13 = \"\"\"SELECT Name\n",
        "FROM Country\n",
        "WHERE CID =\n",
        " (SELECT CID\n",
        " FROM M_Country\n",
        " GROUP BY CID\n",
        " ORDER BY COUNT(mid) DESC LIMIT 1)\"\"\"\n",
        "cursor.execute(q13)\n",
        "print(cursor.fetchall())"
      ],
      "metadata": {
        "id": "kJaN-L9aBY4Q",
        "colab": {
          "base_uri": "https://localhost:8080/"
        },
        "outputId": "7f6cbc84-7c28-4efb-ecc0-b7120cfa1460"
      },
      "execution_count": 107,
      "outputs": [
        {
          "output_type": "stream",
          "name": "stdout",
          "text": [
            "[('India',)]\n"
          ]
        }
      ]
    },
    {
      "cell_type": "code",
      "source": [
        "def q13_grader(q13):\n",
        "  result = pd.read_sql_query(q13, conn)\n",
        "  return result.iloc[0, 0] == \"India\"\n",
        "print(q13_grader(q13))"
      ],
      "metadata": {
        "colab": {
          "base_uri": "https://localhost:8080/"
        },
        "id": "L8JOMcpjBqZo",
        "outputId": "01412d8a-e708-445d-a6f8-4c92832674a6"
      },
      "execution_count": 108,
      "outputs": [
        {
          "output_type": "stream",
          "name": "stdout",
          "text": [
            "True\n"
          ]
        }
      ]
    },
    {
      "cell_type": "markdown",
      "source": [
        "## 14. Write SQL query to get the year and number of movies per year having number of movies per year is greater than 100"
      ],
      "metadata": {
        "id": "OHcgp0uCF003"
      }
    },
    {
      "cell_type": "code",
      "source": [
        "q14 = \"\"\"select year,count(year) from movie group by year having count(year) > 100\"\"\"\n",
        "cursor.execute(q14)\n",
        "print(cursor.fetchall())"
      ],
      "metadata": {
        "id": "AmIL0LgMENl_",
        "colab": {
          "base_uri": "https://localhost:8080/"
        },
        "outputId": "4ba97628-dd60-438a-d740-0ad9832d1a07"
      },
      "execution_count": 111,
      "outputs": [
        {
          "output_type": "stream",
          "name": "stdout",
          "text": [
            "[('2003', 101), ('2004', 103), ('2005', 128), ('2007', 104), ('2008', 103), ('2010', 117), ('2011', 109), ('2012', 108), ('2013', 127), ('2014', 118), ('2015', 109), ('2016', 118), ('2017', 118)]\n"
          ]
        }
      ]
    },
    {
      "cell_type": "code",
      "source": [
        "def q14_grader(q14):\n",
        "  result = pd.read_sql_query(q14, conn)\n",
        "  return result.shape==(13,2)\n",
        "print(q14_grader(q14))"
      ],
      "metadata": {
        "colab": {
          "base_uri": "https://localhost:8080/"
        },
        "id": "RWWaEwJtE6Uj",
        "outputId": "79e27b2e-ccb3-4f81-92e6-17ff22a5f1a1"
      },
      "execution_count": 112,
      "outputs": [
        {
          "output_type": "stream",
          "name": "stdout",
          "text": [
            "True\n"
          ]
        }
      ]
    },
    {
      "cell_type": "markdown",
      "source": [
        "## 15. Write SQL query to get the Name and Language ID (LAID) corresponding to Malayalam language"
      ],
      "metadata": {
        "id": "LcrzqodqG-Ae"
      }
    },
    {
      "cell_type": "code",
      "source": [
        "q15 = \"\"\"select name,laid from language where name = 'Malayalam'\"\"\"\n",
        "cursor.execute(q15)\n",
        "print(cursor.fetchall())"
      ],
      "metadata": {
        "id": "mZ7EH8emGXJg",
        "colab": {
          "base_uri": "https://localhost:8080/"
        },
        "outputId": "97843207-093d-4b21-99cf-7289155e8597"
      },
      "execution_count": 115,
      "outputs": [
        {
          "output_type": "stream",
          "name": "stdout",
          "text": [
            "[('Malayalam', 19)]\n"
          ]
        }
      ]
    },
    {
      "cell_type": "code",
      "source": [
        "def q15_grader(q15):\n",
        "  result = pd.read_sql_query(q15, conn)\n",
        "  print(result)\n",
        "  return result[[\"Name\", \"LAID\"]].values.tolist() == [['Malayalam', 19]]\n",
        "print(q15_grader(q15))"
      ],
      "metadata": {
        "colab": {
          "base_uri": "https://localhost:8080/"
        },
        "id": "rVRZJXwoGcdX",
        "outputId": "a627dcd7-3cea-4a94-ebc7-14e10490f151"
      },
      "execution_count": 116,
      "outputs": [
        {
          "output_type": "stream",
          "name": "stdout",
          "text": [
            "        Name  LAID\n",
            "0  Malayalam    19\n",
            "True\n"
          ]
        }
      ]
    },
    {
      "cell_type": "markdown",
      "source": [
        "## 16. Write SQL query to do inner join with movie table and M_Language table with MID colums"
      ],
      "metadata": {
        "id": "DvPnI7MDJVoT"
      }
    },
    {
      "cell_type": "code",
      "source": [
        "q16 = \"\"\"select title,year,LAID\n",
        "from movie\n",
        "inner join M_Language\n",
        "on movie.MID = M_Language.MID\"\"\"\n",
        "cursor.execute(q16)\n",
        "print(cursor.fetchall())"
      ],
      "metadata": {
        "id": "ZPO83_w1Hxco",
        "colab": {
          "base_uri": "https://localhost:8080/"
        },
        "outputId": "5b9f550a-7c48-4bd1-ed53-e24f292d94cf"
      },
      "execution_count": 123,
      "outputs": [
        {
          "output_type": "stream",
          "name": "stdout",
          "text": [
            "[('Mowgli', '2018', 0), (\"Ocean's Eight\", '2018', 0), ('Tomb Raider', '2018', 0), ('The Avengers', '2012', 0), ('Tumbbad', '2018', 1), ('Kedarnath', '2018', 2), ('Captain America: Civil War', '2016', 0), ('Andhadhun', '2018', 2), ('Lion', '2016', 0), ('Rajma Chawal', '2018', 2), ('Geostorm', '2017', 0), ('Slumdog Millionaire', '2008', 0), ('2012', 'I 2009', 0), ('Mastizaade', '2016', 2), ('Close Encounters of the Third Kind', '1977', 0), ('Manto', '2018', 2), ('Life of Pi', '2012', 0), ('A Good Day to Die Hard', '2013', 0), ('Pixels', '2015', 0), ('Stree', '2018', 2), ('Thugs of Hindostan', '2018', 2), ('Badhaai Ho', '2018', 2), ('Hotel Mumbai', '2018', 0), ('The Darjeeling Limited', '2007', 0), ('Jalebi', '2018', 2), ('Bend It Like Beckham', '2002', 0), ('Dangal', '2016', 2), ('Manmarziyaan', '2018', 2), ('The Day the Earth Stood Still', '1951', 0), ('Dragonball Evolution', '2009', 0), ('Pataakha', '2018', 2), ('I Origins', '2014', 0), ('Harold & Kumar Go to White Castle', '2004', 0), ('3 Idiots', '2009', 2), ('Taare Zameen Par', '2007', 2), ('Bajirao Mastani', '2015', 2), ('PK', '2014', 2), ('The Hundred-Foot Journey', '2014', 0), ('Gangs of Wasseypur', '2012', 2), ('Seven Years in Tibet', '1997', 0), ('Octopussy', '1983', 0), ('Chung Hing sam lam', '1994', 3), ('Sanju', '2018', 2), ('Victoria & Abdul', '2017', 0), ('Karwaan', '2018', 2), ('Mitron', '2018', 2), ('Padman', '2018', 2), ('Tigers', '2014', 2), ('Ghajini', '2008', 2), ('The Best Exotic Marigold Hotel', '2011', 0), ('Around the World in 80 Days', '2004', 0), ('The Ghost and the Darkness', '1996', 0), ('Padmaavat', '2018', 2), ('Raazi', '2018', 2), ('Bareilly Ki Barfi', '2017', 2), ('Lagaan: Once Upon a Time in India', '2001', 2), ('Lust Stories', '2018', 2), ('My Name Is Khan', '2010', 2), ('Love Sonia', '2018', 2), ('Batti Gul Meter Chalu', '2018', 2), ('Loveyatri', '2018', 2), ('Don 2', '2011', 2), ('Rang De Basanti', '2006', 2), ('Love Per Square Foot', '2018', 2), ('Ugly', '2013', 2), ('Bahubali: The Beginning', '2015', 4), ('Anand', '1971', 2), ('Baahubali 2: The Conclusion', '2017', 4), ('Sui Dhaaga: Made in India', '2018', 2), ('FryDay', '2018', 2), ('Se, jie', '2007', 5), ('Gold', 'I 2018', 2), ('Bhavesh Joshi Superhero', '2018', 2), ('Sonu Ke Titu Ki Sweety', '2018', 2), ('Satyameva Jayate', '2018', 2), ('Race 3', '2018', 2), ('The Accidental Husband', '2008', 0), ('Million Dollar Arm', '2014', 0), ('Nasha', '2013', 2), ('Dabba', '2013', 2), ('Vikram Vedha', '2017', 6), ('Trapped', 'XVII 2016', 2), ('Parmanu: The Story of Pokhran', '2018', 2), ('Barfi!', '2012', 2), ('Auntie Mame', '1958', 0), ('Beyond the Clouds', '2017', 2), ('Tamasha', '2015', 2), ('Mukkabaaz', '2017', 2), ('Bride & Prejudice', '2004', 0), ('Dhadak', '2018', 2), ('Mom', 'I 2017', 2), ('A Passage to India', '1984', 0), ('Happy Phirr Bhag Jayegi', '2018', 2), ('Kabhi Khushi Kabhie Gham...', '2001', 2), ('Masaan', '2015', 2), (\"Viceroy's House\", '2017', 7), ('Laila Majnu', '2018', 2), ('Gurgaon', '2017', 2), ('Dear Zindagi', '2016', 2), ('Newton', '2017', 2), ('Aiyaary', '2018', 2), ('Nayakan', '1987', 6), ('Baazaar', '2018', 2), ('Raid', '2018', 2), ('Dil Dhadakne Do', '2015', 2), ('October', 'II 2018', 2), ('Talvar', '2015', 2), ('Shahid', '2012', 2), ('Raees', '2017', 2), ('Kahaani', '2012', 2), ('One Less God', '2017', 0), ('Gunday', '2014', 2), ('Beavis and Butt-Head Do America', '1996', 0), ('Bajrangi Bhaijaan', '2015', 2), ('Parched', '2015', 2), ('Jagga Jasoos', '2017', 2), ('Agneepath', '2012', 2), ('Mary Kom', '2014', 2), ('Udta Punjab', '2016', 2), ('Shaadi Mein Zaroor Aana', '2017', 2), ('Street Fighter: The Legend of Chun-Li', '2009', 0), ('Black', '2005', 2), ('Soorma', '2018', 2), ('Raman Raghav 2.0', '2016', 2), ('Krrish', '2006', 2), ('Airlift', '2016', 2), ('Devdas', 'I 2002', 2), ('Ittefaq', '2017', 2), ('Ae Dil Hai Mushkil', '2016', 2), ('Blackmail', 'I 2018', 2), ('Pink', 'III 2016', 2), ('Go Goa Gone', '2013', 2), ('Drishyam', '2015', 2), ('Dostana', '2008', 2), ('Anbe Sivam', '2003', 6), ('Veere Di Wedding', '2018', 2), ('Dil Juunglee', '2018', 2), ('Dhoom:3', '2013', 2), ('Secret Superstar', '2017', 2), ('A Wednesday', '2008', 2), ('Goliyon Ki Rasleela Ram-Leela', '2013', 2), ('B.A. Pass', '2012', 2), ('Sultan', '2016', 2), ('Toilet - Ek Prem Katha', '2017', 2), ('Garbage', 'I 2018', 0), ('Dilwale Dulhania Le Jayenge', '1995', 2), ('Dev.D', '2009', 2), ('Mulk', 'I 2018', 2), ('Efter brylluppet', '2006', 8), ('Tiger Zinda Hai', '2017', 2), ('Kal Ho Naa Ho', '2003', 2), ('Kapoor & Sons', '2016', 2), ('Halkaa', '2018', 2), ('Kaabil', '2017', 2), ('Shivaay', '2016', 2), ('Dilwale', '2015', 2), ('Monsoon Wedding', '2001', 2), ('Raabta', '2017', 2), ('Talaash', '2012', 2), ('Badlapur', '2015', 2), ('The Other Side of the Door', '2016', 0), ('Rockstar', '2011', 2), ('Om Shanti Om', '2007', 2), ('Kuch Kuch Hota Hai', '1998', 2), ('Jab We Met', '2007', 2), ('Te3n', '2016', 2), ('Jab Harry Met Sejal', '2017', 2), ('Haider', '2014', 2), ('The Lovers', '2013', 0), ('Tubelight', '2017', 2), ('Welcome to New York', '2018', 2), ('Veer-Zaara', '2004', 2), ('Delhi Belly', '2011', 0), ('Piku', '2015', 2), ('Jodhaa Akbar', '2008', 2), ('A Gentleman', '2017', 2), ('Ra.One', '2011', 2), ('Mersal', '2017', 6), ('Hichki', '2018', 2), ('Zindagi Na Milegi Dobara', '2011', 2), ('Rab Ne Bana Di Jodi', '2008', 2), ('Dishoom', '2016', 2), ('Paan Singh Tomar', '2012', 2), ('Qarib Qarib Singlle', '2017', 2), ('Kai po che!', '2013', 2), ('Yeh Jawaani Hai Deewani', '2013', 2), ('Sanam Teri Kasam', '2016', 2), ('Myeong-ryang', '2014', 9), ('Swades: We, the People', '2004', 2), ('Kaalakaandi', '2018', 2), ('Naam Shabana', '2017', 2), ('Jab Tak Hai Jaan', '2012', 2), ('102 Not Out', '2018', 2), ('The Challenger', 'I 2015', 0), ('Baaghi 2', '2018', 2), ('Namaste England', '2018', 2), ('Sholay', '1975', 2), ('Omerta', '2017', 2), ('Nanu Ki Jaanu', '2018', 2), ('The Little Princess', '1939', 0), ('Mard Ko Dard Nahin Hota', '2018', 2), ('Pari', 'I 2018', 2), ('Chak De! India', '2007', 2), ('Queen', '2013', 2), ('Chennai Express', '2013', 2), ('Black Friday', '2004', 2), ('Love Aaj Kal', '2009', 2), ('Detective Byomkesh Bakshy!', '2015', 2), ('Dhoom:2', '2006', 2), ('The Namesake', '2006', 0), ('Loev', '2015', 2), ('Fitoor', '2016', 2), ('Half Girlfriend', '2017', 2), ('Pihu', 'I 2018', 2), ('Haraamkhor', '2015', 2), ('Shubh Mangal Saavdhan', '2017', 2), ('The Guru', '2002', 0), ('Baar Baar Dekho', '2016', 2), ('Hate Story IV', '2018', 2), ('Munna Bhai M.B.B.S.', '2003', 2), ('Baby', 'I 2015', 2), ('Bing feng: Chong sheng zhi men', '2014', 3), ('The House Next Door', '2017', 4), ('Mohabbatein', '2000', 2), ('Phantom', 'I 2015', 2), ('Chef', '2017', 2), ('Love Games', '2016', 2), ('Brij Mohan Amar Rahe', '2017', 2), ('Ankhon Dekhi', '2013', 2), ('Bhaiaji Superhit', '2018', 2), ('Chal Bhaag', '2014', 2), ('Salaam Bombay!', '1988', 2), ('Kabali', '2016', 6), ('Hindi Medium', '2017', 2), ('Sivaji', '2007', 6), ('Khosla Ka Ghosla!', '2006', 2), ('Maqbool', '2003', 2), ('Special Chabbis', '2013', 2), ('Fashion', '2008', 2), ('Krrish 3', '2013', 2), ('Paltan', '2018', 2), ('Oye Lucky! Lucky Oye!', '2008', 2), ('Fan', 'I 2016', 2), ('One Night Stand', 'I 2016', 2), ('Yamla Pagla Deewana Phir Se...', '2018', 2), ('Pyaar Ka Punchnama', '2011', 2), ('Madaari', '2016', 2), ('OMG: Oh My God!', '2012', 2), ('Phamous', '2018', 2), ('Befikre', '2016', 2), ('Trishna', '2011', 0), ('Wake Up Sid', '2009', 2), ('Singham', '2011', 2), ('Don', 'I 2006', 2), ('Margarita with a Straw', '2014', 2), ('Kites', 'I 2010', 0), ('Dum Laga Ke Haisha', '2015', 2), ('Khoobsurat', '2014', 2), ('Horror Story', 'I 2013', 2), ('Aashiqui 2', '2013', 2), ('Guzaarish', '2010', 2), ('Kaho Naa... Pyaar Hai', '2000', 2), ('Happy New Year', 'I 2014', 2), ('Outsourced', '2006', 0), ('Rahasya', '2015', 2), ('7 Khoon Maaf', '2011', 2), ('Gulaal', '2009', 2), ('Missing', 'I 2018', 2), ('A Death in the Gunj', '2016', 0), ('Hate Story', '2012', 2), ('Genius', 'I 2018', 2), ('Bombay Talkies', '2013', 2), ('Student of the Year', '2012', 2), ('Golmaal Again', '2017', 2), ('Dil Chahta Hai', '2001', 2), ('Ship of Theseus', '2012', 0), ('No One Killed Jessica', '2011', 2), ('Pyaar Ka Punchnama 2', '2015', 2), ('Badrinath Ki Dulhania', '2017', 2), ('Rangoon', 'II 2017', 2), ('Jism 2', '2012', 2), ('Mohenjo Daro', '2016', 2), ('Nawabzaade', '2018', 2), ('Dhoom', '2004', 2), ('Ek Tha Tiger', '2012', 2), ('Bombay Velvet', '2015', 2), ('Main Hoon Na', '2004', 2), ('Aligarh', '2015', 2), ('Vicky Donor', '2012', 2), ('Rustom', '2016', 0), ('Bang Bang', 'I 2014', 2), ('Company', '2002', 2), ('Akira', 'I 2016', 2), ('Jaane Tu... Ya Jaane Na', '2008', 2), ('Simran', '2017', 2), ('Katti Batti', '2015', 2), ('Roy', '2015', 2), ('Omkara', '2006', 2), ('City Lights', '2014', 2), ('Ekk Deewana Tha', '2012', 2), ('Bhaag Milkha Bhaag', '2013', 2), ('Ek Hasina Thi', '2004', 2), ('Guru', '2007', 2), ('Mubarakan', '2017', 2), ('Kurbaan', '2009', 2), ('Once Again', '2018', 2), ('Judwaa 2', '2017', 2), ('Kuchh Bheege Alfaaz', '2018', 2), ('Koi... Mil Gaya', '2003', 2), ('Baaghi', '2016', 2), ('Hera Pheri', '2000', 2), ('The Attacks of 26/11', '2013', 2), ('Indian', '1996', 6), ('Johnny Gaddaar', '2007', 2), ('Hotel Salvation', '2016', 2), ('Kaminey', '2009', 2), ('Ajji', '2017', 2), ('Dil Se..', '1998', 2), ('2 States', '2014', 2), ('The Other End of the Line', '2008', 0), ('Madras Cafe', '2013', 2), ('Kabhi Alvida Naa Kehna', '2006', 2), ('Ladies vs. Ricky Bahl', '2011', 2), ('Ragini MMS 2', '2014', 2), ('Hey Ram', '2000', 6), ('Neerja', '2016', 2), ('No Smoking', '2007', 2), ('Raanjhanaa', '2013', 2), ('Chashme Baddoor', '2013', 2), ('Cocktail', '2012', 2), ('Mujhse Dosti Karoge!', '2002', 2), ('Fanaa', '2006', 2), ('Race 2', '2013', 2), ('Udaan', '2010', 2), ('The Ghazi Attack', '2017', 2), ('M.S. Dhoni: The Untold Story', '2016', 2), ('Chandni Chowk to China', '2009', 2), ('Dhobi Ghat', '2010', 2), ('Lucknow Central', '2017', 2), ('Mirzya', '2016', 2), ('Josh', '2000', 2), ('Kahaani 2', '2016', 2), ('Sir', 'I 2018', 2), ('Anniyan', '2005', 6), ('Xun Long Jue', '2015', 5), ('Tere Mere Sapne', '1996', 2), ('1920 London', '2016', 2), ('La mujer de mi hermano', '2005', 10), ('Angrezi Mein Kehte Hain', '2018', 2), ('Playback', '1996', 0), ('Hunterrr', '2015', 2), ('Hate Story 3', '2015', 2), ('Force 2', '2016', 2), ('Wazir', 'I 2016', 2), ('Highway', 'I 2014', 2), ('Andaz Apna Apna', '1994', 2), ('Band Baaja Baaraat', '2010', 2), ('Dil To Pagal Hai', '1997', 2), ('Lamhe', '1991', 2), ('Lipstick Under My Burkha', '2016', 2), ('Brothers', 'I 2015', 2), ('Happy Bhag Jayegi', '2016', 2), ('Tees Maar Khan', '2010', 2), ('Meri Pyaari Bindu', '2017', 2), ('Madly', '2016', 0), ('Do Dooni Chaar', '2010', 2), ('Baazigar', '1993', 2), ('Rocky Handsome', '2016', 2), ('Gabbar is Back', '2015', 2), ('Singh Is Bliing', '2015', 2), ('English Vinglish', '2012', 2), ('Phobia', 'I 2016', 2), ('Mangal Pandey: The Rising', '2005', 2), ('Shanghai', '2012', 2), ('Dark wind', '2017', 2), ('Guest iin London', '2017', 2), ('Rocky', '1981', 2), ('Baadshaho', '2017', 2), ('Kaante', '2002', 2), ('Sold', '2016', 0), ('Rock On!!', '2008', 2), ('We Are Family', '2010', 2), ('Ek Villain', '2014', 2), ('Raja Natwarlal', '2014', 2), ('Tanu Weds Manu', '2011', 2), ('Bioscopewala', '2018', 2), ('Maine Pyar Kiya', '1989', 2), ('3 Storeys', '2018', 2), ('Sarkar 3', '2017', 2), ('Al-risâlah', '1976', 11), ('Dobaara: See Your Evil', '2017', 2), ('Satya', '1998', 2), ('Love and Shukla', '2017', 2), ('Tikli and Laxmi Bomb', '2017', 2), ('Bhoomi', '2017', 2), ('Awarapan', '2007', 2), ('Jolly LLB 2', '2017', 2), ('Game 6', '2005', 0), ('Umrika', '2015', 2), ('Tanu Weds Manu Returns', '2015', 2), ('Delhi-6', '2009', 2), ('Paheli', '2005', 2), ('That Girl in Yellow Boots', '2010', 2), ('Kaagaz Ke Phool', '1959', 2), ('Any Body Can Dance 2', '2015', 2), ('Bewakoofiyaan', '2014', 2), ('The Song of Scorpions', '2017', 2), ('Mera Naam Joker', '1970', 2), ('Mumbai Meri Jaan', '2008', 2), ('Tumhari Sulu', '2017', 2), ('Saawariya', '2007', 2), ('Saheb Biwi Aur Gangster 3', '2018', 2), ('Alone', 'VI 2015', 2), ('Desi Boyz', '2011', 2), ('Raajneeti', '2010', 2), ('Hisss', '2010', 0), ('Shaitan', '2011', 2), ('Jai Gangaajal', '2016', 2), ('Eega', '2012', 4), ('The Dirty Picture', '2011', 2), ('I Hate Luv Storys', '2010', 2), ('Court', '2014', 1), ('Gol Maal', '1979', 2), ('Dolly Ki Doli', '2015', 2), ('Sangam', 'I 1964', 2), ('Teri Bhabhi Hai Pagle', '2018', 2), ('Life in a Metro', '2007', 2), ('Khal Nayak', '1993', 2), ('Unfreedom', '2014', 0), ('Vishwaroopam 2', '2018', 6), ('Grand Masti', '2013', 2), ('A Flying Jatt', '2016', 2), ('Mission Kashmir', '2000', 2), ('Kambakkht Ishq', '2009', 2), ('Aurangzeb', '2013', 2), ('Namastey London', '2007', 2), ('Singham Returns', '2014', 2), ('X: Past Is Present', '2015', 2), ('Heroine', '2012', 2), ('Dhanak', '2015', 2), ('Murder', '2004', 2), ('Mardaani', '2014', 2), ('B.A. Pass 2', '2017', 2), ('Titli', '2014', 2), ('Yaadein...', '2001', 2), ('Fukrey Returns', '2017', 2), ('Freaky Ali', '2016', 2), ('Shorgul', '2016', 2), ('Thuppakki', '2012', 6), ('Bandit Queen', '1994', 2), (\"Neal 'N' Nikki\", '2005', 0), ('Sarkar', '2005', 2), ('Lakshya', '2004', 2), ('The Stoneman Murders', '2009', 2), ('Monsoon Shootout', '2013', 2), ('Hum Dil De Chuke Sanam', '1999', 2), ('NH10', '2015', 2), ('Helicopter Eela', '2018', 2), ('Joker', '2012', 2), ('Anjaana Anjaani', '2010', 2), ('Irada', '2017', 2), ('Boom', 'I 2003', 0), ('John Day', '2013', 2), ('Shamitabh', '2015', 2), ('Murder 2', '2011', 2), ('Vodka Diaries', '2018', 2), ('Happy Ending', '2014', 2), ('OK Jaanu', '2017', 2), ('Pizza', 'I 2014', 2), ('Patel Ki Punjabi Shaadi', '2017', 2), ('Mohalla Assi', '2015', 2), ('Shaurya: It Takes Courage to Make Right... Right', '2008', 2), ('Action Jackson', 'I 2014', 2), ('Kyaa Kool Hain Hum 3', '2016', 2), ('Akaash Vani', '2013', 2), ('Vaastav: The Reality', '1999', 2), ('Housefull 3', '2016', 2), ('Noor', 'I 2017', 2), ('Asoka', '2001', 2), ('Kick', '2014', 2), ('Yuva', '2004', 2), ('Heropanti', '2014', 2), ('Humpty Sharma Ki Dulhania', '2014', 2), ('Daddy', 'III 2017', 2), ('High Jack', '2018', 2), ('Water', 'I 2005', 2), ('Bollywood/Hollywood', '2002', 0), ('Tu Hai Mera Sunday', '2016', 2), ('Lupt', '2018', 2), ('Lootera', 'I 2013', 2), ('Heyy Babyy', '2007', 2), (\"Kuldip Patwal: I Didn't Do It!\", '2017', 2), ('Behen Hogi Teri', '2017', 2), ('Race', 'I 2008', 2), ('Hope Aur Hum', '2018', 2), ('Silvat', '2018', 2), ('Chalte Chalte', '2003', 2), ('Daas Dev', '2018', 2), ('Once Upon a Time in Mumbaai', '2010', 2), ('Kaun?', '1999', 2), ('Hostel', '2011', 2), ('Baasha', '1995', 6), ('Miss Teacher', '2016', 2), ('Fever', 'I 2016', 2), ('Fiza', '2000', 2), ('Nil Battey Sannata', '2015', 2), ('Paanch', '2003', 2), ('Beiimaan Love', '2016', 2), ('Bhool Bhulaiyaa', '2007', 2), ('Hasee Toh Phasee', '2014', 2), ('Babumoshai Bandookbaaz', '2017', 2), ('The Hero of Color City', '2014', 0), ('Finding Fanny', '2014', 0), ('Jaane Bhi Do Yaaro', '1983', 2), ('Commando 2', '2017', 2), ('Adisaya Piravi', '1990', 6), ('Phillauri', '2017', 2), ('Roja', '1992', 6), ('Darr', '1993', 2), ('Ghanchakkar', '2013', 2), ('Hamari Adhuri Kahani', '2015', 2), ('Mahabharat', '2013', 2), ('Billu', '2009', 2), ('Jo Jeeta Wohi Sikandar', '1992', 2), ('Dhan Dhana Dhan Goal', '2007', 2), ('Knock Out', '2010', 2), ('Lage Raho Munna Bhai', '2006', 2), ('Zed Plus', '2014', 2), ('Hum Tumhare Hain Sanam', '2002', 2), ('North West Frontier', '1959', 0), ('Welcome', 'I 2007', 2), ('The Blue Umbrella', '2005', 2), ('Aakrosh', '2010', 2), ('Munna Michael', '2017', 2), ('Socha Na Tha', '2005', 2), ('Rocket Singh: Salesman of the Year', '2009', 2), ('Manorama Six Feet Under', '2007', 2), ('Satyagraha', 'I 2013', 2), ('Kaal', '2005', 2), ('Fire', '1996', 0), ('Shootout at Wadala', '2013', 2), ('Pardes', '1997', 2), ('Mujhse Shaadi Karogi', '2004', 2), ('Rangeela', '1995', 2), ('Agent Vinod', '2012', 2), ('Main Tera Hero', '2014', 2), ('Vishwaroopam', '2013', 6), ('Shaandaar', '2015', 2), ('Ki & Ka', '2016', 2), ('Chittagong', '2012', 2), ('Ankur Arora Murder Case', '2013', 2), ('Chup Chup Ke', '2006', 2), ('Aitraaz', '2004', 2), ('Bullett Raja', '2013', 2), ('Commando', '2013', 2), ('Bodyguard', '2011', 2), ('LSD: Love, Sex Aur Dhokha', '2010', 2), ('Mere Brother Ki Dulhan', '2011', 2), ('Bachna Ae Haseeno', '2008', 2), ('Welcome to Karachi', '2015', 12), ('Luv Shuv Tey Chicken Khurana', '2012', 2), ('Luv Ka the End', '2011', 2), ('Athadu', '2005', 4), ('Table No.21', '2013', 2), ('Nayak: The Real Hero', '2001', 2), ('Chupke Chupke', '1975', 2), ('Holiday', '2014', 2), ('Great Grand Masti', '2016', 2), ('Jaane Kahan Se Aayi Hai', '2010', 2), ('Bluffmaster!', '2005', 2), ('Cheeni Kum', '2007', 2), ('Players', '2012', 2), ('Aankhen', '2002', 2), ('Agneepath', '1990', 2), ('Vivah', '2006', 2), ('Dabangg', '2010', 2), ('Ek Main Aur Ekk Tu', '2012', 2), ('Warrior Savitri', '2016', 2), ('Aryan: Unbreakable', '2006', 2), ('1942: A Love Story', '1994', 2), ('Bol Bachchan', '2012', 2), ('ABCD Any Body Can Dance', '2013', 2), ('Tere Bin Laden', '2010', 2), ('Thank You', 'I 2011', 2), ('D-Day', 'I 2013', 2), ('Teen Patti', '2010', 2), ('Himmatwala', '2013', 2), ('Kill Dil', '2014', 2), ('Mirror Game', '2017', 2), ('Paa', '2009', 2), ('Baghban', '2003', 2), ('Ribbon', '2017', 2), ('Action Replayy', '2010', 2), ('Pyaar Impossible!', '2010', 2), ('Karan Arjun', '1995', 2), ('Sadma', '1983', 2), ('Salaam Namaste', '2005', 2), ('Hate Story 2', '2014', 2), ('Kochadaiiyaan', '2014', 6), ('Wanted', '2009', 2), ('A Sublime Love Story: Barsaat', '2005', 2), ('Badmaa$h Company', '2010', 2), ('Mr. India', '1987', 2), ('Angry Indian Goddesses', '2015', 2), ('Rudhramadevi', '2015', 4), ('Dhruva', '2016', 4), ('Sarrainodu', '2016', 2), ('Housefull', '2010', 2), ('Thaandavam', '2012', 6), ('Phir Hera Pheri', '2006', 2), ('De Dana Dan', '2009', 2), ('Saajan', '1991', 2), ('Gunda', '1998', 2), ('Mother India', '1957', 2), ('Nautanki Saala!', '2013', 2), ('Maroon', '2016', 2), ('Prem Ratan Dhan Payo', '2015', 2), ('Baadshah', '1999', 2), ('Rehnaa Hai Terre Dil Mein', '2001', 2), ('My Brother... Nikhil', '2005', 0), ('Force', '2011', 2), ('Sarkar Raj', '2008', 2), ('Kartoos', '1999', 2), ('Sarfarosh', '1999', 2), ('Blue', 'I 2009', 2), ('Samsara', '2001', 13), ('Tezz', '2012', 2), ('Rock On 2', '2016', 2), ('Salaam-E-Ishq', '2007', 2), ('Kismat Konnection', '2008', 2), ('1921', '2018', 2), ('Bairavaa', '2017', 6), (\"Midnight's Children\", '2012', 0), ('Maachis', '1996', 2), ('Chalo Dilli', '2011', 2), ('Welcome to Sajjanpur', '2008', 2), ('Nishabd', '2007', 2), ('Shree', '2013', 2), ('Deewangee', '2002', 2), ('Insan', '2005', 2), ('Kabhi Haan Kabhi Naa', '1994', 2), ('Yevadu', '2014', 4), ('Veergati', '1995', 2), (\"'D'\", '2005', 2), ('LoveShhuda', '2016', 2), ('1920: Evil Returns', '2012', 2), ('Manjhi: The Mountain Man', '2015', 2), ('Hum Aapke Hain Koun...!', '1994', 2), ('Siddharth', '2013', 2), ('Union Leader', '2017', 2), ('Rang Rasiya', '2008', 2), ('Main Aur Charles', '2015', 2), ('16 December', '2002', 2), ('Qurbani', '1980', 2), ('Sonali Cable', '2014', 2), ('Rakhwala', '1989', 2), ('Anupama', '1966', 2), ('De surprise', '2015', 14), ('Zinda', '2006', 2), ('Ramaiya Vastavaiya', '2013', 2), ('Milan', '1967', 2), ('Abhimaan', '1973', 2), ('Geet', '1970', 2), ('Zanjeer', '2013', 2), ('Aunty No. 1', '1998', 2), ('Gopi Kishan', '1994', 2), ('Fun2shh... Dudes in the 10th Century', '2003', 2), ('Hum Aapke Dil Mein Rehte Hain', '1999', 2), ('Zamane Se Kya Darna', '1994', 2), ('Raat', '1992', 2), ('Hatya', '1988', 2), ('Sangram', '1993', 2), ('Kasam', '2001', 2), ('Teri Meri Kahaani', '2012', 2), ('Bombay', '1995', 6), ('Dhamaal', '2007', 2), ('Dishkiyaoon', '2014', 2), ('MP3: Mera Pehla Pehla Pyaar', '2007', 2), ('Ready', '2011', 2), ('Hulchul', '1995', 2), ('Farishtay', '1991', 2), ('Kati Patang', '1970', 2), ('Tum Mere Ho', '1990', 2), ('I Am Kalam', '2010', 2), ('Baabul', '2006', 2), ('Kidnap', '2008', 2), ('Junooniyat', '2016', 2), ('Dulhe Raja', '1998', 2), ('Amaanat', '1994', 2), ('Maine Dil Tujhko Diya', '2002', 2), ('Aisha', 'I 2010', 2), ('Inteha', '2003', 2), ('Firaaq', '2008', 2), ('Army', '1996', 2), ('Humshakals', '2014', 2), ('Hum Tum', '2004', 2), ('Aandhi', '1975', 2), ('Dus', '2005', 2), ('Buddha in a Traffic Jam', '2016', 2), ('Drona', '2008', 2), ('Gangster', '2006', 2), ('Border', 'I 1997', 2), ('Gumrah', '1993', 2), ('Love Story 2050', '2008', 2), ('Baankey Ki Crazy Baraat', '2015', 2), ('Zameen', '2003', 2), ('Sadak', '1991', 2), ('Main Khiladi Tu Anari', '1994', 2), ('Dhoondte Reh Jaoge', '2009', 2), ('Eena Meena Deeka', '1994', 2), ('Love Story', '1981', 2), ('Ankhen', '1968', 2), ('Karz', '1980', 2), ('Dora', '2017', 6), ('Hum Saath-Saath Hain: We Stand United', '1999', 2), ('Ek Phool Do Mali', '1969', 2), ('Little Terrors', '2014', 2), ('Jeena Sirf Merre Liye', '2002', 2), ('Kaashi in Search of Ganga', '2018', 2), ('Pyaasa', '1957', 2), ('R... Rajkumar', '2013', 2), ('Sanam Teri Kasam', '1982', 2), ('Izzat Ki Roti', '1993', 2), ('Traffic', 'I 2016', 2), ('Meri Biwi Ka Jawab Nahin', '2004', 2), ('Luck by Chance', '2009', 2), ('Waiting', 'III 2015', 2), ('Shalimar', '1978', 2), ('Jab Jab Phool Khile', '1965', 2), ('Aamir', '2008', 2), ('Deewaar', '1975', 2), ('Tere Naam', '2003', 2), ('Jugnu', '1973', 2), ('Matrubhoomi: A Nation Without Women', '2003', 2), ('Khatron Ke Khiladi', '1988', 2), ('Tum Mile', '2009', 2), ('Raju Ban Gaya Gentleman', '1992', 2), ('Ranna', '2015', 15), ('Singh Is Kinng', '2008', 2), ('Teraa Surroor', '2016', 0), ('Hamara Dil Aapke Paas Hai', '2000', 2), ('Imtihaan', '1994', 2), ('Meri Nimmo', '2018', 2), ('Rascals', '2011', 2), ('Aa Gale Lag Jaa', '1973', 2), ('Aalavandhan', '2001', 6), ('Kis Kisko Pyaar Karoon', '2015', 2), (\"Liar's Dice\", '2013', 2), ('Jayantabhai Ki Luv Story', '2013', 2), ('Khilona Bana Khalnayak', '1995', 2), ('Khoon Bhari Maang', '1988', 2), ('Ishaqzaade', '2012', 2), ('Khudgarz', '1987', 2), ('Gumnaam', '1965', 2), ('Break Ke Baad', '2010', 2), ('Bazaar', '1982', 2), ('Fukrey', '2013', 2), ('Samadhi', '1972', 2), ('Kurbaan', '1991', 2), ('Duplicate', '1998', 2), ('Thupparivaalan', '2017', 6), ('Aladin', '2009', 2), ('Ram Gopal Varma Ki Aag', '2007', 2), ('C.I.D.', '1956', 2), ('Umrao Jaan', '2006', 12), ('Six X', '2016', 2), ('Matru ki Bijlee ka Mandola', '2013', 2), ('Global Baba', '2016', 2), ('Dushman Duniya Ka', '1996', 2), ('Kurukshetra', '2000', 2), ('Dedh Ishqiya', '2014', 2), ('Fool N Final', '2007', 2), ('Kadhal Desam', '1996', 6), ('Shakti', '1982', 2), ('Filth and Wisdom', '2008', 0), ('Humraaz', '2002', 2), ('Bank Chor', '2017', 2), ('Dushman', '1971', 2), ('Main Krishna Hoon', '2013', 2), ('U Me Aur Hum', '2008', 2), ('Dil Toh Baccha Hai Ji', '2011', 2), ('Vidhaata', '1982', 2), ('Roti Kapada Aur Makaan', '1974', 2), ('Shola Aur Shabnam', '1992', 2), ('Rukh', '2017', 2), ('Purani Jeans', '2014', 2), ('Baazi', '1995', 2), ('Aaja Nachle', '2007', 2), ('Chaudhvin Ka Chand', '1960', 12), ('Chameli', '2003', 2), ('Aadhi Bhagavan', '2013', 6), ('Ananda Ashram', '1977', 2), ('Bhopal: A Prayer for Rain', '2014', 0), ('Dance Dance', '1987', 2), ('Anaarkali of Aarah', '2017', 2), ('Khamoshi: The Musical', '1996', 2), ('Bol', '2011', 12), ('Guide', '1965', 2), ('Ek Paheli Leela', '2015', 2), ('Children of War', '2014', 2), ('Karzzzz', '2008', 2), ('Don', '1978', 2), ('Gali Guleiyan', '2017', 2), ('Raavan', '2010', 2), ('Haré Rama Haré Krishna', '1971', 2), ('Girlfriend', '2004', 2), ('China Gate', '1998', 2), ('Chocolate: Deep Dark Secrets', '2005', 2), ('Dear Dad', 'I 2016', 2), ('Dasvidaniya', '2008', 2), ('Sangharsh', '1999', 2), ('Pataal Bhairavi', '1985', 2), ('Jai Santoshi Maa', '1975', 2), ('Jis Desh Mein Ganga Rehta Hain', '2000', 2), ('Arth', '1982', 2), ('Aarakshan', '2011', 2), ('Shool', '1999', 2), ('Saat Uchakkey', '2016', 2), ('Parzania', '2005', 0), ('Khushi', 'I 2003', 2), ('Naseeb', '1981', 2), ('Bhindi Baazaar', '2011', 2), ('Bulandi', '2000', 2), ('Shaadi Ke Side Effects', '2014', 2), ('Chor Machaye Shor', '1974', 2), ('Sarbjit', '2016', 2), ('Raja Hindustani', '1996', 2), ('Silsila', '1981', 2), ('Shabd', '2005', 2), ('Yodha', '1991', 2), (\"Jaan-E-Mann: Let's Fall in Love... Again\", '2006', 0), ('Phir Teri Kahani Yaad Aayee', '1993', 2), ('Blood Money', 'II 2012', 2), ('Right Yaaa Wrong', '2010', 2), ('Waqt Hamara Hai', '1993', 2), ('Seeta Aur Geeta', '1972', 2), ('Dil Ne Jise Apna Kaha', '2004', 2), ('Kunwara', '2000', 2), ('The Silence', 'III 2015', 2), ('Chameli Ki Shaadi', '1986', 2), ('Garam Masala', '2005', 2), ('Angoor', '1982', 2), ('Mahal', '1949', 2), ('Johny Mera Naam', '1970', 2), ('Page 3', '2005', 2), ('Tum Bin...: Love Will Find a Way', '2001', 2), ('Phir Bhi Dil Hai Hindustani', '2000', 2), ('Pusher', '2010', 2), ('3G - A Killer Connection', '2013', 0), ('Achanak', '1998', 2), ('Roop Ki Rani Choron Ka Raja', '1993', 2), ('Raaz', '2002', 2), ('Saathiya', '2002', 2), ('Bhabhi', '1991', 2), ('Maa', '1976', 2), ('Prem Deewane', '1992', 2), ('Saheb Biwi Aur Gangster', '2011', 2), ('Kalyug', '2005', 2), ('Awara Paagal Deewana', '2002', 2), ('Indu Sarkar', '2017', 2), ('Geraftaar', '1985', 2), ('Filmistaan', '2012', 2), ('Love', '1991', 2), ('Bekhudi', '1992', 2), ('Dalaal', '1993', 2), ('Ghayal Once Again', '2016', 2), ('Login', '2012', 2), ('Good Boy, Bad Boy', '2007', 2), ('Mohra', '1994', 2), ('Machine', '2017', 2), ('Rise of the Zombie', '2013', 2), ('Sargam', '1979', 2), ('Haqeeqat', '1964', 2), ('Gang', '2000', 2), ('Dil Dosti Etc', '2007', 2), ('Heer Ranjha', '1992', 2), ('Strangers', 'III 2007', 2), ('Gundaraj', '1995', 2), ('Aan Milo Sajna', '1970', 2), ('Andaaz', '2003', 2), ('Tejasvini', '1994', 2), ('Stanley Ka Dabba', '2011', 2), ('Yaar Gaddar', '1994', 2), ('Style', '2001', 2), ('Dongri Ka Raja', '2016', 2), ('Sahasam', '2013', 4), ('Main Aurr Mrs Khanna', '2009', 2), ('LOC: Kargil', '2003', 2), ('Sanam Re', '2016', 2), ('Gyakusatsu kikan', '2017', 16), ('Majboor', '1974', 2), ('Major Saab', '1998', 2), ('Satte Pe Satta', '1982', 2), ('Khatta Meetha', '2010', 2), ('Ek Thi Daayan', '2013', 2), ('Yeh Saali Zindagi', '2011', 2), ('Lekar Hum Deewana Dil', '2014', 2), ('Mere Baap Pehle Aap', '2008', 2), ('Pyaar Tune Kya Kiya...', '2001', 2), ('Aastha: In the Prison of Spring', '1997', 2), ('Issaq', '2013', 2), ('Fareb', '2005', 2), ('Ek Chalis Ki Last Local', '2007', 2), ('Rowdy Rathore', '2012', 2), ('Iqbal', '2005', 2), ('Phas Gaye Re Obama', '2010', 2), ('Samraat', '1982', 2), ('Zamaana Deewana', '1995', 2), ('Ilaaka', '1989', 2), ('Dus Kahaniyaan', '2007', 2), ('Adhurs', '2010', 4), ('Housefull 2', '2012', 2), ('Earth', '1998', 2), ('Son of Sardaar', '2012', 7), ('Amar Akbar Anthony', '1977', 2), ('Satta', '2003', 2), ('Anita & Me', '2002', 0), ('Rann', '2010', 2), ('Yeh Lamhe Judaai Ke', '2004', 2), ('Kyaa Kool Hai Hum', '2005', 2), ('King Uncle', '1993', 2), ('Inteqam: The Perfect Game', '2004', 2), ('Jai Ho', 'I 2014', 2), ('Begum Jaan', '2017', 2), ('Shirdi Ke Sai Baba', '1977', 2), ('International Khiladi', '1999', 2), ('Mahaan', '1983', 2), ('Ta Ra Rum Pum', '2007', 2), ('Henna', '1991', 2), ('New York', '2009', 2), ('Mere Yaar Ki Shaadi Hai', '2002', 2), ('Phool Aur Patthar', '1966', 2), (\"What's Your Raashee?\", '2009', 2), ('Yun Hota Toh Kya Hota', '2006', 2), ('Hawaa Hawaai', '2014', 2), ('Qahar', '1997', 2), ('Dushman', '1998', 2), ('Aarzoo', '1999', 2), ('London Dreams', '2009', 2), ('Deewana Mastana', '1997', 2), ('Footpath', '2003', 2), ('Khoj', '2017', 17), ('Aaj Ki Taaza Khabar', '1973', 2), ('Shirdi Sai Baba', '2001', 2), ('...Yahaan', '2005', 2), ('Oh Darling Yeh Hai India', '1995', 2), ('Jism', '2003', 2), ('Deewana', '1992', 2), ('Veer', '2010', 2), ('Golmaal: Fun Unlimited', '2006', 2), ('Ajab Prem Ki Ghazab Kahani', '2009', 2), ('Ghulam', '1998', 2), ('Kranti', '2002', 2), ('Super Nani', '2014', 2), ('Aadmi Khilona Hai', '1993', 2), ('31st October', '2015', 2), ('Dum Maaro Dum', '2011', 2), ('Irandam Ulagam', '2013', 6), ('Ghar', '1978', 2), ('Dabangg 2', '2012', 2), ('Duvvada Jagannadham', '2017', 4), ('Hungama', '2003', 2), ('Firangi', '2017', 2), ('Hum', '1991', 2), ('Hawa', '2003', 2), ('Jewel Thief', '1967', 2), ('Veerey Ki Wedding', '2018', 2), ('Ram Aur Shyam', '1967', 2), ('Chhota Bheem Himalayan Adventure', '2016', 2), ('Rakhta Charitra 2', '2010', 2), ('Chhoti Si Baat', '1976', 2), ('Inkaar', '2013', 2), ('Club 60', '2013', 2), ('Hulchul', '2004', 2), ('Ghazab', '1982', 2), ('Hum Kisi Se Kum Nahin', '2002', 2), ('Vijeta', '1996', 2), ('Koyla', '1997', 2), ('Anjaam', '1994', 2), ('Bhoothnath Returns', '2014', 2), ('Daai zek lou', '2003', 3), ('Jaal: The Trap', '2003', 2), ('Rajkumar', '1964', 2), ('Dil Tera Aashiq', '1993', 2), ('Ittefaq', '1969', 2), ('Bhupathi', '2007', 15), ('Kudrat', '1981', 2), ('Welcome Back', '2015', 2), ('Hawaizaada', '2015', 2), ('Mausam', '2011', 2), ('Meeruthiya Gangsters', '2015', 2), ('Main Tulsi Tere Aangan Ki', '1978', 2), ('Khhotte Sikkay', '1974', 2), ('Yeh Hai Bakrapur', '2014', 2), ('Shootout at Lokhandwala', '2007', 2), ('Laal Rang', '2016', 2), ('Deewane', '2000', 2), ('Ankur', '1974', 2), ('Do Anjaane', '1976', 2), ('Anjaan', '2014', 6), ('Ishq', '1997', 2), ('Aaj Ka Goonda Raaj', '1992', 2), ('Karz: The Burden of Truth', '2002', 2), ('Khajoor Pe Atke', '2018', 2), ('Jilla', '2014', 6), ('Tales of the KamaSutra 2: Monsoon', '1999', 0), ('Julie 2', '2017', 2), ('Bhoothnath', '2008', 2), ('Anokha Bandhan', '1982', 2), ('Souten', '1983', 2), ('Virasat', '1997', 2), ('Vettaiyaadu Vilaiyaadu', '2006', 6), ('Qayamat Se Qayamat Tak', '1988', 2), ('Sin-ui hansu', '2014', 9), ('Ishqiya', '2010', 2), ('Game', 'I 2011', 2), ('Doosara Aadmi', '1977', 2), ('Ranchi Diaries', '2017', 2), ('London Paris New York', '2012', 2), ('Agyaat', '2009', 2), ('Namak Haraam', '1973', 2), ('Lal Patthar', '1971', 2), ('Hera Pheri', '1976', 2), ('Adventures of Tarzan', '1985', 2), ('Raincoat', '2004', 2), ('Chandra Mukhi', '1993', 2), ('Netaji Subhas Chandra Bose: The Forgotten Hero', '2005', 2), ('Izzatdaar', '1990', 2), ('Banarasi Babu', '1997', 2), ('Woh Lamhe', '2006', 2), ('13B: Fear Has a New Address', '2009', 2), ('Shree 420', '1955', 2), ('Kuch Naa Kaho', '2003', 2), ('Mounam Pesiyadhe', '2002', 6), ('Ijaazat', '1987', 2), ('Yeh Dil', '2003', 2), ('Dilwaala', '1986', 2), ('Mr Joe B. Carvalho', '2014', 2), ('Madhumati', '1958', 2), ('Journey Bombay to Goa: Laughter Unlimited', '2007', 2), ('Sri Siddhartha Gautama', '2013', 18), ('Teesri Manzil', '1966', 2), ('Devar', '1966', 2), ('Hazaaron Khwaishein Aisi', '2003', 2), ('Chance Pe Dance', '2010', 2), ('Aiyyaa', '2012', 2), ('Raag Desh', '2017', 2), ('Divya Shakti', '1993', 2), ('Mehboob Ki Mehndi', '1971', 2), ('Dil Kya Kare', '1999', 2), ('Dulha Mil Gaya', '2010', 2), ('Barsaat', '1949', 2), ('Waqt', '1965', 2), ('Wajood', '1998', 2), ('Kalicharan', '1976', 2), ('Wajah Tum Ho', '2016', 2), ('Dhadkan', '2000', 2), ('Hadh Kar Di Aapne', '2000', 2), ('Hum Tum Aur Ghost', '2010', 2), ('Teen Aur Aadha', '2018', 2), ('Khelein Hum Jee Jaan Sey', '2010', 2), ('Prem Pratigyaa', '1989', 2), ('The Deceivers', '1988', 0), ('Kaalo', '2010', 2), ('Refugee', '2000', 2), ('Samay: When Time Strikes', '2003', 2), ('Jhootha Hi Sahi', '2010', 2), ('Woh Kaun Thi?', '1964', 2), ('Tu Chor Main Sipahi', '1996', 2), ('Yamla Pagla Deewana', '2011', 2), ('City of Life', '2009', 11), ('Hey Bro', '2015', 2), ('Saala Khadoos', '2016', 2), ('Gadar: Ek Prem Katha', '2001', 2), ('Golmaal 3', '2010', 2), ('Khuda Gawah', '1992', 2), ('Nanak Shah Fakir', '2014', 2), ('Ungli', '2014', 2), ('Police Force: An Inside Story', '2004', 2), ('Pretty Polly', '1967', 0), ('I Am', 'II 2010', 2), ('Tumsa Nahin Dekha', '2004', 2), ('Jangal Mein Mangal', '1972', 2), ('Jagte Raho', '1956', 2), ('Bombay to Goa', '1972', 2), ('Superman', '1987', 2), ('Gunga Jumna', '1961', 2), ('Vaada Raha... I Promise', '2009', 2), ('The Dark Side of Life: Mumbai City', '2018', 2), ('The Legend of Bhagat Singh', '2002', 2), ('Miss Lovely', '2012', 2), ('Judwaa', '1997', 2), ('Daava', '1997', 2), ('Gippi', '2013', 2), ('Total Siyapaa', '2014', 2), ('99', 'I 2009', 2), ('Rakhta Charitra', '2010', 2), ('Alag: He Is Different.... He Is Alone...', '2006', 2), ('Saaya', '2003', 2), ('Kal Kissne Dekha', '2009', 2), ('Tamanna', '1998', 2), ('Dum', '2003', 2), ('Mickey Virus', '2013', 2), ('Samrat & Co.', '2014', 2), ('All Is Well', '2015', 2), ('Mela', '2000', 2), ('Khiladi 786', '2012', 2), ('Gauru: Journey of Courage', '2016', 2), ('I, Me aur Main', '2013', 2), ('Ek Ladka Ek Ladki', '1992', 2), ('Deadline: Sirf 24 Ghante', '2006', 2), ('Sahib Bibi Aur Ghulam', '1962', 2), ('Veerana', '1988', 2), ('Jazbaa', '2015', 2), ('Azhar', '2016', 2), ('Tauba Tauba', '2004', 2), ('Krodh', '2000', 2), ('Chori Chori', '2003', 2), ('Keemat: They Are Back', '1998', 2), ('Yalgaar', '1992', 2), ('Zubaan', '2015', 2), ('Baarish Aur Chowmein', '2018', 2), ('Golmaal Returns', '2008', 2), ('Chalo Ishq Ladaaye', '2002', 2), ('Pehchaan', '1993', 2), ('Do Raaste', '1969', 2), ('Avtaar', '1983', 2), ('Taqdeerwala', '1995', 2), ('Mera Saaya', '1966', 2), ('Phir Milenge', '2004', 2), ('1971', '2007', 2), ('Jai Vikraanta', '1995', 2), ('Khakee', '2004', 2), ('Autohead', '2016', 2), ('Jattu Engineer', '2017', 2), ('Saagar', '1985', 2), ('Dirty Politics', '2015', 2), ('God Tussi Great Ho', '2008', 2), ('Sanam', '1997', 2), ('Dil Vil Pyar Vyar', '2002', 2), ('Golimar', '2010', 4), ('Chalti Ka Naam Gaadi', '1958', 2), ('Shagird', '2011', 2), ('Boss', 'I 2013', 2), ('Hero No. 1', '1997', 2), ('Partner', '2007', 2), ('Mission Istaanbul: Darr Ke Aagey Jeet Hai!', '2008', 2), ('Budhia Singh: Born to Run', '2016', 2), ('Khamoshiyan', '2015', 2), ('Aksar 2', '2017', 2), ('Murder 3', '2013', 2), ('Parinda', '1989', 2), ('Karthik Calling Karthik', '2010', 2), ('Xcuse Me', '2003', 2), ('Kashmir Ki Kali', '1964', 2), ('Khandan', '1965', 2), ('Paap Ki Duniya', '1988', 2), ('Shor in the City', '2010', 2), ('Fida', '2004', 2), (\"Trip to Bhangarh: Asia's Most Haunted Place\", '2014', 2), ('Lafangey Parindey', '2010', 2), ('Kisaan', '2009', 2), ('Insaniyat', '1994', 2), ('Bangistan', '2015', 2), ('Ek Doctor Ki Maut', '1990', 2), ('Cash', '2007', 2), ('Khuddar', '1994', 2), ('Not a Love Story', '2011', 2), ('Angaaray', '1998', 2), ('Sanam Teri Kasam', '2009', 2), ('Fugly', '2014', 2), ('Jodi', '1999', 6), ('Yeh Vaada Raha', '1982', 2), ('Bombay Boys', '1998', 0), ('Bhagam Bhag', '2006', 2), ('Eklavya', '2007', 2), ('Main Prem Ki Diwani Hoon', '2003', 2), (\"It's Entertainment\", '2014', 2), ('Shuddh Desi Romance', '2013', 2), ('Jackpot', 'II 2013', 2), ('Tadipaar', '1993', 2), ('Jurm', '2005', 2), ('Mausam', '1975', 2), ('Ishq Forever', '2016', 2), ('Dacait', '1987', 2), ('100 Days', '1991', 2), ('Snegithiye', '2000', 6), ('David', 'I 2013', 6), ('Kasoor', '2001', 2), ('Bees Saal Baad', '1962', 2), ('Always Kabhi Kabhi', '2011', 2), ('Suraj', '1966', 2), ('Running Shaadi', '2017', 2), ('Phata Poster Nikhla Hero', '2013', 2), ('Mr. X', '2015', 2), ('Chillar Party', '2011', 2), ('Mere Dad Ki Maruti', '2013', 2), ('Apaharan', '2005', 2), ('Bhoot Returns', '2012', 2), ('The Train: Some Lines Should Never Be Crossed...', '2007', 2), ('Athidhi', '2007', 4), ('Ravan Raaj: A True Story', '1995', 2), ('Jodi No.1', '2001', 2), ('Ghayal', '1990', 2), ('Yamla Pagla Deewana 2', '2013', 2), ('Amazon Obhijaan', '2017', 17), ('Johnny', '1980', 6), ('Rudraksh', '2004', 2), ('Patthar Ke Phool', '1991', 2), ('The Killer', '2006', 2), ('Ragini MMS', '2011', 2), ('Tashan', '2008', 2), ('Gangaajal', '2003', 2), ('Khubsoorat', '1980', 2), ('Aks', '2001', 2), ('Jaal', '1986', 2), ('Ek Ajnabee', '2005', 2), ('Milenge Milenge', '2010', 2), ('Raaj Tilak', '1984', 2), ('Duniya', '1984', 2), ('Guddu', '1995', 2), ('Sultanat', '2014', 2), ('Sunday', 'I 2008', 2), ('Shiva', '1989', 4), ('Pratiggya', '1975', 2), ('Khamosh', '1986', 2), ('Money Hai Toh Honey Hai', '2008', 2), ('Hattrick', '2007', 2), ('Jannat 2', '2012', 2), ('Puli', '2015', 6), ('Chachi 420', '1997', 2), ('Ram Jaane', '1995', 2), ('Veeram', '2017', 2), ('Kyun! Ho Gaya Na...', '2004', 2), ('Vikram', 'I 1986', 6), ('Corporate', '2006', 2), ('Dil Aashna Hai ...The Heart Knows', '1992', 2), ('Gunaah', '2002', 2), ('Pyari Behna', '1985', 2), ('Mr. and Mrs. Iyer', '2002', 0), ('Phörpa', '1999', 2), ('Kabul Express', '2006', 2), ('Jeete Hain Shaan Se', '1988', 2), ('Brahmachari', 'I 1968', 2), ('Gulaab Gang', '2014', 2), ('Guddi', '1971', 2), ('Jaanwar', '1999', 2), ('Raaz Reboot', '2016', 2), ('Tera Intezaar', '2017', 2), ('Arjun: The Warrior Prince', '2012', 2), ('Yeh Raaste Hain Pyaar Ke', '2001', 2), ('Rahul', '2001', 2), ('Boot Polish', '1954', 2), ('Wedding Anniversary', 'I 2017', 2), ('Shatranj', '1993', 2), ('Shortkut - The Con Is On', '2009', 2), ('Days of Tafree', '2016', 2), ('Bhouri', '2016', 2), ('Mann', '1999', 2), ('Julie', '2004', 2), ('Santa Banta Pvt Ltd', '2016', 0), ('Rudaali', '1993', 2), ('Madurey', '2004', 6), ('Mumbai Delhi Mumbai', '2014', 2), ('Pehla Nasha', '1993', 2), ('Jolly LLB', '2013', 2), ('Maine Pyaar Kyun Kiya', '2005', 2), ('Patiala House', '2011', 2), ('Taal', '1999', 2), ('Jhankaar Beats', '2003', 2), ('Kaanchi', '2014', 2), ('Chal Mere Bhai', '2000', 2), ('Desh Premee', '1982', 2), ('Department', '2012', 2), ('Machhli Jal Ki Rani Hai', '2014', 2), ('Pinjar: Beyond Boundaries...', '2003', 2), ('Thanedaar', '1990', 2), ('Hide & Seek', '2010', 2), ('Kondaveeti Raja', '1986', 4), ('Zakhmi Dil', '1994', 2), ('7 Aum Arivu', '2011', 6), ('S/O Satyamurthy', '2015', 4), ('Ab Tumhare Hawale Watan Saathiyo', '2004', 2), ('Akele Hum Akele Tum', '1995', 2), ('Balu Mahi', '2017', 12), ('Jail', '2009', 2), ('Student No. 1', '2001', 4), ('Anji', '2004', 4), ('Shaapit: The Cursed', '2010', 2), ('Hawas', '2004', 2), ('Pyaar Koi Khel Nahin', '1999', 2), ('Kadhalar Dinam', '1999', 6), ('Mahaanta: The Film', '1997', 2), ('Zakhm', '1998', 2), ('36 China Town', '2006', 2), ('Amal', '2007', 2), ('Chandni Bar', '2001', 2), ('Janbaaz', '1986', 2), ('Ram Balram', 'I 1980', 2), ('Chhota Chetan', '1998', 2), ('Amit Sahni Ki List', '2014', 2), ('Ankush', '1986', 2), ('Halla Bol', '2008', 2), ('Poster Boys', '2017', 2), ('Raju Chacha', '2000', 2), ('Masterji', '1985', 2), ('Farz', '1967', 2), ('Jungle', '2000', 2), ('Baazi', '1984', 2), ('I See You', '2006', 2), ('Shab', '2017', 2), ('Ferrari Ki Sawaari', '2012', 2), ('Anth', '1994', 2), ('Watan Ke Rakhwale', '1987', 2), ('Darna Mana Hai', '2003', 2), ('Do Knot Disturb', '2009', 2), ('Kareeb', '1998', 2), ('Raakh', '1989', 2), ('Naina', '2005', 2), ('Humse Badhkar Kaun: The Entertainer', '1998', 2), ('Platform', '1993', 2), ('Rishtey', '2002', 2), ('Tere Bin Laden: Dead Or Alive', '2016', 2), ('Parampara', '1993', 2), ('Luck', 'I 2009', 2), ('Maya', '1993', 2), ('Chaalbaaz', '1989', 2), ('Tum Bin 2', '2016', 2), ('Yaariyan', '2014', 2), ('Baazi', '1951', 2), ('Makdee', '2002', 2), ('Chingaari', '2006', 2), ('Paap', '2003', 2), ('The Xpose', '2014', 2), ('Bheja Fry', '2007', 2), ('Taxi No. 9 2 11: Nau Do Gyarah', '2006', 2), ('Yeh Zindagi Ka Safar', '2001', 2), ('Dil Pardesi Ho Gayaa', '2003', 2), ('Darwaza', '1978', 2), ('Baton Baton Mein', '1979', 2), ('The Burning Train', '1980', 2), ('Bewafaa', '2005', 2), ('Dil Hai Ki Manta Nahin', '1991', 2), ('Soni', '2018', 2), ('Prem Rog', '1982', 2), ('Peepli Live', '2010', 2), ('Pyar Ka Mandir', '1988', 2), ('The Warrior', '2001', 2), ('Aatma', '2013', 2), ('Revolver Rani', '2014', 2), ('Ek Chhotisi Love Story', '2002', 2), ('Rajput', '1982', 2), ('Super Model', '2013', 0), ('Amrapali', '1966', 2), ('Aap Ki Kasam', '1974', 2), ('Disco Dancer', '1982', 2), ('Chaahat', '1996', 2), ('Kammatti Paadam', '2016', 2), ('Uvaa', '2015', 2), ('Mumbai 125 KM 3D', '2014', 2), ('Dhokha', '2007', 2), ('Teesra Kaun?', '1994', 2), ('Teree Sang: A Kidult Love Story', '2009', 2), ('Barsaat Ki Raat', '1960', 2), ('Yakeen', '2005', 2), ('Main, Meri Patni... Aur Woh!', '2005', 2), ('Karam', '2005', 2), ('Dillagi', '1999', 2), ('Indrajeet', '1991', 2), ('Dharmatma', '1975', 2), ('Mamta', '1966', 2), ('Dor', '2006', 2), ('Khilona', '1970', 2), ('Rough Book', '2016', 2), ('III Smoking Barrels', '2017', 0), ('Chatrapathi', '2005', 4), ('Dil Bole Hadippa!', '2009', 2), ('Jannat: In Search of Heaven...', '2008', 2), ('Apoorva Sagodharargal', '1989', 6), ('Krodhi', '1981', 2), ('Yeh Hai Jalwa', '2002', 2), ('Thammudu', '1999', 4), ('Jurm', '1990', 2), ('Hotel', '1981', 2), ('Desh Drohi', '2008', 2), ('Footsteps in the Dark', '1941', 0), ('Shastra', '1996', 2), ('The Shaukeens', '2014', 2), ('The Great New Wonderful', '2005', 0), ('Darna Zaroori Hai', '2006', 2), ('Dharti', '2011', 7), ('Dil Tera Diwana', '1996', 2), ('Mangalashtak Once More', '2013', 1), ('Mahakaal', '1993', 2), ('Hote Hote Pyar Hogaya', '1999', 2), ('Nanhe Jaisalmer: A Dream Come True', '2007', 2), ('Guddu Ki Gun', '2015', 2), ('Naam', '1986', 2), ('Baabarr', '2009', 2), ('Jawani Diwani', '1972', 2), ('Pitaah', '2002', 2), ('Naajayaz', '1995', 2), ('Prem Geet', '1981', 2), ('Darr @ the Mall', '2014', 2), ('Laali Ki Shaadi Mein Laaddoo Deewana', '2017', 2), ('Criminal', '1995', 2), ('Khoj', '1989', 2), ('Gemini', '2002', 6), ('Parvarish', '1977', 2), ('Gharwali Baharwali', '1998', 2), ('Hum Hain Rahi Pyar Ke', '1993', 2), ('Ajooba', '1991', 2), ('Sehar', '2005', 2), ('Gallit Gondhal, Dillit Mujra', '2009', 2), ('Naam Gum Jaayega', '2005', 2), ('Daayraa', '1996', 2), ('Bezubaan Ishq', '2015', 2), ('Daulat Ki Jung', '1992', 2), ('Zokkomon', '2011', 2), ('Isi Life Mein...!', '2010', 2), ('Amrit', '1986', 2), ('Gaddaar', '1995', 2), ('23rd March 1931: Shaheed', '2002', 2), ('Aagey Se Right', '2009', 2), ('Krishna Cottage', '2004', 2), ('Ram-Avtar', '1988', 2), ('Salaakhen', '1998', 2), ('Pyaar Ishq Aur Mohabbat', '2001', 2), ('Fight Club: Members Only', '2006', 2), ('Jodi Breakers', '2012', 2), ('Jis Desh Men Ganga Behti Hai', '1960', 2), ('Lakshmi', '2014', 2), ('Aa Gaya Hero', '2017', 2), ('Shaan', '1980', 2), ('Gori Tere Pyaar Mein!', '2013', 0), ('Veerappan', '2016', 2), ('Chakravyuh', '2012', 2), ('Dhaai Akshar Prem Ke', '2000', 2), ('Chori Chori', '1956', 2), ('Plan', '2004', 2), ('Periyanna', '1999', 6), ('Dil Hai Betaab', '1993', 19), ('Masoom', '1996', 2), ('Amanush', '1975', 2), ('Yeh Mohabbat Hai', '2002', 2), ('Arpan', '1983', 2), ('Subedar Joginder Singh', '2018', 7), ('Bhaag Johnny', '2015', 2), ('Heer Raanjha', '1970', 2), ('Fuddu', '2016', 2), ('Naya Daur', '1957', 2), ('Papa Kahte Hain', '1996', 2), ('Chhupa Rustam: A Musical Thriller', '2001', 2), ('Samarasimha Reddy', '1999', 4), ('Valley of Flowers', '2006', 2), ('Roti', '1974', 2), ('Vedi', '2011', 6), ('Khuda Kasam', '2010', 0), ('Mr. Azaad', '1994', 2), ('Jaanam Samjha Karo', '1999', 2), ('Satya 2', '2013', 2), ('Policegiri', '2013', 2), ('Awaara', '1951', 2), ('Dilwale', '1994', 2), ('Chaar Sahibzaade', '2014', 7), ('Raaz 3: The Third Dimension', '2012', 2), ('Raja Babu', '1994', 2), ('Zila Ghaziabad', '2013', 2), ('Yeshwant', '1997', 2), ('Aakrosh', '1980', 2), ('Joru Ka Ghulam', '2000', 2), ('Koshish', '1972', 2), ('Satyamev Jayate', '1987', 2), ('Pukar', '1983', 2), ('Hey Ram Hamne Gandhi Ko maar Diya', '2018', 2), ('Ashaant', '1993', 2), ('Sansar', '1987', 2), ('Once Upon a Time in Mumbai Dobaara!', '2013', 2), ('Sharaabi', '1984', 2), ('Anjali', '1990', 6), ('Youngistaan', '2014', 2), ('Phir Se...', '2018', 2), ('Aashiq', '2001', 2), ('The Pool', 'I 2007', 2), ('Agni Sakshi', '1996', 2), ('Vaalee', '1999', 6), ('Khan kluay', '2006', 0), ('Apartment: Rent at Your Own Risk', '2010', 2), ('Thamizhan', '2002', 6), ('Aag', '1994', 2), ('Hello', 'II 2008', 2), ('Coolie', 'I 1983', 2), ('Dharam Kanta', '1982', 2), ('Ab Tak Chhappan 2', '2015', 2), ('Zindagi 50 50', '2013', 2), (\"Deewaar: Let's Bring Our Heroes Home\", '2004', 2), ('My Friend Ganesha', '2007', 2), ('I.D.', '2012', 2), ('Vansh', '1992', 2), ('Kohram', '1999', 2), ('Tezaab', '1988', 2), ('Maatr', '2017', 2), ('No Problem', 'I 2010', 2), ('Aankhen', '1993', 2), ('Dil Hai Tumhaara', '2002', 2), ('Kyaa Super Kool Hain Hum', '2012', 2), ('Karamati Coat', '1993', 2), ('Naqaab', '2007', 2), ('Mumbai Se Aaya Mera Dost', '2003', 2), ('Maharathi', '2008', 2), ('Train Station', 'I 2015', 0), ('Professor', '1962', 2), ('Roadside Romeo', '2008', 2), ('The Wishing Tree', '2017', 2), ('Gang of Ghosts', '2014', 2), ('Aa Dekhen Zara', '2009', 2), ('Singam 2', '2013', 6), ('LIE', '2017', 4), ('404: Error Not Found', '2011', 2), ('Tahkhana', '1986', 2), ('Masoom', '1983', 2), ('Aashiqui', '1990', 2), ('Waqt Ki Awaz', '1988', 2), ('The Last Lear', '2007', 0), ('Jajantaram Mamantaram', '2003', 2), ('Mirch Masala', '1987', 2), ('Saraswatichandra', '1968', 2), ('MSG: The Messenger of God', '2015', 2), ('Pyar Ka Devta', '1990', 2), ('Saaransh', '1984', 2), ('Ghulami', '1985', 2), ('Punjab 1984', '2014', 7), ('ROAR: Tigers of the Sundarbans', '2014', 2), ('Kabhie Kabhie', '1976', 2), ('Besharam', '2013', 2), ('Yuvvraaj', '2008', 2), ('Hanuman', '2005', 2), ('Maanikya', '2014', 15), ('6-5=2', '2014', 2), ('Crash Test Aglaé', '2017', 20), ('Ardh Satya', '1983', 2), ('Sheshnaag', '1990', 2), ('Kyo Kii... Main Jhuth Nahin Bolta', '2001', 2), ('Bas Ek Pal', '2006', 2), ('Guddu Rangeela', '2015', 2), ('Jia aur Jia', '2017', 2), ('Winner', '2003', 6), ('Lajja', '2001', 2), ('Zeher', '2005', 2), ('Hero', 'V 2015', 2), ('Yeh Dillagi', '1994', 2), ('Bunty Aur Babli', '2005', 2), ('Hum Tum Pe Marte Hain', '1999', 2), ('Azaad', '1978', 2), ('Hawayein', '2003', 2), ('Agni Varsha', '2002', 2), ('Bemisal', '1982', 2), ('Jal', '2013', 2), ('The Domino Effect', '2012', 0), ('Aatank Hi Aatank', '1995', 2), ('Loafer', '1996', 2), ('Masti', '2004', 2), ('Zubeidaa', '2001', 2), ('Michael Madana Kamarajan', '1990', 6), ('Raja Jani', '1972', 2), ('Thikka', '2016', 4), ('Hero Hindustani', '1998', 2), ('Honeymoon Travels Pvt. Ltd.', '2007', 2), ('Shuddhi', '2017', 15), ('Yateem', '1988', 2), ('Barah Aana', '2009', 2), ('Pehla Pehla Pyar', '1994', 2), ('Dev', '2004', 2), ('Bahurani', '1989', 2), ('Hathyar: Face to Face with Reality', '2002', 2), ('Majunu', '2001', 6), ('Khiladi 420', '2000', 2), ('My Birthday Song', '2018', 2), ('Vaah! Life Ho Toh Aisi!', '2005', 2), ('Betaab', '1983', 2), ('Aaina', '1993', 2), ('Gair', '1999', 2), ('Mantostaan', '2016', 12), ('Monsoon', 'I 2015', 2), ('Saath Saath', '1982', 2), ('Cape Karma', '2007', 0), ('Paying Guests', '2009', 2), ('1920', '2008', 2), ('Calendar Girls', '2015', 2), ('Musafir', '2004', 2), ('Hatya: The Murder', '2004', 2), ('Ishkq in Paris', '2013', 0), ('Mujhe Kucch Kehna Hai', '2001', 2), ('Ramana', 'I 2002', 6), ('Do Gaz Zameen Ke Neeche', '1972', 2), ('Khel', '1992', 2), ('Haasil', '2003', 2), ('Lekin...', '1990', 2), ('Yaan', '2014', 6), ('8 x 10 Tasveer', '2009', 2), ('Zid', '2014', 2), ('Shakthi: The Power', '2002', 2), ('F.A.L.T.U', '2011', 2), ('Khiladi', '1992', 2), ('Kitne Door... Kitne Paas', '2002', 2), ('Tom, Dick, and Harry', '2006', 2), ('Sullan', '2004', 6), ('Shivamani', '2003', 4), ('Insaaf: The Justice', '2004', 2), ('Bajatey Raho', '2013', 2), ('Love in Tokyo', '1966', 2), ('Deedar', '1951', 2), ('Deedar', '1992', 2), ('Vaada', '2005', 2), ('Nazrana', '1987', 2), ('Madhoshi', '2004', 2), ('Vijay', '1988', 2), ('Agar Tum Na Hote', '1983', 2), ('Khud-Daar', '1982', 2), ('Shortcut Romeo', '2013', 2), ('Insaf Ka Tarazu', '1980', 2), ('Nastik', '1983', 2), ('Sandwich', '2006', 2), ('Muthu', '1995', 6), ('Double Dhamaal', '2011', 2), ('Deewane Huye Paagal', '2005', 2), ('Ab Tak Chhappan', '2004', 2), ('Mandi', '1983', 2), ('Khoya Khoya Chand', '2007', 2), ('Andaz', '1994', 2), ('Deewana Mujh Sa Nahin', '1990', 2), ('Mere Mehboob', '1963', 12), ('Woh 7 Din', '1983', 2), ('Ajanabee', '1974', 2), ('Red Swastik', '2007', 2), ('Inteqam', '1988', 2), ('Enemmy', '2013', 2), ('Garm Hava', '1974', 12), ('Dilliwaali Zaalim Girlfriend', '2015', 2), ('Dear Maya', '2017', 2), ('Hum Ho Gaye Aap Ke', '2001', 2), ('Ramji Londonwaley', '2005', 2), ('Dil Maange More!!!', '2004', 2), ('Om Jai Jagadish', '2002', 2), ('Tum Milo Toh Sahi', '2010', 2), ('Khatta Meetha', '1978', 2), ('Naaraaz', '1994', 2), ('My Friend Pinto', '2011', 2), ('Hijack', '2008', 2), ('China Town', '1962', 2), ('Naksha', '2006', 2), ('Damini', '1993', 2), ('Rakshak', '1996', 2), ('Waqt: The Race Against Time', '2005', 2), ('Bhoot', '2003', 2), ('Dil', '1990', 2), ('Raaz: The Mystery Continues', '2009', 2), ('Kyon Ki...', '2005', 2), ('Get Educated: Paathshaala', '2010', 2), ('Tridev', '1989', 2), ('Saajan Ka Ghar', '1994', 2), ('Bajrangbali', '1976', 2), ('Barkhaa', '2015', 2), ('Fox', 'I 2009', 2), ('Dharam Sankat Mein', '2015', 2), ('Vishwatma', '1992', 2), ('One 2 Ka 4', '2001', 2), ('Purana Mandir', '1984', 2), ('Dev Bhoomi', '2016', 2), ('Pardesi Babu', '1998', 2), ('Charas', '1976', 2), ('Shoot on Sight', '2007', 0), ('Aaghaaz', '2000', 2), ('Aap Aye Bahaar Ayee', '1971', 2), ('Sindoor', '1987', 2), ('Wah Taj', '2016', 2), ('Pinjra', '1972', 1), ('Cheetah', '1994', 2), ('Road', '2002', 2), ('Afsana Pyar Ka', '1991', 2), ('Janasheen', '2003', 2), ('Auzaar', '1997', 2), ('Aap Ki Khatir', '2006', 2), ('Jhoom Barabar Jhoom', '2007', 0), ('Bobby', '1973', 2), ('Coolie No. 1', '1995', 2), ('Taarzan: The Wonder Car', '2004', 2), ('Laaga Chunari Mein Daag: Journey of a Woman', '2007', 2), ('Saudagar', '1991', 2), ('Pyaar Kiya To Darna Kya', '1998', 2), ('Shakespeare-Wallah', '1965', 0), ('Phoonk', '2008', 2), ('Andaz', '1971', 2), ('Aashayein', '2010', 2), ('Lootere', '1993', 2), ('Kamaal Dhamaal Malamaal', '2012', 2), ('Priyamanavale', '2000', 6), ('MSG the Warrior: Lion Heart', '2016', 2), ('Kucch To Hai', '2003', 2), ('Nishant', '1975', 2), ('Chemmeen', '1965', 19), ('Blackmail', '2005', 2), ('Manoranjan', '1974', 2), ('Swayamvar', '1980', 2), ('Neel Kamal', '1968', 2), ('Khamoshi', '1970', 2), ('Kal Aaj Aur Kal', '1971', 2), ('Aa Gale Lag Jaa', '1994', 2), ('Chashme Buddoor', '1981', 2), ('Alam Ara', '1931', 2), ('Taj Mahal: An Eternal Love Story', '2005', 2), ('Parwana', '1971', 2), ('Humko Deewana Kar Gaye', '2006', 2), ('Parineeta', '2005', 2), ('Yes Boss', '1997', 2), ('Nagin', '1976', 2), ('Poorna', '2017', 2), ('Not Today', '2013', 0), ('Bobby Jasoos', '2014', 12), ('Nandha', '2001', 6), ('Jeena Isi Ka Naam Hai', 'I 2017', 2), ('Lahoo Ke Do Rang', '1997', 2), ('Samundar', '1986', 2), ('Sparsh', '1980', 2), ('Love Ke Liye Kuch Bhi Karega', '2001', 2), ('Kabuliwala', '1961', 2), ('Tere Ghar Ke Samne', '1963', 2), ('Sameer', '2017', 2), ('Patthar Ke Sanam', '1967', 2), ('Ajnabee', '2001', 2), ('Bbuddah... Hoga Terra Baap', '2011', 2), ('Zanjeer', '1973', 2), ('Traffic Signal', '2007', 2), ('T for Taj Mahal', '2018', 2), ('Y.M.I. Yeh Mera India', '2008', 2), ('Dharam Karam', '1975', 2), ('The Violin Player', '2016', 2), ('Rokkk', '2010', 2), ('Purab Aur Pachhim', '1970', 2), ('Mr Ya Miss', '2005', 2), ('Main Aisa Hi Hoon', '2005', 2), ('Mujhse Fraaandship Karoge', '2011', 2), ('Kya Kehna', '2000', 2), ('Gupt: The Hidden Truth', '1997', 2), ('Alibaba Aur 40 Chor', '1980', 2), ('Khoon Pasina', '1977', 2), ('Dahan', '1998', 2), ('Teesri Kasam', '1966', 2), ('Talash', '1969', 2), ('Kalaakaar', '1983', 2), ('Saare Jahaan Se Mehnga...', '2013', 2), ('Ek Tha Raja', '1996', 2), ('Kishen Kanhaiya', '1990', 2), ('Hyderabad Nawabs', '2006', 2), ('Ram Lakhan', '1989', 2), ('Deha', '2007', 2), ('Pukar', '2000', 2), ('Devdas', '1955', 2), ('Tevar', '2015', 2), ('Mere Jeevan Saathi', '1972', 2), ('Sardar', '1993', 2), ('Chor Machaaye Shor', '2002', 2), ('Jab Pyar Kisise Hota Hai', '1961', 2), ('Gardish', '1993', 2), ('Sniff!!!', '2017', 2), ('No Entry', '2005', 2), ('Atithi Tum Kab Jaoge?', '2010', 2), ('Banjo', '2016', 2), ('Jung', '2000', 2), ('Prince', '1969', 2), ('Kadhal Sadugudu', '2003', 2), ('Jheel Ke Us Paar', '1973', 2), ('Naya Zamana', '1971', 2), ('Desi Kattey', '2014', 2), ('Lamhaa: The Untold Story of Kashmir', '2010', 2), ('Hum Hain Bemisaal', '1994', 2), ('Takkar', '1995', 2), ('Yudh', '1985', 2), ('Moh Maya Money', '2016', 2), ('Allari Pidugu', '2005', 4), ('Benaam Badsha', '1991', 2), ('Sur: The Melody of Life', '2002', 2), ('Singh Saab the Great', '2013', 2), ('Daawat-e-Ishq', '2014', 2), ('Aradhana', '1969', 2), ('Ram Teri Ganga Maili', '1985', 2), ('Aakhir Kyon?', '1985', 2), ('Shagird', '1967', 2), ('Chura Liyaa Hai Tumne', '2003', 2), ('Bachchan', '2013', 15), ('Sir', '1993', 2), ('Red Rose', '1980', 2), ('Tarkieb', '2000', 2), ('Aah', '1953', 2), ('Sainikudu', '2006', 2), ('Hyderabad Blues', '1998', 0), ('Kalyug', '1981', 2), ('Abdullah', '1980', 2), ('Waisa Bhi Hota Hai Part II', '2003', 2), ('Pyar Ka Mausam', '1969', 2), ('Bewaffa Se Waffa', '1992', 2), ('Rama Rama Kya Hai Dramaaa', '2008', 2), ('Prince', '2010', 2), ('All the Best: Fun Begins', '2009', 2), ('Jaagruti', '1993', 2), ('Andaz', '1949', 2), ('I Love New Year', '2015', 2), ('Vishnuvardhana', '2011', 15), ('Phullu', '2017', 2), ('Krazzy 4', '2008', 2), ('PremGranth', '1996', 2), ('Masti Express', '2011', 7), ('Nirdosh', '2018', 2), ('Upkar', '1967', 2), ('Shor', '1972', 2), ('Haseena Maan Jaayegi', '1999', 2), ('Deewaanapan', '2001', 2), ('Saathi', '1968', 2), ('Punnagai Mannan', '1986', 6), ('Mutamestri', '1993', 4), ('Time Out', '2015', 2), ('Anurodh', '1979', 2), ('Officer', '2001', 2), ('Kaccha Limboo', '2011', 2), ('Chal Chala Chal', '2009', 2), ('Prem Pujari', '1970', 2), ('Junoon', '1979', 2), ('Daddy Cool: Join the Fun', '2009', 2), ('Champion', '2000', 2), ('Leader', '1964', 2), ('Anuraag', '1972', 2), ('Bittoo Boss', '2012', 2), ('Dangerous Ishhq', '2012', 2), ('100% Love', '2012', 17), ('Anari', '1959', 2), ('Chandni', '1989', 2), ('Nazar', '2005', 2), ('Naram Garam', '1981', 2), ('Kaajal', '1965', 2), ('Mr. White Mr. Black', '2008', 2), ('Kya Dilli Kya Lahore', '2014', 2), ('Krishna Aur Kans', '2012', 2), ('Gollu aur Pappu', '2014', 2), ('Lakeer - Forbidden Lines', '2004', 2), ('3 Deewarein', '2003', 2), ('Return of Jewel Thief', '1996', 2), ('Pyaar Ke Side Effects', '2006', 2), ('Black Mail', '1973', 2), ('Bawarchi', '1972', 2), ('Hogi Pyaar Ki Jeet', '1999', 2), ('Barsaat', '1995', 2), ('Daddy', 'I 2001', 4), ('Dancer', '1991', 2), ('Gambler', '1995', 2), ('Rog', '2005', 2), ('Wedding Pullav', '2015', 2), ('Mithya', '2008', 2), ('Naukar Biwi Ka', '1983', 2), ('Vaastu Shastra', '2004', 2), ('One by Two', '2014', 2), ('Himmat', '1996', 2), ('Dost', '1974', 2), ('Holi', '1985', 2), ('Sharafat Gayi Tel Lene', '2015', 2), (\"My Wife's Murder\", '2005', 2), ('Dastak', '1996', 2), ('Commando', '1988', 2), ('Police Public', '1990', 2), ('Kempe Gowda', '2011', 15), ('Badhaai Ho Badhaai', '2002', 2), ('Qayamat: City Under Threat', '2003', 2), ('Viruddh... Family Comes First', '2005', 2), ('7 Hours to Go', '2016', 2), ('Deewana Main Deewana', '2013', 2), ('Khel', '2003', 2), ('Phoring', '2013', 17), ('Aasha', '1980', 2), ('Rajnigandha', '1974', 2), ('Suhaag', '1979', 2), ('Trimurti', '1995', 2), ('Muqaddar Ka Sikandar', '1978', 2), ('Biwi No. 1', '1999', 2), ('Aakhree Raasta', '1986', 2), ('Kisna: The Warrior Poet', '2005', 0), ('Tere Mere Sapne', '1971', 2), ('Ram Shastra', '1995', 2), ('Arjun', '2004', 4), ('Katha', '1983', 2), ('Koi Aap Sa: But Lovers Have to Be Friends', '2005', 2), ('Satyakam', '1969', 2), (\"Where's the Party Yaar?\", '2003', 2), ('Elaan', '2005', 2), ('Thoda Pyaar Thoda Magic', '2008', 2), ('Kranti', '1981', 2), ('Anwar', '2007', 2), ('Shahenshah', '1988', 2), ('The Don', '1995', 2), ('The Death Sentence: Mrityu Dand', '1997', 2), ('Gangotri', '2003', 4), ('Bumm Bumm Bole', '2010', 2), ('Gair Kaanooni', '1989', 2), ('The Train', '1970', 2), ('Aar-Paar', '1954', 2), ('Kyaa Dil Ne Kahaa', '2002', 2), ('Mumbai Salsa', '2007', 2), ('Kala Pani', '1958', 2), ('Navra Mazha Navsacha', '2004', 1), ('Koi Mere Dil Se Poochhe', '2002', 2), ('Chitchor', '1976', 2), ('Itlu Sravani Subramanyam', '2001', 4), ('Trinetra', '1991', 2), ('Dracula 2012', '2013', 6), ('Aryan', '1988', 19), ('Zor: Never Underestimate the Force', '1998', 2), ('Angaar', '1992', 2), ('Yeh Hai Mumbai Meri Jaan', '1999', 2), ('Gandhi, My Father', '2007', 2), ('Pratighaat', '1987', 2), ('Bandini', '1963', 2), ('The Hero: Love Story of a Spy', '2003', 2), ('Aan: Men at Work', '2004', 2), ('Dastak', '1970', 2), ('Mast', '1999', 2), ('Vadh', '2002', 2), ('Aadalat', '1976', 2), ('Ilzaam', '1986', 2), ('Rockford', '1999', 0), ('Aasoo Bane Angaarey', '1993', 2), ('Astitva', '2000', 1), ('Ghulam-E-Musthafa', '1997', 2), ('Ghar Ghar Ki Kahani', '1970', 2), ('Prem Aggan', '1998', 2), ('Hathyar', '1989', 2), ('Aag Ka Gola', '1990', 2), ('Bhrashtachar', '1989', 2), ('Prague', '2013', 2), ('Mumbai Mirror', '2013', 0), ('Kala Pani', '1996', 19), ('Mard', '1985', 2), ('Sirf Tum', '1999', 2), ('Aashik Aawara', '1993', 2), ('Na Tum Jaano Na Hum', '2002', 2), ('Haseena', '2018', 2), ('Island City', '2015', 2), (\"Mr. & Mrs. '55\", '1955', 2), ('Apnapan', '1977', 2), ('I Proud to Be an Indian', '2004', 2), ('Akayla', '1991', 2), ('Swarag Se Sunder', '1986', 2), ('Maska', '2009', 4), ('Howrah Bridge', '1958', 2), ('Aabra Ka Daabra', '2004', 2), ('Lateef', '2013', 2), ('Heartless', '2014', 2), ('Pairon Talle', '2010', 2), ('Gambler', '1971', 2), ('Delhi in a Day', '2011', 2), ('Well Done Abba!', '2009', 2), ('Antardwand', '2008', 2), ('Teen Devian', '1965', 2), ('Balika Badhu', '1976', 2), ('Haal-e-Dil', '2008', 2), ('Sulemani Keeda', '2014', 2), ('Khullam Khulla Pyaar Karen', '2005', 2), ('Silsiilay', '2005', 2), ('Taaqatwar', '1989', 2), ('Mirch', '2010', 2), ('Bade Miyan Chote Miyan', '1998', 2), ('Gangaa Jamunaa Saraswathi', '1988', 2), ('Acid Factory', '2009', 2), ('Aadupuliyattam', '2016', 19), ('Bedardi', '1993', 2), ('Rangrezz', '2013', 2), ('Dil Diya Hai', '2006', 2), ('Yehi Hai Zindagi', '1977', 2), ('Fareb', '1996', 2), ('Jawani Zindabad', '1990', 2), ('Kohinoor', '1960', 2), ('Chakra', '1981', 2), ('Jogi the King', '2005', 2), ('Chori Chori Chupke Chupke', '2001', 2), ('Garv: Pride and Honour', '2004', 2), ('Shatranj Ke Khilari', '1977', 2), ('The Great Gambler', '1979', 2), ('Dariya Dil', '1988', 2), ('Jalpari: The Desert Mermaid', '2012', 2), ('Dillagi', '1978', 2), ('Bambai Ka Babu', '1996', 2), ('Anari No. 1', '1999', 2), ('Darling', 'III 2007', 2), ('Saat Hindustani', '1969', 2), ('Anarkali', '1953', 2), ('Mr. Bond', '1992', 2), ('Tamanchey: Pyar Mein Dil Pe Maar De Goli', '2014', 2), ('Ahista Ahista', '2006', 2), ('New Delhi', '1987', 19), ('Parwana', '2003', 2), ('Mili', '1975', 2), ('Silsila Hai Pyar Ka', '1999', 2), ('Aathi', '2006', 6), ('Gali Gali Chor Hai', '2012', 2), ('Jeet', '1996', 2), ('Koyelaanchal', '2014', 2), ('Dhol', '2007', 2), ('Dream Girl', '1977', 2), ('Mrs. Scooter', '2015', 2), ('Rajkumar', '1996', 2), ('Click', 'I 2010', 2), ('Inquilaab', '1984', 2), ('Jo Bole So Nihaal', '2005', 2), ('Zulm Ki Hukumat', '1992', 2), ('Lanka', '2011', 2), ('Guru', 'I 1989', 2), ('Kaun Kitney Paani Mein', '2015', 2), ('Amu', '2005', 17), ('Pattathu Yaanai', '2013', 6), ('Sachein', '2005', 6), ('Lucky: No Time for Love', '2005', 2), ('Ayee Milan Ki Bela', '1964', 2), ('Gurudev', '1993', 2), ('Aetbaar', '2004', 2), ('1982 - A Love Marriage', '2017', 2), ('Meridian Lines', '2013', 2), ('Armaan', '2003', 2), ('Hum Kaun Hai?', '2004', 2), ('Love Breakups Zindagi', '2011', 2), ('Ramaa: The Saviour', '2010', 2), ('Shikhar', '2005', 2), ('Warning', 'I 2013', 2), ('Bhoot Unkle', '2006', 2), ('Suraj Ka Satvan Ghoda', '1992', 2), ('Kanoon', '1960', 2), ('Aag', '1948', 2), ('Daud: Fun on the Run', '1997', 2), ('Malamaal Weekly', '2006', 2), ('Andolan', '1995', 2), ('Mumbai Cutting', '2008', 2), ('Raja Bhaiya', '2003', 2), ('Aan', '1952', 2), ('Kissi Se Na Kehna', '1983', 2), ('Bollywood Queen', '2002', 0), ('Manthan', '1976', 2), ('Kohraa', '1964', 2), ('Awaargi', '1990', 2), ('Bawandar', '2000', 2), ('Kasme Vaade', '1978', 2), ('Tumsa Nahin Dekha', '1957', 2), ('Hind Ka Napak Ko Jawab', '2017', 2), ('Karle Pyaar Karle', '2014', 2), ('Shaukeen', '1982', 2), ('Apne', '2007', 2), ('Kshatriya', '1993', 2), ('Shaadi Karke Phas Gaya Yaar', '2006', 2), ('Benny and Babloo', '2010', 2), ('Muskurahat', '1992', 2), ('Sone Pe Suhaaga', '1988', 2), ('Kisse Pyaar Karoon?', '2009', 2), ('Gumrah', '1963', 2), ('Jhansi Ki Rani', '1953', 2), ('Baharen Phir Bhi Aayengi', '1966', 2), ('War Chod Na Yaar', '2013', 2), ('Lucky Kabootar', '2014', 2), ('Bollywood Hero', '2009', 14), ('Taxi Driver', '1954', 2), ('Apradhi Kaun?', '1957', 2), ('Justice Chaudhury', '1983', 2), ('Bade Dilwala', '1999', 2), ('Gora Aur Kala', '1972', 2), ('Testing Movie', '2012', 0), ('Market', '2003', 2), ('Hum Paanch', '1980', 2), ('Satyam Shivam Sundaram: Love Sublime', '1978', 2), ('Soldier', 'II 1998', 2), ('Chacha Bhatija', '1977', 2), ('3 AM: A Paranormal Experience', '2014', 2), ('Jaadugar', '1989', 2), ('Sssshhh...', '2003', 2), ('Hulchul', '1971', 2), ('Jhuk Gaya Aasman', '1968', 2), ('Prem Shakti', '1994', 2), ('Maha-Sangram', '1990', 2), ('Rajjo', '2013', 2), ('Bhoot Bungla', '1965', 2), ('Insaaf: The Final Justice', '1997', 2), ('Ghar Ek Mandir', '1984', 2), ('Shaktiman', '1993', 2), ('Road to Sangam', '2010', 2), ('Pyaar Diwana Hota Hai', '2002', 2), ('Dil Ne Phir Yaad Kiya', '2001', 2), ('Baiju Bawra', '1952', 2), ('Sarhad Paar', '2006', 2), ('Hum Dono', '1961', 2), ('Kala Bazar', '1960', 2), ('Charlie Kay Chakkar Mein', '2015', 2), ('Aar Ya Paar', '1997', 2), ('Dhund', '1973', 2), ('Sar Ankhon Par', '1999', 2), ('Namak Halaal', '1982', 2), ('Dosti: Friends Forever', '2005', 2), ('Sixteen', 'II 2013', 2), ('Trishul', '1978', 2), ('Awwal Number', '1990', 2), ('Nehlle Pe Dehlla', '2007', 2), ('Blue Oranges', '2009', 2), ('Seema', '1955', 2), ('Love Love Love', '1989', 2), ('Zulmi', '1999', 2), ('Ninne Pelladatha', '1996', 4), ('Kanyadaan', '1968', 2), ('Ab... Bas!', '2004', 2), ('Bomb the System', '2002', 0), ('Hum Dono', '1995', 2), ('Tumse Achha Kaun Hai', '1969', 2), ('Saawan... The Love Season', '2006', 2), ('Ek Vivaah... Aisa Bhi', '2008', 2), ('Safar', '1970', 2), ('Haseena Maan Jayegi', '1968', 2), ('My Dear Kuttichaathan', '1984', 2), ('Rikki-Tikki-Tavi', '1979', 21), ('Rakht', '2004', 2), ('Bal Bramhachari', '1996', 2), ('Prem Kahani', '1975', 2), ('Be-Imaan', '1972', 2), ('Kora Kagaz', '1974', 2), ('Asambhav', '2004', 2), ('Narasimhudu', '2005', 4), ('Aadmi', '1968', 2), ('Who', 'I 2018', 19), ('Swami', '1977', 2), ('Anpadh', '1962', 2), ('Rajaji', '1999', 2), ('Chatur Singh Two Star', '2011', 2), ('Saansein: The Last Breath', '2016', 2), ('Red: The Dark Side', '2007', 2), ('Kerry on Kutton', '2016', 2), ('EMI: Liya Hai To Chukana Padega', '2008', 2), ('Leera the Soulmate', '2018', 2), ('Help', '2010', 2), ('Tutak Tutak Tutiya', '2016', 2), ('Saheb Biwi Aur Gangster Returns', '2013', 2), ('Ghatak: Lethal', '1996', 2), ('Tujhe Meri Kasam', '2003', 2), ('Aksar', '2006', 2), ('Run', '2004', 2), ('Chain Kulii Ki Main Kulii', '2007', 2), ('Creature', 'I 2014', 2), ('Vardi', '1989', 2), ('Rush', '2012', 2), ('Angrakshak', '1995', 2), ('Mehbooba', '1976', 2), ('Ek Nazar', '1972', 2), ('Aaina', '1977', 2), ('Maqsad', '1984', 2), ('Yaraana', '1995', 2), ('Titoo MBA', '2014', 2), ('Chamku', '2008', 2), ('Dharm', '2007', 2), ('Do Bigha Zamin', '1953', 2), ('Aashiq Banaya Aapne: Love Takes Over', '2005', 2), ('Ramayana: The Epic', '2010', 2), ('Yaarana', '1981', 2), ('Yeh Majhdhaar', '1996', 2), ('Bhumika', '1977', 2), ('Barsaat Ki Ek Raat', '1981', 2), ('Elaan', '1994', 2), ('Aazaan', '2011', 2), ('Striker', '2010', 2), ('Azaad', '1955', 2), ('Memories in March', '2010', 17), ('Anjaneyulu', '2009', 4), ('Red Alert: The War Within', '2009', 2), ('Sangeet', '1992', 2), ('Mr. Singh/Mrs. Mehta', '2010', 2), ('Aflatoon', '1997', 2), ('Baaghi', '2000', 2), ('Road, Movie', '2009', 2), ('Rajdhani Express', '2013', 2), ('P Se PM Tak', '2015', 2), ('Kaun Sachcha Kaun Jhootha', '1997', 2), ('C Kkompany', '2008', 2), ('Shirin Farhad Ki Toh Nikal Padi', '2012', 2), ('Tirangaa', '1992', 2), ('Ishq Vishk', '2003', 2), ('Padosan', '1968', 2), ('Kahin Pyaar Na Ho Jaaye', '2000', 2), ('Charas: A Joint Effort', '2004', 2), (\"Hanuman Da' Damdaar\", '2017', 2), ('Tarazu', '1997', 2), ('Tawaif', '1985', 2), ('Papa the Great', '2000', 2), ('Filhaal...', '2002', 2), ('Aao Pyaar Karen', '1994', 2), ('Kash... Aap Hamare Hote', '2003', 2), ('Cheluvi', '1992', 15), ('City of Gold - Mumbai 1982: Ek Ankahee Kahani', '2010', 2), ('Gour Hari Dastaan: The Freedom File', '2015', 2), ('Asli-Naqli', '1962', 2), ('Haathkadi', '1995', 2), ('Mr. X in Bombay', '1964', 2), ('Inkaar', '1977', 2), ('Shikari', '2000', 2), ('Kuku Mathur Ki Jhand Ho Gayi', '2014', 2), ('Aatank', '1996', 2), ('Chenna Kesava Reddy', '2002', 4), ('My Name Is Anthony Gonsalves', '2008', 2), ('Gayab', '2004', 2), ('Dil Jo Bhi Kahey...', '2005', 0), ('Mumbai Express', '2005', 6), ('Judaai', '1997', 2), ('Sardaar Gabbar Singh', '2016', 2), ('The Long Duel', '1967', 0), ('Reshma Aur Shera', '1971', 2), ('Diwana', '1967', 2), ('Buddha Mil Gaya', '1971', 2), ('Superstar', '2008', 2), ('Nazar Ke Samne', '1995', 2), ('Zabardast', '1985', 2), ('Zameer', '2005', 2), ('O Teri', '2014', 2), ('Kshay', '2011', 2), ('Kasam Paida Karne Wale Ki', '1984', 2), ('Chargesheet', '2011', 2), ('James', '2005', 2), ('Crd', '2016', 2), ('Jeevan Ek Sanghursh', '1990', 2), ('Aap Kaa Surroor: The Moviee - The Real Luv Story', '2007', 2), ('Toonpur Ka Superrhero', '2010', 2), ('Dostana', '1980', 2), ('Railway Children', '2016', 15), ('Train to Pakistan', '1998', 2), ('Mehbooba', '2008', 2), ('Tera Mera Saath Rahen', '2001', 2), ('Jaal', '1952', 2), ('Meenaxi: Tale of 3 Cities', '2004', 2), ('Besharam', '1978', 2), ('Sahasa Veerudu Sagara Kanya', '1996', 4), ('Pyaasa Sawan', '1981', 2), ('Daag', '1952', 2), ('Aap Ke Deewane', '1980', 2), ('Ekka Raja Rani', '1994', 2), ('Raghu Romeo', '2003', 2), ('Ajab Gazabb Love', '2012', 2), ('Home Delivery: Aapko... Ghar Tak', '2005', 2), ('Doli Saja Ke Rakhna', '1998', 2), ('Phoonk 2', '2010', 2), ('Quick Gun Murugun: Misadventures of an Indian Cowboy', '2009', 0), ('Mrityudaata', '1997', 2), ('Tango Charlie', '2005', 2), ('Ek Rishtaa: The Bond of Love', '2001', 2), ('Maharana Pratap: The First Freedom Fighter', '2012', 2), ('Super', '2005', 4), ('Chaand Kaa Tukdaa', '1994', 2), ('Bangaram', '2006', 4), ('Paandav', '1995', 2), ('Shaadi No. 1', '2005', 2), ('Buddha Mar Gaya', '2007', 2), ('Love Shagun', '2016', 2), ('Rocky', '2006', 0), ('Anamika: The Untold Story', '2008', 2), ('Parichay', '1972', 2), ('Amar', '1954', 2), ('One Two Three', '2008', 2), ('Kaalia', '1981', 2), ('Tumko Na Bhool Paayenge', '2002', 2), ('A Scandall', '2016', 2), ('Mr. Natwarlal', '1979', 2), ('Half Ticket', '1962', 2), ('Dam999', '2011', 0), ('Ganga Ki Saugand', '1978', 2), ('Pyaar Mein Kabhi Kabhi...', '1999', 2), ('Shukriya: Till Death Do Us Apart', '2004', 2), ('Jaanisaar', '2015', 2), ('Kunwara Baap', '1974', 2), ('Pati Patni Aur Woh', '1978', 2), ('Sri Shirdi Saibaba Mahathyam', '1986', 4), ('Patita', '1953', 2), ('Teesri Aankh: The Hidden Camera', '2006', 2), ('Peddlers', '2012', 2), ('Piya Ka Ghar', '1972', 2), ('Gandhi to Hitler', '2011', 2), ('Varudu', '2010', 4), ('Shakalaka Boom Boom', '2007', 2), ('Sunny', '1984', 2), ('Kinara', '1977', 2), ('Dulaara', '1994', 2), ('Biwi Ho To Aisi', '1988', 2), ('Khiladiyon Ka Khiladi', '1996', 2), ('Gafla', '2006', 2), ('Yaadein', '1964', 2), ('Albert Pinto Ko Gussa Kyon Ata Hai', '1980', 2), ('Namkeen', '1982', 2), ('Thanga Magan', '1983', 6), ('3 Bachelors', '2012', 2), ('Baseraa', '1981', 2), ('I Am 24', '2010', 2), ('Speed', '2007', 2), ('Ishq Hai Tumse', '2004', 2), ('Jalwa', '1987', 2), ('Rang Birangi', '1983', 2), ('Daag: A Poem of Love', '1973', 2), ('Sandai Kozhi', '2005', 6), ('Bichhoo', '2000', 2), ('Kanthaswamy', '2009', 6), ('Kachche Dhaage', '1999', 2), ('Miss Tanakpur Haazir Ho', '2015', 2), ('My Bollywood Bride', '2006', 0), ('Marry Me - Aber bitte auf Indisch', '2015', 0), ('Ru-Ba-Ru', '2008', 2), ('Kismet Love Paisa Dilli', '2012', 2), ('Gehri Chaal', '1973', 2), ('Bhairava Dweepam', '1994', 4), ('Aakhri Khat', '1966', 2), ('Sanjog', '1985', 2), ('Aapko Pehle Bhi Kahin Dekha Hai', '2003', 2), ('Prem Nagar', '1974', 2), ('Bombai Ka Babu', '1960', 2), ('Chauranga', '2014', 2), ('Kaksparsh', '2012', 1), ('Isi Ka Naam Zindagi', '1992', 2), ('Bhagwaan Dada', '1986', 2), ('Qila', '1998', 2), ('Anamika', '1973', 2), ('Ladies Tailor', '2006', 2), ('Kahani Kismat Ki', '1973', 2), ('Ghar Ho To Aisa', '1990', 2), ('Kuch Kuch Locha Hai', '2015', 2), ('Suhaag', '1994', 2), ('Sooryavansham', '1999', 2), ('Kabzaa', '1988', 2), ('Gopi', '1970', 2), ('Narasimha Nayudu', '2001', 4), ('Dus Numbri', '1976', 2), ('Split Wide Open', '1999', 0), ('Gaja Gamini', '2000', 2), ('Chitkabrey', '2011', 2), ('Jeevan Mrityu', '1970', 2), ('Kajraare', '2010', 2), ('Jigariyaa', '2014', 2), ('Shaadi Se Pehle', '2006', 2), ('Anubhav', '1986', 2), ('Dhoom Dadakka', '2008', 2), ('Hameshaa', '1997', 2), ('Mirza Ghalib', '1954', 2), ('Hindustan Ki Kasam', '1973', 2), ('Baaghi: A Rebel for Love', '1990', 2), ('Yaadon Ki Baaraat', '1973', 2), (\"Crook: It's Good to Be Bad\", '2010', 2), ('Do Lafzon Ki Kahani', '2016', 2), ('Dr. Babasaheb Ambedkar', '2000', 2), ('Main Madhuri Dixit Banna Chahti Hoon!', '2003', 2), ('Kala Bazaar', '1989', 2), ('An Evening in Paris', '1967', 2), ('Gunaah', '1993', 2), ('Aavishkar', '1974', 2), ('Banaras', '2006', 2), ('Risk', '2007', 2), ('Kismat', '2004', 2), ('Fired', 'I 2010', 2), ('Swami', '2007', 2), ('Khauff', '2000', 2), ('Boxer', '1984', 2), ('Shudra the Rising', '2012', 2), ('Aaj', '1987', 2), ('Tere Mere Phere', '2011', 2), ('Mr. Romeo', '1996', 6), ('Prem Qaidi', '1991', 2), ('Tathastu', '2006', 2), ('Thanks Maa', '2009', 2), ('Yeh Teraa Ghar Yeh Meraa Ghar', '2001', 2), ('Naughty @ 40', '2011', 2), ('15 Park Avenue', '2005', 0), ('Eeshwar', '1989', 2), ('Ek: The Power of One', '2009', 2), ('Hum Hai Raahi CAR Ke', '2013', 2), ('Jugnu', '1947', 2), ('Khushboo', '1975', 2), ('Delhi Safari', '2012', 2), ('Krantiveer', '1994', 2), ('Main Azaad Hoon', '1989', 2), ('Ishqedarriyaan', '2015', 2), ('Thunder in the East', '1953', 0), ('Ramchand Pakistani', '2008', 12), ('Thakshak', '1999', 2), ('Navrang', '1959', 2), ('Sunghursh', '1968', 2), ('Return of Hanuman', '2007', 2), ('Dil Ki Baazi', '1993', 2), ('Harud', '2010', 12), ('Khichdi: The Movie', '2010', 2), ('Chamatkar', 'I 1992', 2), ('Mastram', '2013', 2), ('Kasak', '2005', 2), ('Teesri Aankh', '1982', 2), ('Maalamaal', '1988', 2), ('Jeene Ki Raah', '1969', 2), ('Black & White', 'I 2008', 2), ('Agent Vinod', '1977', 2), ('Bhopal Express', '1999', 2), ('Hifazat', '1987', 2), ('Victory', 'I 2009', 2), ('Immaan Dharam', '1977', 2), ('The Memsahib', '2006', 0), ('Albela', '1951', 2), ('Kevi Rite Jaish', '2012', 22), (\"Pappu Can't Dance Saala\", '2010', 2), ('Betaabi', '1997', 2), ('Mere Apne', '1971', 2), ('Sar Utha Ke Jiyo', '1998', 2), ('Dastaan', '1972', 2), ('State Rowdy', '1989', 4), ('Antarmahal: Views of the Inner Chamber', '2005', 17), ('Raaz', '1967', 2), ('Contract', '2008', 2), ('Anuranan', '2006', 17), ('Chaar Din Ki Chandni', '2012', 2), ('Jawani Diwani: A Youthful Joyride', '2006', 2), ('36 Chowringhee Lane', '1981', 0), ('Des Pardes', '1978', 2), ('Farz', '2001', 2), ('Saudagar', '1973', 2), ('Kaala Patthar', '1979', 2), ('Talaash: The Hunt Begins...', '2003', 2), ('Family: Ties of Blood', '2006', 2), ('Paroma', '1984', 2), ('Fun: Can Be Dangerous Sometimes', '2005', 2), ('Ashanti', '1982', 2), ('Jaan Se Pyaara', '1992', 2), ('Insaaf', '1987', 2), ('Mukhbiir', '2008', 2), ('Adi Shankaracharya', '1983', 23), ('Maximum', '2012', 2), ('Joshilaay', '1989', 2), ('Utopia', '2015', 0), ('Karz Chukana Hai', '1991', 2), ('Mixed Doubles', '2006', 2), ('Khoon Ka Karz', '1991', 2), ('Aao Wish Karein', '2009', 2), ('Raja Rani', '1973', 2), ('Ghost', 'I 2012', 2), ('Bardaasht', '2004', 2), ('Mirza Juuliet', '2017', 2), ('Maazii', '2013', 2), ('Raja Ko Rani Se Pyar Ho Gaya', '2000', 2), ('Diary of a Butterfly', '2012', 2), ('Dus Tola', '2010', 2), ('Gumnaam: The Mystery', '2008', 2), ('Badrinath', '2011', 4), ('Khaleja', '2010', 4), ('Pyaar To Hona Hi Tha', '1998', 2), ('Milan', '1995', 2), ('Zameer', '1975', 2), ('Dhoop', '2003', 2), ('Noukadubi', '2011', 17), ('Kayda Kanoon', '1993', 2), ('Summer 2007', '2008', 2), ('Aakhri Adaalat', '1988', 2), ('Saanjh', '2017', 24), ('Bulundi', '1981', 2), ('Sorry Bhai!', '2008', 2), ('Shor Se Shuruaat', '2016', 2), ('The Forest', 'I 2009', 0), ('Pyaasa', '2002', 2), ('De Taali', '2008', 2), ('Alif', 'I 2017', 2), ('Tehzeeb', '2003', 12), ('Abhinetri', '1970', 2), ('Nishchaiy', '1992', 2), ('Baat Ban Jaye', '1986', 2), ('Aaye Din Bahar Ke', '1966', 2), ('Vishwanath', '1978', 2), ('Vivekananda', '1994', 0), ('Undertrial', '2007', 2), ('Itni Si Baat', '1981', 2), ('Allah Ke Banday', '2010', 2), ('Wajahh: A Reason to Kill', '2004', 2), ('Wafaa', '2008', 2), ('Khel Khel Mein', '1975', 2), ('Khwahish', '2003', 2), ('Shapath', '1997', 2), ('Mere Jeevan Saathi', '2006', 2), ('Meri Jung', '1985', 2), ('Dil Kabaddi', '2008', 2), ('Babloo Happy Hai', '2014', 2), ('Bollywood Diaries', '2016', 2), ('Albela', '2001', 2), ('Jai Kishen', '1994', 2), ('Bade Dil Wala', '1983', 2), ('Do Aur Do Paanch', '1980', 2), ('Fatso!', '2012', 2), ('Kehtaa Hai Dil Baar Baar', '2002', 2), ('Sant Tukaram', '1936', 1), ('Dil Diya Dard Liya', '1966', 2), ('Bairaag', '1976', 2), ('Dil Ek Mandir', '1963', 2), ('Shikar', '1968', 2), ('Aulad', '1987', 2), ('Apradh', '1972', 2), ('Bhavnao Ko Samjho', '2010', 2), ('Paayum Puli', '1983', 6), ('The Lookalike', '2006', 0), ('Saugandh', '1991', 2), ('Karma', 'I 1986', 2), ('Tere Naal Love Ho Gaya', '2012', 2), ('Chaar Sahibzaade 2: Rise of Banda Singh Bahadur', '2016', 7), ('Sujata', '1960', 2), ('MSG 2 the Messenger', '2015', 2), ('Apne Paraye', '1980', 2), ('Droh Kaal', '1994', 2), ('Jamai Raja', '1990', 2), ('Ek Khiladi Ek Haseena', '2005', 2), ('Mazdoor', '1983', 2), ('1:13:7 Ek Tera Saath', '2016', 2), (\"'Kaash'\", '1987', 2), ('Clerk', '1989', 2), ('Daman: A Victim of Marital Violence', '2001', 2), ('Phool', '1993', 2), ('Sharmeelee', '1971', 2), ('Umbartha', '1982', 1), ('Tum: A Dangerous Obsession', '2004', 2), ('Sahibaan', '1993', 2), ('Aadmi Aur Insaan', '1969', 2), ('Ek Hi Bhool', '1981', 2), ('Pratibandh', '1990', 2), ('Vishwasghaat', '1996', 2), ('Haunted - 3D', '2011', 2), ('Jaani Dushman: Ek Anokhi Kahani', '2002', 2), ('...Aur Pyaar Ho Gaya', '1997', 2), ('Aap Mujhe Achche Lagne Lage', '2002', 2), ('Sanam Bewafa', '1991', 2), ('Maseeha', '2002', 2), ('Soch', '2002', 2), ('Pyar Ki Kahani', '1971', 2), ('Shorts', '2013', 2), ('Dhool Ka Phool', '1959', 2), ('Chhote Sarkar', '1996', 2), ('Kushti', '2010', 2), ('Jaag Utha Insan', '1984', 2), ('Do Qaidi', '1989', 2), ('Gharana', '1989', 2), ('The Good Road', '2013', 22), ('Saas Bahu Aur Sensex', '2008', 2), ('Hum Naujawan', '1985', 2), ('Bheja Fry 2', '2011', 2), ('Do Badan', '1966', 2), ('Paying Guest', '1957', 2), ('Zalzala', '1988', 2), ('Beta', '1992', 2), ('Itihaas', '1997', 2), ('Jaisi Karni Waisi Bharni', '1989', 2), ('Andhaa Kaanoon', '1983', 2), ('Seetharamula Kalyanam Lankalo', '2010', 4), ('Phir Wohi Raat', '1980', 2), ('Anokhi Raat', '1968', 2), ('From Sydney with Love', '2012', 2), ('2001: Do Hazaar Ek', '1998', 2), ('Guru', '1980', 6), ('Karma, Confessions and Holi', '2009', 0), ('Just Married: Marriage Was Only the Beginning!', '2007', 2), ('Ekkees Toppon Ki Salaami', '2014', 2), ('Sangdil', '1952', 2), ('Om Dar-B-Dar', '1988', 2), ('Chhalia', '1960', 2), ('Dhaal: The Battle of Law Against Law', '1997', 2), ('Haath Ki Safai', '1974', 2), ('Lalkar The Challenge', '1972', 2), ('Kanoon Apna Apna', '1989', 2), ('Shaadi Teri Bajayenge Hum Band', '2018', 2), ('Phool Aur Kaante', '1991', 2), ('Aa Ab Laut Chalen', '1999', 2), ('Diljale', '1996', 2), ('Batwara', '1989', 2), ('Arjun', '1985', 2), ('Krishna', 'I 1996', 2), ('Alag Alag', '1985', 2), ('Prithvi', '1997', 2), ('Insaniyat', '1955', 2), ('Listen... Amaya', '2013', 2), ('Qatl', '1986', 2), ('Dunno Y Na Jaane Kyun...', '2010', 0), ('Ishq Click', '2016', 2), ('French Immersion', '2011', 20), ('Hazaar Chaurasi Ki Maa', '1998', 2), ('Panchakshari', '2010', 4), ('Gattu', '2011', 2), ('Khilaaf', '1991', 2), ('Lal Salaam', '2002', 2), ('Return to Rajapur', '2006', 0), ('Shabri', '2011', 2), ('Khamoshh... Khauff Ki Raat', '2005', 2), ('Loot', '2011', 2), ('Sharabi', '1964', 2), ('Jhumroo', '1961', 2), ('Hariyali Aur Rasta', '1962', 2), ('Ek Haseena Thi Ek Deewana Tha', '2017', 2), ('Chalk N Duster', 'I 2016', 2), ('Dharam Veer', '1977', 2), ('Hello Brother', '1999', 2), ('Jaani Dushman', '1979', 2), ('Abodh', '1984', 2), ('Pyar Kiye Jaa', '1966', 2), ('Vijeta', '1982', 2), ('Nenunnanu', '2004', 2), ('Hanste Zakhm', '1973', 2), ('Dhill', '2001', 6), ('Papi Gudia', '1996', 2), ('Premante Idera', '1998', 4), ('Nagarahavu', '2016', 15), ('?: A Question Mark', '2012', 2), ('Neecha Nagar', '1946', 2), ('Love 86', '1986', 2), ('Funtoosh', '1956', 2), ('Will You Marry Me', '2012', 2), ('Rebellious Flower', '2016', 2), ('Patang', '2011', 2), ('Nauker', '1979', 2), ('Aarya', '2007', 6), ('Baap Numbri Beta Dus Numbri', '1990', 2), ('Amar Prem', '1972', 2), ('Indian', '2001', 2), ('Hu Tu Tu', '1999', 2), ('Tell Me O Kkhuda', '2011', 2), ('Solva Saal', '1958', 2), ('Sikandar', '2009', 2), ('Anita', '1967', 2), ('Zamaane Ko Dikhana Hai', '1981', 2), ('The Blueberry Hunt', '2016', 0), ('Accident on Hill Road', '2010', 2), ('Cover Story', '2000', 19), ('Namo Venkatesha', '2010', 4), ('Michael', 'I 2011', 2), ('In Custody', '1994', 12), ('Baharon Ke Sapne', '1967', 2), ('Main Aur Mr. Riight', '2014', 2), ('Aamdani Atthanni Kharcha Rupaiya', '2001', 2), ('Loha', '1987', 2), ('Junoon', '1992', 2), ('Jab Pyaar Kisise Hota Hai', '1998', 2), ('Big Brother', '2007', 2), ('Laadla', '1994', 2), ('Santosham', '2002', 4), ('Jimmy', '2008', 2), ('Dil Hi To Hai', '1963', 2), ('Kaafila', '2007', 2), ('Padmashree Laloo Prasad Yadav', '2005', 2), ('Dobara', '2004', 2), ('Saatwan Aasman', '1992', 2), ('Second Hand Husband', '2015', 2), ('Aanch', '2003', 2), ('Kya Love Story Hai', '2007', 2), ('Yahudi', '1958', 2), ('Baaz', '1953', 2), ('A Flat', '2010', 2), ('Mere Dost Picture Abhi Baaki Hai', '2012', 2), ('Manzil', '1979', 2), ('Mitr: My Friend', '2002', 0), ('Chaalis Chauraasi', '2012', 2), ('Udhaar Ki Zindagi', '1994', 2), ('Veera Madakari', '2009', 15), ('Pyare Mohan', '2006', 2), ('Kaamchor', '1982', 2), ('Priyasakhi', '2005', 6), ('Sapoot', '1996', 2), ('Aatish: Feel the Fire', '1994', 2), ('Dulhan Hum Le Jayenge', '2000', 2), ('Holiday', '2006', 2), ('Bhram: An Illusion', '2008', 2), ('Phhir', '2011', 2), ('Imaandaar', '1987', 2), ('Victoria No. 203', '1972', 2), ('Lakeer Ka Fakeer', '2013', 2), ('Andar Baahar', '1984', 2), ('Dil Deke Dekho', '1959', 2), ('Chhupa Rustam', '1973', 2), ('Mr Bhatti on Chutti', '2012', 2), ('Shiva', '2006', 2), ('Sangdil Sanam', '1994', 2), ('Bahu Begum', '1967', 2), ('Naughty Boy', '2006', 2), ('Love U... Mr. Kalakaar!', '2011', 2), ('Trikal Past, Present, Future', '1985', 2), ('Thavasi', '2001', 6), ('Kamla Ki Maut', '1989', 2), ('Godmother', '1999', 2), ('Bhuvan Shome', '1969', 2), ('Pyasa Shaitan', '1984', 2), ('Anmol', '1993', 2), ('Hum To Mohabbat Karega', '2000', 2), ('Darwaza Bandh Rakho', '2006', 2), ('Anuradha', '1960', 2), ('Film Star', '2005', 2), ('Madhosh', '1974', 2), ('Naach', '2004', 2), ('Daraar', '1996', 2), ('Kuch Tum Kaho Kuch Hum Kahein', '2002', 2), ('Bandhan', '1998', 2), ('Heroes', '2008', 2), ('Dulha Dulhan', '1964', 2), ('Ata Pata Lapatta', '2012', 2), ('Prem Patra', '1962', 2), ('Kaagaz Ke Fools', '2015', 2), ('Jashnn: The Music Within', '2009', 2), ('Kudrat', '1998', 2), ('Vakil Babu', '1982', 2), ('Border Hindustan Ka', '2003', 2), ('Sharafat', '1970', 2), ('Jaani Dost', '1983', 2), ('Direct Ishq', '2016', 2), ('Heera Panna', '1973', 2), ('Mod', '2011', 2), ('Morning Raga', '2004', 2), ('Ek Se Badhkar Ek', '2004', 2), ('Mahal', '1969', 2), ('Apna Asmaan', '2007', 2), ('Aashirwad', '1968', 2), ('Dil Tera Diwana', '1962', 2), ('Ziddi', '1997', 2), ('Purani Haveli', '1989', 2), ('Dhanwaan', '1993', 2), ('Har Dil Jo Pyar Karega...', '2000', 2), ('Saajan Chale Sasural', '1996', 2), ('Raqeeb', '2007', 2), ('Andhaa Yudh', '1987', 2), ('Gharaonda', '1977', 2), ('Aas Paas', '1981', 2), ('Swati', '1986', 2), ('Udaan', '1997', 2), ('Indrudu Chandrudu', '1989', 4), ('Baaz: A Bird in Danger', '2003', 2), ('Dil Hi To Hai', '1992', 2), ('Kuchh Meetha Ho Jaye', '2005', 2), ('Amar Deep', '1979', 2), ('Sailaab', '1990', 2), ('Rafoo Chakkar', '1975', 2), ('Anjaneya', '2003', 6), ('Lootmaar', '1980', 2), ('Thodisi Bewafaii', '1980', 2), ('Ittefaq', '2001', 2), ('Chori Mera Kaam', '1975', 2), ('Kali Salwaar', '2002', 2), ('Surakshaa', '1995', 2), ('Yea Toh Two Much Ho Gayaa', '2016', 2), ('Ek Chadar Maili Si', '1986', 2), ('Bumboo', '2012', 2), ('Gehrayee', '1980', 2), ('Maine Gandhi Ko Nahin Mara', '2005', 2), ('Calcutta Mail', '2003', 2), ('Karobaar: The Business of Love', '2000', 2), ('Chitralekha', '1964', 2), ('Rabba Main Kya Karoon', '2013', 2), ('The President Is Coming', '2009', 0), ('Shaheed', '1965', 2), ('Sanjog', '1972', 2), ('Vaishali', '1988', 19), ('Aatma', '2006', 2), ('Jurmana', '1979', 2), ('What the Fish', '2013', 2), ('Anthony Kaun Hai?', '2006', 2), ('Mere Hamdam Mere Dost', '1968', 2), ('Karma: Crime. Passion. Reincarnation', '2008', 0), ('Oh, My God!!', '2008', 2), ('Saaheb', '1985', 2), ('Bombay to Bangkok', '2008', 2), ('A New Love Ishtory', '2013', 2), ('Paar', '1984', 2), (\"Everybody Says I'm Fine!\", '2001', 0), ('Laawaris', '1981', 2), ('Mr. & Mrs. Khiladi', '1997', 2), ('The Perfect Girl', '2015', 2), ('Himalay Ki Godmein', '1965', 2), ('Phir Wohi Dil Laya Hoon', '1963', 2), ('Waah! Tera Kya Kehna', '2002', 2), ('Samba', '2004', 4), ('Nayee Padosan', '2003', 2), ('Griha Pravesh', '1979', 2), ('Katilon Ke Kaatil', '1981', 2), ('Salim Langde Pe Mat Ro', '1989', 2), ('M.A.D: Mad About Dance', '2014', 2), ('Na Ghar Ke Na Ghaat Ke', '2010', 2), ('Tera Jadoo Chal Gayaa', '2000', 2), ('Zindagi Ek Juaa', '1992', 2), ('Censor', '2001', 2), ('Dil Apna Aur Preet Parai', '1960', 2), ('Sneham Kosam', '1999', 4), ('Sons of Ram', '2012', 0), ('The Film', '2005', 2), ('Alaap', '1977', 2), ('Aya Sawan Jhoom Ke', '1969', 2), ('Pran Jaaye Par Shaan Na Jaaye', '2003', 2), (\"Joggers' Park\", '2003', 2), ('Hello Darling', '2010', 2), ('Madhosh', '1994', 2), ('Manasarovar', '2004', 0), ('Kaamannana Makkalu', '2008', 15), ('Baat Ek Raat Ki', '1962', 2), ('Peechha Karro', '1986', 2), ('Caravan', '1971', 2), ('Utsav', '1984', 2), ('Khoobsurat', '1999', 2), ('Dayavan', '1988', 2), ('Lahore', '2010', 2), ('Benaam', '1974', 2), ('Bandook', '2013', 2), ('Faraar', '1975', 2), ('Professor Pyarelal', '1981', 2), ('Geet Gaaya Pattharon Ne', '1964', 2), ('Anubhav', '1971', 2), ('Yakeen', '1969', 2), ('Dashavatar', '2008', 2), ('Manchali', '1973', 2), ('Ghaath', '2000', 2), ('Gandhinagar 2nd Street', '1986', 2), ('Yeh Jo Mohabbat Hai', '2012', 2), ('Man Pasand', '1980', 2), ('Kuch Khatti Kuch Meethi', '2001', 2), ('Marhi Da Deeva', '1989', 7), ('Zahreelay', '1990', 2), ('Aalwar', '2007', 6), ('Bombay Summer', '2009', 2), ('Madam X', '1994', 2), ('Sona Spa', '2013', 2), ('Dharmputra', '1961', 2), ('Do Ankhen Barah Haath', '1957', 2), ('Virodhi', '1992', 2), ('Arzoo', '1965', 2), ('Nadiya Ke Paar', '1982', 2), ('Baaraat Company', '2017', 2), ('Nau Do Gyarah', '1957', 2), ('Chicken Tikka Masala', '2005', 0), ('Cooking with Stella', '2009', 0), ('Hum Tum Shabana', '2011', 2), ('Munimji', '1955', 2), ('Aloo Chaat', '2009', 2), ('Aitbaar', '1985', 2), ('Sooper Se Ooper', '2013', 2), ('Gaman', '1978', 2), ('Halo', '1996', 2), ('Bullet', '1976', 2), ('Bezawada', '2011', 4), ('Mela', '1948', 2), ('Luv U Alia', '2015', 15), ('Lucky', 'IV 2011', 25), ('Tera Kya Hoga Johnny', '2009', 2), ('Fajr al islam', '1971', 11), ('Mrigayaa', '1977', 2), ('Soundtrack', 'I 2011', 2), ('Manjunath', '2014', 2), ('Around the World', '1967', 2), ('Jai Veeru: Friends Forever', '2009', 2), ('Dil Ka Rishta', '2003', 2), ('Saathi', '1991', 2), ('Suryavanshi', '1992', 2), ('Hero', 'II 1983', 2), ('Jhooth Bole Kauwa Kaate', '1998', 2), ('Sabse Bada Khiladi', '1995', 2), ('Bhai', '1997', 2), ('Villu', '2009', 6), ('Khal-Naaikaa', '1993', 2), ('Khela', '2008', 17), ('Jaane Hoga Kya', '2006', 2), ('Pardesi', '1957', 2), ('Daas', '2005', 6), ('Thulasi', '2007', 4), ('Warrant', '1975', 2), ('Maanthrikam', '1995', 19), ('Ishq Ishq Ishq', '1974', 2), ('Paranthe Wali Gali', '2014', 2), ('Chehraa', '2005', 2), ('Apna Desh', '1972', 2), ('The Angrez', '2006', 2), ('C.I.D.', '1990', 2), ('Raaste Kaa Patthar', '1972', 2), ('Sheesha', '2005', 2), ('When Kiran Met Karen', '2008', 2), ('Shararat', '2002', 2), ('Rok Sako To Rok Lo', '2004', 2), ('Parakh', '1960', 2), ('Sagina', '1974', 2), ('Indira Priyanka', '1996', 6), ('Aakrosh: Cyclone of Anger', '1998', 2), ('Tarana', '1951', 2), ('Kabhi Na Kabhi', '1998', 2), ('Main Hoon Khiladiyon Ka Khiladi', '2004', 2), ('Bachke Rehna Re Baba', '2005', 2), ('36 Ghante', '1974', 2), ('Mere Khwabon Mein Jo Aaye', '2009', 2), ('Hari Puttar: A Comedy of Terrors', '2008', 2), ('Naseeb', '1997', 2), ('Maya Bazaar', '1957', 4), ('Chhota Bheem and the Throne of Bali', '2013', 2), ('Maharaja', '1998', 2), ('Jallaad', '1995', 2), ('Dosti', '1964', 2), ('Hamraaz', '1967', 2), ('Motu Patlu: King of Kings', '2016', 2), ('Lal Baadshah', '1999', 2), ('Dharavi', '1992', 2), ('Arvind Desai Ki Ajeeb Dastaan', '1978', 2), ('Sadhu Aur Shaitaan', '1968', 2), ('Iti Mrinalini: An Unfinished Letter...', '2010', 17), ('Turning 30!!!', '2011', 2), ('Yuvaraju', '2000', 4), ('Agni Pankh', '2004', 2), ('Love in Nepal', '2004', 2), ('Sankat City', '2009', 2), ('Love Express', '2011', 2), ('Sahebzaade', '1992', 2), ('Ankahee', '2006', 2), ('The Waiting Room', 'IV 2010', 2), ('Taaqat', '1995', 2), ('Miley - Naa Miley - Hum', '2011', 2), ('Naaga', '2003', 4), ('Hello Hum Lallann Bol Rahe Hain', '2010', 2), ('Yeh Kya Ho Raha Hai?', '2002', 2), ('Party', '1984', 2), ('Escape from Taliban', '2003', 2), ('Himmatwala', '1983', 2), ('Haqeeqat', '1995', 2), ('Radha Ka Sangam', '1992', 2), ('10ml LOVE', '2010', 2), ('Pyaar Mein Twist', '2005', 2), ('Challo Driver', '2012', 2), ('Woodstock Villa', '2008', 2), ('Delhii Heights', '2007', 2), ('Shuruaat Ka Interval', '2014', 2), ('Annarth', '2002', 2), ('Maya', 'I 2001', 2), ('Hero Hiralal', '1988', 2), ('Do Ladke Dono Kadke', '1979', 2), ('Pudhiya Geethai', '2003', 6), ('Mee Sindhutai Sapkal', '2010', 1), ('Tum Haseen Main Jawan', '1970', 2), ('Dhund: The Fog', '2003', 2), ('Lahu Ke Do Rang', '1979', 2), ('Life Goes On', 'I 2009', 0), ('Ranga', '1982', 6), ('Banarasi Babu', '1973', 2), ('Kissaa Kursee Kaa', '1978', 2), ('Bubble Gum', 'II 2011', 2), ('Abhimanyu', '1991', 19), ('Ranbanka', '2015', 2), ('Professor Ki Padosan', '1994', 2), ('Jugni', '2016', 2), ('Chor chor super chor', '2013', 2), ('Tere Pyaar Mein', '2000', 12), ('Humjoli', '1970', 2), ('Sainik', '1993', 2), ('Hukumat', '1987', 2), ('Shart: The Challenge', '2004', 2), ('Yeh Dooriyan', '2011', 2), ('Jhoothi', '1985', 2), ('Yugpurush: A Man Who Comes Just Once in a Way', '1998', 2), ('Massey Sahib', '1987', 2), ('Inaam Dus Hazaar', '1987', 2), ('Biwi O Biwi', '1981', 2), ('Rui Ka Bojh', '1997', 2), ('Himalay Putra', '1997', 2), ('Gopichand Jasoos', '1982', 2), ('Mr Prime Minister', '2005', 2), ('Out of Control', '2003', 2), ('Kiccha', '2003', 15), ('Joshila', '1973', 2), ('Hubballi', '2006', 15), ('Dhuan', '1981', 2), ('New Delhi Times', '1986', 2), ('Jaago', '2004', 2), ('7 1/2 Phere: More Than a Wedding', '2005', 2), ('Badlapur Boys', '2014', 2), ('The Bright Day', '2015', 2), ('Raja', '1995', 2), ('Prahaar: The Final Attack', '1991', 2), ('Mashaal', '1984', 2), ('Haathi Mere Saathi', '1971', 2), ('Loha', '1997', 2), ('Hum Kisise Kum Naheen', '1977', 2), ('Prem', '1995', 2), ('Game Over', 'IV 2017', 2), ('Chinar Daastaan-E-Ishq', '2015', 2), ('Utt Pataang', '2011', 2), ('Mammo', '1994', 2), ('Aadamkhor', '2018', 2), ('Aggar: Passion Betrayal Terror', '2007', 2), ('Amir Garib', '1974', 2), ('Mera Damad', '1995', 2), ('Ghashiram Kotwal', '1976', 1), ('Govindha Govindha', '1993', 4), ('Saat Rang Ke Sapne', '1998', 2), ('Rihaee', '1988', 2), ('Pagla Kahin Ka', '1970', 2), ('Oops!', '2003', 2), ('U R My Jaan', '2011', 2), ('Identity Card', '2014', 2), ('Bluff Master', '1963', 2), ('Mawaali', '1983', 2), ('Hulla', '2008', 2), ('Mahathma', '2009', 4), ('Rain: The Terror Within...', '2005', 2), (\"Say Salaam India: 'Let's Bring the Cup Home'\", '2007', 2), ('Joroo Ka Ghulam', '1972', 2), ('Hava Aney Dey', '2004', 2), ('Siskiyaan', '2005', 2), ('Khatarnaak', '1990', 2), ('Lok Parlok', '1979', 2), ('Ya Rab', '2014', 2), ('Varadanayaka', '2013', 15), ('Kitaab', '1977', 2), ('Mujhe Meri Biwi Se Bachaao', '2001', 2), ('Ehsaas: The Feeling', '2001', 2), ('Dil Pe Mat Le Yaar!!', '2000', 2), ('Kismet', '1943', 2), ('Overnight', '2007', 26), ('I Am Singh', '2011', 2), ('Aaj Ki Awaz', '1984', 2), ('Bhookailas', '1958', 4), ('Mass', '2004', 4), ('Sohni Mahiwal', '1984', 7), ('Kya Yehi Pyaar Hai', '2002', 2), ('Tohfa', '1984', 2), ('Badal', '2000', 2), ('Veera Parampare', '2010', 15), ('Naukri', '1978', 2), ('Ghar Ka Chiraag', '1989', 2), ('Aamne - Saamne', '1967', 2), ('Vetri Vizha', '1989', 6), ('Jagriti', '1956', 2), ('Moksha: Salvation', '2001', 2), ('Hyderabad Blues 2', '2004', 0), ('Rules: Pyaar Ka Superhit Formula', '2003', 2), ('Bandhe Haath', '1973', 2), ('Pratikar', '1991', 2), ('Saraswathi Sabatham', '1966', 6), ('Kaafiron Ki Namaaz', '2013', 2), ('Encounter: The Killing', '2002', 2), ('Faryad moorcheha', '2006', 27), ('Oass', '2012', 2), ('Taqdeer', '1983', 2), ('Mr. Bechara', '1996', 2), ('Love Khichdi', '2009', 2), ('Surakksha', '1979', 2), ('Wan Pipel', '1976', 14), ('Life Ki Toh Lag Gayi', '2012', 2), ('Pehchaan: The Face of Truth', '2005', 2), ('Raat Gayi, Baat Gayi?', '2009', 2), ('Souryam', '2008', 4), ('Bas Itna Sa Khwaab Hai...', '2001', 2), ('Team: The Force', '2009', 2), ('Achhut Kanya', '1936', 2), ('Ishk Actually', '2013', 2), ('Partha', '2003', 15), ('Bindhaast', '1999', 1), ('Daisy', '1988', 2), ('Bombay 405 Miles', '1980', 2), ('Mumbai Cha Raja', '2012', 2), ('Beti No. 1', '2000', 2), ('Dharm Adhikari', '1986', 2), ('Jhanak Jhanak Payal Baaje', '1955', 2), ('Halla Gulla', '2015', 12), ('Fruit & Nut', '2009', 2), ('Janwar', '1965', 2), ('Kadamban', '2017', 6), ('Desamuduru', '2007', 4), ('Rang', '1993', 2), ('Akhiyon Se Goli Maare', '2002', 2), ('Kroadh', '1990', 2), ('Love in Simla', '1960', 2), ('Kab? Kyoon? Aur Kahan?', '1970', 2), ('Mohan Joshi Hazir Ho!', '1984', 2), ('Sheen', '2004', 2), ('Kasauti', '1974', 2), ('Gauri: The Unborn', '2007', 2), ('Gladiatorerna', '1969', 0), ('Garam Masala', '1972', 2), ('Teen Thay Bhai', '2011', 2), ('Mrugaraaju', '2001', 4), ('Aakhari Decision', '2010', 2), ('Fear', 'I 2007', 2), ('Frozen', '2007', 2), ('27 Down', '1974', 2), ('Laawaris', '1999', 2), ('Devdas', '1936', 2), ('Swami Dada', '1982', 2), ('Phool Aur Angaar', '1993', 2), ('Vinashak - Destroyer', '1998', 2), ('Waaris', '1988', 2), ('Toofan', 'I 1989', 2), ('Hello Mumbai: Salaam Mumbai', '2016', 27), ('Apna Sapna Money Money', '2006', 2), ('Hum Hain Kamaal Ke', '1993', 2), ('The Hangman', '2005', 2), ('Chala Mussaddi - Office Office', '2011', 2), ('Duet', '1994', 6), ('Meera', '1979', 2), ('Disha', '1990', 2), ('Bhageeratha', '2005', 4), ('Cycle Kick', '2011', 2), ('Andhrudu', '2005', 4), ('The 20 Questions Murder Mystery', '1950', 0), ('Three: Love, Lies, Betrayal', '2009', 2), ('Nalla', '2004', 15), ('Drohi', '1992', 2), ('Aadmi Ki Aurat Aur Anya Kahaniya', '2009', 2), ('Allari Ramudu', '2002', 4), ('Hastey Hastey Follow Your Heart', '2008', 2), ('Ankahee', '1985', 2), ('Bandhan', 'I 1969', 2), ('The Gentleman', '1994', 2), ('Hollywood', '2003', 0), ('Luv U Soniyo', '2012', 2), ('Musafir', '1957', 2), ('Yagnam', '2004', 4), ('Is Raat Ki Subah Nahin', '1996', 2), ('Paromitar Ek Din', '2000', 17), ('Chota Jadugar', '2003', 6), ('Stumped', '2003', 2), ('Missing on a Weekend', '2016', 2), ('Detective Naani', '2009', 2), ('Khoya', '2015', 0), ('Rowdy Inspector', '1992', 4), ('Yaara Silly Silly', '2015', 2), ('Humko Tumse Pyaar Hai', '2006', 2), ('Haan Maine Bhi Pyaar Kiya', '2002', 2), ('Bin Bulaye Baraati', '2011', 2), ('Bees Saal Baad', '1988', 2), ('Aghaat', '1985', 2), ('Chhal', '2002', 2), ('Saaz', '1997', 2), ('Sharada', '1957', 2), ('Pankh', '2010', 2), ('Samudram', '1999', 4), ('Toh Baat Pakki!', '2010', 2), ('Zindaggi Rocks', '2006', 2), ('Victoria No. 203: Diamonds Are Forever', '2007', 2), ('Mai', '2013', 2), ('Daal Mein Kuch Kaala Hai', '2012', 2), ('The Rally', '2017', 2), ('Coffee Bloom', '2015', 2), ('Naya Din Nai Raat', '1974', 2), ('Naukari', '1954', 2), ('Once Upon a Time in Bihar', '2015', 2), ('House No. 44', '1955', 2), (\"Vaibhav Sethia: Don't\", '2018', 0), ('Adharm', '1992', 2), ('Jeevan Dhaara', '1982', 2), ('Showbiz', '2007', 2), ('Andarivaadu', '2005', 4), ('Aadmi', '1993', 2), ('Sadda Adda', '2011', 2), ('Jaan Tere Naam', '1992', 2), ('Loafer', '1973', 2), ('Jigar', '1992', 2), ('Antarnaad', '1991', 2), ('Pazhani', '2008', 6), ('Kis Kis Ki Kismat', '2004', 27), ('Sapnon Ka Saudagar', '1968', 2), ('Shaheed', '1948', 2), ('Khandhar', '1984', 2), ('Parineeta', '1953', 2), ('Chase', 'I 2010', 2), ('Dahek: A Burning Passion', '1999', 2), ('Palkon Ki Chhaon Mein', '1977', 2), ('Sardari Begum', '1996', 12), ('New Delhi', '1956', 2), ('Gudgudee', '1997', 2), ('Kalaignan', '1993', 6), ('Mujhe Jeene Do', '1963', 2), ('Hotel Very Welcome', '2007', 0), ('Ab Ayega Mazaa', '1984', 2), ('Shadow', 'I 2009', 2), ('Aashiq Hoon Baharon Ka', '1977', 2), ('A Film by Aravind', '2005', 4), ('Subhash Chandra Bose', '2005', 4), ('Achanak', '1973', 2), ('Jogan', '1950', 2), ('Duvidha', '1973', 2), ('Jaan', '1996', 2), ('Mera Gaon Mera Desh', '1971', 2), ('Marte Dam Tak', '1987', 2), ('Banjaran', '1991', 2), ('Nagina', '1986', 2), ('7 Welcome to London', '2012', 2), ('Yatra', '2006', 2), ('Inspector Balram', '1991', 19), ('Baat Bann Gayi', '2013', 2), ('Go', '2007', 2), ('Do Jasoos', '1975', 2), ('Drishti', '1990', 2), ('Vazhve Mayam', '1982', 6), ('Safari', '1999', 2), ('Chaahat Ek Nasha...', '2005', 2), ('Dadar Kirti', '1980', 17), ('Hari-Bhari', '2000', 2), ('Naseem', '1995', 2), ('Satyameva Jayate', '2000', 19), ('Dekh Tamasha Dekh', '2014', 2), ('Attahaasa', '2013', 15), ('Veettilekkulla Vazhi', '2011', 19), ('Chhailla Babu', '1977', 2), ('Balwaan', '1992', 2), ('Bandh Darwaza', '1990', 2), ('Vijaypath', '1994', 2), ('Mujrim', 'I 1989', 2), ('Love You Hamesha', '2001', 2), ('Majhli Didi', '1967', 2), ('The Film Emotional Atyachar', '2010', 2), ('Chann Pardesee', '1980', 7), ('Alavuddinum Athbutha Vilakkum', '1979', 19), ('Bach ke Zara', '2008', 2), ('Raghavendra', '2003', 4), ('Ikke Pe Ikka', '1994', 2), ('Man On Mission Jaanbaaz', '2005', 2), ('Ek Hota Vidushak', '1992', 1), ('Gangoobai', '2013', 2), ('Anjaam', '2007', 2), ('Shriman Shrimati', '1982', 2), ('Maan Gaye Mughall-E-Azam', '2008', 2), ('Chudail Story', '2016', 2), ('Do Kaliyaan', '1968', 2), ('Yeh Dil Aashiqanaa', '2002', 2), ('Julie', '1975', 2), ('Sweetiee Weds NRI', '2017', 2), ('Sapne Saajan Ke', '1992', 2), ('Barefoot to Goa', '2015', 2), ('Jugaad', '2009', 2), ('Tarpan The Absolution', '1995', 2), ('Zara Si Zindagi', '1983', 2), ('Station', 'I 2014', 2), ('Vakratunda Mahakaaya', '2013', 1), ('Chhodo Kal Ki Baatein', '2012', 2), ('Vihir', '2009', 1), ('Anjaane: The Unkown', '2005', 2), ('Via Darjeeling', '2008', 2), ('Monica', '2011', 2), ('Afsana Dilwalon Ka', '2001', 12), ('Khap', '2011', 2), ('Kudiyon Ka Hai Zamaana', '2006', 2), ('Mera Dil Leke Dekho', '2006', 2), ('Ugly Aur Pagli', '2008', 2), ('Thayillamal Nannilai', '1979', 6), (\"Jo Dooba So Paar: It's Love in Bihar!\", '2011', 2), ('Anand Math', '1952', 2), ('Grahan', '2001', 2), ('Genesis', '1986', 2), ('Ab Dilli Dur Nahin', '1957', 2), ('Jagir', '1984', 2), ('Bol Radha Bol', '1992', 2), ('Swarg', '1990', 2), ('Bunny', '2005', 4), ('Be-Careful', '2011', 2), ('Prem Kaa Game', '2010', 2), ('Dilwale:The Brave Heart', '2001', 2), ('Lezioni di volo', '2007', 28), ('Damul', '1985', 2), ('Sadiyaan: Boundaries Divide... Love Unites', '2010', 2), ('Supari', '2003', 2), ('Uttar Dakshin', '1987', 2), ('Radio: Love on Air', '2009', 2), ('Gospel Movie: Who Is My Lord', '2017', 0), ('Badmashiyaan', '2015', 2), ('Jigyaasa', '2006', 2), ('Oraalppokkam', '2014', 6), ('Life Mein Kabhie Kabhiee', '2007', 2), ('Chorus', '1975', 2), ('Zaalim', '1994', 2), ('Ghar Ghar Ki Kahani', '1988', 2), ('Tum Se Achcha Kaun Hai', '2002', 2), ('Maidan-E-Jung', '1995', 2), ('Budtameez', '1966', 2), ('Suno Sasurjee', '2004', 2), ('Paisa Vasool', '2004', 2), ('Pasand Apni Apni', '1983', 2), ('Soch Lo', '2010', 2), ('Prematho Raa', '2001', 4), ('The Train', '2011', 19), ('Sankham', '2009', 4), ('Subah Subah', '1983', 2), ('Hari Om', '2004', 0), ('Walkaway', '2010', 0), ('Veer Savarkar', '2001', 2), ('Chintu Ji', '2009', 2), ('Do Dooni Char', '1968', 2), ('Future to Bright Hai Ji', '2012', 2), ('Chandu', '2002', 15), ('Heeralal Pannalal', '1978', 2), ('Mohandas', '2009', 2), ('Awara Baap', '1985', 2), ('Sivappathikaaram', '2006', 6), ('Naughty Boy', '1962', 2), ('Veerabhadra', '2005', 4), ('Madly Bangali', '2009', 0), ('Muqabla', '1993', 2), ('Sachaa Jhutha', '1970', 2), ('Koi Mere Dil Mein Hai', '2005', 2), ('Jung', '1996', 2), ('Mohabbat', '1997', 2), ('Chhota Bheem and the Curse of Damyaan', '2012', 2), ('Noorie', '1979', 2), ('88 Antop Hill', '2003', 2), ('Shanti Kranti', '1991', 4), ('Eduruleni Manishi', '2001', 2), ('Curry Munchers', '2011', 0), ('Jaali Note', '1960', 2), ('Ek Din Achanak', '1989', 2), ('Goopi Gawaiya Bagha Bajaiya', '2013', 2), ('Thodasa Roomani Ho Jaayen', '1990', 2), ('Jo Hum Chahein', '2011', 2), (\"Shahrukh Bola 'Khoobsurat Hai Tu'... And She Believed in It\", '2010', 2), ('Chhodon Naa Yaar', '2007', 2), ('Bhavni Bhavai', '1980', 22), ('Kajarya', '2013', 2), ('Shaadi Ka Laddoo', '2004', 2), ('Thee', '1981', 6), ('God Only Knows!', '2007', 0), ('Nandhi', '2002', 15), ('Uski Roti', '1970', 2), ('Ravoyi Chandamama', '1999', 2), ('Pyar Jhukta Nahin', '1985', 2), ('Haatim Tai', '1990', 2), ('Raghuveer', '1995', 2), ('Naseeb Apna Apna', '1986', 2), ('50 Lakh', '2007', 2), ('Gooli', '2008', 15), ('Popcorn Khao! Mast Ho Jao', '2004', 2), ('Sau Jhooth Ek Sach', '2004', 2), ('Sanshodhan', '1996', 2), ('Kiccha Huccha', '2010', 15), ('Meri Biwi Ki Shaadi', '1979', 2), ('The Silent Heroes', '2015', 2), ('Raakh: A Poem Masked in Blood', '2007', 2), ('Uyirile Kalanthathu', '2000', 2), ('C U at 9', '2005', 2), ('Umar', '2006', 2), ('Neel Kamal', '1947', 2), ('Aashiqui.in', '2011', 2), ('Dr. Kotnis Ki Amar Kahani', '1946', 2), ('Azaad', '2000', 4), ('Ginny Aur Johny', '1976', 2), ('5 Ghantey Mien 5 Crore', '2012', 2), ('Hip Hip Hurray', '1984', 2), ('Killer', '1992', 4), ('Enakkul Oruvan', '1984', 6), ('Diksha', '1991', 2), ('Kaisay Kahein...', '2007', 2), ('Shreemaan Aashique', '1993', 2), ('Tahalka', '1992', 2), ('Barood', '1998', 2), ('Aag Hi Aag', '1987', 2), ('Sins', '2005', 2), ('Elaan-E-Jung', '1989', 2), ('Khwaabb', '2014', 2), ('Chupke Se', '2003', 2), ('Man on Mission Fauladi', '2004', 2), ('The Great Indian Butterfly', '2007', 0), ('Padatik', '1973', 2), ('Phir Kabhi', '2008', 2), ('Love at Times Square', '2003', 2), ('Straight', 'II 2009', 2), ('Lakhon Ki Baat', '1984', 2), ('Stoovertpuram Police Station', '1991', 4), ('Dil Ka Kya Kasoor', '1992', 2), ('Daag: The Fire', '1999', 2), ('Zapatlela', '1993', 1), ('Arjun Pandit', '1999', 2), ('Khokababu', '2012', 17), ('Muskaan', '2004', 2), ('Aamaar Bhuvan', '2002', 17), ('Ghar Grihasti', '2004', 2), ('Mohre', '1987', 2), ('Madholal Keep Walking', '2009', 2), ('Meerabai Not Out', '2008', 2), ('Payback', '2010', 2), ('Lal Darja', '1997', 17), ('Aavida Maa Aavide', '1998', 4), ('Bolo Raam', '2009', 2), ('Damadamm!', '2011', 2), ('Kucch Luv Jaisaa', '2011', 2), ('Hum Dum', '2005', 2), ('Kalloori Vaasal', '1996', 6), ('Visakha Express', '2008', 4), ('Edegarike', '2012', 15), ('Ranga S.S.L.C', '2004', 15), ('Sazaye Maut', '1981', 2), ('Mr. Theertha', '2010', 15), ('Sahi Dhandhe Galat Bande', '2011', 2), ('Love Birds', '1997', 6), ('Yaad Rakhegi Duniya', '1992', 2), ('Narasimha', '1991', 2), ('Maa', 'I 1992', 2), ('Ankhiyon Ke Jharokhon Se', '1978', 2), ('Ab Ke Baras', '2002', 2), ('Ajay', '1996', 2), ('Ek Duuje Ke Liye', '1981', 2), ('Ganga', '2006', 29), ('Rudranetra', '1989', 4), ('Satrangee Parachute', '2011', 2), ('Pestonjee', '1988', 2), ('Once We Were Strangers', '1997', 0), ('Oru Kaidhiyin Diary', '1985', 6), ('Kairee', '1999', 1), ('Morning Walk', '2009', 2), ('Miss India: The Mystery', '2003', 2), ('Phir Subha Hogi', '1958', 2), ('Ooops a Desi', '2013', 2), ('Snip!', '2000', 2), ('The Prince of Light', '2000', 0), ('Doodh Ka Karz', '1990', 2), ('Izzat', '1968', 2), ('Dushmani: A Violent Love Story', '1995', 2), ('Teri Meherbaniyan', '1985', 2), ('Dance of the Wind', '1997', 2), ('Mumbai Matinee', '2003', 0), ('Mahakali Ka Insaaf', '2001', 2), ('Ek Din 24 Ghante', '2003', 2), ('The Taste of Relation', '2009', 2), ('Bhootnath', '1963', 2), ('White Rainbow', '2004', 0), ('Ottran', '2003', 6), (\"Let's Enjoy\", '2004', 0), ('Hamari Bahu Alka', '1982', 2), ('Masala Republic', '2014', 2), ('Bagh Bahadur', '1989', 17), ('Target', '1995', 2), ('Ghatotkachudu', '1995', 4), ('Mohabbat', '1985', 2), ('Raja Ki Ayegi Baraat', '1997', 2), ('Captain Prabhakaran', '1991', 6), ('Nigahen: Nagina Part II', '1989', 2), ('Sathyam', '2008', 4), ('Impatient Vivek', '2011', 2), ('Life! Camera Action...', '2012', 2), ('Daayen Ya Baayen', '2010', 2), ('Shuttlecock Boys', '2011', 2), ('Surkhaab', '2014', 2), ('Sirf....: Life Looks Greener on the Other Side', '2008', 2), ('Laadli Laila', '2009', 2), ('Siddharth: The Prisoner', '2009', 2), ('Kal: Yesterday and Tomorrow', '2005', 2), ('Thirupathi', '2006', 15), ('Tandoori Love', '2008', 30), (\"It's Breaking News\", '2007', 2), ('Maya Darpan', '1972', 2), ('Kaadhal Parisu', '1987', 6), ('Boss', '2006', 4), ('Hei ma lai ah sing', '2005', 3), ('Ashwamedham', '1992', 4), ('Kvelaferi kargad iqneba', '2009', 31), ('Seema Simham', '2002', 4), ('Angel', 'I 2011', 2), ('Junglee', '1961', 2), ('Phool Bane Angaarey', '1991', 2), ('Fakira', '1976', 2), ('Maa Tujhhe Salaam', '2002', 2), ('Le Halua Le', '2012', 2), ('Shohrat the Trap', '2018', 2), ('The Untitled Kartik Krishnan Project', '2010', 0), ('Chettaniki Kallu Levu', '1981', 4), ('Dansh', '2005', 2), ('Ram Raaj', '2008', 2), ('Aaj Ka Arjun', '1990', 2), ('Goa Dalli CID 999', '1968', 15), ('Military Officer', '1998', 2), ('Man on Mission Taqatwar', '2005', 2), ('Raasaiyya', '1995', 6), ('Finding Preet', '2006', 0), ('Ek Hi Raasta', '1993', 2), ('Mehndi', '1998', 2), ('Raja Aur Rangeeli', '1996', 2), ('Thoongathey Tambi Thoongathey', '1983', 4), ('Bewafa Sanam', '1995', 2), ('Geet Gaata Chal', '1975', 2), ('Allah-Rakha', '1986', 2), ('Anari', '1993', 2), ('Come December', '2006', 2), ('Kala Jigar', '1939', 2), ('Kanoon', '1994', 2)]\n"
          ]
        }
      ]
    },
    {
      "cell_type": "code",
      "source": [
        "def q16_grader(q16):\n",
        "  result = pd.read_sql_query(q16, conn)\n",
        "  return result\n",
        "print(q16_grader(q16))"
      ],
      "metadata": {
        "colab": {
          "base_uri": "https://localhost:8080/"
        },
        "id": "S89KrFeQIWuv",
        "outputId": "5283837e-da98-4284-8247-5a62d241ab71"
      },
      "execution_count": 124,
      "outputs": [
        {
          "output_type": "stream",
          "name": "stdout",
          "text": [
            "              title  year  LAID\n",
            "0            Mowgli  2018     0\n",
            "1     Ocean's Eight  2018     0\n",
            "2       Tomb Raider  2018     0\n",
            "3      The Avengers  2012     0\n",
            "4           Tumbbad  2018     1\n",
            "...             ...   ...   ...\n",
            "3468    Allah-Rakha  1986     2\n",
            "3469          Anari  1993     2\n",
            "3470  Come December  2006     2\n",
            "3471     Kala Jigar  1939     2\n",
            "3472         Kanoon  1994     2\n",
            "\n",
            "[3473 rows x 3 columns]\n"
          ]
        }
      ]
    },
    {
      "cell_type": "markdown",
      "source": [
        "## 17. Write SQL query to list title, year and rating of malayalam movies in the database by doing an inner join with movie table and M_Language table with MID column, also assuming language ID of malayalam movies as 19"
      ],
      "metadata": {
        "id": "vhF0SQu5Lthd"
      }
    },
    {
      "cell_type": "code",
      "source": [
        "q17 = \"\"\"select title,year,rating\n",
        "from movie\n",
        "inner join M_Language\n",
        "on movie.MID=M_Language.MID\n",
        "where LAID = 19\"\"\"\n",
        "cursor.execute(q17)\n",
        "print(cursor.fetchall())"
      ],
      "metadata": {
        "id": "yHB7KI-wKw3p",
        "colab": {
          "base_uri": "https://localhost:8080/"
        },
        "outputId": "a1c57325-aeb4-495e-846e-14a61cef0bdb"
      },
      "execution_count": 129,
      "outputs": [
        {
          "output_type": "stream",
          "name": "stdout",
          "text": [
            "[('Dil Hai Betaab', '1993', 4.6), ('Chemmeen', '1965', 7.8), ('Aryan', '1988', 7.2), ('Kala Pani', '1996', 8.4), ('Aadupuliyattam', '2016', 4.2), ('New Delhi', '1987', 7.7), ('Who', 'I 2018', 7.1), ('Cover Story', '2000', 5.8), ('Vaishali', '1988', 7.7), ('Maanthrikam', '1995', 6.3), ('Abhimanyu', '1991', 7.1), ('Inspector Balram', '1991', 6.9), ('Satyameva Jayate', '2000', 5.3), ('Veettilekkulla Vazhi', '2011', 6.8), ('Alavuddinum Athbutha Vilakkum', '1979', 6.8), ('The Train', '2011', 4.5)]\n"
          ]
        }
      ]
    },
    {
      "cell_type": "code",
      "source": [
        "def q17_grader(q17):\n",
        "  result = pd.read_sql_query(q17, conn)\n",
        "  return result.shape==(16,3)\n",
        "print(q17_grader(q17))"
      ],
      "metadata": {
        "colab": {
          "base_uri": "https://localhost:8080/"
        },
        "id": "Ji5W5cemLX0a",
        "outputId": "b88ea593-5835-4efe-8f79-6d0e7e928f6c"
      },
      "execution_count": 130,
      "outputs": [
        {
          "output_type": "stream",
          "name": "stdout",
          "text": [
            "True\n"
          ]
        }
      ]
    },
    {
      "cell_type": "code",
      "source": [
        "![ -f academic.db ] && rm academic.db\n",
        "\n",
        "conn = sqlite3.connect(\"academic.db\")\n",
        "cursor = conn.cursor()"
      ],
      "metadata": {
        "id": "GhjTNuPwqO7z"
      },
      "execution_count": 149,
      "outputs": []
    },
    {
      "cell_type": "markdown",
      "source": [
        "## 18. Write SQL query to Create a table named students with two columns id (integer type) and name (varchar type)"
      ],
      "metadata": {
        "id": "aH8Y1PS9OZyj"
      }
    },
    {
      "cell_type": "code",
      "source": [
        "q18a = \"\"\"create table students (\n",
        "  id INT,\n",
        "  name varchar(50)\n",
        ")\"\"\""
      ],
      "metadata": {
        "id": "TsaafyrxIYFd"
      },
      "execution_count": 150,
      "outputs": []
    },
    {
      "cell_type": "code",
      "source": [
        "def q18_grader_a(q18):\n",
        "  try:\n",
        "    cursor.execute(q18)\n",
        "    return True\n",
        "  except:\n",
        "    pass\n",
        "\n",
        "def q18_grader_b(q19):\n",
        "  result = pd.read_sql_query(q19, conn)\n",
        "  return result.columns.tolist() == ['id', 'name']\n",
        "\n",
        "q18b = \"\"\"SELECT * FROM students;\"\"\"\n",
        "\n",
        "print(q18_grader_a(q18a) and q18_grader_b(q18b))"
      ],
      "metadata": {
        "colab": {
          "base_uri": "https://localhost:8080/"
        },
        "id": "whuIWdc4OAzm",
        "outputId": "cbad806f-f1b3-481b-a04d-9191103f7269"
      },
      "execution_count": 151,
      "outputs": [
        {
          "output_type": "stream",
          "name": "stdout",
          "text": [
            "True\n"
          ]
        }
      ]
    },
    {
      "cell_type": "markdown",
      "source": [
        "## 19. Write SQL query to insert the values (1, 'Alice') into students table"
      ],
      "metadata": {
        "id": "-hRir0DKPa9I"
      }
    },
    {
      "cell_type": "code",
      "source": [
        "q19_a = \"\"\"insert into students (id,name) values (1,'Alice')\"\"\""
      ],
      "metadata": {
        "id": "4x6gmopqq6s2"
      },
      "execution_count": 152,
      "outputs": []
    },
    {
      "cell_type": "code",
      "source": [
        "def q19_grader_a(q19_a):\n",
        "  try:\n",
        "    cursor.execute(q19_a)\n",
        "  except:\n",
        "    pass\n",
        "  return True\n",
        "\n",
        "def q19_grader_b(q19_b):\n",
        "  result = pd.read_sql_query(q19_b, conn)\n",
        "  return result.values.tolist() == [[1, 'Alice']]\n",
        "\n",
        "q19_b = \"SELECT * FROM students\"\n",
        "print(q19_grader_a(q19_a) and q19_grader_b(q19_b))"
      ],
      "metadata": {
        "colab": {
          "base_uri": "https://localhost:8080/"
        },
        "id": "Bwq8A_58qXS7",
        "outputId": "1c5a4674-27c2-4db3-8772-015632c944de"
      },
      "execution_count": 153,
      "outputs": [
        {
          "output_type": "stream",
          "name": "stdout",
          "text": [
            "True\n"
          ]
        }
      ]
    },
    {
      "cell_type": "markdown",
      "source": [
        "## 20. Write SQL Query to add the following more information to students table\n",
        "\n",
        "| ID | Name    |\n",
        "|----|---------|\n",
        "| 2  | Bob     |\n",
        "| 3  | Charlie |"
      ],
      "metadata": {
        "id": "PuQ4VFtwSu6x"
      }
    },
    {
      "cell_type": "code",
      "source": [
        "q20 = \"\"\"insert into students (id,name) values (2,'Bob'),(3,'Charlie')\"\"\""
      ],
      "metadata": {
        "id": "mGQrZEhKqgMo"
      },
      "execution_count": 154,
      "outputs": []
    },
    {
      "cell_type": "code",
      "source": [
        "def q20_grader(q20):\n",
        "  try:\n",
        "    cursor.execute(q20)\n",
        "  except:\n",
        "    pass\n",
        "  return True\n",
        "\n",
        "def q20_grader_b(q20_b):\n",
        "  result = pd.read_sql_query(q20_b, conn)\n",
        "  return result.values.tolist() == [[1, 'Alice'], [2, 'Bob'], [3, 'Charlie']]\n",
        "\n",
        "print(q20_grader(q20) and q20_grader_b(q19_b))"
      ],
      "metadata": {
        "colab": {
          "base_uri": "https://localhost:8080/"
        },
        "id": "FRZxVn3xTAjk",
        "outputId": "f2983135-f7bc-4c80-b80d-674ffb3afced"
      },
      "execution_count": 155,
      "outputs": [
        {
          "output_type": "stream",
          "name": "stdout",
          "text": [
            "True\n"
          ]
        }
      ]
    },
    {
      "cell_type": "code",
      "source": [
        "conn.close()"
      ],
      "metadata": {
        "id": "qYNpS7UEhKc4"
      },
      "execution_count": 156,
      "outputs": []
    }
  ]
}