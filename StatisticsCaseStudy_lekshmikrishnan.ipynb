{
  "nbformat": 4,
  "nbformat_minor": 0,
  "metadata": {
    "colab": {
      "provenance": [],
      "authorship_tag": "ABX9TyMgxY4IzBeaBOdwGmZ3SF2t",
      "include_colab_link": true
    },
    "kernelspec": {
      "name": "python3",
      "display_name": "Python 3"
    },
    "language_info": {
      "name": "python"
    }
  },
  "cells": [
    {
      "cell_type": "markdown",
      "metadata": {
        "id": "view-in-github",
        "colab_type": "text"
      },
      "source": [
        "<a href=\"https://colab.research.google.com/github/lekshmi29-lx/DSA_workB7/blob/main/StatisticsCaseStudy_lekshmikrishnan.ipynb\" target=\"_parent\"><img src=\"https://colab.research.google.com/assets/colab-badge.svg\" alt=\"Open In Colab\"/></a>"
      ]
    },
    {
      "cell_type": "markdown",
      "source": [
        " 1. Dataset: Monthly temperatures in a city (in °C): 12, 15, 14, 16, 18, 20, 22, 19, 17, 15, 13, 10  a) Calculate the mean temperature. b) Calculate the median temperature. c) Find the mode of the temperature data. d) Range and Variance"
      ],
      "metadata": {
        "id": "vv8PnvRXhlDH"
      }
    },
    {
      "cell_type": "code",
      "execution_count": 1,
      "metadata": {
        "id": "t6qkyYs7fWlN",
        "colab": {
          "base_uri": "https://localhost:8080/"
        },
        "outputId": "3bf8ed03-7a89-4af9-a5bb-2c2735067ff5"
      },
      "outputs": [
        {
          "output_type": "stream",
          "name": "stdout",
          "text": [
            "Mean: 15.916666666666666\n",
            "Median: 15.5\n",
            "Mode: 15\n",
            "Range: 12\n",
            "Variance: 12.083333333333334\n"
          ]
        }
      ],
      "source": [
        "import statistics as stats\n",
        "\n",
        "month_temp = [12, 15, 14, 16, 18, 20, 22, 19, 17, 15, 13, 10]\n",
        "\n",
        "mean_temp = stats.mean(month_temp)\n",
        "print(\"Mean:\",mean_temp)\n",
        "\n",
        "median_temp = stats.median(month_temp)\n",
        "print(\"Median:\",median_temp)\n",
        "\n",
        "mode_temp = stats.mode(month_temp)\n",
        "print(\"Mode:\",mode_temp)\n",
        "\n",
        "range_temp = max(month_temp) - min(month_temp)\n",
        "print(\"Range:\",range_temp)\n",
        "\n",
        "variance_temp = stats.variance(month_temp)\n",
        "print(\"Variance:\",variance_temp)\n",
        "\n",
        "\n"
      ]
    },
    {
      "cell_type": "markdown",
      "source": [
        "2. Dataset: Heights of students (in cm): 150, 160, 165, 170, 155, 160, 162, 168\n",
        " Questions: a) Calculate the range of the heights.\n",
        " b) Calculate the variance of the heights.\n",
        " c) Standard Deviation"
      ],
      "metadata": {
        "id": "60BpuPXXmFRs"
      }
    },
    {
      "cell_type": "code",
      "source": [
        "height_stud = [150, 160, 165, 170, 155, 160, 162, 168]\n",
        "\n",
        "range_stud = max(height_stud) - min(height_stud)\n",
        "print(\"Range:\",range_stud)\n",
        "\n",
        "variance_stud = stats.variance(height_stud)\n",
        "print(\"Variance:\",variance_stud)\n",
        "\n",
        "st_devaiation = stats.stdev(height_stud)\n",
        "print(\"Standard Deviation:\",st_devaiation)"
      ],
      "metadata": {
        "colab": {
          "base_uri": "https://localhost:8080/"
        },
        "id": "_dD4m0kVmA54",
        "outputId": "e5254cbd-41ba-48c0-dd58-5a27d4459b4b"
      },
      "execution_count": 2,
      "outputs": [
        {
          "output_type": "stream",
          "name": "stdout",
          "text": [
            "Range: 20\n",
            "Variance: 43.642857142857146\n",
            "Standard Deviation: 6.606274074155351\n"
          ]
        }
      ]
    },
    {
      "cell_type": "markdown",
      "source": [
        " 3. Dataset: Weekly expenses (in $): 200, 250, 300, 220, 270, 290, 310\n",
        " Questions: a) Calculate the standard deviation of the weekly expenses."
      ],
      "metadata": {
        "id": "-ao9hPMYnXpl"
      }
    },
    {
      "cell_type": "code",
      "source": [
        "week_expenses = [200, 250, 300, 220, 270, 290, 310]\n",
        "\n",
        "std_dev_expenses = stats.stdev(week_expenses)\n",
        "print(\"Standard Deviation:\",std_dev_expenses)"
      ],
      "metadata": {
        "colab": {
          "base_uri": "https://localhost:8080/"
        },
        "id": "myth8gu3nS_G",
        "outputId": "4db6586c-fbc6-4619-cc35-6ef62996d078"
      },
      "execution_count": 3,
      "outputs": [
        {
          "output_type": "stream",
          "name": "stdout",
          "text": [
            "Standard Deviation: 41.5187851918806\n"
          ]
        }
      ]
    },
    {
      "cell_type": "markdown",
      "source": [
        "4. Dataset: Advertising Spending (in $1000s): 10, 20, 15, 25, 30; Sales (in\n",
        " $1000s): 100, 150, 120, 180, 200\n",
        " Questions: a) Calculate the covariance between advertising spending and sales.\n",
        " b) Correlation"
      ],
      "metadata": {
        "id": "f2gciVJsoDqD"
      }
    },
    {
      "cell_type": "code",
      "source": [
        "adv = [10,20,15,25,30]\n",
        "sales = [100,150,120,180,200]\n",
        "\n",
        "#calculate covariance\n",
        "n = len(adv)\n",
        "mean_adv = sum(adv)/n\n",
        "mean_sale = sum(sales)/n\n",
        "\n",
        "covar_adv_sale = 0\n",
        "for i in range(n):\n",
        "  covar_adv_sale += (adv[i] - mean_adv) * (sales[i] - mean_sale)\n",
        "\n",
        "covar_adv_sale = covar_adv_sale/n\n",
        "print(\"Covariance :\",covar_adv_sale)\n",
        "\n",
        "#calculate correlation\n",
        "std_adv = stats.stdev(adv)\n",
        "std_sales = stats.stdev(sales)\n",
        "corelation_adv_sale = covar_adv_sale/(std_adv*std_sales)\n",
        "print(\"Correlation:\",corelation_adv_sale)\n",
        "\n",
        "\n"
      ],
      "metadata": {
        "colab": {
          "base_uri": "https://localhost:8080/"
        },
        "id": "h24ZcjxtoDWT",
        "outputId": "c2a9fa47-0dbc-45b0-8306-b1594b36eb48"
      },
      "execution_count": 4,
      "outputs": [
        {
          "output_type": "stream",
          "name": "stdout",
          "text": [
            "Covariance : 260.0\n",
            "Correlation: 0.7976435884012653\n"
          ]
        }
      ]
    },
    {
      "cell_type": "markdown",
      "source": [
        "5. Dataset: Study Hours: 2, 4, 6, 8, 10; Exam Scores: 55, 60, 65, 70, 75\n",
        " Questions: a) Calculate the correlation coefficient between study hours and exam\n",
        " scores.\n",
        " b) Interpret the result.\n",
        " c) Quartiles and IQR"
      ],
      "metadata": {
        "id": "hUP-FZ2WyoZr"
      }
    },
    {
      "cell_type": "code",
      "source": [
        "import numpy as np\n",
        "study_hour = [2,4,6,8,10]\n",
        "exam_score = [55,60,65,70,75]\n",
        "\n",
        "#find covariance\n",
        "study = sum(study_hour)/len(study_hour)\n",
        "exam = sum(exam_score)/len(exam_score)\n",
        "cov_study = 0\n",
        "for i in range(len(study_hour)):\n",
        "  cov_study += (study_hour[i]-study) * (exam_score[i]-exam)\n",
        "cov_study = cov_study / len(study_hour)\n",
        "#print(\"Covariance:\",cov_study)\n",
        "\n",
        "#find correlation\n",
        "std_study = stats.stdev(study_hour)\n",
        "std_exam = stats.stdev(exam_score)\n",
        "cor_study = cov_study/(std_study*std_exam)\n",
        "print(\"Correlation:\",cor_study)\n",
        "\n",
        "#Interpert the result\n",
        "print(f\"Here Correlatio is {cor_study}, so when study hour increases then exam score also increases\")\n",
        "\n",
        "#Quartiles\n",
        "q1_hr = np.percentile(study_hour,25)\n",
        "q2_hr = np.percentile(study_hour,50)\n",
        "q3_hr = np.percentile(study_hour,75)\n",
        "\n",
        "q1_sr = np.percentile(exam_score,25)\n",
        "q2_sr = np.percentile(exam_score,50)\n",
        "q3_sr = np.percentile(exam_score,75)\n",
        "\n",
        "iqr_hr = q3_hr - q1_hr\n",
        "print(f\"Quartiles of Study Hours are Q1 : {q1_hr}, Q2 : {q2_hr}, Q3 : {q3_hr}\")\n",
        "print(\"IQR OF Study Hour:\",iqr_hr)\n",
        "iqr_sr = q3_sr - q1_sr\n",
        "print(f\"Quartiles of Exam Score are Q1 : {q1_sr}, Q2 : {q2_sr}, Q3 : {q3_sr}\")\n",
        "print(\"IQR OF Exam Score:\",iqr_sr)\n"
      ],
      "metadata": {
        "colab": {
          "base_uri": "https://localhost:8080/"
        },
        "id": "uuWh4gT7yn39",
        "outputId": "ebdc3b66-8605-4dfb-bfa7-e9368bf240ce"
      },
      "execution_count": 5,
      "outputs": [
        {
          "output_type": "stream",
          "name": "stdout",
          "text": [
            "Correlation: 0.8\n",
            "Here Correlatio is 0.8, so when study hour increases then exam score also increases\n",
            "Quartiles of Study Hours are Q1 : 4.0, Q2 : 6.0, Q3 : 8.0\n",
            "IQR OF Study Hour: 4.0\n",
            "Quartiles of Exam Score are Q1 : 60.0, Q2 : 65.0, Q3 : 70.0\n",
            "IQR OF Exam Score: 10.0\n"
          ]
        }
      ]
    },
    {
      "cell_type": "markdown",
      "source": [
        "6. Dataset: Monthly savings (in $): 200, 300, 400, 500, 600, 700, 800, 900, 1000,\n",
        " 1100 Questions: a) Calculate the first quartile (Q1) and third quartile (Q3).\n",
        " b) Calculate the interquartile range (IQR).\n",
        " c) Detecting Outliers"
      ],
      "metadata": {
        "id": "hJq2nn8a7u3Z"
      }
    },
    {
      "cell_type": "code",
      "source": [
        "month_saving = [200, 300, 400, 500, 600, 700, 800, 900, 1000, 1100]\n",
        "\n",
        "#Find Q1 and Q3\n",
        "q1 = np.percentile(month_saving,25)\n",
        "print(\"Q1:\",q1)\n",
        "q3 = np.percentile(month_saving,75)\n",
        "print(\"Q3:\",q3)\n",
        "\n",
        "#Find IQR\n",
        "iqr = q3 - q1\n",
        "print(\"IQR:\",iqr)\n",
        "\n",
        "#find Outliers\n",
        "low_bound = q1 - (1.5*iqr)\n",
        "up_bound = q3 + (1.5*iqr)\n",
        "\n",
        "outliers =[]\n",
        "for i in month_saving:\n",
        "  if i<low_bound or i>up_bound:\n",
        "    outliers.append(i)\n",
        "\n",
        "if outliers:\n",
        "  print(\"Outliers:\",outliers)\n",
        "else:\n",
        "  print(\"No Outliers\")\n"
      ],
      "metadata": {
        "colab": {
          "base_uri": "https://localhost:8080/"
        },
        "id": "jWpy720x7uoV",
        "outputId": "cdbf9405-c6bc-4f82-c895-084c65bc2bfd"
      },
      "execution_count": 6,
      "outputs": [
        {
          "output_type": "stream",
          "name": "stdout",
          "text": [
            "Q1: 425.0\n",
            "Q3: 875.0\n",
            "IQR: 450.0\n",
            "No Outliers\n"
          ]
        }
      ]
    },
    {
      "cell_type": "markdown",
      "source": [
        " 7. Dataset: Ages of employees: 22, 25, 28, 30, 35, 40, 45, 50, 55, 100\n",
        " Questions: a) Identify any outliers using the IQR method."
      ],
      "metadata": {
        "id": "wh4qOiMt-4sn"
      }
    },
    {
      "cell_type": "code",
      "source": [
        "ages = [22, 25, 28, 30, 35, 40, 45, 50, 55, 100]\n",
        "\n",
        "q1_age = np.percentile(ages,25)\n",
        "q3_age = np.percentile(ages,75)\n",
        "iqr_age = q3_age - q1_age\n",
        "print(\"IQR:\",iqr_age)\n",
        "\n",
        "lower_bound = q1_age -(1.5*iqr_age)\n",
        "#print(\"Lower bound \",lower_bound)\n",
        "upper_bound = q3_age +(1.5*iqr_age)\n",
        "#print(\"Upper Bound\",upper_bound)\n",
        "\n",
        "outlier_age = []\n",
        "for x in ages:\n",
        "  if x<lower_bound or x>upper_bound:\n",
        "    outlier_age.append(x)\n",
        "if outlier_age:\n",
        "  print(\"Outlier:\",outlier_age)\n",
        "else:\n",
        "  print(\"No Outlier\")"
      ],
      "metadata": {
        "colab": {
          "base_uri": "https://localhost:8080/"
        },
        "id": "KdJl0cQ6-4Uw",
        "outputId": "a1d43476-5de0-45a7-a255-adaf956297f4"
      },
      "execution_count": 8,
      "outputs": [
        {
          "output_type": "stream",
          "name": "stdout",
          "text": [
            "IQR: 20.25\n",
            "Outlier: [100]\n"
          ]
        }
      ]
    },
    {
      "cell_type": "markdown",
      "source": [
        "9. Dataset: Sample weights (in kg) of a new diet program: 70, 68, 72, 71, 69, 73,\n",
        " 72, 74, 70, 71 Questions: a) Test the hypothesis that the mean weight after the\n",
        " diet program is equal to 70 kg at a 5% significance level. b) Z-Scores"
      ],
      "metadata": {
        "id": "7w1qZQKnKwAh"
      }
    },
    {
      "cell_type": "code",
      "source": [
        "from scipy.stats import t\n",
        "\n",
        "weights = [70, 68, 72, 71, 69, 73, 72, 74, 70, 71]\n",
        "n = len(weights)\n",
        "\n",
        "mean_sample = sum(weights) / n\n",
        "variance = sum((x - mean_sample)**2 for x in weights) / (n - 1)\n",
        "std_dev = variance ** 0.5\n",
        "\n",
        "mu = 70\n",
        "t_stat = (mean_sample - mu) / (std_dev / (n ** 0.5))\n",
        "\n",
        "alpha = 0.05\n",
        "df = 9\n",
        "\n",
        "t_critical = t.ppf(1 - alpha/2, df)\n",
        "print(\"Critical t-value (two-tailed, α=0.05, df=9):\", t_critical)\n",
        "\n",
        "t_critical = 2.262\n",
        "if abs(t_stat) > t_critical:\n",
        "    result = \"Reject H₀: Mean is significantly different from 70 kg\"\n",
        "else:\n",
        "    result = \"Fail to reject H₀: No significant difference from 70 kg\"\n",
        "print(f\"Sample Mean: {mean_sample:.2f}\")\n",
        "print(f\"t-statistic: {t_stat:.3f}\")\n",
        "print(result)\n",
        "\n",
        "# z score\n",
        "z_scores = [(x - mean_sample) / std_dev for x in weights]\n",
        "for i, z in enumerate(z_scores):\n",
        "    print(f\"Weight {weights[i]} kg → Z-score: {z:.2f}\")"
      ],
      "metadata": {
        "colab": {
          "base_uri": "https://localhost:8080/"
        },
        "id": "z7Gpg1WfKvti",
        "outputId": "e729655f-3f42-4d28-df1c-07ec9110235a"
      },
      "execution_count": 10,
      "outputs": [
        {
          "output_type": "stream",
          "name": "stdout",
          "text": [
            "Critical t-value (two-tailed, α=0.05, df=9): 2.2621571628540993\n",
            "Sample Mean: 71.00\n",
            "t-statistic: 1.732\n",
            "Fail to reject H₀: No significant difference from 70 kg\n",
            "Weight 70 kg → Z-score: -0.55\n",
            "Weight 68 kg → Z-score: -1.64\n",
            "Weight 72 kg → Z-score: 0.55\n",
            "Weight 71 kg → Z-score: 0.00\n",
            "Weight 69 kg → Z-score: -1.10\n",
            "Weight 73 kg → Z-score: 1.10\n",
            "Weight 72 kg → Z-score: 0.55\n",
            "Weight 74 kg → Z-score: 1.64\n",
            "Weight 70 kg → Z-score: -0.55\n",
            "Weight 71 kg → Z-score: 0.00\n"
          ]
        }
      ]
    },
    {
      "cell_type": "markdown",
      "source": [
        "10. Dataset: Annual salaries of employees (in $1000s): 40, 42, 45, 47, 50, 52, 55,\n",
        " 57, 60, 62 Questions: a) Calculate the z-scores for each salary.\n",
        " b) Interpret the z-scores.\n",
        " c) Normal Distribution"
      ],
      "metadata": {
        "id": "kUAdWW9eLlV1"
      }
    },
    {
      "cell_type": "code",
      "source": [
        "annual = [40, 42, 45, 47, 50, 52, 55, 57, 60, 62]\n",
        "\n",
        "mean_annual = sum(annual)/len(annual)\n",
        "len_annual = len(annual)\n",
        "\n",
        "variance_emp = 0\n",
        "for i in annual:\n",
        "    variance_emp += (i - mean_annual)**2\n",
        "stdev_emp = (variance_emp / len_annual)**0.5\n",
        "#print(\"Standard Deviation: \",stdev_emp)\n",
        "\n",
        "z_list = []\n",
        "for i in annual:\n",
        "  z_score = (i-mean_annual)/stdev_emp\n",
        "  print(f\"Z-score for {i} is {z_score}\")\n",
        "  z_list.append(z_score)\n",
        "\n",
        "print(\"Values 50 and 52 have Z-scores close to 0, meaning they are almost equal to the mean\")\n",
        "print(\"Values like 45, 47, 55, 57 have Z-scores between -1 and +1, meaning they are within 1 standard deviation\")\n",
        "print(\"Values 40, 42, 60, 62 have Z-scores between -1.5 and +1.5, still within 2 standard deviations\")\n"
      ],
      "metadata": {
        "colab": {
          "base_uri": "https://localhost:8080/"
        },
        "id": "YheXcUjVLlFZ",
        "outputId": "0fcee1bb-ae69-4399-c4c7-6ae0d11f13de"
      },
      "execution_count": 23,
      "outputs": [
        {
          "output_type": "stream",
          "name": "stdout",
          "text": [
            "Z-score for 40 is -1.5403080924308108\n",
            "Z-score for 42 is -1.2602520756252087\n",
            "Z-score for 45 is -0.8401680504168059\n",
            "Z-score for 47 is -0.5601120336112039\n",
            "Z-score for 50 is -0.14002800840280097\n",
            "Z-score for 52 is 0.14002800840280097\n",
            "Z-score for 55 is 0.5601120336112039\n",
            "Z-score for 57 is 0.8401680504168059\n",
            "Z-score for 60 is 1.2602520756252087\n",
            "Z-score for 62 is 1.5403080924308108\n",
            "Values 50 and 52 have Z-scores close to 0, meaning they are almost equal to the mean\n",
            "Values like 45, 47, 55, 57 have Z-scores between -1 and +1, meaning they are within 1 standard deviation\n",
            "Values 40, 42, 60, 62 have Z-scores between -1.5 and +1.5, still within 2 standard deviations\n"
          ]
        }
      ]
    },
    {
      "cell_type": "markdown",
      "source": [
        "11. . Dataset: Scores of students in a standardized test: 85, 87, 90, 92, 95, 97,\n",
        " 100, 102, 105, 107\n",
        " Questions: a) Create a histogram of the test scores.\n",
        " b) Fit a normal distribution to the data and calculate the mean and standard\n",
        " deviation.\n",
        " c) P-Values"
      ],
      "metadata": {
        "id": "Y53qpGsNRzf9"
      }
    },
    {
      "cell_type": "code",
      "source": [
        "student_score = [85, 87, 90, 92, 95, 97, 100, 102, 105, 107]\n",
        "\n",
        "m = len(student_score)\n",
        "mean_test = sum(student_score)/m\n",
        "\n",
        "variance_test = 0\n",
        "for i in student_score:\n",
        "  variance_test += (i-mean_test)**2\n",
        "std_test = (variance_test/m)**0.5\n",
        "\n",
        "zlist_test = []\n",
        "for i in student_score:\n",
        "  zscore_test = (i-mean_test)/std_test\n",
        "  print(f\"Z-score for {i} is {zscore_test}\")\n",
        "  zlist_test.append(zscore_test)\n",
        "\n",
        "zscore_mean = sum(zlist_test)/m\n",
        "print(\"Z-Score mean:\",zscore_mean)\n",
        "zscore_variance = 0\n",
        "for i in zlist_test:\n",
        "  zscore_variance += (i - zscore_mean)**2\n",
        "stdev_zscore = (zscore_variance / m)**0.5\n",
        "print(\"Standard Deviation: \",stdev_zscore)\n",
        "\n"
      ],
      "metadata": {
        "colab": {
          "base_uri": "https://localhost:8080/"
        },
        "id": "KlanBnJ9RzQ_",
        "outputId": "5a68abaf-7987-4650-d458-e544223b942c"
      },
      "execution_count": 28,
      "outputs": [
        {
          "output_type": "stream",
          "name": "stdout",
          "text": [
            "Z-score for 85 is -1.5403080924308108\n",
            "Z-score for 87 is -1.2602520756252087\n",
            "Z-score for 90 is -0.8401680504168059\n",
            "Z-score for 92 is -0.5601120336112039\n",
            "Z-score for 95 is -0.14002800840280097\n",
            "Z-score for 97 is 0.14002800840280097\n",
            "Z-score for 100 is 0.5601120336112039\n",
            "Z-score for 102 is 0.8401680504168059\n",
            "Z-score for 105 is 1.2602520756252087\n",
            "Z-score for 107 is 1.5403080924308108\n",
            "Z-Score mean: 0.0\n",
            "Standard Deviation:  0.9999999999999999\n"
          ]
        }
      ]
    }
  ]
}