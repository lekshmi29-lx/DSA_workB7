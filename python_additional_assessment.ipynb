{
  "nbformat": 4,
  "nbformat_minor": 0,
  "metadata": {
    "colab": {
      "provenance": [],
      "authorship_tag": "ABX9TyMrMVFrqDtFFXfiVaF5sjjG",
      "include_colab_link": true
    },
    "kernelspec": {
      "name": "python3",
      "display_name": "Python 3"
    },
    "language_info": {
      "name": "python"
    }
  },
  "cells": [
    {
      "cell_type": "markdown",
      "metadata": {
        "id": "view-in-github",
        "colab_type": "text"
      },
      "source": [
        "<a href=\"https://colab.research.google.com/github/lekshmi29-lx/DSA_workB7/blob/main/python_additional_assessment.ipynb\" target=\"_parent\"><img src=\"https://colab.research.google.com/assets/colab-badge.svg\" alt=\"Open In Colab\"/></a>"
      ]
    },
    {
      "cell_type": "markdown",
      "source": [
        "1. A grocery store wants to automate billing.\n",
        "\n",
        "● Take the names and prices of items from the user until they type \"done\".\n",
        "● Print the total bill.\n",
        "● If total bill > ₹500, apply 10% discount."
      ],
      "metadata": {
        "id": "RQv6nyFMGPp4"
      }
    },
    {
      "cell_type": "code",
      "execution_count": 11,
      "metadata": {
        "colab": {
          "base_uri": "https://localhost:8080/"
        },
        "id": "G8feWn2OGODB",
        "outputId": "e5ec6f66-120e-4b66-b9c6-f38ff7dbace8"
      },
      "outputs": [
        {
          "output_type": "stream",
          "name": "stdout",
          "text": [
            "Enter itemna_me or type 'done' to finish: rice\n",
            "Enter price of rice: ₹500\n",
            "Enter itemna_me or type 'done' to finish: oil\n",
            "Enter price of oil: ₹150\n",
            "Enter itemna_me or type 'done' to finish: done\n",
            "10% discount applied! You saved ₹65.00\n",
            "Total Bill: ₹585.00\n"
          ]
        }
      ],
      "source": [
        "total_price = 0.0\n",
        "while True:\n",
        "    item = input(\"Enter itemna_me or type 'done' to finish: \")\n",
        "\n",
        "    if item == \"done\":\n",
        "        break\n",
        "\n",
        "    price = float(input(f\"Enter price of {item}: ₹\"))\n",
        "    total_price += price\n",
        "\n",
        "if total_price > 500:\n",
        "    discount = total_price * 0.10\n",
        "    total_price -= discount\n",
        "    print(f\"10% discount applied! You saved ₹{discount:.2f}\")\n",
        "\n",
        "print(f\"Total Bill: ₹{total_price:.2f}\")"
      ]
    },
    {
      "cell_type": "markdown",
      "source": [
        "2. A school stores student marks in a list.\n",
        "\n",
        "● Input marks for 5 subjects.\n",
        "● Calculate percentage.\n",
        "● Print grade:\n",
        "○ ≥ 90: A\n",
        "○ ≥ 75: B\n",
        "○ ≥ 50: C\n",
        "○ else: Fail"
      ],
      "metadata": {
        "id": "CJ8REXTOH7oE"
      }
    },
    {
      "cell_type": "code",
      "source": [
        "marks_list = []\n",
        "for i in range(5):\n",
        "  marks = float(input(f\"Enter the mark for {i+1} subject: \"))\n",
        "  marks_list.append(marks)\n",
        "\n",
        "percentage = ((sum(marks_list)/(5*100))*100)\n",
        "print(f\"Total Percentage: {percentage}%\")\n",
        "\n",
        "if percentage >= 90:\n",
        "    grade = \"A\"\n",
        "elif percentage >= 75:\n",
        "    grade = \"B\"\n",
        "elif percentage >= 50:\n",
        "    grade = \"C\"\n",
        "else:\n",
        "    grade = \"Fail\"\n",
        "\n",
        "print(f\"Grade: {grade}\")\n"
      ],
      "metadata": {
        "colab": {
          "base_uri": "https://localhost:8080/"
        },
        "id": "v4RUzgXgHb5v",
        "outputId": "a761da62-d3ee-46b5-ac6e-16c68af46fc3"
      },
      "execution_count": 17,
      "outputs": [
        {
          "output_type": "stream",
          "name": "stdout",
          "text": [
            "Enter the mark for 1 subject: 90\n",
            "Enter the mark for 2 subject: 88\n",
            "Enter the mark for 3 subject: 95\n",
            "Enter the mark for 4 subject: 85\n",
            "Enter the mark for 5 subject: 92\n",
            "Total Percentage: 90.0%\n",
            "Grade: A\n"
          ]
        }
      ]
    },
    {
      "cell_type": "markdown",
      "source": [
        "3. Simulate an ATM with:\n",
        "\n",
        "● Starting balance = ₹1000\n",
        "● Options: Deposit, Withdraw, Check balance, Exit\n",
        "● Prevent withdrawal if funds are insufficient.\n"
      ],
      "metadata": {
        "id": "e-LPnCb_MKug"
      }
    },
    {
      "cell_type": "code",
      "source": [
        "balance = 1000\n",
        "print(\"ATM Menu:\")\n",
        "print(\"1. Deposit\")\n",
        "print(\"2. Withdraw\")\n",
        "print(\"3. Check Balance\")\n",
        "print(\"4. Exit\")\n",
        "choice = input(\"Enter your choice (1-4): \")\n",
        "\n",
        "if choice == \"1\":\n",
        "    amount = float(input(\"Enter amount to deposit: ₹\"))\n",
        "    balance += amount\n",
        "    print(f\"₹{amount:.2f} deposited successfully.\")\n",
        "    print(f\"Updated Balance: ₹{balance:.2f}\")\n",
        "\n",
        "elif choice == \"2\":\n",
        "    amount = float(input(\"Enter amount to withdraw: ₹\"))\n",
        "    if amount > balance:\n",
        "        print(\"Insufficient funds! Withdrawal not possible.\")\n",
        "    else:\n",
        "        balance -= amount\n",
        "        print(f\"₹{amount:.2f} withdrawn successfully.\")\n",
        "        print(f\"Updated Balance: ₹{balance:.2f}\")\n",
        "\n",
        "elif choice == \"3\":\n",
        "    print(f\"Your current balance is: ₹{balance:.2f}\")\n",
        "\n",
        "elif choice == \"4\":\n",
        "    print(\"Thank you\")\n",
        "\n",
        "else:\n",
        "    print(\"Invalid choice. Please try again.\")"
      ],
      "metadata": {
        "colab": {
          "base_uri": "https://localhost:8080/"
        },
        "id": "Nj7fUX_ZMKYC",
        "outputId": "efbbc002-0d7c-4f54-8bb0-45d9d54f66da"
      },
      "execution_count": 18,
      "outputs": [
        {
          "output_type": "stream",
          "name": "stdout",
          "text": [
            "ATM Menu:\n",
            "1. Deposit\n",
            "2. Withdraw\n",
            "3. Check Balance\n",
            "4. Exit\n",
            "Enter your choice (1-4): 1\n",
            "Enter amount to deposit: ₹2000\n",
            "₹2000.00 deposited successfully.\n",
            "Updated Balance: ₹3000.00\n"
          ]
        }
      ]
    },
    {
      "cell_type": "markdown",
      "source": [
        "4. Cricket Score Tracker\n",
        "\n",
        "Store player scores in a dictionary.\n",
        "● Add 5 players with scores.\n",
        "● Find and print top scorer’s name and score.\n",
        "● Update a player’s score after a match."
      ],
      "metadata": {
        "id": "-qGu9aSuNM04"
      }
    },
    {
      "cell_type": "code",
      "source": [
        "scores = {\"Alice\": 85,\"Bob\": 92,\"Charlie\": 76,\"David\": 95,\"Eva\": 88}\n",
        "print(scores)\n",
        "top_player = max(scores, key=scores.get)\n",
        "print(f\"Top Scorer: {top_player} with score {scores[top_player]}\")\n",
        "\n",
        "player = input(\"\\nEnter player name to update score: \")\n",
        "new_score = int(input(\"Enter new score: \"))\n",
        "\n",
        "if player in scores:\n",
        "    scores[player] = new_score\n",
        "    print(f\"{player} score updated to {new_score}\")\n",
        "else:\n",
        "    print(\"Player not found!\")\n",
        "print(\"\\nUpdated Scores:\", scores)"
      ],
      "metadata": {
        "colab": {
          "base_uri": "https://localhost:8080/"
        },
        "id": "asQjkDnsNMix",
        "outputId": "26fc66df-00fb-4602-d9c3-be68ec76aca2"
      },
      "execution_count": 24,
      "outputs": [
        {
          "output_type": "stream",
          "name": "stdout",
          "text": [
            "{'Alice': 85, 'Bob': 92, 'Charlie': 76, 'David': 95, 'Eva': 88}\n",
            "Top Scorer: David with score 95\n",
            "\n",
            "Enter player name to update score: Eva\n",
            "Enter new score: 95\n",
            "Eva score updated to 95\n",
            "\n",
            "Updated Scores: {'Alice': 85, 'Bob': 92, 'Charlie': 76, 'David': 95, 'Eva': 95}\n"
          ]
        }
      ]
    },
    {
      "cell_type": "markdown",
      "source": [
        "5. Restaurant Order System\n",
        "\n",
        "● Menu stored in dictionary (item: price).\n",
        "● Take multiple orders from user.\n",
        "● Print final bill amount.\n",
        "● If order contains \"Pizza\", give ₹50 off."
      ],
      "metadata": {
        "id": "3YlgNpr9Og_-"
      }
    },
    {
      "cell_type": "code",
      "source": [
        "menu = {\"Burger\": 120,\"Pizza\": 250,\"Pasta\": 180,\"Sandwich\": 100,\"Coffee\": 80}\n",
        "print(\"Menu:\")\n",
        "for item, price in menu.items():\n",
        "    print(f\"{item}: ₹{price}\")\n",
        "\n",
        "orders = []\n",
        "while True:\n",
        "    order = input(\"Enter item to order (or 'done' to finish): \")\n",
        "    if order == \"done\":\n",
        "        break\n",
        "    elif order in menu:\n",
        "        orders.append(order)\n",
        "        print(f\"{order} added to your order\")\n",
        "    else:\n",
        "        print(\"Item not in menu, please try again.\")\n",
        "\n",
        "bill = sum(menu[item] for item in orders)\n",
        "\n",
        "if \"Pizza\" in orders:\n",
        "    bill -= 50\n",
        "    print(\"Special Offer Applied: ₹50 off for ordering Pizza!\")\n",
        "\n",
        "print(\"Your Order:\", orders)\n",
        "print(f\"Final Bill Amount: ₹{bill}\")"
      ],
      "metadata": {
        "colab": {
          "base_uri": "https://localhost:8080/"
        },
        "id": "C5_A591pOgsw",
        "outputId": "82f19805-3693-44d5-a7d4-6f32c3efc55d"
      },
      "execution_count": 28,
      "outputs": [
        {
          "output_type": "stream",
          "name": "stdout",
          "text": [
            "Menu:\n",
            "Burger: ₹120\n",
            "Pizza: ₹250\n",
            "Pasta: ₹180\n",
            "Sandwich: ₹100\n",
            "Coffee: ₹80\n",
            "Enter item to order (or 'done' to finish): Burger\n",
            "Burger added to your order\n",
            "Enter item to order (or 'done' to finish): Pizza\n",
            "Pizza added to your order\n",
            "Enter item to order (or 'done' to finish): done\n",
            "Special Offer Applied: ₹50 off for ordering Pizza!\n",
            "Your Order: ['Burger', 'Pizza']\n",
            "Final Bill Amount: ₹320\n"
          ]
        }
      ]
    },
    {
      "cell_type": "markdown",
      "source": [
        "6. Temperature Conversion Tool\n",
        "Write a program that:\n",
        "\n",
        "● Asks user for temperature in Celsius.\n",
        "● Converts to Fahrenheit using formula:"
      ],
      "metadata": {
        "id": "4GaQuDCqQdB4"
      }
    },
    {
      "cell_type": "code",
      "source": [
        "celsius = float(input(\"Enter temperature in Celsius: \"))\n",
        "fahrenheit = (celsius * 9/5) + 32\n",
        "\n",
        "print(f\"{celsius:.2f}°C is equal to {fahrenheit:.2f}°F\")"
      ],
      "metadata": {
        "colab": {
          "base_uri": "https://localhost:8080/"
        },
        "id": "UKiqsIK2Qcv9",
        "outputId": "97413061-478a-47fa-9229-88246152ad32"
      },
      "execution_count": 29,
      "outputs": [
        {
          "output_type": "stream",
          "name": "stdout",
          "text": [
            "Enter temperature in Celsius: 37\n",
            "37.00°C is equal to 98.60°F\n"
          ]
        }
      ]
    },
    {
      "cell_type": "markdown",
      "source": [
        "7. Online Shopping Cart\n",
        "\n",
        "● Create a cart as a list.\n",
        "● Allow user to add items, remove items, and view cart.\n",
        "● Exit when user types \"checkout\".\n"
      ],
      "metadata": {
        "id": "EMjk9anlRRKP"
      }
    },
    {
      "cell_type": "code",
      "source": [
        "cart = []\n",
        "print(\"Online Shopping Cart!\")\n",
        "print(\"You can: add <item>, remove <item>, view, checkout\")\n",
        "\n",
        "while True:\n",
        "    action = input(\"\\nEnter your action: \")\n",
        "\n",
        "    if action.startswith(\"add \"):\n",
        "        item = action[4:]\n",
        "        cart.append(item)\n",
        "        print(f\"{item} added to cart.\")\n",
        "\n",
        "    elif action.startswith(\"remove \"):\n",
        "        item = action[7:]\n",
        "        if item in cart:\n",
        "            cart.remove(item)\n",
        "            print(f\"{item} removed from cart.\")\n",
        "        else:\n",
        "            print(\"Item not in cart.\")\n",
        "\n",
        "    elif action == \"view\":\n",
        "        if cart:\n",
        "            print(\"Your Cart:\", cart)\n",
        "        else:\n",
        "            print(\"Your cart is empty.\")\n",
        "\n",
        "    elif action == \"checkout\":\n",
        "        print(\"Final Cart:\", cart)\n",
        "        break\n",
        "\n",
        "    else:\n",
        "        print(\"Invalid command.\")"
      ],
      "metadata": {
        "colab": {
          "base_uri": "https://localhost:8080/"
        },
        "id": "YCCyhdXTRP5J",
        "outputId": "e9a16281-83f9-4ae0-8fe5-371fd98c8340"
      },
      "execution_count": 36,
      "outputs": [
        {
          "output_type": "stream",
          "name": "stdout",
          "text": [
            "Online Shopping Cart!\n",
            "You can: add <item>, remove <item>, view, checkout\n",
            "\n",
            "Enter your action: add bag\n",
            "bag added to cart.\n",
            "\n",
            "Enter your action: add shoes\n",
            "shoes added to cart.\n",
            "\n",
            "Enter your action: add pen\n",
            "pen added to cart.\n",
            "\n",
            "Enter your action: remove pen\n",
            "pen removed from cart.\n",
            "\n",
            "Enter your action: view\n",
            "Your Cart: ['bag', 'shoes']\n",
            "\n",
            "Enter your action: checkout\n",
            "Final Cart: ['bag', 'shoes']\n"
          ]
        }
      ]
    },
    {
      "cell_type": "markdown",
      "source": [
        "8. Student Attendance Tracker\n",
        "\n",
        "● Store student names in a list.\n",
        "● Mark attendance as P or A.\n",
        "● Print the total number of present and absent students."
      ],
      "metadata": {
        "id": "NG6wgv1TdtOn"
      }
    },
    {
      "cell_type": "code",
      "source": [
        "students = [\"Alice\", \"Bob\", \"Charlie\", \"David\", \"Eva\"]\n",
        "attendance = {}\n",
        "\n",
        "for i in students:\n",
        "    status = input(f\"Mark attendance for {i} (P/A): \").upper()\n",
        "    attendance[i] = status\n",
        "\n",
        "present_count = list(attendance.values()).count(\"P\")\n",
        "absent_count = list(attendance.values()).count(\"A\")\n",
        "print(\"Present Students:\", present_count)\n",
        "print(\"Absent Students:\", absent_count)"
      ],
      "metadata": {
        "colab": {
          "base_uri": "https://localhost:8080/"
        },
        "id": "YaPf3R-pds-r",
        "outputId": "e8fe54da-4b57-4ff5-b78b-fd00b4f28961"
      },
      "execution_count": 37,
      "outputs": [
        {
          "output_type": "stream",
          "name": "stdout",
          "text": [
            "Mark attendance for Alice (P/A): P\n",
            "Mark attendance for Bob (P/A): P\n",
            "Mark attendance for Charlie (P/A): A\n",
            "Mark attendance for David (P/A): P\n",
            "Mark attendance for Eva (P/A): P\n",
            "Present Students: 4\n",
            "Absent Students: 1\n"
          ]
        }
      ]
    },
    {
      "cell_type": "markdown",
      "source": [
        "9. Cinema Ticket Booking System\n",
        "\n",
        "Create a program where users can book movie tickets. A theater has 50 seats in total. Each\n",
        "ticket costs ₹120.\n",
        "● Ask the user how many tickets they want.\n",
        "● If enough seats are available → confirm booking and reduce available seats.\n",
        "● If not enough seats → show an error message.\n",
        "● Show remaining seats after each booking."
      ],
      "metadata": {
        "id": "u4wdteZKex7V"
      }
    },
    {
      "cell_type": "code",
      "source": [
        "seats = 50\n",
        "price = 120\n",
        "tickets = int(input(\"How many tickets do you want? \"))\n",
        "\n",
        "if tickets <= seats:\n",
        "    cost = tickets * price\n",
        "    seats -= tickets\n",
        "    print(f\"Booking confirmed! You booked {tickets} tickets for ₹{cost}.\")\n",
        "    print(f\"Seats remaining: {seats}\")\n",
        "else:\n",
        "    print(f\"Sorry, only {seats} seats are available.\")"
      ],
      "metadata": {
        "colab": {
          "base_uri": "https://localhost:8080/"
        },
        "id": "83eSAsQMexrI",
        "outputId": "db8b4cdf-d9cb-434d-fad6-c47abac14c4e"
      },
      "execution_count": 39,
      "outputs": [
        {
          "output_type": "stream",
          "name": "stdout",
          "text": [
            "How many tickets do you want? 45\n",
            "Booking confirmed! You booked 45 tickets for ₹5400.\n",
            "Seats remaining: 5\n"
          ]
        }
      ]
    },
    {
      "cell_type": "markdown",
      "source": [
        "10. Bank Loan Eligibility Checker\n",
        "\n",
        "A bank provides loans only if:\n",
        "● Salary ≥ 25,000\n",
        "● Credit Score ≥ 650\n",
        "● Age between 21 and 60\n",
        "Ask the user for salary, credit score, and age, then decide if they are eligible"
      ],
      "metadata": {
        "id": "mrE_Va4Rgvsl"
      }
    },
    {
      "cell_type": "code",
      "source": [
        "salary = float(input(\"Enter your monthly salary: ₹\"))\n",
        "credit_score = int(input(\"Enter your credit score: \"))\n",
        "age = int(input(\"Enter your age: \"))\n",
        "\n",
        "if salary >= 25000 and credit_score >= 650 and 21 <= age <= 60:\n",
        "    print(\"Congratulations! You are eligible for the loan.\")\n",
        "else:\n",
        "    print(\"Sorry, you are not eligible for the loan.\")"
      ],
      "metadata": {
        "colab": {
          "base_uri": "https://localhost:8080/"
        },
        "id": "yv_7YidcgvZg",
        "outputId": "d3efc14b-e446-42df-e292-d1279c7ca89a"
      },
      "execution_count": 41,
      "outputs": [
        {
          "output_type": "stream",
          "name": "stdout",
          "text": [
            "Enter your monthly salary: ₹50000\n",
            "Enter your credit score: 740\n",
            "Enter your age: 25\n",
            "Congratulations! You are eligible for the loan.\n"
          ]
        }
      ]
    }
  ]
}